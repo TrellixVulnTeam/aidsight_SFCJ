{
 "cells": [
  {
   "cell_type": "markdown",
   "metadata": {},
   "source": [
    "# Install Packages"
   ]
  },
  {
   "cell_type": "code",
   "execution_count": null,
   "metadata": {
    "collapsed": false
   },
   "outputs": [],
   "source": [
    "%matplotlib inline"
   ]
  },
  {
   "cell_type": "code",
   "execution_count": null,
   "metadata": {
    "collapsed": false
   },
   "outputs": [
    {
     "name": "stdout",
     "output_type": "stream",
     "text": [
      "Requirement already satisfied (use --upgrade to upgrade): pymongo in /usr/local/lib/python2.7/dist-packages\n",
      "Requirement already satisfied (use --upgrade to upgrade): geocoder in /usr/local/lib/python2.7/dist-packages\n",
      "Requirement already satisfied (use --upgrade to upgrade): ratelim in /usr/local/lib/python2.7/dist-packages (from geocoder)\n",
      "Requirement already satisfied (use --upgrade to upgrade): requests in /usr/lib/python2.7/dist-packages (from geocoder)\n",
      "Requirement already satisfied (use --upgrade to upgrade): six in /usr/local/lib/python2.7/dist-packages (from geocoder)\n",
      "Requirement already satisfied (use --upgrade to upgrade): click in /usr/local/lib/python2.7/dist-packages (from geocoder)\n",
      "Requirement already satisfied (use --upgrade to upgrade): decorator in /usr/local/lib/python2.7/dist-packages (from ratelim->geocoder)\n"
     ]
    }
   ],
   "source": [
    "!sudo -H pip install pymongo geocoder"
   ]
  },
  {
   "cell_type": "code",
   "execution_count": null,
   "metadata": {
    "collapsed": false
   },
   "outputs": [],
   "source": [
    "from collections import defaultdict\n",
    "from datetime import datetime\n",
    "import functools\n",
    "import geocoder\n",
    "import io\n",
    "import itertools\n",
    "import json\n",
    "import os\n",
    "import pandas\n",
    "import pickle\n",
    "from pprint import PrettyPrinter\n",
    "import pymongo\n",
    "import re\n",
    "import requests\n",
    "import six"
   ]
  },
  {
   "cell_type": "markdown",
   "metadata": {},
   "source": [
    "# Data Check"
   ]
  },
  {
   "cell_type": "code",
   "execution_count": null,
   "metadata": {
    "collapsed": true
   },
   "outputs": [],
   "source": [
    "mongodb_host = 'ec2-54-213-157-84.us-west-2.compute.amazonaws.com'\n",
    "mongodb_port = '27017'"
   ]
  },
  {
   "cell_type": "code",
   "execution_count": null,
   "metadata": {
    "collapsed": false
   },
   "outputs": [
    {
     "data": {
      "text/plain": [
       "[u'iati', u'local']"
      ]
     },
     "execution_count": null,
     "metadata": {},
     "output_type": "execute_result"
    }
   ],
   "source": [
    "conn=pymongo.MongoClient('mongodb://%s:%s' % (mongodb_host, mongodb_port))\n",
    "\n",
    "# Check database names to test connection and see what's here\n",
    "conn.database_names()"
   ]
  },
  {
   "cell_type": "code",
   "execution_count": null,
   "metadata": {
    "collapsed": false
   },
   "outputs": [
    {
     "data": {
      "text/plain": [
       "[u'organizations',\n",
       " u'activities',\n",
       " u'cleaned_orgs_full',\n",
       " u'scores',\n",
       " u'activities_metadata',\n",
       " u'transactions']"
      ]
     },
     "execution_count": null,
     "metadata": {},
     "output_type": "execute_result"
    }
   ],
   "source": [
    "# Make iati database\n",
    "db = conn.iati\n",
    "\n",
    "# Create new activities collection and check that manual renaming worked\n",
    "\n",
    "activities=db.activities\n",
    "activities_metadata=db.activities_metadata\n",
    "transactions=db.transactions\n",
    "organizations=db.organizations\n",
    "organizations_metadata=db.organizations_metadata\n",
    "\n",
    "db.collection_names()"
   ]
  },
  {
   "cell_type": "code",
   "execution_count": null,
   "metadata": {
    "collapsed": false
   },
   "outputs": [
    {
     "name": "stdout",
     "output_type": "stream",
     "text": [
      "3562 579320\n"
     ]
    }
   ],
   "source": [
    "print activities_metadata.count(), activities.count()"
   ]
  },
  {
   "cell_type": "code",
   "execution_count": null,
   "metadata": {
    "collapsed": false
   },
   "outputs": [
    {
     "name": "stdout",
     "output_type": "stream",
     "text": [
      "2251178\n"
     ]
    }
   ],
   "source": [
    "print transactions.count()"
   ]
  },
  {
   "cell_type": "code",
   "execution_count": null,
   "metadata": {
    "collapsed": false
   },
   "outputs": [
    {
     "name": "stdout",
     "output_type": "stream",
     "text": [
      "0 7131\n"
     ]
    }
   ],
   "source": [
    "print organizations_metadata.count(), organizations.count()"
   ]
  },
  {
   "cell_type": "markdown",
   "metadata": {},
   "source": [
    "# Trim to Searchable Graph Data"
   ]
  },
  {
   "cell_type": "markdown",
   "metadata": {},
   "source": [
    "We'll now access the graph database via the REST API.\n",
    "\n",
    "* http://neo4j-rest-client.readthedocs.io/en/latest/"
   ]
  },
  {
   "cell_type": "markdown",
   "metadata": {},
   "source": [
    "## Add Organizations"
   ]
  },
  {
   "cell_type": "code",
   "execution_count": null,
   "metadata": {
    "collapsed": false
   },
   "outputs": [],
   "source": [
    "short_names_by_ref = {}"
   ]
  },
  {
   "cell_type": "code",
   "execution_count": null,
   "metadata": {
    "collapsed": true
   },
   "outputs": [],
   "source": [
    "def add_short_name(item):\n",
    "    global short_names_by_ref\n",
    "\n",
    "    if '@ref' not in item:\n",
    "        return\n",
    "\n",
    "    short_names = None\n",
    "\n",
    "    if '#text' in item:\n",
    "        short_names = [item['#text']]\n",
    "        return\n",
    "    elif 'narrative' in item:\n",
    "        narrative = item['narrative']\n",
    "\n",
    "        if type(narrative) == dict:\n",
    "            if '#text' in narrative:\n",
    "                short_names = [narrative['#text']]\n",
    "        elif type(narrative) == list:\n",
    "            short_names = []\n",
    "            for subnarrative in narrative:\n",
    "                if '#text' in subnarrative:\n",
    "                    short_names.append(subnarrative['#text'])\n",
    "        else:\n",
    "            short_names = [narrative]\n",
    "\n",
    "    if short_names is None or len(short_names) == 0:\n",
    "        return\n",
    "\n",
    "    ref = item['@ref']\n",
    "\n",
    "    if ref not in short_names_by_ref:\n",
    "        short_names_by_ref[ref] = set()\n",
    "\n",
    "    short_names_by_ref[ref] |= set(short_names)"
   ]
  },
  {
   "cell_type": "code",
   "execution_count": null,
   "metadata": {
    "collapsed": false
   },
   "outputs": [],
   "source": [
    "short_names_by_ref = {}\n",
    "\n",
    "for organization in organizations.find():\n",
    "    if 'reporting-org' not in organization:\n",
    "        continue\n",
    "\n",
    "    reporting_org = organization['reporting-org']\n",
    "\n",
    "    if type(reporting_org) == list:\n",
    "        for item in reporting_org:\n",
    "            add_short_name(item)\n",
    "    elif type(reporting_org) == dict:\n",
    "        add_short_name(reporting_org)"
   ]
  },
  {
   "cell_type": "code",
   "execution_count": null,
   "metadata": {
    "collapsed": false
   },
   "outputs": [
    {
     "data": {
      "text/plain": [
       "71"
      ]
     },
     "execution_count": null,
     "metadata": {},
     "output_type": "execute_result"
    }
   ],
   "source": [
    "len(short_names_by_ref)"
   ]
  },
  {
   "cell_type": "code",
   "execution_count": null,
   "metadata": {
    "collapsed": true
   },
   "outputs": [],
   "source": [
    "with open('short_names_by_ref.pickle', 'w') as f:\n",
    "    pickle.dump(short_names_by_ref, f)"
   ]
  },
  {
   "cell_type": "code",
   "execution_count": null,
   "metadata": {
    "collapsed": false
   },
   "outputs": [],
   "source": [
    "!rm -f short_names.tar.gz\n",
    "!tar -cf short_names.tar short_names_*.pickle\n",
    "!gzip short_names.tar"
   ]
  },
  {
   "cell_type": "code",
   "execution_count": null,
   "metadata": {
    "collapsed": false
   },
   "outputs": [
    {
     "data": {
      "text/plain": [
       "{u'1301': {u'Transparency International Bangladesh'},\n",
       " u'21033': {u'Transparency International'},\n",
       " u'41119': {u'United Nations Population Fund'},\n",
       " u'46002': {u'Groupe de le Banque Africaine de D\\xe9veloppement'},\n",
       " u'47122': {u'The Global Alliance for Vaccination and Immunisation'},\n",
       " u'Amnesty International Nederland': {u'Amnesty International The Netherlands'},\n",
       " u'BE-10': {u'Belgian Development Cooperation'},\n",
       " u'BE-BCE_KBO-0264814354': {u'Agence Belge de d\\xe9veloppement (CTB)',\n",
       "  u'Belgisch ontwikkelingsagentschap (BTC)'},\n",
       " u'CA-3': {u'Affaires \\xe9trang\\xe8res, Commerce et D\\xe9veloppement Canada',\n",
       "  u'Foreign Affairs, Trade and Development Canada'},\n",
       " u'CH-4': {u'Swiss Agency for Development and Cooperation SDC'},\n",
       " u'DAC-1601': {u'Bill and Melinda Gates Foundation'},\n",
       " u'EIGEN': {u'PAX'},\n",
       " u'ES-DIR3-E04585801': {u'ES-DIR3-E04585801-009-001091'},\n",
       " u'GB-CHC-1075920': {u'Indigo Trust'},\n",
       " u'GB-CHC-1089490': {u'Hope and Homes for Children'},\n",
       " u'GB-CHC-1093861': {u'International Medical Corps UK'},\n",
       " u'GB-CHC-1101217': {u'LAMB Health Care Foundation'},\n",
       " u'GB-CHC-1110434': {u'WELLFOUND'},\n",
       " u'GB-CHC-1145119': {u'VARKEY FOUNDATION'},\n",
       " u'GB-CHC-207544': {u'Sightsavers'},\n",
       " u'GB-CHC-272465': {u'Concern Universal'},\n",
       " u'GB-CHC-293734': {u'Christian Engineers in Development'},\n",
       " u'GB-CHC-328206': {u'Womankind Worldwide'},\n",
       " u'GB-COH-00637978': {u'Maxwell Stamp PLC'},\n",
       " u'GB-COH-00986729': {u'Natural Resources Institute, University of Greenwich'},\n",
       " u'GB-COH-01245534': {u'Atos IT Services Ltd.'},\n",
       " u'GB-COH-07676886': {u'Publish What You Fund'},\n",
       " u'GB-COH-1158838': {u'The Freedom Fund'},\n",
       " u'GB-COH-213890': {u'Save the Children UK'},\n",
       " u'GB-COH-OC301540': {u'KPMG LLP'},\n",
       " u'GB-GOV-1': {u'UK Department for International Development'},\n",
       " u'GH-DSW-TBD': {u'Solidaridad West Africa'},\n",
       " u'IADB': {u'Inter-American Development Bank'},\n",
       " u'IE-CHY-6663': {u'Self Help Africa'},\n",
       " u'IM-CR-017899B': {u'Manx Times'},\n",
       " u'IN-AR-775': {u'Pragya'},\n",
       " u'IN-MCA-TBD': {u'Solidaridad South and South-East Asia'},\n",
       " u'KE-NCB-TBD': {u'Solidaridad East and Central Africa'},\n",
       " u'NL-KVK-27108436': {u'Oxfam Novib'},\n",
       " u'NL-KVK-27327087': {u'Akvo Foundation'},\n",
       " u'NL-KVK-34308169': {u'Free a Girl'},\n",
       " u'NL-KVK-41149486': {u'Stichting Vluchteling'},\n",
       " u'NL-KVK-41150939': {u'Solidaridad Netherlands'},\n",
       " u'NL-KVK-41158230': {u'CARE Nederland'},\n",
       " u'NL-KVK-41180885': {u'IUCN NL'},\n",
       " u'NL-KVK-41207989': {u'Stichting Aids Fonds - STOP AIDS NOW! - Soa Aids Nederland'},\n",
       " u'NO-BRC-971277882': {u'Norad - Norwegian Agency for Development Cooperation'},\n",
       " u'SE-0': {u'Sverige, Sida/UD', u'Sweden, Sida/MFA'},\n",
       " u'US-1': {u'Department of State and USAID'},\n",
       " u'US-13': {u'U.S. African Development Foundation'},\n",
       " u'US-18': {u'Millennium Challenge Corporation'},\n",
       " u'US-2': {u'U.S. Department of Agriculture'},\n",
       " u'US-21': {u'Inter-American Foundation'},\n",
       " u'US-6': {u'U.S. Department of the Treasury'},\n",
       " u'US-7': {u'Department of Defense'},\n",
       " u'US-8': {u'Department of Health and Human Services'},\n",
       " u'US-AGO-941191246': {u'The Asia Foundation'},\n",
       " u'US-EIN-46-1528546': {u'Solidaridad North America'},\n",
       " u'US-EIN-47-4128047': {u'Friends of Publish What You Fund was established in May 2015 with the objective of promoting transparency among donors, users and implementers of international assistance in order to ensure effective spending, evaluation and accountability.  Its particular focus is on U.S. transparency and accountability and it works in partnership with a number of stakeholders with similar objectives.  It also grants to organizations that further its work, including to Publish What You Fund.'},\n",
       " u'US-EIN-941655673': {u'The William and Flora Hewlett Foundation'},\n",
       " u'XI-IATI-1002': {u'United Mission to Nepal'},\n",
       " u'XI-IATI-EBRD': {u'European Bank for Reconstruction and Development'},\n",
       " u'XI-IATI-EC_ECHO': {u'Humanitarian Aid Office of the European Commission'},\n",
       " u'XI-IATI-SOL-CAM': {u'Solidaridad Central America'},\n",
       " u'XI-IATI-SOL-CN': {u'Solidaridad China'},\n",
       " u'XI-IATI-SOL-SAM': {u'Solidaridad South America'},\n",
       " u'XM-DAC-301-2': {u'Centre de recherches pour le d\\xe9veloppement international'},\n",
       " u'XM-DAC-41140': {u'World Food Programme'},\n",
       " u'XM-DAC-7': {u'Ministry of Foreign Affairs (DGIS)'},\n",
       " u'XM-DAC-701-8': {u'Japan International Cooperation Agency (JICA)'},\n",
       " u'ZA-NPO-TBD': {u'Solidaridad Southern Africa'}}"
      ]
     },
     "execution_count": null,
     "metadata": {},
     "output_type": "execute_result"
    }
   ],
   "source": [
    "short_names_by_ref"
   ]
  },
  {
   "cell_type": "code",
   "execution_count": null,
   "metadata": {
    "collapsed": false
   },
   "outputs": [
    {
     "name": "stdout",
     "output_type": "stream",
     "text": [
      "upload: ./short_names.tar.gz to s3://mdang.w210/short_names.tar.gz\r\n"
     ]
    }
   ],
   "source": [
    "!aws s3 cp short_names.tar.gz s3://mdang.w210/ --acl public-read"
   ]
  },
  {
   "cell_type": "markdown",
   "metadata": {},
   "source": [
    "## Add Activities"
   ]
  },
  {
   "cell_type": "markdown",
   "metadata": {},
   "source": [
    "## Utility Methods"
   ]
  },
  {
   "cell_type": "markdown",
   "metadata": {},
   "source": [
    "Utility method that will extract text from a node."
   ]
  },
  {
   "cell_type": "code",
   "execution_count": null,
   "metadata": {
    "collapsed": true
   },
   "outputs": [],
   "source": [
    "def get_text(item):\n",
    "    if type(item) == dict:\n",
    "        if '#text' in item:\n",
    "            return get_text(item['#text'])\n",
    "        elif 'narrative' in item:\n",
    "            if type(item['narrative']) != list:\n",
    "                return get_text(item['narrative'])\n",
    "\n",
    "    if isinstance(item, six.string_types):\n",
    "        return item\n",
    "    else:\n",
    "        return ''"
   ]
  },
  {
   "cell_type": "markdown",
   "metadata": {},
   "source": [
    "Utility method that will remove a list from the XML and return it."
   ]
  },
  {
   "cell_type": "code",
   "execution_count": null,
   "metadata": {
    "collapsed": true
   },
   "outputs": [],
   "source": [
    "def remove_list(activity, attribute):\n",
    "    if attribute not in activity:\n",
    "        return []\n",
    "\n",
    "    value = activity[attribute]\n",
    "    del activity[attribute]\n",
    "\n",
    "    if type(value) != list:\n",
    "        value = [value]\n",
    "\n",
    "    return value"
   ]
  },
  {
   "cell_type": "markdown",
   "metadata": {},
   "source": [
    "Utility method that will remove a list from the XML and replace it with a list consisting of attribute values."
   ]
  },
  {
   "cell_type": "code",
   "execution_count": null,
   "metadata": {
    "collapsed": true
   },
   "outputs": [],
   "source": [
    "def replace_list(activity, key, attribute):\n",
    "    item_list = remove_list(activity, key)\n",
    "\n",
    "    if item_list is None or len(item_list) == 0:\n",
    "        return\n",
    "\n",
    "    value = [\n",
    "        item[attribute]\n",
    "            for item in item_list\n",
    "                if item is not None and attribute in item and item[attribute] != ''\n",
    "    ]\n",
    "\n",
    "    if len(value) > 0:\n",
    "        activity[key] = value"
   ]
  },
  {
   "cell_type": "markdown",
   "metadata": {},
   "source": [
    "Utility method that flattens a nested dictionary into a one-level dictionary."
   ]
  },
  {
   "cell_type": "code",
   "execution_count": null,
   "metadata": {
    "collapsed": true
   },
   "outputs": [],
   "source": [
    "# Based off of the following StackOverflow post for flattening dictionaries\n",
    "# http://stackoverflow.com/questions/6027558/flatten-nested-python-dictionaries-compressing-keys\n",
    "\n",
    "def flatten(d, parent_key=None):\n",
    "    items = []\n",
    "\n",
    "    for k, v in d.items():\n",
    "        new_key = parent_key + '_' + k if parent_key is not None else k\n",
    "\n",
    "        new_key = new_key.replace('@', '')\n",
    "        new_key = new_key.replace('#', '')\n",
    "        new_key = new_key.replace(':', '')\n",
    "        new_key = new_key.replace('-', '_')\n",
    "\n",
    "        if type(v) == dict:\n",
    "            items.extend(flatten(v, new_key))\n",
    "        elif type(v) == list:\n",
    "            sub_items = [get_text(item) for item in v]\n",
    "            items.append((new_key, sub_items))\n",
    "        else:\n",
    "            items.append((new_key, v))\n",
    "\n",
    "    return items"
   ]
  },
  {
   "cell_type": "markdown",
   "metadata": {},
   "source": [
    "## Location"
   ]
  },
  {
   "cell_type": "markdown",
   "metadata": {},
   "source": [
    "Utility methods for extracting location information."
   ]
  },
  {
   "cell_type": "code",
   "execution_count": null,
   "metadata": {
    "collapsed": true
   },
   "outputs": [],
   "source": [
    "def get_location(location):\n",
    "    if 'point' in location:\n",
    "        point = location['point']\n",
    "\n",
    "        if point is not None and 'pos' in point:\n",
    "            pos = point['pos']\n",
    "\n",
    "            if pos is not None:\n",
    "                pos = [float(x.replace(',', '.')) for x in point['pos'].split(' ')]\n",
    "\n",
    "                try:\n",
    "                    lookup = geocoder.google(pos, method = 'reverse')\n",
    "                    return lookup.address\n",
    "                except:\n",
    "                    pass\n",
    "\n",
    "    if 'name' not in location:\n",
    "        return None\n",
    "\n",
    "    location_name = get_text(location['name'])\n",
    "\n",
    "    if location_name is not None:\n",
    "        return location_name\n",
    "\n",
    "    return None"
   ]
  },
  {
   "cell_type": "code",
   "execution_count": null,
   "metadata": {
    "collapsed": true
   },
   "outputs": [],
   "source": [
    "def get_activity_location(activity):\n",
    "    if 'location' not in activity:\n",
    "        return None\n",
    "\n",
    "    location = activity['location']\n",
    "\n",
    "    if location is None:\n",
    "        return None\n",
    "\n",
    "    if type(location) == list:\n",
    "        activity_location = [get_location(item) for item in location]\n",
    "    else:\n",
    "        activity_location = [get_location(location)]\n",
    "\n",
    "    return [item for item in activity_location if item is not None]"
   ]
  },
  {
   "cell_type": "markdown",
   "metadata": {},
   "source": [
    "## Recipient Country"
   ]
  },
  {
   "cell_type": "code",
   "execution_count": null,
   "metadata": {
    "collapsed": true
   },
   "outputs": [],
   "source": [
    "country_url = 'http://iatistandard.org/202/codelists/downloads/clv3/json/en/Country.json'\n",
    "countries_json = requests.get(country_url).json()\n",
    "countries = { item['code']: item['name'] for item in countries_json['data'] }"
   ]
  },
  {
   "cell_type": "code",
   "execution_count": null,
   "metadata": {
    "collapsed": true
   },
   "outputs": [],
   "source": [
    "def get_recipient_country(activity):\n",
    "    location_name = []\n",
    "\n",
    "    if 'recipient-country' in activity:\n",
    "        country = activity['recipient-country']\n",
    "\n",
    "        if '@code' in country:\n",
    "            code = country['@code']\n",
    "\n",
    "            if code in countries:\n",
    "                return countries[code]\n",
    "\n",
    "    return None"
   ]
  },
  {
   "cell_type": "markdown",
   "metadata": {},
   "source": [
    "## Sector"
   ]
  },
  {
   "cell_type": "code",
   "execution_count": null,
   "metadata": {
    "collapsed": true
   },
   "outputs": [],
   "source": [
    "def get_sectors(activity):\n",
    "    if 'sector' not in activity:\n",
    "        return []\n",
    "\n",
    "    sectors = activity['sector']\n",
    "\n",
    "    if type(sectors) == dict:\n",
    "        sectors = [sectors]\n",
    "\n",
    "    return [sector['@code'] for sector in sectors if '@code' in sector]"
   ]
  },
  {
   "cell_type": "markdown",
   "metadata": {},
   "source": [
    "## Organizations"
   ]
  },
  {
   "cell_type": "code",
   "execution_count": null,
   "metadata": {
    "collapsed": false
   },
   "outputs": [],
   "source": [
    "def is_valid_ref_format(ref):\n",
    "    if ref.find('-') == -1:\n",
    "        return False\n",
    "\n",
    "    if ref.find(' ') != -1:\n",
    "        return False\n",
    "\n",
    "    return True"
   ]
  },
  {
   "cell_type": "code",
   "execution_count": null,
   "metadata": {
    "collapsed": false
   },
   "outputs": [],
   "source": [
    "def add_organization(organization):\n",
    "    global organization_nodes\n",
    "\n",
    "    if '@ref' not in organization:\n",
    "        return None\n",
    "\n",
    "    organization_ref = organization['@ref']\n",
    "\n",
    "    if organization_ref not in organization_nodes:\n",
    "        if not is_valid_ref_format(organization_ref):\n",
    "            return None\n",
    "\n",
    "        organization_node = {'ref': organization_ref}\n",
    "\n",
    "        organization_nodes[organization_ref] = organization_node\n",
    "    else:\n",
    "        organization_node = organization_nodes[organization_ref]\n",
    "\n",
    "    return organization_node"
   ]
  },
  {
   "cell_type": "markdown",
   "metadata": {},
   "source": [
    "## Activity Edges"
   ]
  },
  {
   "cell_type": "code",
   "execution_count": null,
   "metadata": {
    "collapsed": true
   },
   "outputs": [],
   "source": [
    "activity_fields = set([\n",
    "    'iati-identifier',\n",
    "    'description',\n",
    "    'reporting-org',\n",
    "    'participating-org',\n",
    "    'recipient-country',\n",
    "    'location',\n",
    "    'policy-marker',\n",
    "    'sector'\n",
    "])"
   ]
  },
  {
   "cell_type": "code",
   "execution_count": null,
   "metadata": {
    "collapsed": false
   },
   "outputs": [],
   "source": [
    "def add_activity_node(activity):\n",
    "    global activity_fields, activity_nodes\n",
    "\n",
    "    if 'iati-identifier' not in activity:\n",
    "        return\n",
    "\n",
    "    activity = {\n",
    "        key : value for key, value in activity.iteritems()\n",
    "            if key in activity_fields\n",
    "    }\n",
    "\n",
    "    activity_key = activity['iati-identifier']\n",
    "\n",
    "    if activity_key in activity_nodes:\n",
    "        return\n",
    "\n",
    "    reporters = remove_list(activity, 'reporting-org')\n",
    "    participants = remove_list(activity, 'participating-org')\n",
    "\n",
    "    replace_list(activity, 'activity-date', '@iso-date')\n",
    "    replace_list(activity, 'sector', '@code')\n",
    "    replace_list(activity, 'policy-marker', '@code')\n",
    "\n",
    "    recipient_country = get_recipient_country(activity)\n",
    "\n",
    "    if recipient_country is None:\n",
    "        if 'recipient-country' in activity:\n",
    "            del activity['recipient-country']\n",
    "    else:\n",
    "        activity['recipient-country'] = recipient_country\n",
    "\n",
    "    location = get_activity_location(activity)\n",
    "\n",
    "    if location is None:\n",
    "        if 'location' in activity:\n",
    "            del activity['location']\n",
    "    else:\n",
    "        activity['location'] = location\n",
    "\n",
    "    if 'description' in activity:\n",
    "        description_text = get_text(activity['description']).strip().lower()\n",
    "\n",
    "        tokenized_text = set([\n",
    "            item for item in re.split('[^a-z]+', description_text.strip().lower())\n",
    "                if len(item) > 0\n",
    "        ])\n",
    "\n",
    "        activity['description'] = tokenized_text\n",
    "        activity['description_raw'] = description_text\n",
    "\n",
    "    else:\n",
    "        activity['description'] = set()\n",
    "        activity['description_raw'] = ''\n",
    "\n",
    "    try:\n",
    "        relationships = []\n",
    "\n",
    "        activity_node = activity\n",
    "        activity_nodes[activity_key] = activity_node\n",
    "\n",
    "        for reporter, participant in itertools.product(reporters, participants):\n",
    "            add_activity_relationship(activity_key, relationships, reporter, reporter)\n",
    "            add_activity_relationship(activity_key, relationships, reporter, participant)\n",
    "\n",
    "        activity_relationships[activity_key] = relationships\n",
    "    except Exception as e:\n",
    "        print json.dumps(activity, indent=2)\n",
    "        raise e"
   ]
  },
  {
   "cell_type": "code",
   "execution_count": null,
   "metadata": {
    "collapsed": false
   },
   "outputs": [],
   "source": [
    "def add_activity_relationship(activity_key, relationships, reporter, participant):\n",
    "    global publisher_nodes\n",
    "\n",
    "    reporter_node = add_organization(reporter)\n",
    "    participant_node = add_organization(participant)\n",
    "\n",
    "    if reporter_node is None or participant_node is None:\n",
    "        return\n",
    "\n",
    "    if reporter_node['ref'] not in publisher_nodes:\n",
    "        publisher_nodes[reporter_node['ref']] = reporter_node\n",
    "\n",
    "    has_relationship = False\n",
    "\n",
    "    for relationship in relationships:\n",
    "        if relationship['start'] == reporter_node['ref'] and relationship['end'] == participant_node['ref']:\n",
    "            has_relationship = True\n",
    "            break\n",
    "\n",
    "    if not has_relationship:\n",
    "        ref_edge = {\n",
    "            'start': reporter_node['ref'],\n",
    "            'activity': activity_key,\n",
    "            'end': participant_node['ref']\n",
    "        }\n",
    "\n",
    "        relationships.append(ref_edge)"
   ]
  },
  {
   "cell_type": "markdown",
   "metadata": {},
   "source": [
    "## Load Activities and Organizations"
   ]
  },
  {
   "cell_type": "code",
   "execution_count": null,
   "metadata": {
    "collapsed": false,
    "scrolled": true
   },
   "outputs": [
    {
     "name": "stdout",
     "output_type": "stream",
     "text": [
      "2016-08-14 01:38:24.105153 Started processing\n",
      "2016-08-14 01:38:24.113274 Processed 0 of 579320\n",
      "2016-08-14 01:39:39.455916 Processed 10000 of 579320\n",
      "2016-08-14 01:40:36.756065 Processed 20000 of 579320\n",
      "2016-08-14 01:42:22.350465 Processed 30000 of 579320\n",
      "2016-08-14 01:43:31.377944 Processed 40000 of 579320\n",
      "2016-08-14 01:45:00.447408 Processed 50000 of 579320\n",
      "2016-08-14 01:47:37.608630 Processed 60000 of 579320\n",
      "2016-08-14 01:49:07.913076 Processed 70000 of 579320\n",
      "2016-08-14 01:50:01.977034 Processed 80000 of 579320\n",
      "2016-08-14 01:51:29.645964 Processed 90000 of 579320\n",
      "2016-08-14 01:52:45.046003 Processed 100000 of 579320\n",
      "2016-08-14 01:54:17.855444 Processed 110000 of 579320\n",
      "2016-08-14 01:56:08.393541 Processed 120000 of 579320\n",
      "2016-08-14 01:59:15.942951 Processed 130000 of 579320\n",
      "2016-08-14 02:00:02.089409 Processed 140000 of 579320\n",
      "2016-08-14 02:03:03.841892 Processed 150000 of 579320\n",
      "2016-08-14 02:04:18.308357 Processed 160000 of 579320\n",
      "2016-08-14 02:06:00.875998 Processed 170000 of 579320\n",
      "2016-08-14 02:11:22.126256 Processed 180000 of 579320\n",
      "2016-08-14 02:13:35.907187 Processed 190000 of 579320\n",
      "2016-08-14 02:14:32.347831 Processed 200000 of 579320\n",
      "2016-08-14 02:18:18.592487 Processed 210000 of 579320\n",
      "2016-08-14 02:20:34.720512 Processed 220000 of 579320\n",
      "2016-08-14 02:27:58.604697 Processed 230000 of 579320\n",
      "2016-08-14 02:29:59.748816 Processed 240000 of 579320\n",
      "2016-08-14 02:30:35.045011 Processed 250000 of 579320\n",
      "2016-08-14 02:31:29.164282 Processed 260000 of 579320\n",
      "2016-08-14 02:32:31.662138 Processed 270000 of 579320\n",
      "2016-08-14 02:35:19.414457 Processed 280000 of 579320\n",
      "2016-08-14 02:36:58.079180 Processed 290000 of 579320\n",
      "2016-08-14 02:37:01.334681 Processed 300000 of 579320\n",
      "2016-08-14 02:38:19.467489 Processed 310000 of 579320\n",
      "2016-08-14 02:39:26.525920 Processed 320000 of 579320\n",
      "2016-08-14 02:40:35.917611 Processed 330000 of 579320\n",
      "2016-08-14 02:40:48.606648 Processed 340000 of 579320\n",
      "2016-08-14 02:42:30.069879 Processed 350000 of 579320\n",
      "2016-08-14 02:43:09.094550 Processed 360000 of 579320\n",
      "2016-08-14 02:43:27.919001 Processed 370000 of 579320\n",
      "2016-08-14 02:46:35.848272 Processed 380000 of 579320\n",
      "2016-08-14 02:48:33.814726 Processed 390000 of 579320\n",
      "2016-08-14 02:50:42.162244 Processed 400000 of 579320\n",
      "2016-08-14 02:52:01.145338 Processed 410000 of 579320\n",
      "2016-08-14 02:53:07.641939 Processed 420000 of 579320\n",
      "2016-08-14 02:54:40.702305 Processed 430000 of 579320\n",
      "2016-08-14 02:55:29.179960 Processed 440000 of 579320\n",
      "2016-08-14 02:56:49.993033 Processed 450000 of 579320\n",
      "2016-08-14 02:58:00.990275 Processed 460000 of 579320\n",
      "2016-08-14 03:00:48.152550 Processed 470000 of 579320\n",
      "2016-08-14 03:02:08.745148 Processed 480000 of 579320\n",
      "2016-08-14 03:02:53.225784 Processed 490000 of 579320\n",
      "2016-08-14 03:04:11.939607 Processed 500000 of 579320\n",
      "2016-08-14 03:08:55.559737 Processed 510000 of 579320\n",
      "2016-08-14 03:09:52.530280 Processed 520000 of 579320\n",
      "2016-08-14 03:10:52.261856 Processed 530000 of 579320\n",
      "2016-08-14 03:11:53.287341 Processed 540000 of 579320\n",
      "2016-08-14 03:13:08.892453 Processed 550000 of 579320\n",
      "2016-08-14 03:14:50.430299 Processed 560000 of 579320\n",
      "2016-08-14 03:17:27.598858 Processed 570000 of 579320\n",
      "2016-08-14 03:19:03.141078 Finished processing\n"
     ]
    }
   ],
   "source": [
    "publisher_nodes = {}\n",
    "organization_nodes = {}\n",
    "activity_nodes = {}\n",
    "activity_relationships = {}\n",
    "\n",
    "activities_count = activities.count()\n",
    "\n",
    "print datetime.now(), 'Started processing'\n",
    "\n",
    "with open('graph_fill.txt', 'w', 0) as debug_file:\n",
    "    for num, activity in enumerate(activities.find()):\n",
    "        if num % 10000 == 0:\n",
    "            print datetime.now(), 'Processed', num, 'of', activities_count\n",
    "            print >> debug_file, datetime.now(), 'Processed', num, 'of', activities_count\n",
    "\n",
    "        add_activity_node(activity)\n",
    "\n",
    "    print datetime.now(), 'Finished processing'\n",
    "    print >> debug_file, datetime.now(), 'Finished processing'"
   ]
  },
  {
   "cell_type": "code",
   "execution_count": null,
   "metadata": {
    "collapsed": false
   },
   "outputs": [
    {
     "data": {
      "text/plain": [
       "310"
      ]
     },
     "execution_count": null,
     "metadata": {},
     "output_type": "execute_result"
    }
   ],
   "source": [
    "len(publisher_nodes)"
   ]
  },
  {
   "cell_type": "code",
   "execution_count": null,
   "metadata": {
    "collapsed": false
   },
   "outputs": [
    {
     "data": {
      "text/plain": [
       "10500"
      ]
     },
     "execution_count": null,
     "metadata": {},
     "output_type": "execute_result"
    }
   ],
   "source": [
    "len(organization_nodes)"
   ]
  },
  {
   "cell_type": "code",
   "execution_count": null,
   "metadata": {
    "collapsed": false
   },
   "outputs": [
    {
     "data": {
      "text/plain": [
       "559502"
      ]
     },
     "execution_count": null,
     "metadata": {},
     "output_type": "execute_result"
    }
   ],
   "source": [
    "len(activity_nodes)"
   ]
  },
  {
   "cell_type": "code",
   "execution_count": null,
   "metadata": {
    "collapsed": false
   },
   "outputs": [
    {
     "data": {
      "text/plain": [
       "559502"
      ]
     },
     "execution_count": null,
     "metadata": {},
     "output_type": "execute_result"
    }
   ],
   "source": [
    "len(activity_relationships)"
   ]
  },
  {
   "cell_type": "markdown",
   "metadata": {},
   "source": [
    "## Confirm the Keys in Our Nodes"
   ]
  },
  {
   "cell_type": "code",
   "execution_count": null,
   "metadata": {
    "collapsed": true
   },
   "outputs": [],
   "source": [
    "node_keys = set()\n",
    "\n",
    "for node in activity_nodes.itervalues():\n",
    "    node_keys |= set(node.keys())"
   ]
  },
  {
   "cell_type": "code",
   "execution_count": null,
   "metadata": {
    "collapsed": false
   },
   "outputs": [
    {
     "data": {
      "text/plain": [
       "{u'description',\n",
       " 'description_raw',\n",
       " u'iati-identifier',\n",
       " u'location',\n",
       " 'policy-marker',\n",
       " u'recipient-country',\n",
       " 'sector'}"
      ]
     },
     "execution_count": null,
     "metadata": {},
     "output_type": "execute_result"
    }
   ],
   "source": [
    "node_keys"
   ]
  },
  {
   "cell_type": "markdown",
   "metadata": {},
   "source": [
    "## Store as Pickled Files"
   ]
  },
  {
   "cell_type": "code",
   "execution_count": null,
   "metadata": {
    "collapsed": true
   },
   "outputs": [],
   "source": [
    "with open('graph_publisher_nodes.pickle', 'w') as f:\n",
    "    pickle.dump(publisher_nodes, f)"
   ]
  },
  {
   "cell_type": "code",
   "execution_count": null,
   "metadata": {
    "collapsed": true
   },
   "outputs": [],
   "source": [
    "with open('graph_organization_nodes.pickle', 'w') as f:\n",
    "    pickle.dump(organization_nodes, f)"
   ]
  },
  {
   "cell_type": "code",
   "execution_count": null,
   "metadata": {
    "collapsed": true
   },
   "outputs": [],
   "source": [
    "with open('graph_activity_nodes.pickle', 'w') as f:\n",
    "    pickle.dump(activity_nodes, f)"
   ]
  },
  {
   "cell_type": "code",
   "execution_count": null,
   "metadata": {
    "collapsed": true
   },
   "outputs": [],
   "source": [
    "with open('graph_activity_relationships.pickle', 'w') as f:\n",
    "    pickle.dump(activity_relationships, f)"
   ]
  },
  {
   "cell_type": "code",
   "execution_count": null,
   "metadata": {
    "collapsed": false
   },
   "outputs": [
    {
     "name": "stdout",
     "output_type": "stream",
     "text": [
      "rm: cannot remove ‘graph_pickle.tar.gz’: No such file or directory\r\n"
     ]
    }
   ],
   "source": [
    "!rm graph_pickle.tar.gz\n",
    "!tar -cf graph_pickle.tar graph_*.pickle\n",
    "!gzip graph_pickle.tar"
   ]
  },
  {
   "cell_type": "code",
   "execution_count": null,
   "metadata": {
    "collapsed": false
   },
   "outputs": [
    {
     "name": "stdout",
     "output_type": "stream",
     "text": [
      "upload: ./graph_pickle.tar.gz to s3://mdang.w210/graph_pickle.tar.gz\n"
     ]
    }
   ],
   "source": [
    "!aws s3 cp graph_pickle.tar.gz s3://mdang.w210/ --acl public-read"
   ]
  }
 ],
 "metadata": {
  "kernelspec": {
   "display_name": "Python 2",
   "language": "python",
   "name": "python2"
  },
  "language_info": {
   "codemirror_mode": {
    "name": "ipython",
    "version": 2
   },
   "file_extension": ".py",
   "mimetype": "text/x-python",
   "name": "python",
   "nbconvert_exporter": "python",
   "pygments_lexer": "ipython2",
   "version": "2.7.6"
  }
 },
 "nbformat": 4,
 "nbformat_minor": 0
}
