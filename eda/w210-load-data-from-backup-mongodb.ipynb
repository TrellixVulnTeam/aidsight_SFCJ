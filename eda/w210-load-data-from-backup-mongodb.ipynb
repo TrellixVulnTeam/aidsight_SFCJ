{
 "cells": [
  {
   "cell_type": "markdown",
   "metadata": {},
   "source": [
    "# Install Packages"
   ]
  },
  {
   "cell_type": "code",
   "execution_count": null,
   "metadata": {
    "collapsed": false
   },
   "outputs": [],
   "source": [
    "%matplotlib inline"
   ]
  },
  {
   "cell_type": "code",
   "execution_count": null,
   "metadata": {
    "collapsed": false
   },
   "outputs": [
    {
     "name": "stdout",
     "output_type": "stream",
     "text": [
      "Collecting pymongo\n",
      "  Downloading pymongo-3.3.0-cp27-cp27mu-manylinux1_x86_64.whl (339kB)\n",
      "\u001b[K    100% |████████████████████████████████| 348kB 3.7MB/s\n",
      "\u001b[?25hInstalling collected packages: pymongo\n",
      "Successfully installed pymongo-3.3.0\n"
     ]
    }
   ],
   "source": [
    "!sudo -H pip install pymongo"
   ]
  },
  {
   "cell_type": "code",
   "execution_count": null,
   "metadata": {
    "collapsed": false
   },
   "outputs": [],
   "source": [
    "from collections import defaultdict\n",
    "from datetime import datetime\n",
    "import functools\n",
    "import io\n",
    "import itertools\n",
    "import json\n",
    "import os\n",
    "import pandas\n",
    "import pickle\n",
    "import pymongo\n",
    "import re"
   ]
  },
  {
   "cell_type": "markdown",
   "metadata": {},
   "source": [
    "# Reload the MongoDB dump"
   ]
  },
  {
   "cell_type": "code",
   "execution_count": null,
   "metadata": {
    "collapsed": true
   },
   "outputs": [],
   "source": [
    "def restore_backup(collection):\n",
    "    if not os.path.isfile('dump/iati/%s.bson' % collection):\n",
    "        !aws s3 cp s3://mdang.w210/dump.{collection}.tar.gz .\n",
    "        !tar -zxf dump.{collection}.tar.gz\n",
    "\n",
    "    if os.path.isfile('dump/iati/%s.bson' % collection):\n",
    "        !mongorestore --db iati --collection {collection} --drop dump/iati/{collection}.bson"
   ]
  },
  {
   "cell_type": "code",
   "execution_count": null,
   "metadata": {
    "collapsed": false
   },
   "outputs": [
    {
     "name": "stdout",
     "output_type": "stream",
     "text": [
      "2016-08-09T19:43:38.978+0000\tchecking for collection data in dump/iati/activities.bson\n",
      "2016-08-09T19:43:38.978+0000\treading metadata for iati.activities from dump/iati/activities.metadata.json\n",
      "2016-08-09T19:43:38.983+0000\trestoring iati.activities from dump/iati/activities.bson\n",
      "2016-08-09T19:43:41.982+0000\t[####....................]  iati.activities  581.2 MB/3.1 GB  (18.2%)\n",
      "2016-08-09T19:43:44.982+0000\t[#######.................]  iati.activities  1.0 GB/3.1 GB  (32.7%)\n",
      "2016-08-09T19:43:47.982+0000\t[###########.............]  iati.activities  1.5 GB/3.1 GB  (47.0%)\n",
      "2016-08-09T19:43:50.978+0000\t[#############...........]  iati.activities  1.8 GB/3.1 GB  (56.5%)\n",
      "2016-08-09T19:43:53.980+0000\t[#################.......]  iati.activities  2.3 GB/3.1 GB  (72.6%)\n",
      "2016-08-09T19:43:56.982+0000\t[####################....]  iati.activities  2.7 GB/3.1 GB  (87.0%)\n",
      "2016-08-09T19:43:59.986+0000\t[#######################.]  iati.activities  3.1 GB/3.1 GB  (99.0%)\n",
      "2016-08-09T19:44:00.521+0000\t[########################]  iati.activities  3.1 GB/3.1 GB  (100.0%)\n",
      "2016-08-09T19:44:00.521+0000\trestoring indexes for collection iati.activities from metadata\n",
      "2016-08-09T19:44:00.522+0000\tfinished restoring iati.activities (579320 documents)\n",
      "2016-08-09T19:44:00.522+0000\tdone\n",
      "2016-08-09T19:44:00.658+0000\tchecking for collection data in dump/iati/activities_metadata.bson\n",
      "2016-08-09T19:44:00.659+0000\treading metadata for iati.activities_metadata from dump/iati/activities_metadata.metadata.json\n",
      "2016-08-09T19:44:05.161+0000\trestoring iati.activities_metadata from dump/iati/activities_metadata.bson\n",
      "2016-08-09T19:44:05.308+0000\trestoring indexes for collection iati.activities_metadata from metadata\n",
      "2016-08-09T19:44:05.308+0000\tfinished restoring iati.activities_metadata (3562 documents)\n",
      "2016-08-09T19:44:05.308+0000\tdone\n",
      "2016-08-09T19:44:05.428+0000\tchecking for collection data in dump/iati/transactions.bson\n",
      "2016-08-09T19:44:05.429+0000\treading metadata for iati.transactions from dump/iati/transactions.metadata.json\n",
      "2016-08-09T19:44:05.434+0000\trestoring iati.transactions from dump/iati/transactions.bson\n",
      "2016-08-09T19:44:08.430+0000\t[###.....................]  iati.transactions  178.3 MB/1.1 GB  (16.0%)\n",
      "2016-08-09T19:44:11.430+0000\t[#######.................]  iati.transactions  363.3 MB/1.1 GB  (32.6%)\n",
      "2016-08-09T19:44:14.429+0000\t[##########..............]  iati.transactions  508.4 MB/1.1 GB  (45.6%)\n",
      "2016-08-09T19:44:17.429+0000\t[#############...........]  iati.transactions  647.3 MB/1.1 GB  (58.0%)\n",
      "2016-08-09T19:44:20.431+0000\t[#################.......]  iati.transactions  824.0 MB/1.1 GB  (73.9%)\n",
      "2016-08-09T19:44:23.430+0000\t[#####################...]  iati.transactions  1011.5 MB/1.1 GB  (90.7%)\n",
      "2016-08-09T19:44:25.227+0000\t[########################]  iati.transactions  1.1 GB/1.1 GB  (100.0%)\n",
      "2016-08-09T19:44:25.227+0000\trestoring indexes for collection iati.transactions from metadata\n",
      "2016-08-09T19:44:25.228+0000\tfinished restoring iati.transactions (2251178 documents)\n",
      "2016-08-09T19:44:25.228+0000\tdone\n",
      "2016-08-09T19:44:25.346+0000\tchecking for collection data in dump/iati/organizations.bson\n",
      "2016-08-09T19:44:25.347+0000\treading metadata for iati.organizations from dump/iati/organizations.metadata.json\n",
      "2016-08-09T19:44:25.359+0000\trestoring iati.organizations from dump/iati/organizations.bson\n",
      "2016-08-09T19:44:25.466+0000\trestoring indexes for collection iati.organizations from metadata\n",
      "2016-08-09T19:44:25.466+0000\tfinished restoring iati.organizations (7131 documents)\n",
      "2016-08-09T19:44:25.466+0000\tdone\n",
      "2016-08-09T19:44:25.586+0000\tchecking for collection data in dump/iati/scores.bson\n",
      "2016-08-09T19:44:25.587+0000\treading metadata for iati.scores from dump/iati/scores.metadata.json\n",
      "2016-08-09T19:44:25.591+0000\trestoring iati.scores from dump/iati/scores.bson\n",
      "2016-08-09T19:44:25.653+0000\trestoring indexes for collection iati.scores from metadata\n",
      "2016-08-09T19:44:25.653+0000\tfinished restoring iati.scores (254 documents)\n",
      "2016-08-09T19:44:25.653+0000\tdone\n",
      "2016-08-09T19:44:25.769+0000\tchecking for collection data in dump/iati/cleaned_orgs_full.bson\n",
      "2016-08-09T19:44:25.770+0000\treading metadata for iati.cleaned_orgs_full from dump/iati/cleaned_orgs_full.metadata.json\n",
      "2016-08-09T19:44:25.775+0000\trestoring iati.cleaned_orgs_full from dump/iati/cleaned_orgs_full.bson\n",
      "2016-08-09T19:44:25.836+0000\trestoring indexes for collection iati.cleaned_orgs_full from metadata\n",
      "2016-08-09T19:44:25.842+0000\tfinished restoring iati.cleaned_orgs_full (254 documents)\n",
      "2016-08-09T19:44:25.842+0000\tdone\n"
     ]
    }
   ],
   "source": [
    "restore_backup('activities')\n",
    "restore_backup('activities_metadata')\n",
    "restore_backup('transactions')\n",
    "restore_backup('organizations')\n",
    "restore_backup('scores')\n",
    "restore_backup('cleaned_orgs_full')"
   ]
  },
  {
   "cell_type": "markdown",
   "metadata": {},
   "source": [
    "# Data Check"
   ]
  },
  {
   "cell_type": "markdown",
   "metadata": {},
   "source": [
    "## Confirm Import"
   ]
  },
  {
   "cell_type": "code",
   "execution_count": null,
   "metadata": {
    "collapsed": false
   },
   "outputs": [
    {
     "data": {
      "text/plain": [
       "[u'iati', u'local']"
      ]
     },
     "execution_count": null,
     "metadata": {},
     "output_type": "execute_result"
    }
   ],
   "source": [
    "conn=pymongo.MongoClient()\n",
    "\n",
    "# Check database names to test connection and see what's here\n",
    "conn.database_names()"
   ]
  },
  {
   "cell_type": "code",
   "execution_count": null,
   "metadata": {
    "collapsed": false
   },
   "outputs": [
    {
     "data": {
      "text/plain": [
       "[u'organizations',\n",
       " u'activities',\n",
       " u'cleaned_orgs_full',\n",
       " u'scores',\n",
       " u'activities_metadata',\n",
       " u'transactions']"
      ]
     },
     "execution_count": null,
     "metadata": {},
     "output_type": "execute_result"
    }
   ],
   "source": [
    "# Make iati database\n",
    "db = conn.iati\n",
    "\n",
    "# Create new activities collection and check that manual renaming worked\n",
    "\n",
    "activities=db.activities\n",
    "activities_metadata=db.activities_metadata\n",
    "transactions=db.transactions\n",
    "organizations=db.organizations\n",
    "organizations_metadata=db.organizations_metadata\n",
    "\n",
    "db.collection_names()"
   ]
  },
  {
   "cell_type": "code",
   "execution_count": null,
   "metadata": {
    "collapsed": false
   },
   "outputs": [
    {
     "name": "stdout",
     "output_type": "stream",
     "text": [
      "3562 579320\n"
     ]
    }
   ],
   "source": [
    "print activities_metadata.count(), activities.count()"
   ]
  },
  {
   "cell_type": "code",
   "execution_count": null,
   "metadata": {
    "collapsed": false
   },
   "outputs": [
    {
     "name": "stdout",
     "output_type": "stream",
     "text": [
      "2251178\n"
     ]
    }
   ],
   "source": [
    "print transactions.count()"
   ]
  },
  {
   "cell_type": "code",
   "execution_count": null,
   "metadata": {
    "collapsed": false
   },
   "outputs": [
    {
     "name": "stdout",
     "output_type": "stream",
     "text": [
      "0 7131\n"
     ]
    }
   ],
   "source": [
    "print organizations_metadata.count(), organizations.count()"
   ]
  }
 ],
 "metadata": {
  "kernelspec": {
   "display_name": "Python 2",
   "language": "python",
   "name": "python2"
  },
  "language_info": {
   "codemirror_mode": {
    "name": "ipython",
    "version": 2
   },
   "file_extension": ".py",
   "mimetype": "text/x-python",
   "name": "python",
   "nbconvert_exporter": "python",
   "pygments_lexer": "ipython2",
   "version": "2.7.6"
  }
 },
 "nbformat": 4,
 "nbformat_minor": 0
}
