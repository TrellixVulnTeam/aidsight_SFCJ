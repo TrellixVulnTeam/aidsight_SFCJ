{
 "cells": [
  {
   "cell_type": "code",
   "execution_count": 1,
   "metadata": {
    "collapsed": true
   },
   "outputs": [],
   "source": [
    "#Dependencies and Packages\n",
    "import os\n",
    "import numpy as np\n",
    "from time import time\n",
    "from sklearn.feature_extraction.text import TfidfVectorizer\n",
    "from sklearn.feature_extraction.text import CountVectorizer\n",
    "from sklearn.metrics.pairwise import cosine_similarity\n",
    "import pickle\n",
    "from nltk.corpus import words\n",
    "import pymongo"
   ]
  },
  {
   "cell_type": "markdown",
   "metadata": {},
   "source": [
    "## Load Data from S3"
   ]
  },
  {
   "cell_type": "code",
   "execution_count": 2,
   "metadata": {
    "collapsed": false
   },
   "outputs": [
    {
     "name": "stdout",
     "output_type": "stream",
     "text": [
      "download: s3://mdang.w210/iati_text.txt.gz to ./iati_text.txt.gz\n"
     ]
    }
   ],
   "source": [
    "if not os.path.isdir('iati_text'):\n",
    "    !aws s3 cp s3://mdang.w210/iati_text.txt.gz --region us-west-2 .\n",
    "    #!tar -zxf iati_text.tar.gz #not tar file\n",
    "    "
   ]
  },
  {
   "cell_type": "markdown",
   "metadata": {},
   "source": [
    "### 1. Load the activities data into 209 separate \"documents\""
   ]
  },
  {
   "cell_type": "code",
   "execution_count": 15,
   "metadata": {
    "collapsed": false
   },
   "outputs": [
    {
     "name": "stdout",
     "output_type": "stream",
     "text": [
      "546742\n",
      "Number of orgs reporting 316\n",
      "12.2858359814\n"
     ]
    }
   ],
   "source": [
    "#Exploring number of organizations and activities to work with \n",
    "t0 = time()\n",
    "orgs_ids = set()\n",
    "with open('iati_text.txt', 'r') as myfile:\n",
    "    lines = myfile.readlines()\n",
    "    print len(lines)\n",
    "    for line in lines:\n",
    "        line = line.split('\\t')\n",
    "        orgs_ids.add(line[0])\n",
    "print 'Number of orgs reporting ' + str(len(orgs_ids))\n",
    "print time() - t0"
   ]
  },
  {
   "cell_type": "code",
   "execution_count": 16,
   "metadata": {
    "collapsed": false
   },
   "outputs": [
    {
     "name": "stdout",
     "output_type": "stream",
     "text": [
      "Completed 0 lines\n",
      "Completed 50000 lines\n",
      "Completed 100000 lines\n",
      "Completed 150000 lines\n",
      "Completed 200000 lines\n",
      "Completed 250000 lines\n",
      "Completed 300000 lines\n",
      "Completed 350000 lines\n",
      "Completed 400000 lines\n",
      "Completed 450000 lines\n",
      "Completed 500000 lines\n",
      "316\n",
      "time: 106.091364145\n"
     ]
    }
   ],
   "source": [
    "#New version to use\n",
    "t0 = time()\n",
    "corpus = set(words.words()) #create corpus to use \n",
    "\n",
    "cur_line = 0\n",
    "orgs_with_text = {} #dictionary to hold org ids as keys and a list of all text as a value\n",
    "with open('iati_text.txt', 'r') as infile: #open infile\n",
    "    lines = infile.readlines()\n",
    "    for line in lines: #for each line of text in iati text\n",
    "        if cur_line % 50000 == 0: #sanity check\n",
    "            print 'Completed ' + str(cur_line) + ' lines'\n",
    "        cur_id, data = line.split('\\t') #split line\n",
    "        working = orgs_with_text.get(cur_id) #retrieve value \n",
    "        if working is None: #if this doesn't exist then initialize a key and an empty list\n",
    "            orgs_with_text[cur_id] = []\n",
    "            working = []\n",
    "        for word in data.split(): #split into word tokens\n",
    "            if word.lower() in corpus: #check if word in corpus\n",
    "                working.append(word.lower()) #add to list\n",
    "        orgs_with_text[cur_id] = working #update dictionary value\n",
    "        cur_line += 1\n",
    "\n",
    "print len(orgs_with_text.keys())\n",
    "print 'time: ' + str(time() - t0)\n"
   ]
  },
  {
   "cell_type": "markdown",
   "metadata": {},
   "source": [
    "### 2. Rerun tfidf vectorizer with the new document space"
   ]
  },
  {
   "cell_type": "code",
   "execution_count": 17,
   "metadata": {
    "collapsed": false
   },
   "outputs": [
    {
     "name": "stdout",
     "output_type": "stream",
     "text": [
      "vectorized in 89.598731041\n",
      "(316, 22557)\n"
     ]
    }
   ],
   "source": [
    "t0 = time()\n",
    "raw_text = [] #holder for all text, these are words in the corpus\n",
    "for doc in orgs_with_text.values():\n",
    "    new_doc = str(doc) #render as a string\n",
    "    raw_text.append(new_doc)\n",
    "\n",
    "vectorizer = TfidfVectorizer(stop_words = 'english') #create vectorizer\n",
    "tf_matrix = vectorizer.fit_transform(raw_text)\n",
    "\n",
    "print 'vectorized in ' + str(time() - t0)\n",
    "print tf_matrix.shape\n"
   ]
  },
  {
   "cell_type": "markdown",
   "metadata": {},
   "source": [
    "# TODO: NOT SURE WHY THIS IS TAKING FOREVER"
   ]
  },
  {
   "cell_type": "code",
   "execution_count": 9,
   "metadata": {
    "collapsed": true
   },
   "outputs": [],
   "source": [
    "#Dump files to pickle\n",
    "\n",
    "with open('vectorizer.pkl', 'wb') as handle:\n",
    "    pickle.dump(vectorizer, handle)\n",
    "    "
   ]
  },
  {
   "cell_type": "code",
   "execution_count": 10,
   "metadata": {
    "collapsed": true
   },
   "outputs": [],
   "source": [
    "with open('tfMatrix.pkl', 'wb') as handle:\n",
    "    pickle.dump(tf_matrix, handle)\n"
   ]
  },
  {
   "cell_type": "code",
   "execution_count": 11,
   "metadata": {
    "collapsed": true
   },
   "outputs": [],
   "source": [
    "with open('orgs_text.pkl', 'wb') as handle:\n",
    "    pickle.dump(orgs_with_text, handle)"
   ]
  },
  {
   "cell_type": "markdown",
   "metadata": {},
   "source": [
    "### 3. Compute Neighbors based on cosine similarity of documents"
   ]
  },
  {
   "cell_type": "code",
   "execution_count": 12,
   "metadata": {
    "collapsed": true
   },
   "outputs": [],
   "source": [
    "#Load files from pickle\n",
    "vectorizer = pickle.load(open('vectorizer.pkl', 'rb'))\n",
    "tf_matrix = pickle.load(open('tfMatrix.pkl', 'rb'))\n",
    "orgs_with_text = pickle.load(open('orgs_text.pkl', 'rb'))\n"
   ]
  },
  {
   "cell_type": "code",
   "execution_count": 18,
   "metadata": {
    "collapsed": false
   },
   "outputs": [
    {
     "name": "stdout",
     "output_type": "stream",
     "text": [
      "['NI-MIGOB-3602', 'NL-KVK-41149287', 'GB-CHC-1138287', 'GB-CHC-291691', 'GB-CHC-1090745']\n"
     ]
    }
   ],
   "source": [
    "#Returns the nearest neighbors as sorted by cosine similarity\n",
    "def getSimilarity(org_id):\n",
    "    num = None\n",
    "    for tupl in enumerate(orgs_with_text.keys()):\n",
    "        if org_id == tupl[1]: #match id\n",
    "            num = tupl[0] #return number corresponding to row in matrix\n",
    "            break\n",
    "    similarity_matrix = cosine_similarity(tf_matrix[num], tf_matrix) #get cosine similarity\n",
    "    sorted_matrix = np.argsort(similarity_matrix[0]) #sort and get ids\n",
    "    nums = list(sorted_matrix[-6:])[::-1][1:] #render top number as list and reverse order (most similar is first)\n",
    "    #in above line reverse and then remove first item which is the same ID\n",
    "    to_return = [] \n",
    "    for num in nums: #take numeric placeholders and translate into ids \n",
    "        to_return.append(orgs_with_text.keys()[num])\n",
    "    return to_return\n",
    "\n",
    "nums = getSimilarity('NL-KVK-41201644')\n",
    "print nums"
   ]
  },
  {
   "cell_type": "code",
   "execution_count": null,
   "metadata": {
    "collapsed": true
   },
   "outputs": [],
   "source": [
    "['NI-MIGOB-3602', 'NL-KVK-41149287', 'GB-CHC-1138287', 'GB-CHC-291691', 'GB-CHC-1090745']"
   ]
  },
  {
   "cell_type": "markdown",
   "metadata": {},
   "source": [
    "## Old - Might be useful"
   ]
  },
  {
   "cell_type": "code",
   "execution_count": 8,
   "metadata": {
    "collapsed": false
   },
   "outputs": [
    {
     "name": "stdout",
     "output_type": "stream",
     "text": [
      "At organization 0\n",
      "At organization 50\n",
      "At organization 100\n",
      "At organization 150\n",
      "At organization 200\n",
      "At organization 250\n",
      "At organization 300\n",
      "have 316 lines\n",
      "333.677332163\n"
     ]
    }
   ],
   "source": [
    "#old version\n",
    "t0 = time()\n",
    "corpus = set(words.words()) #set of unique words from nltk, rendered to set to make convenient\n",
    "with open('org_bag.txt', 'w') as outfile: #outfile to write to\n",
    "    with open('iati_text.txt', 'r') as infile: #reading from infile\n",
    "        lines = infile.readlines()\n",
    "        org_counter = 0 #counter for sanity\n",
    "        for org in orgs_ids: #go through all organizations, grouped by ids\n",
    "            if org_counter % 50 == 0:\n",
    "                print 'At organization ' + str(org_counter) #prints out message for sanity\n",
    "            bag = [] #list to hold found words per organization\n",
    "            for line in lines[100000:]: #limiting results for now to make faster\n",
    "                line = line.split('\\t') #split on tab\n",
    "                if line[0] == org: #if the first column matches the current organization ID\n",
    "                    words = line[1].split() #split into list of words\n",
    "                    for word in words:\n",
    "                        if word.lower() in corpus: #for all words check if in our corpus and is a recognized word\n",
    "                            bag.append(word.lower()) #append if true\n",
    "            #I am pretty sure this is poorly written and there's an easier way to write this, \n",
    "            #I had problems previously\n",
    "            for word in bag:\n",
    "                outfile.write(word + ' ')\n",
    "            outfile.write('\\n')\n",
    "            org_counter += 1\n",
    "\n",
    "with open('org_bag.txt', 'r') as myfile:\n",
    "    lines = myfile.readlines()\n",
    "    print 'have ' + str(len(lines)) + ' lines'\n",
    "                        \n",
    "print time() - t0                "
   ]
  },
  {
   "cell_type": "markdown",
   "metadata": {},
   "source": [
    "## Natarajan's Version"
   ]
  },
  {
   "cell_type": "code",
   "execution_count": 5,
   "metadata": {
    "collapsed": false
   },
   "outputs": [
    {
     "ename": "TypeError",
     "evalue": "descriptor 'lower' requires a 'str' object but received a 'unicode'",
     "output_type": "error",
     "traceback": [
      "\u001b[0;31m---------------------------------------------------------------------------\u001b[0m",
      "\u001b[0;31mTypeError\u001b[0m                                 Traceback (most recent call last)",
      "\u001b[0;32m<ipython-input-5-b3ba327077b3>\u001b[0m in \u001b[0;36m<module>\u001b[0;34m()\u001b[0m\n\u001b[1;32m      4\u001b[0m \u001b[0;32mimport\u001b[0m \u001b[0mre\u001b[0m\u001b[0;34m\u001b[0m\u001b[0m\n\u001b[1;32m      5\u001b[0m \u001b[0;34m\u001b[0m\u001b[0m\n\u001b[0;32m----> 6\u001b[0;31m \u001b[0mcorpus\u001b[0m\u001b[0;34m=\u001b[0m\u001b[0mset\u001b[0m\u001b[0;34m(\u001b[0m\u001b[0mmap\u001b[0m\u001b[0;34m(\u001b[0m\u001b[0mstr\u001b[0m\u001b[0;34m.\u001b[0m\u001b[0mlower\u001b[0m\u001b[0;34m,\u001b[0m \u001b[0mwords\u001b[0m\u001b[0;34m.\u001b[0m\u001b[0mwords\u001b[0m\u001b[0;34m(\u001b[0m\u001b[0;34m)\u001b[0m\u001b[0;34m)\u001b[0m\u001b[0;34m)\u001b[0m\u001b[0;34m\u001b[0m\u001b[0m\n\u001b[0m\u001b[1;32m      7\u001b[0m \u001b[0mtoken_re\u001b[0m\u001b[0;34m=\u001b[0m\u001b[0mre\u001b[0m\u001b[0;34m.\u001b[0m\u001b[0mcompile\u001b[0m\u001b[0;34m(\u001b[0m\u001b[0;34mr'(?u)\\b\\w\\w+\\b'\u001b[0m\u001b[0;34m)\u001b[0m\u001b[0;34m\u001b[0m\u001b[0m\n\u001b[1;32m      8\u001b[0m \u001b[0;32mdef\u001b[0m \u001b[0mtokenize\u001b[0m\u001b[0;34m(\u001b[0m\u001b[0mline\u001b[0m\u001b[0;34m)\u001b[0m\u001b[0;34m:\u001b[0m\u001b[0;34m\u001b[0m\u001b[0m\n",
      "\u001b[0;31mTypeError\u001b[0m: descriptor 'lower' requires a 'str' object but received a 'unicode'"
     ]
    }
   ],
   "source": [
    "from collections import defaultdict\n",
    "import io\n",
    "from nltk.corpus import words\n",
    "import re\n",
    "\n",
    "corpus=set(map(str.lower, words.words()))\n",
    "token_re=re.compile(r'(?u)\\b\\w\\w+\\b')\n",
    "def tokenize(line):\n",
    "    for token in token_re.findall(line):\n",
    "        tokenl=token.lower()\n",
    "        if tokenl in corpus:\n",
    "            yield tokenl\n",
    "\n",
    "vocab2idx={}\n",
    "idx2vocab=[]\n",
    "org_ids=defaultdict(set)\n",
    "with io.open('iati_text.txt', 'rt', encoding='utf-8') as infile: #reading from infile\n",
    "    for line in infile:\n",
    "        try:\n",
    "            id, data = line.split('\\t', 1)\n",
    "            indices=org_ids[id]\n",
    "            for token in tokenize(data):\n",
    "                idx=vocab2idx.get(token)\n",
    "                if not idx:\n",
    "                    idx=len(vocab2idx)\n",
    "                    vocab2idx[token]=idx\n",
    "                    idx2vocab.append(token)\n",
    "                indices.add(idx)\n",
    "        except ValueError as e:\n",
    "            print(\"Unable to process '\" + line.strip() + \"': \", e)\n",
    "def cos_sim(id1, id2):\n",
    "    s1=org_ids[id1]\n",
    "    s2=org_ids[id2]\n",
    "    return len(s1 & s2) ** 2 / (len(s1)*len(s2))"
   ]
  },
  {
   "cell_type": "code",
   "execution_count": 2,
   "metadata": {
    "collapsed": false
   },
   "outputs": [],
   "source": [
    "# #Examine file structure\n",
    "# with open('iati_text.txt', 'r') as myfile:\n",
    "#     lines = myfile.readlines()\n",
    "#     for i in range(5):\n",
    "#         print lines[i]\n",
    "    "
   ]
  },
  {
   "cell_type": "code",
   "execution_count": 9,
   "metadata": {
    "collapsed": false
   },
   "outputs": [
    {
     "name": "stdout",
     "output_type": "stream",
     "text": [
      "587160\n"
     ]
    }
   ],
   "source": [
    "print len(data)"
   ]
  },
  {
   "cell_type": "code",
   "execution_count": 12,
   "metadata": {
    "collapsed": false
   },
   "outputs": [
    {
     "name": "stdout",
     "output_type": "stream",
     "text": [
      "imported data in 1.490s\n",
      "['SE-0-SE-6-7400237201-GGG-15220', 'Civilian', 'peace-building,', 'conflict', 'prevention', 'and', 'resolution', '15220', '100', '1', '2', '2003-09-01', '4', '2004-10-28', '05501', 'Humanit\\xc3\\xa4rt', 'bist\\xc3\\xa5nd', 'genom', 'Sida', '2011-2016', 'http://sida.se/ns/strategy#', 'Humanitarian', 'Assistance', '2011-2016', '2003-12-31', '2003-01-01', '185687.228432', '2003-01-01', '2004-12-31', '2004-01-01', '0', '2004-01-01', '2005-12-31', '2005-01-01', '0', '2005-01-01', '2006-12-31', '2006-01-01', '0', '2006-01-01', '2007-12-31', '2007-01-01', '0', '2007-01-01', '1', 'Gender', 'Equality', '1', '1', '2', 'Aid', 'to', 'Environment', '1', '1', '3', 'Participatory', 'Development/Good', 'Governance', '1', '1', '4', 'Trade', 'Development', '0', '1', '5', 'Aid', 'Targeting', 'the', 'Objectives', 'of', 'the', 'Convention', 'on', 'Biological', 'Diversity', '0', '1', '6', 'Aid', 'Targeting', 'the', 'Objectives', 'of', 'the', 'Framework', 'Convention', 'on', 'Climate', 'Change', '-', 'Mitigation', '0', '1', '7', 'Aid', 'Targeting', 'the', 'Objectives', 'of', 'the', 'Framework', 'Convention', 'on', 'Climate', 'Change', '-', 'Adaptation', '0', '1', '8', 'Aid', 'Targeting', 'the', 'Objectives', 'of', 'the', 'Convention', 'to', 'Combat', 'Desertification', '0', '1', 'Swedish', 'International', 'Development', 'Cooperation', 'Agency', 'SE-6', '10', '3', 'Sweden', 'SE-0', '10', '1', 'INTERNATIONAL', 'NGO', '21000', '21', '4', '2', 'Misc', 'sv', 'FAST', 'tidig', 'f\\xc3\\xb6rvarning', '03', 'FAST', 'Early', 'warning', '03', '2.1.9', '100', '\"Justice', '1', 'en', '0', 'iati/sida-998d.xml', '2016-05-24T10:19:23', '2.01', 'SE-0', '10', '0', 'Sweden', '1', 'sv', 'Aktiviteten', '\"FAST', 'tidig', 'f\\xc3\\xb6rvarning', '03\"', 'saknar', 'en', 'beskrivande', 'text.', 'Kontrollera', 'om', 'det', 'finns', 'dokument', 'knutna', 'till', 'aktiviteten', 'eller', 'kontakta', 'Sida', 'f\\xc3\\xb6r', 'att', 'f\\xc3\\xa5', 'mer', 'information.', 'Ring', '08\\xe2\\x80\\x93698', '50', '00', 'eller', 'skicka', 'e-post', 'till', 'sida@sida.se.', 'The', 'activity', '\"FAST', 'Early', 'warning', '03\"', 'does', 'not', 'have', 'a', 'description.', 'Please', 'check', 'if', 'there', 'are', 'documents', 'linked', 'to', 'the', 'activity', 'or', 'contact', 'Sida', 'directly', 'for', 'more', 'information.', 'You', 'can', 'call', '+46', '8', '698', '50', '00', 'or', 'send', 'an', 'e-mail', 'to', 'sida@sida.se.', 'SE-0-SE-6-7400237201-GGG-15220', '2', '2003-12-31', '2003-01-01', '185687.228432', '2003-01-01', '1', '0', '2', '0', '3', '0', '2016-05-24T10:19:23', 'www.openaid.se', 'en', 'Swedish', 'International', 'Development', 'Cooperation', 'Agency.', 'Department:', 'SEKA', 'en', 'Valhallav\\xc3\\xa4gen', '199,', '105', '25', 'Stockholm,', 'Sweden', '+46(0)8-698', '50', '00', 'sida@sida.se', '2016-05-24T12:22:09', '110', 'C01', 'iati/sida-998d.xml', '2003-09-01', '2', '185687.228432', '2003-09-01', '2003-12-28', '3', '185687.228432', '2003-01-01', 'SE-0-SE-6-A7401547', '1', 'USD', 'A08', 'FAST', 'International,', 'annual', 'report', '2004', 'application/pdf', 'http://iati.openaid.se/docs/207051_1_0.pdf', 'A08', 'Swiss', 'Peace', 'Foundation,', 'Annual', 'report', '2004', 'application/pdf', 'http://iati.openaid.se/docs/207053_1_0.pdf', 'A08', 'FAST', 'International,', 'annual', 'report', '2004,', 'Early', 'warning', 'program', 'application/pdf', 'http://iati.openaid.se/docs/207054_1_0.pdf', '1', '998', '100', 'Bilateral,', 'unspecified', '4', '10']\n"
     ]
    }
   ],
   "source": [
    "#import data and time how long that took\n",
    "t0 = time()\n",
    "with open('iati_text.txt', 'r') as myfile:\n",
    "    data = myfile.readlines()\n",
    "    \n",
    "print \"imported data in %0.3fs\" % (time() - t0)\n",
    "\n",
    "print data[10000].split()"
   ]
  },
  {
   "cell_type": "code",
   "execution_count": 4,
   "metadata": {
    "collapsed": false
   },
   "outputs": [
    {
     "name": "stdout",
     "output_type": "stream",
     "text": [
      "0.143539905548\n",
      "42\n",
      "110\n",
      "0.381818181818\n"
     ]
    }
   ],
   "source": [
    "t0 = time()\n",
    "word_count = 0\n",
    "total_count = 0 \n",
    "corpus = set(words.words())\n",
    "\n",
    "for word in data[587].split():\n",
    "    total_count += 1\n",
    "    if word.lower() in corpus:\n",
    "        word_count += 1\n",
    "print time() - t0\n",
    "print word_count\n",
    "print total_count\n",
    "print float(word_count)/total_count"
   ]
  },
  {
   "cell_type": "code",
   "execution_count": 4,
   "metadata": {
    "collapsed": false
   },
   "outputs": [
    {
     "name": "stdout",
     "output_type": "stream",
     "text": [
      "0.159631967545\n",
      "7306\n",
      "22421\n",
      "0.325855225012\n"
     ]
    }
   ],
   "source": [
    "#TODO check to make sure set is giving the same results\n",
    "t0 = time()\n",
    "word_count = 0\n",
    "total_count = 0\n",
    "activity_count = 0\n",
    "corpus = set(words.words())\n",
    "\n",
    "for activity in data[:100]:\n",
    "    for word in activity.split():\n",
    "        total_count += 1\n",
    "        if word.lower() in corpus:\n",
    "            word_count += 1\n",
    "    activity_count += 1\n",
    "\n",
    "print time() - t0        \n",
    "print word_count\n",
    "print total_count\n",
    "print float(word_count)/total_count"
   ]
  },
  {
   "cell_type": "markdown",
   "metadata": {},
   "source": [
    "_10 cases, words.words()_\n",
    "114.761632204\n",
    "455\n",
    "1298\n",
    "0.350539291217"
   ]
  },
  {
   "cell_type": "markdown",
   "metadata": {},
   "source": [
    "_100 cases, words.words()_\n",
    "\n",
    "2405.8098011\n",
    "7306\n",
    "22421\n",
    "0.325855225012\n",
    "\n",
    "_100 cases, corpus_\n",
    "0.159631967545\n",
    "7306\n",
    "22421\n",
    "0.325855225012"
   ]
  },
  {
   "cell_type": "markdown",
   "metadata": {},
   "source": [
    "To run through the first 100 activities with the words corpus took 2350 seconds\n",
    "\n",
    "Using a set reduced it to"
   ]
  },
  {
   "cell_type": "code",
   "execution_count": 4,
   "metadata": {
    "collapsed": false
   },
   "outputs": [],
   "source": [
    "corpus = set(words.words())\n",
    "# for item in thelist:\n",
    "#   thefile.write(\"%s\\n\" % item)\n",
    "\n",
    "with open('englishWords.txt', 'w') as myfile:\n",
    "    for activity in data:\n",
    "        english = []\n",
    "        for word in activity.split():\n",
    "            if word.lower() in corpus:\n",
    "                english.append(word.lower())\n",
    "        for word in english:\n",
    "            myfile.write(word + ' ')\n",
    "        myfile.write('\\n')\n",
    "            \n",
    "\n",
    "# with open('englishWords.txt', 'r') as myfile:\n",
    "#     lines = myfile.readlines()\n",
    "#     print len(lines)"
   ]
  },
  {
   "cell_type": "code",
   "execution_count": 5,
   "metadata": {
    "collapsed": false
   },
   "outputs": [
    {
     "name": "stdout",
     "output_type": "stream",
     "text": [
      "vectorized in 70.467s\n",
      "(587160, 23472)\n"
     ]
    }
   ],
   "source": [
    "#use TFIDF Vectorizer on new data\n",
    "\n",
    "with open('englishWords.txt', 'r') as myfile:\n",
    "    inputData = myfile.readlines()\n",
    "    \n",
    "t0 = time()\n",
    "vectorizer = TfidfVectorizer(stop_words = 'english')\n",
    "tf_matrix = vectorizer.fit_transform(inputData)\n",
    "\n",
    "print 'vectorized in %0.3fs' % (time() - t0)\n",
    "print tf_matrix.shape"
   ]
  },
  {
   "cell_type": "code",
   "execution_count": 6,
   "metadata": {
    "collapsed": true
   },
   "outputs": [],
   "source": [
    "#Save files for later use\n",
    "with open('vectorizer.pkl', 'wb') as handle:\n",
    "    pickle.dump(vectorizer, handle)\n",
    "    \n",
    "with open('tfMatrix.pkl', 'wb') as handle:\n",
    "    pickle.dump(tf_matrix, handle)"
   ]
  },
  {
   "cell_type": "code",
   "execution_count": 7,
   "metadata": {
    "collapsed": true
   },
   "outputs": [],
   "source": [
    "vectorizer = pickle.load(open('vectorizer.pkl', 'rb'))"
   ]
  },
  {
   "cell_type": "code",
   "execution_count": 8,
   "metadata": {
    "collapsed": false
   },
   "outputs": [
    {
     "data": {
      "text/plain": [
       "<1x23472 sparse matrix of type '<type 'numpy.float64'>'\n",
       "\twith 2 stored elements in Compressed Sparse Row format>"
      ]
     },
     "execution_count": 8,
     "metadata": {},
     "output_type": "execute_result"
    }
   ],
   "source": [
    "test = 'water projects in department'\n",
    "newMatrix = vectorizer.transform([test])\n",
    "newMatrix"
   ]
  },
  {
   "cell_type": "markdown",
   "metadata": {
    "collapsed": true
   },
   "source": [
    "__Saving and Functions__"
   ]
  },
  {
   "cell_type": "code",
   "execution_count": 3,
   "metadata": {
    "collapsed": true
   },
   "outputs": [],
   "source": [
    "#Save tfidf matrix for future use \n",
    "#store the content\n",
    "# with open(\"x_result.pkl\", 'wb') as handle:\n",
    "#                     pickle.dump(tfidf, handle)\n",
    "\n",
    "with open('tfidfMatrix.pkl', 'wb') as handle:\n",
    "    pickle.dump(tf_matrix, handle)"
   ]
  },
  {
   "cell_type": "code",
   "execution_count": 3,
   "metadata": {
    "collapsed": true
   },
   "outputs": [],
   "source": [
    "tf_matrix = pickle.load(open('tfidfMatrix.pkl', 'rb'))"
   ]
  },
  {
   "cell_type": "code",
   "execution_count": 9,
   "metadata": {
    "collapsed": true
   },
   "outputs": [],
   "source": [
    "#compute cosine similarity of an activity and all other activities and return the number specificed (N) \n",
    "#most similar activities provided by user\n",
    "\n",
    "#Function to find the nearest neighbors based on cosine similarity for items in our list\n",
    "#Doc_id refers to the index of the item in our data(?) and tfidf matrix\n",
    "def NearestProjectsCosine(doc_id, num_neighbors = 5):\n",
    "    similarity_matrix = cosine_similarity(tf_matrix[doc_id:(doc_id+1)], tf_matrix) #get a similarity matrix\n",
    "    sorted_matrix = np.argsort(similarity_matrix[0]) #sort using np.argsort\n",
    "    nearest = sorted_matrix[-num_neighbors:] #get the indices with the highest cosine similarity\n",
    "    print nearest[::-1] #print these\n",
    "\n",
    "#NearestProjectsCosine(0)"
   ]
  },
  {
   "cell_type": "code",
   "execution_count": 15,
   "metadata": {
    "collapsed": false
   },
   "outputs": [
    {
     "name": "stdout",
     "output_type": "stream",
     "text": [
      "[471396 429651 124434 540054 124447]\n",
      "Activity 471396\n",
      "46002-P-CM-FA0-003\t23010 Power DAC 2010-10-15 1 2013-02-25 2 2018-06-30 3 2017-03-04 4 CM 1 2016-12-31 2010-01-01 2186.59 2016-12-31 2016-01-01 0.00 kilometers 1 Length of transmission and distribution lines rehabilitated or installed (km) 1 2016-12-31 2010-01-01 260.38 2016-12-31 2016-01-01 0.00 number 1 Distribution substations and transformers constructed or rehabilitated 1 2016-12-31 2010-01-01 173011.06 2016-12-31 2016-01-01 0.00 Number of people 1 People with a new electricity connection 1 2016-12-31 2010-01-01 2544290.38 2016-12-31 2016-01-01 0.00 Number of people 1 People benefiting from new electricity connections African Development Fund 46003 1 40 The Japan International Cooperation Agency/ Accelerated Cofinancing Facility for Africa JICA ACFA 1 Government Of Cameroon 3 10 ELECTRICITY DEVELOPMENT CORPORATION -EDC 4 en Cameroon - Project to Strengthen and Extend the Electricity Transmission and Distribution Networks fr Cameroun - Projet de renforcement et d'extension des réseaux électriques de transport et de distribution en 2 zoetele 3.25 11.8833 http://www.opengis.net/def/crs/EPSG/0/4326 2220692 G1 Populated Place 2 2 zalom 3.5 11.7833 http://www.opengis.net/def/crs/EPSG/0/4326 2220784 G1 Populated Place 2 2 Yos 2.98333 12.2333 http://www.opengis.net/def/crs/EPSG/0/4326 2220817 G1 Populated Place 2 2 Yam 2.35 11.2667 http://www.opengis.net/def/crs/EPSG/0/4326 2221009 G1 Populated Place 2 2 Walka 10.2261 13.6249 http://www.opengis.net/def/crs/EPSG/0/4326 2221087 G1 Populated Place 2 2 Wall 4.78333 13.0667 http://www.opengis.net/def/crs/EPSG/0/4326 2221160 G1 Populated Place 2 2 Gabarey Widi 10.4503 15.1125 http://www.opengis.net/def/crs/EPSG/0/4326 2221230 G1 Populated Place 2 2 Touloum 10.1797 14.8355 http://www.opengis.net/def/crs/EPSG/0/4326 2221343 G1 Populated Place 2 2 Touksou 10.05 15.05 http://www.opengis.net/def/crs/EPSG/0/4326 2221349 G1 Populated Place 2 2 Toukou 10.4259 15.2089 http://www.opengis.net/def/crs/EPSG/0/4326 2221352 G1 Populated Place 2 2 Tom 3.9 11.75 http://www.opengis.net/def/crs/EPSG/0/4326 2221411 G1 Populated Place 2 2 Toh 2.45 11.3167 http://www.opengis.net/def/crs/EPSG/0/4326 2221432 G1 Populated Place 2 2 Ting 3.9 11.6333 http://www.opengis.net/def/crs/EPSG/0/4326 2221468 G1 Populated Place 2 2 Tezie 5.94217 9.81488 http://www.opengis.net/def/crs/EPSG/0/4326 2221592 G1 Populated Place 2 1 South-West Province 5.41667 9.33333 http://www.opengis.net/def/crs/EPSG/0/4326 2221788 G1 Administrative Region 2 1 South Province 2.5 11.75 http://www.opengis.net/def/crs/EPSG/0/4326 2221789 G1 Administrative Region 2 2 Souza Gare 4.2344 9.6164 http://www.opengis.net/def/crs/EPSG/0/4326 2221802 G1 Populated Place 2 2 Soulede 10.7578 13.9155 http://www.opengis.net/def/crs/EPSG/0/4326 2221845 G1 Populated Place 2 2 Songwi 5.85 12.25 http://www.opengis.net/def/crs/EPSG/0/4326 2221906 G1 Populated Place 2 2 So-Djay 9.76667 13.75 http://www.opengis.net/def/crs/EPSG/0/4326 2221978 G1 Populated Place 2 2 Sa 5.43442 10.3057 http://www.opengis.net/def/crs/EPSG/0/4326 2221993 G1 Populated Place 2 2 Santa 5.80239 10.1742 http://www.opengis.net/def/crs/EPSG/0/4326 2222221 G1 Populated Place 2 2 Roua 10.7784 13.9832 http://www.opengis.net/def/crs/EPSG/0/4326 2222371 G1 Populated Place 2 2 Rionong 4.71667 11.2 http://www.opengis.net/def/crs/EPSG/0/4326 2222413 G1 Populated Place 2 2 Pomla 10.6111 13.8925 http://www.opengis.net/def/crs/EPSG/0/4326 2222526 G1 Populated Place 2 2 Oving 3.41667 11.7 http://www.opengis.net/def/crs/EPSG/0/4326 2222778 G1 Populated Place 2 2 Oveng 2.33333 11.1333 http://www.opengis.net/def/crs/EPSG/0/4326 2222793 G1 Populated Place 2 2 Oulargo 10.0737 15.019 http://www.opengis.net/def/crs/EPSG/0/4326 2222924 G1 Populated Place 2 1 West Province 5.5 10.5 http://www.opengis.net/def/crs/EPSG/0/4326 2222934 G1 Administrative Region 2 2 Ongolzok 3.5 12.35 http://www.opengis.net/def/crs/EPSG/0/4326 2223125 G1 Populated Place 2 2 Ongol 2.71667 11.4667 http://www.opengis.net/def/crs/EPSG/0/4326 2223128 G1 Populated Place 2 2 Ondondo II 4.31667 11.6 http://www.opengis.net/def/crs/EPSG/0/4326 2223139 G1 Populated Place 2 2 Ondondo I 4.35 11.5833 http://www.opengis.net/def/crs/EPSG/0/4326 2223140 G1 Populated Place 2 2 Omvan 3.83333 11.6833 http://www.opengis.net/def/crs/EPSG/0/4326 2223152 G1 Populated Place 2 2 Olem 2.93333 11.0833 http://www.opengis.net/def/crs/EPSG/0/4326 2223185 G1 Populated Place 2 2 Olang 2.21667 11.1667 http://www.opengis.net/def/crs/EPSG/0/4326 2223189 G1 Populated Place 2 2 Olamze 2.21667 11.0833 http://www.opengis.net/def/crs/EPSG/0/4326 2223191 G1 Populated Place 2 2 Okong 3.83333 11.2667 http://www.opengis.net/def/crs/EPSG/0/4326 2223209 G1 Populated Place 2 2 Oding 2.76667 12.45 http://www.opengis.net/def/crs/EPSG/0/4326 2223261 G1 Populated Place 2 2 Nyemeyong 3.18333 11.3667 http://www.opengis.net/def/crs/EPSG/0/4326 2223353 G1 Populated Place 2 2 Nyazanga 2.83333 12.05 http://www.opengis.net/def/crs/EPSG/0/4326 2223360 G1 Populated Place 2 2 Nyabessan 2.4 10.4 http://www.opengis.net/def/crs/EPSG/0/4326 2223412 G1 Populated Place 2 2 Ntumbaw 6.36667 10.7833 http://www.opengis.net/def/crs/EPSG/0/4326 2223420 G1 Populated Place 2 2 Ntem 4.01667 11.3167 http://www.opengis.net/def/crs/EPSG/0/4326 2223481 G1 Populated Place 2 2 Ntebezok 2.43333 10.4333 http://www.opengis.net/def/crs/EPSG/0/4326 2223485 G1 Populated Place 2 2 Ntang 3.81667 11.25 http://www.opengis.net/def/crs/EPSG/0/4326 2223487 G1 Populated Place 2 2 Nsebito 2.43333 10.4667 http://www.opengis.net/def/crs/EPSG/0/4326 2223548 G1 Populated Place 2 2 Nsassoum 2.5 11.1167 http://www.opengis.net/def/crs/EPSG/0/4326 2223552 G1 Populated Place 2 2 Nsana 2.26667 11.2667 http://www.opengis.net/def/crs/EPSG/0/4326 2223560 G1 Populated Place 2 1 North-West Province 6.33333 10.5 http://www.opengis.net/def/crs/EPSG/0/4326 2223602 G1 Administrative Region 2 1 North Province 8.5 14 http://www.opengis.net/def/crs/EPSG/0/4326 2223603 G1 Administrative Region 2 2 Nlono 2.33333 11.4 http://www.opengis.net/def/crs/EPSG/0/4326 2223634 G1 Populated Place 2 2 Nlongzok 4.38333 11.3167 http://www.opengis.net/def/crs/EPSG/0/4326 2223636 G1 Populated Place 2 2 Nkpwaebae 2.73333 11.4667 http://www.opengis.net/def/crs/EPSG/0/4326 2223664 G1 Populated Place 2 2 Nkoutou 3.11667 10.6167 http://www.opengis.net/def/crs/EPSG/0/4326 2223671 G1 Populated Place 2 2 Nkoumekeke 2.36667 11.2667 http://www.opengis.net/def/crs/EPSG/0/4326 2223696 G1 Populated Place 2 2 Nkotoveng 2.91667 10.9167 http://www.opengis.net/def/crs/EPSG/0/4326 2223730 G1 Populated Place 2 2 Nkoolong 2.55 10.0333 http://www.opengis.net/def/crs/EPSG/0/4326 2223747 G1 Populated Place 2 2 Nkongoa 3.81667 11.6 http://www.opengis.net/def/crs/EPSG/0/4326 2223766 G1 Populated Place 2 2 Nkongmeyos 3.61667 11.3167 http://www.opengis.net/def/crs/EPSG/0/4326 2223775 G1 Populated Place 2 2 Nkongmedjap 2.76667 11.3833 http://www.opengis.net/def/crs/EPSG/0/4326 2223780 G1 Populated Place 2 2 Nkong 2.78333 10.85 http://www.opengis.net/def/crs/EPSG/0/4326 2223799 G1 Populated Place 2 2 Nkomintom 2.8 10.1833 http://www.opengis.net/def/crs/EPSG/0/4326 2223819 G1 Populated Place 2 2 Nko Melen 2.6 11.05 http://www.opengis.net/def/crs/EPSG/0/4326 2223834 G1 Populated Place 2 2 Nkolondogo 4.23333 11.5333 http://www.opengis.net/def/crs/EPSG/0/4326 2223878 G1 Populated Place 2 2 Nkolo 3.23333 10.25 http://www.opengis.net/def/crs/EPSG/0/4326 2223890 G1 Populated Place 2 2 Nkolmbomo 4.41667 14.3 http://www.opengis.net/def/crs/EPSG/0/4326 2223963 G1 Populated Place 2 2 Nkolesas 3.25 12.0667 http://www.opengis.net/def/crs/EPSG/0/4326 2223990 G1 Populated Place 2 2 Nkolenieng 2.43333 10.0167 http://www.opengis.net/def/crs/EPSG/0/4326 2223997 G1 Populated Place 2 2 Nkolebom 3.06667 12.0167 http://www.opengis.net/def/crs/EPSG/0/4326 2224017 G1 Populated Place 2 2 Nkoleban 2.7 11.55 http://www.opengis.net/def/crs/EPSG/0/4326 2224023 G1 Populated Place 2 2 Nkan 2.93333 11.2167 http://www.opengis.net/def/crs/EPSG/0/4326 2224161 G1 Populated Place 2 2 Ninong 5.18517 9.79764 http://www.opengis.net/def/crs/EPSG/0/4326 2224282 G1 Populated Place 2 2 Ngong 4.08333 11.3833 http://www.opengis.net/def/crs/EPSG/0/4326 2224610 G1 Populated Place 2 2 Ngong 3.75 10.9833 http://www.opengis.net/def/crs/EPSG/0/4326 2224611 G1 Populated Place 2 2 Ngomedjap 3.33333 11.9167 http://www.opengis.net/def/crs/EPSG/0/4326 2224642 G1 Populated Place 2 2 Ngom 2.55 11.3 http://www.opengis.net/def/crs/EPSG/0/4326 2224658 G1 Populated Place 2 2 Ngoazik 2.28333 11.3333 http://www.opengis.net/def/crs/EPSG/0/4326 2224711 G1 Populated Place 2 2 Ngaleu 5.10707 10.1629 http://www.opengis.net/def/crs/EPSG/0/4326 2224886 G1 Populated Place 2 2 Ngalan 2.93333 11.1167 http://www.opengis.net/def/crs/EPSG/0/4326 2224895 G1 Populated Place 2 2 Nemeyong 2.98333 11.6333 http://www.opengis.net/def/crs/EPSG/0/4326 2224937 G1 Populated Place 2 2 Ndoumnken 5.65512 10.5622 http://www.opengis.net/def/crs/EPSG/0/4326 2225008 G1 Populated Place 2 2 Ndoumba 4.98333 12.7667 http://www.opengis.net/def/crs/EPSG/0/4326 2225018 G1 Populated Place 2 2 Andek 5.97641 9.83114 http://www.opengis.net/def/crs/EPSG/0/4326 2225328 G1 Populated Place 2 2 Nasarao 9.9 13.5833 http://www.opengis.net/def/crs/EPSG/0/4326 2225431 G1 Populated Place 2 2 Mvoula 2.85 11.1833 http://www.opengis.net/def/crs/EPSG/0/4326 2225641 G1 Populated Place 2 2 Mviglimengale 2.4 10.5333 http://www.opengis.net/def/crs/EPSG/0/4326 2225682 G1 Populated Place 2 2 Mvangane 2.65602 11.7403 http://www.opengis.net/def/crs/EPSG/0/4326 2225704 G1 Populated Place 2 2 Mvam 2.86667 11.15 http://www.opengis.net/def/crs/EPSG/0/4326 2225718 G1 Populated Place 2 2 Mvam 2.73333 11.0667 http://www.opengis.net/def/crs/EPSG/0/4326 2225719 G1 Populated Place 2 2 Mondoni 4.1883 9.4719 http://www.opengis.net/def/crs/EPSG/0/4326 2226087 G1 Populated Place 2 1 Momo Division 6 10.25 http://www.opengis.net/def/crs/EPSG/0/4326 2226140 G1 Administrative Region 2 2 Minyin 2.38333 11.3167 http://www.opengis.net/def/crs/EPSG/0/4326 2226481 G1 Populated Place 2 2 Minta 4.58333 12.8 http://www.opengis.net/def/crs/EPSG/0/4326 2226515 G1 Populated Place 2 2 Minlaba 3.16667 11.35 http://www.opengis.net/def/crs/EPSG/0/4326 2226545 G1 Populated Place 2 2 Minkwamoveng 2.95 11.85 http://www.opengis.net/def/crs/EPSG/0/4326 2226547 G1 Populated Place 2 2 Minkpwele 2.86667 11.45 http://www.opengis.net/def/crs/EPSG/0/4326 2226548 G1 Populated Place 2 2 Minkan-Mengale 2.48333 10.75 http://www.opengis.net/def/crs/EPSG/0/4326 2226580 G1 Populated Place 2 2 Minkan II 3.33333 10.9 http://www.opengis.net/def/crs/EPSG/0/4326 2226581 G1 Populated Place 2 2 Minkama 4.18333 11.5833 http://www.opengis.net/def/crs/EPSG/0/4326 2226590 G1 Populated Place 2 2 Mimbo 2.98333 11.9667 http://www.opengis.net/def/crs/EPSG/0/4326 2226666 G1 Populated Place 2 2 Mimbaminga 2.23333 11.2 http://www.opengis.net/def/crs/EPSG/0/4326 2226676 G1 Populated Place 2 2 Mfida 3.2 11.4 http://www.opengis.net/def/crs/EPSG/0/4326 2226803 G1 Populated Place 2 1 Mezam Division 6 10.4167 http://www.opengis.net/def/crs/EPSG/0/4326 2226830 G1 Administrative Region 2 2 Meyos 4.13333 11.1333 http://www.opengis.net/def/crs/EPSG/0/4326 2226843 G1 Populated Place 2 2 Meyo-Nyaka 2.3 11.3 http://www.opengis.net/def/crs/EPSG/0/4326 2226851 G1 Populated Place 2 2 Meyo-Elie 2.41667 11.25 http://www.opengis.net/def/crs/EPSG/0/4326 2226857 G1 Populated Place 2 2 Meyo-Centre 2.55 11.0333 http://www.opengis.net/def/crs/EPSG/0/4326 2226858 G1 Populated Place 2 2 Meyiboto 3.13333 11.8167 http://www.opengis.net/def/crs/EPSG/0/4326 2226870 G1 Populated Place 2 2 Metiykpwale 2.85 11.5 http://www.opengis.net/def/crs/EPSG/0/4326 2226929 G1 Populated Place 2 1 Departement de la Menoua 5.45 10.0667 http://www.opengis.net/def/crs/EPSG/0/4326 2227064 G1 Administrative Region 2 2 Menka 5.99129 9.71441 http://www.opengis.net/def/crs/EPSG/0/4326 2227068 G1 Populated Place 2 2 Mengomo 2.56667 11.0333 http://www.opengis.net/def/crs/EPSG/0/4326 2227099 G1 Populated Place 2 2 Mengale 3.1 10.8667 http://www.opengis.net/def/crs/EPSG/0/4326 2227134 G1 Populated Place 2 2 Mendong 2.25 11.2667 http://www.opengis.net/def/crs/EPSG/0/4326 2227151 G1 Populated Place 2 2 Melen 4.3 11.3167 http://www.opengis.net/def/crs/EPSG/0/4326 2227262 G1 Populated Place 2 2 Melen 3.08333 11.9333 http://www.opengis.net/def/crs/EPSG/0/4326 2227270 G1 Populated Place 2 2 Melange 3.18333 10.8333 http://www.opengis.net/def/crs/EPSG/0/4326 2227288 G1 Populated Place 2 2 Melan 3.76667 12.2833 http://www.opengis.net/def/crs/EPSG/0/4326 2227291 G1 Populated Place 2 2 Mekomo 2.63333 11.3667 http://www.opengis.net/def/crs/EPSG/0/4326 2227321 G1 Populated Place 2 2 Mekomengona 2.25 11.1833 http://www.opengis.net/def/crs/EPSG/0/4326 2227325 G1 Populated Place 2 2 Mekomengon 2.46667 10.7333 http://www.opengis.net/def/crs/EPSG/0/4326 2227326 G1 Populated Place 2 2 Mekok 2.58333 11.4667 http://www.opengis.net/def/crs/EPSG/0/4326 2227343 G1 Populated Place 2 2 Mekoassi 2.21667 11.1167 http://www.opengis.net/def/crs/EPSG/0/4326 2227348 G1 Populated Place 2 2 Mekoa 2.96667 10.7167 http://www.opengis.net/def/crs/EPSG/0/4326 2227350 G1 Populated Place 2 2 Mekaman 2.38333 11.3 http://www.opengis.net/def/crs/EPSG/0/4326 2227376 G1 Populated Place 2 2 Megang 5.5 12.3833 http://www.opengis.net/def/crs/EPSG/0/4326 2227413 G1 Populated Place 2 2 Mefoup 2.68333 11.0667 http://www.opengis.net/def/crs/EPSG/0/4326 2227417 G1 Populated Place 2 2 Mefou 3.7 11.5667 http://www.opengis.net/def/crs/EPSG/0/4326 2227422 G1 Populated Place 2 2 Mefet 5.48543 10.0397 http://www.opengis.net/def/crs/EPSG/0/4326 2227428 G1 Populated Place 2 2 Medji-Ossi 2.2 11.2 http://www.opengis.net/def/crs/EPSG/0/4326 2227455 G1 Populated Place 2 2 Meboo 2.63333 11.7333 http://www.opengis.net/def/crs/EPSG/0/4326 2227486 G1 Populated Place 2 2 Mbout 2.73333 11.0833 http://www.opengis.net/def/crs/EPSG/0/4326 2227571 G1 Populated Place 2 2 Mbouda 5.62578 10.2552 http://www.opengis.net/def/crs/EPSG/0/4326 2227613 G1 Populated Place 2 2 Mbenge 3.65 10.4167 http://www.opengis.net/def/crs/EPSG/0/4326 2227858 G1 Populated Place 2 2 Mbemang 2.73333 11.4333 http://www.opengis.net/def/crs/EPSG/0/4326 2227884 G1 Populated Place 2 2 Mbargue 4.9 13.0833 http://www.opengis.net/def/crs/EPSG/0/4326 2227957 G1 Populated Place 2 2 Mbangasina 4.56667 11.3833 http://www.opengis.net/def/crs/EPSG/0/4326 2227999 G1 Populated Place 2 2 Mbanga 4.5016 9.5671 http://www.opengis.net/def/crs/EPSG/0/4326 2228005 G1 Populated Place 2 2 Mavoumay 10.7617 13.7548 http://www.opengis.net/def/crs/EPSG/0/4326 2228253 G1 Populated Place 2 2 Matamaya 10.9071 13.9197 http://www.opengis.net/def/crs/EPSG/0/4326 2228295 G1 Populated Place 2 2 Massangam 5.41667 10.9667 http://www.opengis.net/def/crs/EPSG/0/4326 2228323 G1 Populated Place 2 2 Mantoum Palais 5.6 11.15 http://www.opengis.net/def/crs/EPSG/0/4326 2228451 G1 Populated Place 2 2 Mankoumvi 5.88333 11.1167 http://www.opengis.net/def/crs/EPSG/0/4326 2228483 G1 Populated Place 2 2 Mang 2.91667 12.0167 http://www.opengis.net/def/crs/EPSG/0/4326 2228564 G1 Populated Place 2 2 Mameniye 2.73333 11.4333 http://www.opengis.net/def/crs/EPSG/0/4326 2228678 G1 Populated Place 2 2 Mamba 4.16667 10.0833 http://www.opengis.net/def/crs/EPSG/0/4326 2228704 G1 Populated Place 2 2 Makoutem 5.75 11.0333 http://www.opengis.net/def/crs/EPSG/0/4326 2228829 G1 Populated Place 2 2 Mogoumaz 10.8278 13.7543 http://www.opengis.net/def/crs/EPSG/0/4326 2228957 G1 Populated Place 2 2 Maan 2.35 10.6167 http://www.opengis.net/def/crs/EPSG/0/4326 2229107 G1 Populated Place 2 2 Loubour 10.4401 14.3509 http://www.opengis.net/def/crs/EPSG/0/4326 2229199 G1 Populated Place 2 2 Lobe 2.66667 11.6 http://www.opengis.net/def/crs/EPSG/0/4326 2229323 G1 Populated Place 2 1 Littoral Province 4 10 http://www.opengis.net/def/crs/EPSG/0/4326 2229336 G1 Administrative Region 2 1 Departement de la Lekie 4.2 11.4 http://www.opengis.net/def/crs/EPSG/0/4326 2229546 G1 Administrative Region 2 2 Lara 10.1782 14.5101 http://www.opengis.net/def/crs/EPSG/0/4326 2229605 G1 Populated Place 2 2 Nkourom 5.76375 10.6962 http://www.opengis.net/def/crs/EPSG/0/4326 2229809 G1 Populated Place 2 2 Chwinou 5.0387 10.095 http://www.opengis.net/def/crs/EPSG/0/4326 2229832 G1 Populated Place 2 2 Koukounou 3.96667 11.6667 http://www.opengis.net/def/crs/EPSG/0/4326 2229917 G1 Populated Place 2 2 Koubout 9.93333 13.7667 http://www.opengis.net/def/crs/EPSG/0/4326 2229948 G1 Populated Place 2 2 Korake 9.9 13.8167 http://www.opengis.net/def/crs/EPSG/0/4326 2230013 G1 Populated Place 2 2 Kongron 8.7565 14.1628 http://www.opengis.net/def/crs/EPSG/0/4326 2230045 G1 Populated Place 2 2 Kong Kong 10.0472 14.1796 http://www.opengis.net/def/crs/EPSG/0/4326 2230061 G1 Populated Place 2 2 Kone 8.83333 13.2833 http://www.opengis.net/def/crs/EPSG/0/4326 2230075 G1 Populated Place 2 2 Kombe 4.66667 11.3 http://www.opengis.net/def/crs/EPSG/0/4326 2230140 G1 Populated Place 2 2 Komako 5.04107 10.1398 http://www.opengis.net/def/crs/EPSG/0/4326 2230147 G1 Populated Place 2 2 Kan 4.08333 10.6667 http://www.opengis.net/def/crs/EPSG/0/4326 2230506 G1 Populated Place 2 2 Kali 8.3833 14.3423 http://www.opengis.net/def/crs/EPSG/0/4326 2230547 G1 Populated Place 2 2 Kaele 10.1092 14.4508 http://www.opengis.net/def/crs/EPSG/0/4326 2230599 G1 Populated Place 2 2 Horlong 10.2188 14.6506 http://www.opengis.net/def/crs/EPSG/0/4326 2230765 G1 Populated Place 2 1 Departement du Haut-Nkam 5.15 10.1833 http://www.opengis.net/def/crs/EPSG/0/4326 2230816 G1 Administrative Region 2 2 Gueme 10.5039 15.1766 http://www.opengis.net/def/crs/EPSG/0/4326 2230891 G1 Populated Place 2 2 Gousda 10.8465 13.8171 http://www.opengis.net/def/crs/EPSG/0/4326 2230932 G1 Populated Place 2 2 Ngonle 5.56028 10.4226 http://www.opengis.net/def/crs/EPSG/0/4326 2230954 G1 Populated Place 2 2 Golombe 9.65 13.8667 http://www.opengis.net/def/crs/EPSG/0/4326 2231115 G1 Populated Place 2 2 Gazawa 10.5308 14.1404 http://www.opengis.net/def/crs/EPSG/0/4326 2231291 G1 Populated Place 2 2 Gaboua 10.9173 13.9773 http://www.opengis.net/def/crs/EPSG/0/4326 2231464 G1 Populated Place 2 2 Gabarey Merengue 10.4959 15.0761 http://www.opengis.net/def/crs/EPSG/0/4326 2231466 G1 Populated Place 2 2 Gaba 8.3824 14.3701 http://www.opengis.net/def/crs/EPSG/0/4326 2231474 G1 Populated Place 2 2 Mfeyet 5.84317 10.8855 http://www.opengis.net/def/crs/EPSG/0/4326 2231489 G1 Populated Place 2 2 Foto 5.45878 10.0623 http://www.opengis.net/def/crs/EPSG/0/4326 2231538 G1 Populated Place 2 2 Fongoh Deng 5.43333 9.96667 http://www.opengis.net/def/crs/EPSG/0/4326 2231574 G1 Populated Place 2 2 Fondonera 5.38511 9.97081 http://www.opengis.net/def/crs/EPSG/0/4326 2231575 G1 Populated Place 2 2 Fondjanti 5.06327 10.2059 http://www.opengis.net/def/crs/EPSG/0/4326 2231580 G1 Populated Place 2 2 Fomessa I 5.06948 10.0653 http://www.opengis.net/def/crs/EPSG/0/4326 2231588 G1 Populated Place 2 2 Folefok 5.38333 10.1333 http://www.opengis.net/def/crs/EPSG/0/4326 2231608 G1 Populated Place 2 2 Fang 3.73333 12.5833 http://www.opengis.net/def/crs/EPSG/0/4326 2231695 G1 Populated Place 2 2 Eyiantoum 2.23333 11.1333 http://www.opengis.net/def/crs/EPSG/0/4326 2231741 G1 Populated Place 2 2 Eyene 4.43333 11.3833 http://www.opengis.net/def/crs/EPSG/0/4326 2231745 G1 Populated Place 2 1 Far North Province 11 14.5 http://www.opengis.net/def/crs/EPSG/0/4326 2231755 G1 Administrative Region 2 2 Evindisi 3.43333 11.4 http://www.opengis.net/def/crs/EPSG/0/4326 2231777 G1 Populated Place 2 2 esam 2.98333 12.15 http://www.opengis.net/def/crs/EPSG/0/4326 2231892 G1 Populated Place 2 2 Endom 4.1 12.5333 http://www.opengis.net/def/crs/EPSG/0/4326 2231949 G1 Populated Place 2 2 Eminemvon 2.96667 11.7833 http://www.opengis.net/def/crs/EPSG/0/4326 2231979 G1 Populated Place 2 2 Elon 2.65 11.6167 http://www.opengis.net/def/crs/EPSG/0/4326 2232014 G1 Populated Place 2 2 Ekoumeyen 3.81667 11.7333 http://www.opengis.net/def/crs/EPSG/0/4326 2232069 G1 Populated Place 2 2 Ekoumdoum 3.81667 11.5333 http://www.opengis.net/def/crs/EPSG/0/4326 2232077 G1 Populated Place 2 2 ekoumdoum 3.63333 12.15 http://www.opengis.net/def/crs/EPSG/0/4326 2232078 G1 Populated Place 2 2 Ekouk 2.91667 11.3333 http://www.opengis.net/def/crs/EPSG/0/4326 2232082 G1 Populated Place 2 2 Ekok I 3.68333 11.6 http://www.opengis.net/def/crs/EPSG/0/4326 2232138 G1 Populated Place 2 2 ebolakoun 3.23333 12.2167 http://www.opengis.net/def/crs/EPSG/0/4326 2232296 G1 Populated Place 2 2 Ebengon 2.23333 11.2 http://www.opengis.net/def/crs/EPSG/0/4326 2232333 G1 Populated Place 2 2 Dzing 3.75 11.9 http://www.opengis.net/def/crs/EPSG/0/4326 2232403 G1 Populated Place 2 2 Dziguilao 10.0161 14.7918 http://www.opengis.net/def/crs/EPSG/0/4326 2232408 G1 Populated Place 2 2 Dounibazok 2.73333 11.4167 http://www.opengis.net/def/crs/EPSG/0/4326 2232473 G1 Populated Place 2 2 Djougui 10.0153 14.1144 http://www.opengis.net/def/crs/EPSG/0/4326 2232727 G1 Populated Place 2 2 Daram 10.3614 14.7644 http://www.opengis.net/def/crs/EPSG/0/4326 2233229 G1 Populated Place 2 2 Dangabissi 10.1666 15.3142 http://www.opengis.net/def/crs/EPSG/0/4326 2233251 G1 Populated Place 2 2 Dana 10.2362 15.295 http://www.opengis.net/def/crs/EPSG/0/4326 2233268 G1 Populated Place 2 1 Centre Province 4.75 12 http://www.opengis.net/def/crs/EPSG/0/4326 2233376 G1 Administrative Region 2 2 Boumnkok 3.48333 11.1333 http://www.opengis.net/def/crs/EPSG/0/4326 2233488 G1 Populated Place 2 2 Boudva 10.0134 14.1656 http://www.opengis.net/def/crs/EPSG/0/4326 2233557 G1 Populated Place 2 2 Bossoum 9.9425 13.6975 http://www.opengis.net/def/crs/EPSG/0/4326 2233594 G1 Populated Place 2 2 Boboyo 10.1526 14.4045 http://www.opengis.net/def/crs/EPSG/0/4326 2233833 G1 Populated Place 2 2 Biyi 2.21667 11.05 http://www.opengis.net/def/crs/EPSG/0/4326 2233882 G1 Populated Place 2 2 Biyan 3.7 11.4167 http://www.opengis.net/def/crs/EPSG/0/4326 2233889 G1 Populated Place 2 2 Biwong 2.76667 11.35 http://www.opengis.net/def/crs/EPSG/0/4326 2233896 G1 Populated Place 2 2 Bitoto 2.38333 10.6667 http://www.opengis.net/def/crs/EPSG/0/4326 2233923 G1 Populated Place 2 2 Bikpwae 2.66667 11.3167 http://www.opengis.net/def/crs/EPSG/0/4326 2234131 G1 Populated Place 2 2 Bikong 2.61667 11.75 http://www.opengis.net/def/crs/EPSG/0/4326 2234150 G1 Populated Place 2 2 Bikogo 4.15 11.3167 http://www.opengis.net/def/crs/EPSG/0/4326 2234162 G1 Populated Place 2 2 Bidjap 2.41667 10.7 http://www.opengis.net/def/crs/EPSG/0/4326 2234239 G1 Populated Place 2 2 Biba 3.56667 11.9833 http://www.opengis.net/def/crs/EPSG/0/4326 2234287 G1 Populated Place 2 2 Biamo 4.76667 11.2167 http://www.opengis.net/def/crs/EPSG/0/4326 2234308 G1 Populated Place 2 2 Betani 3.61667 12.8667 http://www.opengis.net/def/crs/EPSG/0/4326 2234343 G1 Populated Place 2 2 Bella 3.25 10.2 http://www.opengis.net/def/crs/EPSG/0/4326 2234459 G1 Populated Place 2 2 Bekondo 4.6819 9.3214 http://www.opengis.net/def/crs/EPSG/0/4326 2234545 G1 Populated Place 2 2 Batounda 5.56823 10.3235 http://www.opengis.net/def/crs/EPSG/0/4326 2234667 G1 Populated Place 2 2 Batoufam 5.26461 10.4695 http://www.opengis.net/def/crs/EPSG/0/4326 2234669 G1 Populated Place 2 2 Bataol 9.9478 14.1614 http://www.opengis.net/def/crs/EPSG/0/4326 2234703 G1 Populated Place 2 2 Barlang 10.0599 14.8523 http://www.opengis.net/def/crs/EPSG/0/4326 2234744 G1 Populated Place 2 2 Bao 10.8022 13.923 http://www.opengis.net/def/crs/EPSG/0/4326 2234791 G1 Populated Place 2 2 Bangseng 4.4184 9.7755 http://www.opengis.net/def/crs/EPSG/0/4326 2234830 G1 Populated Place 2 2 Bangola 5.94913 10.6247 http://www.opengis.net/def/crs/EPSG/0/4326 2234843 G1 Populated Place 2 2 Bangana 10.201 15.3197 http://www.opengis.net/def/crs/EPSG/0/4326 2234870 G1 Populated Place 2 2 Bangambi 5.83333 10.7396 http://www.opengis.net/def/crs/EPSG/0/4326 2234872 G1 Populated Place 2 2 Bang 4.25 10.2833 http://www.opengis.net/def/crs/EPSG/0/4326 2234886 G1 Populated Place 2 2 Bandoumkassa 5.12568 10.2759 http://www.opengis.net/def/crs/EPSG/0/4326 2234898 G1 Populated Place 2 2 Bamumkumbit 5.81667 10.4167 http://www.opengis.net/def/crs/EPSG/0/4326 2234945 G1 Populated Place 2 2 Bamessingoe 5.65456 10.2376 http://www.opengis.net/def/crs/EPSG/0/4326 2234962 G1 Populated Place 2 2 Bamenyam 5.75 10.3167 http://www.opengis.net/def/crs/EPSG/0/4326 2234964 G1 Populated Place 2 2 Bamenkombo 5.61953 10.3216 http://www.opengis.net/def/crs/EPSG/0/4326 2234965 G1 Populated Place 2 2 Bamendjo 5.55597 10.2787 http://www.opengis.net/def/crs/EPSG/0/4326 2234966 G1 Populated Place 2 2 Bamendjou 5.38875 10.3316 http://www.opengis.net/def/crs/EPSG/0/4326 2234968 G1 Populated Place 2 2 Bamendjing 5.70895 10.4802 http://www.opengis.net/def/crs/EPSG/0/4326 2234971 G1 Populated Place 2 1 Departement de Bamboutos 5.63333 10.25 http://www.opengis.net/def/crs/EPSG/0/4326 2234988 G1 Administrative Region 2 2 Bamali 5.94669 10.4421 http://www.opengis.net/def/crs/EPSG/0/4326 2234999 G1 Populated Place 2 2 Balengou 5.12049 10.4609 http://www.opengis.net/def/crs/EPSG/0/4326 2235041 G1 Populated Place 2 2 Balatchi 5.62451 10.1672 http://www.opengis.net/def/crs/EPSG/0/4326 2235060 G1 Populated Place 2 2 Bafut 6.08333 10.1 http://www.opengis.net/def/crs/EPSG/0/4326 2235186 G1 Populated Place 2 2 Bafou 5.46723 10.1136 http://www.opengis.net/def/crs/EPSG/0/4326 2235191 G1 Populated Place 2 2 Bafanji 5.84309 10.4041 http://www.opengis.net/def/crs/EPSG/0/4326 2235195 G1 Populated Place 2 2 Bafang 5.15625 10.1788 http://www.opengis.net/def/crs/EPSG/0/4326 2235196 G1 Populated Place 2 2 Baboutcha 5.16667 10.1667 http://www.opengis.net/def/crs/EPSG/0/4326 2235260 G1 Populated Place 2 2 Boutcheu 5.11747 10.1691 http://www.opengis.net/def/crs/EPSG/0/4326 2235261 G1 Populated Place 2 2 Babwantou 5.21209 10.2981 http://www.opengis.net/def/crs/EPSG/0/4326 2235266 G1 Populated Place 2 2 Baboate 5.2 10.1667 http://www.opengis.net/def/crs/EPSG/0/4326 2235277 G1 Populated Place 2 2 Babadjou 5.66943 10.1934 http://www.opengis.net/def/crs/EPSG/0/4326 2235299 G1 Populated Place 2 2 Asseng 2.41667 10.5333 http://www.opengis.net/def/crs/EPSG/0/4326 2235452 G1 Populated Place 2 2 Assandjik 2.38333 11.35 http://www.opengis.net/def/crs/EPSG/0/4326 2235454 G1 Populated Place 2 2 Asala II 4.61667 11.2333 http://www.opengis.net/def/crs/EPSG/0/4326 2235484 G1 Populated Place 2 2 Anmvam 2.66667 12.8167 http://www.opengis.net/def/crs/EPSG/0/4326 2235536 G1 Populated Place 2 2 Andoung 2.46667 12.35 http://www.opengis.net/def/crs/EPSG/0/4326 2235569 G1 Populated Place 2 2 Andom 3.13333 12.3167 http://www.opengis.net/def/crs/EPSG/0/4326 2235577 G1 Populated Place 2 2 Ambam 2.38333 11.2833 http://www.opengis.net/def/crs/EPSG/0/4326 2235660 G1 Populated Place 2 2 Aloum 2.96667 10.95 http://www.opengis.net/def/crs/EPSG/0/4326 2235688 G1 Populated Place 2 2 Alotome 2.65 11.6833 http://www.opengis.net/def/crs/EPSG/0/4326 2235694 G1 Populated Place 2 2 Alen 3.6 11.4333 http://www.opengis.net/def/crs/EPSG/0/4326 2235710 G1 Populated Place 2 2 Akwato 6.63333 10.6 http://www.opengis.net/def/crs/EPSG/0/4326 2235743 G1 Populated Place 2 2 Akpwak 2.68333 11.5833 http://www.opengis.net/def/crs/EPSG/0/4326 2235750 G1 Populated Place 2 2 Akoulouzok 2.38333 11.2833 http://www.opengis.net/def/crs/EPSG/0/4326 2235764 G1 Populated Place 2 2 Akonetye 2.66667 12.8667 http://www.opengis.net/def/crs/EPSG/0/4326 2235785 G1 Populated Place 2 2 Akonangui 2.2 11.35 http://www.opengis.net/def/crs/EPSG/0/4326 2235789 G1 Populated Place 2 2 Akom Bong 2.18333 11.35 http://www.opengis.net/def/crs/EPSG/0/4326 2235801 G1 Populated Place 2 2 Akom 3.16667 11.5167 http://www.opengis.net/def/crs/EPSG/0/4326 2235808 G1 Populated Place 2 2 Akina 2.5 11.0667 http://www.opengis.net/def/crs/EPSG/0/4326 2235851 G1 Populated Place 2 2 Akak-Metom 2.5 11.1 http://www.opengis.net/def/crs/EPSG/0/4326 2235878 G1 Populated Place 2 2 Afan 3.86667 11.65 http://www.opengis.net/def/crs/EPSG/0/4326 2235941 G1 Populated Place 2 2 Adjap 2.81667 10.2 http://www.opengis.net/def/crs/EPSG/0/4326 2235991 G1 Populated Place 2 2 About 2.9 11.2167 http://www.opengis.net/def/crs/EPSG/0/4326 2236027 G1 Populated Place 2 2 Abiete 2.91667 10.5 http://www.opengis.net/def/crs/EPSG/0/4326 2236079 G1 Populated Place 2 2 Abendoman 2.53333 11.5667 http://www.opengis.net/def/crs/EPSG/0/4326 2236095 G1 Populated Place 2 2 Abem 3.7 12.3 http://www.opengis.net/def/crs/EPSG/0/4326 2236100 G1 Populated Place 2 2 Abang-Minko 2.33333 11.4333 http://www.opengis.net/def/crs/EPSG/0/4326 2236121 G1 Populated Place 2 2 Abang 2.46667 11.65 http://www.opengis.net/def/crs/EPSG/0/4326 2236138 G1 Populated Place 2 2 Bokwango 4.1349 9.222 http://www.opengis.net/def/crs/EPSG/0/4326 2594789 G1 Populated Place 2 2 Dikome 4.4873 9.0058 http://www.opengis.net/def/crs/EPSG/0/4326 2594830 G1 Populated Place 2 2 Bodjongo 4.0863 9.6208 http://www.opengis.net/def/crs/EPSG/0/4326 2594911 G1 Populated Place 2 2 Mbenbou 3.77083 9.87528 http://www.opengis.net/def/crs/EPSG/0/4326 2595271 G1 Populated Place 2 2 Wambatche 11.2742 14.2496 http://www.opengis.net/def/crs/EPSG/0/4326 6685558 G1 Populated Place 2 2 Aissa Karde 11.0917 14.2287 http://www.opengis.net/def/crs/EPSG/0/4326 6685572 G1 Populated Place 2 2 Mokoujek 10.7341 14.0737 http://www.opengis.net/def/crs/EPSG/0/4326 6729439 G1 Populated Place 2 2 Manguirda 10.7042 14.0705 http://www.opengis.net/def/crs/EPSG/0/4326 6729446 G1 Populated Place 2 2 Karba 10.0432 14.1529 http://www.opengis.net/def/crs/EPSG/0/4326 6730082 G1 Populated Place 2 2 Golvong 10.0359 14.0215 http://www.opengis.net/def/crs/EPSG/0/4326 6730085 G1 Populated Place 2 2 Houmbal 10.0686 14.1031 http://www.opengis.net/def/crs/EPSG/0/4326 6730088 G1 Populated Place 2 2 Douva 10.083 14.1214 http://www.opengis.net/def/crs/EPSG/0/4326 6730093 G1 Populated Place 2 2 Guidi 10.0952 14.1008 http://www.opengis.net/def/crs/EPSG/0/4326 6730094 G1 Populated Place 2 2 Dahal 10.0661 14.1795 http://www.opengis.net/def/crs/EPSG/0/4326 6730298 G1 Populated Place 2 2 Gandama 10.5472 14.7005 http://www.opengis.net/def/crs/EPSG/0/4326 6730704 G1 Populated Place 2 2 Mandjakma 10.0133 14.9034 http://www.opengis.net/def/crs/EPSG/0/4326 6730818 G1 Populated Place 2 2 Kabla 10.2799 14.8537 http://www.opengis.net/def/crs/EPSG/0/4326 6731524 G1 Populated Place 2 2 Bouzou 10.2181 14.6238 http://www.opengis.net/def/crs/EPSG/0/4326 6731546 G1 Populated Place 2 2 Mandaigoum 10.0744 14.7627 http://www.opengis.net/def/crs/EPSG/0/4326 6731589 G1 Populated Place 2 2 Dadjamka 10.021 14.8831 http://www.opengis.net/def/crs/EPSG/0/4326 6731608 G1 Populated Place 2 2 Djaolani 10.0423 14.9032 http://www.opengis.net/def/crs/EPSG/0/4326 6731613 G1 Populated Place 2 2 Danki 10.8076 14.6385 http://www.opengis.net/def/crs/EPSG/0/4326 6732077 G1 Populated Place 2 2 Goudougoul 10.0152 13.9709 http://www.opengis.net/def/crs/EPSG/0/4326 6759947 G1 Populated Place 2 2 Ngaiwa 12.5008 14.3933 http://www.opengis.net/def/crs/EPSG/0/4326 6783157 G1 Populated Place 2 2 Modele 6.35421 9.96836 http://www.opengis.net/def/crs/EPSG/0/4326 6855335 G1 Populated Place 2 2 Menda 5.9129 9.605 http://www.opengis.net/def/crs/EPSG/0/4326 6857883 G1 Populated Place 2 2 Kai 5.9346 9.9313 http://www.opengis.net/def/crs/EPSG/0/4326 6857914 G1 Populated Place 2 2 Fongwang 5.3112 9.9619 http://www.opengis.net/def/crs/EPSG/0/4326 6858286 G1 Populated Place 2 2 Barumbe 5.5321 9.5828 http://www.opengis.net/def/crs/EPSG/0/4326 6858383 G1 Populated Place 2 2 Guebadje 9.227 14.3338 http://www.opengis.net/def/crs/EPSG/0/4326 6869483 G1 Populated Place 2 2 Mbo 7.6673 15.5699 http://www.opengis.net/def/crs/EPSG/0/4326 6870302 G1 Populated Place 2 2 Nkwen 5.99352 10.1944 http://www.opengis.net/def/crs/EPSG/0/4326 7108018 G1 Populated Place 2 2 Bamunka 5.97433 10.4604 http://www.opengis.net/def/crs/EPSG/0/4326 7108299 G1 Populated Place 2 2 Djeu 5.544 10.0151 http://www.opengis.net/def/crs/EPSG/0/4326 7108923 G1 Populated Place 2 2 Fossimondi 5.6525 10.012 http://www.opengis.net/def/crs/EPSG/0/4326 7108926 G1 Populated Place 2 2 Bassouka 5.56387 10.1442 http://www.opengis.net/def/crs/EPSG/0/4326 7109021 G1 Populated Place 2 2 Touleteng 5.49822 10.2086 http://www.opengis.net/def/crs/EPSG/0/4326 7109024 G1 Populated Place 2 2 Bawa 5.65743 10.2185 http://www.opengis.net/def/crs/EPSG/0/4326 7109041 G1 Populated Place 2 2 Buchi 5.7855 10.1075 http://www.opengis.net/def/crs/EPSG/0/4326 7109046 G1 Populated Place 2 2 Bapou 5.16852 10.2947 http://www.opengis.net/def/crs/EPSG/0/4326 7109097 G1 Populated Place 2 2 Bangou 5.25097 10.4002 http://www.opengis.net/def/crs/EPSG/0/4326 7109179 G1 Populated Place 2 2 Tsela 5.38617 10.3848 http://www.opengis.net/def/crs/EPSG/0/4326 7109612 G1 Populated Place 2 2 Banok 5.61151 10.2775 http://www.opengis.net/def/crs/EPSG/0/4326 7109648 G1 Populated Place 2 2 Bafomgba 5.67811 10.2364 http://www.opengis.net/def/crs/EPSG/0/4326 7109650 G1 Populated Place 2 2 Bali Gha 5.75155 10.2669 http://www.opengis.net/def/crs/EPSG/0/4326 7109655 G1 Populated Place 2 2 Toula 5.27427 10.4762 http://www.opengis.net/def/crs/EPSG/0/4326 7109679 G1 Populated Place 2 2 Domlo 5.38618 10.4556 http://www.opengis.net/def/crs/EPSG/0/4326 7109737 G1 Populated Place 2 2 Famitchuet 5.50336 10.4768 http://www.opengis.net/def/crs/EPSG/0/4326 7109757 G1 Populated Place 2 2 Ngossong 5.65759 10.4043 http://www.opengis.net/def/crs/EPSG/0/4326 7109771 G1 Populated Place 2 2 Ngambouo 5.65839 10.5184 http://www.opengis.net/def/crs/EPSG/0/4326 7110449 G1 Populated Place 2 1 Nyong-et-So'o 3.51667 11.5 http://www.opengis.net/def/crs/EPSG/0/4326 7731689 G1 Administrative Region 2 1 Mefou-et-Afamba 3.96 11.93 http://www.opengis.net/def/crs/EPSG/0/4326 7731690 G1 Administrative Region 2 2 Mankwi 6.0851 10.0816 http://www.opengis.net/def/crs/EPSG/0/4326 7731835 G1 Populated Place 2 2 Bani 5.38531 10.186 http://www.opengis.net/def/crs/EPSG/0/4326 7732188 G1 Populated Place 2 2 Ndazeng 2.5313 10.9317 http://www.opengis.net/def/crs/EPSG/0/4326 7732213 G1 Populated Place 2 true en please refer to the appraisal report below iati/afdb-cameroon.xml 2016-05-25T23:09:04 2.01 46002 40 African Development Bank Group 2 fr le projet a pour objectif spécifique de renforcer et étendre les systèmes de transport et de distribution de l'énergie électrique à de nouvelles localités et à de nouveaux abonnés 46002-P-CM-FA0-003 1 2016-05-25T23:09:04 www.afdb.org ASSYONGAR MASRA Succès African Development Bank Group Headquarters Avenue Joseph Anoma 01 BP 1387 Abidjan 01, Côte d'Ivoire African Development Bank Group +225 2020 1632 Senior Financial Economist Energy North, West and Central Africa/ Energie Afrique du Nord, de l'Ouest et Afrique Centrale s.masra@afdb.org 2016-05-25T23:10:09 iati/afdb-cameroon.xml 4 C01 10 African Development Fund GOUVERNEMENT DU CAMEROUN MINISTERE DE L'ECONOMIE ET DES FINANCES 31640000.00 2010-10-15 410 5 2010-10-15 2100150022896 2 2013-03-31 African Development Fund 3 125037.18 2013-03-31 Total Disbursement in First Quarter of 2013 2013-09-30 African Development Fund 3 128836.96 2013-09-30 Total Disbursement in Third Quarter of 2013 2013-12-31 African Development Fund 3 145486.51 2013-12-31 Total Disbursement in Fourth Quarter of 2013 2014-12-31 African Development Fund 3 117388.06 2014-12-31 Total Disbursement in Fourth Quarter of 2014 2015-03-31 African Development Fund 3 2295984.74 2015-03-31 Total Disbursement in First Quarter of 2015 2015-09-30 African Development Fund 3 170628.48 2015-09-30 Total Disbursement in Third Quarter of 2015 2015-12-31 African Development Fund 3 189985.64 2015-12-31 Total Disbursement in Fourth Quarter of 2015 2016-03-31 African Development Fund 3 179872.25 2016-03-31 Total Disbursement in First Quarter of 2016 2011-09-30 African Development Fund 5 47243.29 2011-09-30 Total Interest Repayment in Third Quarter of 2011 2012-03-31 African Development Fund 5 79316.71 2012-03-31 Total Interest Repayment in First Quarter of 2012 2012-09-30 African Development Fund 5 79316.71 2012-09-30 Total Interest Repayment in Third Quarter of 2012 2013-03-31 African Development Fund 5 79316.71 2013-03-31 Total Interest Repayment in First Quarter of 2013 2013-09-30 African Development Fund 5 78960.15 2013-09-30 Total Interest Repayment in Third Quarter of 2013 2014-03-31 African Development Fund 5 79545.57 2014-03-31 Total Interest Repayment in First Quarter of 2014 2014-09-30 African Development Fund 5 79351.07 2014-09-30 Total Interest Repayment in Third Quarter of 2014 2015-03-31 African Development Fund 5 79839.76 2015-03-31 Total Interest Repayment in First Quarter of 2015 2015-09-30 African Development Fund 5 81007.94 2015-09-30 Total Interest Repayment in Third Quarter of 2015 2016-03-31 African Development Fund 5 82619.76 2016-03-31 Total Interest Repayment in First Quarter of 2016 C01 10 The Japan International Cooperation Agency/ Accelerated Cofinancing Facility for Africa GOUVERNEMENT DU CAMEROUN 19598951.70 2011-03-04 410 5 2011-03-04 6550655000701 2 2010-10-15 2 6000000.00 2010-10-15 Government Of Cameroon XDR A12 Activity Web Site fr WebPage http://www.afdb.org/en/projects-and-operations/project-portfolio/project/p-cm-fa0-003/ A01 A02 A03 A04 A05 A08 Appraisal Report fr application/pdf http://www.afdb.org/fileadmin/uploads/afdb/Documents/Environmental-and-Social-Assessments/Cameroun%20-%20R%C3%A9sum%C3%A9%20PGES%20projet%20renforcement%20des%20infrastructures%20electriques%2016-03-10.pdf 2 2\n",
      "\n",
      "\n",
      "\n",
      "==================================================\n",
      "\n",
      "\n",
      "Activity 429651\n",
      "46002-P-CF-IE0-001\t43010 Social DAC 2009-07-24 1 2010-07-14 2 2016-12-30 3 2016-12-30 4 CF 1 2015-12-31 2009-01-01 330.00 2015-12-31 2015-01-01 0.00 number 1 Social facilities established or rehabilitated (rural schools, health centers, etc.) 1 2015-12-31 2009-01-01 2028.00 2015-12-31 2015-01-01 0.00 Number of people 1 Rural population trained / recurited / using improved technology (#) 1 2015-12-31 2009-01-01 2028.00 2015-12-31 2015-01-01 0.00 Number of people 1 Total population benefited (#) Fragile States Facility FSF 1 DIRECTION GENERALE DES ETUDES, DE LA PLANIFICATION ET DES SERVICES D'APPUI, CHARGEE DE LA COORDINATION DES DIRECTION REGIONALES (DGEPSACDR) / (MASSNF) 4 en Central African Republic - The Project for Community Development and Support to Vulnerable Groups (PDCAGV) fr République Centrafricaine - Projet de développement communautaire et d'appui aux groupes vulnérables (PDCAGV) en 2 zongo 5.11667 22.7833 http://www.opengis.net/def/crs/EPSG/0/4326 235801 G1 Populated Place 2 2 zime 5.68333 22.8333 http://www.opengis.net/def/crs/EPSG/0/4326 235815 G1 Populated Place 2 2 zabe 5.86667 22.2167 http://www.opengis.net/def/crs/EPSG/0/4326 235864 G1 Populated Place 2 2 Yengue 4.63333 21.9667 http://www.opengis.net/def/crs/EPSG/0/4326 235922 G1 Populated Place 2 2 Yatigandza 5.43333 20.3167 http://www.opengis.net/def/crs/EPSG/0/4326 235941 G1 Populated Place 2 2 Vougba 5.08333 23 http://www.opengis.net/def/crs/EPSG/0/4326 236147 G1 Populated Place 2 2 Toumba 5.33333 20.7333 http://www.opengis.net/def/crs/EPSG/0/4326 236206 G1 Populated Place 2 2 Tagbra 5.91667 21.15 http://www.opengis.net/def/crs/EPSG/0/4326 236339 G1 Populated Place 2 2 Siou 5.82333 20.5792 http://www.opengis.net/def/crs/EPSG/0/4326 236390 G1 Populated Place 2 2 Sago 5.25 21.4167 http://www.opengis.net/def/crs/EPSG/0/4326 236469 G1 Populated Place 2 2 Rekondji 5.65389 20.7225 http://www.opengis.net/def/crs/EPSG/0/4326 236505 G1 Populated Place 2 2 Rehou 5.5 21.75 http://www.opengis.net/def/crs/EPSG/0/4326 236507 G1 Populated Place 2 2 Pasiki 5.7 22.7833 http://www.opengis.net/def/crs/EPSG/0/4326 236672 G1 Populated Place 2 2 Pandou 5.51667 21.7333 http://www.opengis.net/def/crs/EPSG/0/4326 236702 G1 Populated Place 2 2 Pago 5.46667 21.8667 http://www.opengis.net/def/crs/EPSG/0/4326 236736 G1 Populated Place 2 2 Ngama 5.28333 21.5167 http://www.opengis.net/def/crs/EPSG/0/4326 237303 G1 Populated Place 2 2 Ngalia 4.71667 21.2167 http://www.opengis.net/def/crs/EPSG/0/4326 237304 G1 Populated Place 2 2 Mobaye 4.31667 21.1833 http://www.opengis.net/def/crs/EPSG/0/4326 237478 G1 Populated Place 2 1 Mingala 5.15276 21.6379 http://www.opengis.net/def/crs/EPSG/0/4326 237487 G1 Administrative Region 2 2 Mbari 5.1 23.0333 http://www.opengis.net/def/crs/EPSG/0/4326 237637 G1 Populated Place 2 2 Mbahouba 6.33333 21.4 http://www.opengis.net/def/crs/EPSG/0/4326 237666 G1 Populated Place 2 2 Mabo 6.41667 25.25 http://www.opengis.net/def/crs/EPSG/0/4326 237867 G1 Populated Place 2 2 Lingao 5.66111 20.5164 http://www.opengis.net/def/crs/EPSG/0/4326 237930 G1 Populated Place 2 2 Kota 5.28333 20.6833 http://www.opengis.net/def/crs/EPSG/0/4326 238201 G1 Populated Place 2 2 Kongbo 4.73333 21.3833 http://www.opengis.net/def/crs/EPSG/0/4326 238238 G1 Populated Place 2 2 Kodo 5.23333 21.05 http://www.opengis.net/def/crs/EPSG/0/4326 238301 G1 Populated Place 2 2 Kabou 5.33333 21.7167 http://www.opengis.net/def/crs/EPSG/0/4326 238531 G1 Populated Place 2 2 Grelindji 6.1 20.7833 http://www.opengis.net/def/crs/EPSG/0/4326 238722 G1 Populated Place 2 2 Gotchele 5.8 20.9333 http://www.opengis.net/def/crs/EPSG/0/4326 239133 G1 Populated Place 2 2 Gbana 5.2 21.3667 http://www.opengis.net/def/crs/EPSG/0/4326 239239 G1 Populated Place 2 2 Gambo 4.65 22.2667 http://www.opengis.net/def/crs/EPSG/0/4326 239300 G1 Populated Place 2 2 Fadama 4.71667 22.05 http://www.opengis.net/def/crs/EPSG/0/4326 239382 G1 Populated Place 2 2 Boykette 5.4 21.2333 http://www.opengis.net/def/crs/EPSG/0/4326 239920 G1 Populated Place 2 2 Bouma 4.53333 20.8833 http://www.opengis.net/def/crs/EPSG/0/4326 239973 G1 Populated Place 2 2 Botcho 5.03333 20.4167 http://www.opengis.net/def/crs/EPSG/0/4326 240044 G1 Populated Place 2 2 Batimbilika 4.95 22.9667 http://www.opengis.net/def/crs/EPSG/0/4326 240380 G1 Populated Place 2 2 Barama 4.76667 22.85 http://www.opengis.net/def/crs/EPSG/0/4326 240423 G1 Populated Place 2 2 Bao 4.43333 22.35 http://www.opengis.net/def/crs/EPSG/0/4326 240439 G1 Populated Place 2 2 Bangourou 4.5 22.0167 http://www.opengis.net/def/crs/EPSG/0/4326 240457 G1 Populated Place 2 2 Banda 5.33333 21.05 http://www.opengis.net/def/crs/EPSG/0/4326 240568 G1 Populated Place 2 2 Balifondo 5.16667 23.1167 http://www.opengis.net/def/crs/EPSG/0/4326 240652 G1 Populated Place 2 2 Bakoumbia 5.71667 20.0667 http://www.opengis.net/def/crs/EPSG/0/4326 240682 G1 Populated Place 2 2 Amane 4.63333 21.9833 http://www.opengis.net/def/crs/EPSG/0/4326 240988 G1 Populated Place 2 2 zoukombo 5.83333 14.6833 http://www.opengis.net/def/crs/EPSG/0/4326 2382098 G1 Populated Place 2 2 zere 6.43333 17.6667 http://www.opengis.net/def/crs/EPSG/0/4326 2382207 G1 Populated Place 2 2 zaorosongou 5.03333 16.2167 http://www.opengis.net/def/crs/EPSG/0/4326 2382257 G1 Populated Place 2 2 zaoro Dana 6.03333 15.1667 http://www.opengis.net/def/crs/EPSG/0/4326 2382265 G1 Populated Place 2 2 Yongoro 6.21667 15.5833 http://www.opengis.net/def/crs/EPSG/0/4326 2382339 G1 Populated Place 2 2 Tobale 3.91667 17.9 http://www.opengis.net/def/crs/EPSG/0/4326 2382838 G1 Populated Place 2 2 Kpabe 5.63129 19.0882 http://www.opengis.net/def/crs/EPSG/0/4326 2383599 G1 Populated Place 2 2 Noufou 4.58333 14.8 http://www.opengis.net/def/crs/EPSG/0/4326 2383819 G1 Populated Place 2 2 Ndoulou 4.65 16.2167 http://www.opengis.net/def/crs/EPSG/0/4326 2384096 G1 Populated Place 2 2 Nao 4.51667 15.3333 http://www.opengis.net/def/crs/EPSG/0/4326 2384191 G1 Populated Place 2 2 Nangoko 4.26667 15.3667 http://www.opengis.net/def/crs/EPSG/0/4326 2384196 G1 Populated Place 2 2 Mokolo 3.76667 16.05 http://www.opengis.net/def/crs/EPSG/0/4326 2384443 G1 Populated Place 2 2 Mboula 4.45 16.4833 http://www.opengis.net/def/crs/EPSG/0/4326 2384598 G1 Populated Place 2 2 Mbale 4.41667 17.7833 http://www.opengis.net/def/crs/EPSG/0/4326 2384751 G1 Populated Place 2 2 Mango 4.85 16.9667 http://www.opengis.net/def/crs/EPSG/0/4326 2384861 G1 Populated Place 2 2 Maigalo 6 15.5667 http://www.opengis.net/def/crs/EPSG/0/4326 2384977 G1 Populated Place 2 2 Mabou 4.5 17.0333 http://www.opengis.net/def/crs/EPSG/0/4326 2385001 G1 Populated Place 2 2 Lokoti-Mbangui 5.78333 15.0167 http://www.opengis.net/def/crs/EPSG/0/4326 2385084 G1 Populated Place 2 2 Korongo 4.16667 15.25 http://www.opengis.net/def/crs/EPSG/0/4326 2385575 G1 Populated Place 2 2 Keningue 4.01667 17.6167 http://www.opengis.net/def/crs/EPSG/0/4326 2385827 G1 Populated Place 2 2 Karawa 4.16667 18.05 http://www.opengis.net/def/crs/EPSG/0/4326 2385899 G1 Populated Place 2 2 Kamanga 4.41667 16.6167 http://www.opengis.net/def/crs/EPSG/0/4326 2385971 G1 Populated Place 2 2 Gola-Kota 6.53333 17.5667 http://www.opengis.net/def/crs/EPSG/0/4326 2386528 G1 Populated Place 2 2 Godawa 4.5 14.8833 http://www.opengis.net/def/crs/EPSG/0/4326 2386558 G1 Populated Place 2 2 Ngawa 5.98421 17.4754 http://www.opengis.net/def/crs/EPSG/0/4326 2386668 G1 Populated Place 2 2 Garga-Bongo 5.8 15.1167 http://www.opengis.net/def/crs/EPSG/0/4326 2386694 G1 Populated Place 2 2 Foro 5.86667 15.4833 http://www.opengis.net/def/crs/EPSG/0/4326 2386853 G1 Populated Place 2 2 Dika 5.98333 15.2167 http://www.opengis.net/def/crs/EPSG/0/4326 2387242 G1 Populated Place 2 2 Dembateke 4.98333 16.2833 http://www.opengis.net/def/crs/EPSG/0/4326 2387306 G1 Populated Place 2 1 Sous-Prefecture de Carnot 4.78333 15.7333 http://www.opengis.net/def/crs/EPSG/0/4326 2387494 G1 Administrative Region 2 2 Boyali III 5.93333 16.1667 http://www.opengis.net/def/crs/EPSG/0/4326 2387601 G1 Populated Place 2 2 Boussimba 3.68333 18.1667 http://www.opengis.net/def/crs/EPSG/0/4326 2387655 G1 Populated Place 2 2 Boukoko 3.9 17.9333 http://www.opengis.net/def/crs/EPSG/0/4326 2387809 G1 Populated Place 2 2 Bouca 6.5 18.2833 http://www.opengis.net/def/crs/EPSG/0/4326 2387890 G1 Populated Place 2 2 Bouansouma 6.78333 17.65 http://www.opengis.net/def/crs/EPSG/0/4326 2387929 G1 Populated Place 2 2 Bouaka 4.03333 17.8333 http://www.opengis.net/def/crs/EPSG/0/4326 2387943 G1 Populated Place 2 2 Bossobo 4.01667 17.6167 http://www.opengis.net/def/crs/EPSG/0/4326 2388005 G1 Populated Place 2 2 Bosenforo 5.29134 17.2477 http://www.opengis.net/def/crs/EPSG/0/4326 2388021 G1 Populated Place 2 2 Bossako 4.21667 17.85 http://www.opengis.net/def/crs/EPSG/0/4326 2388040 G1 Populated Place 2 2 Bonguele 4.02417 18.0567 http://www.opengis.net/def/crs/EPSG/0/4326 2388106 G1 Populated Place 2 2 Bongbalo 5.28662 17.2739 http://www.opengis.net/def/crs/EPSG/0/4326 2388157 G1 Populated Place 2 2 Bomasana 5.57017 17.6085 http://www.opengis.net/def/crs/EPSG/0/4326 2388256 G1 Populated Place 2 2 Bomango 3.91667 17.9 http://www.opengis.net/def/crs/EPSG/0/4326 2388260 G1 Populated Place 2 2 Bokouma 4.15 17.7167 http://www.opengis.net/def/crs/EPSG/0/4326 2388311 G1 Populated Place 2 2 Bokossin 5.72553 19.1795 http://www.opengis.net/def/crs/EPSG/0/4326 2388332 G1 Populated Place 2 2 Bokengue 5.78968 19.1065 http://www.opengis.net/def/crs/EPSG/0/4326 2388376 G1 Populated Place 2 2 Bokede 5.29134 17.1446 http://www.opengis.net/def/crs/EPSG/0/4326 2388378 G1 Populated Place 2 2 Boguissi 4.81722 18.0489 http://www.opengis.net/def/crs/EPSG/0/4326 2388400 G1 Populated Place 2 2 Bogoin I 5.07433 17.8294 http://www.opengis.net/def/crs/EPSG/0/4326 2388444 G1 Populated Place 2 2 Bogban 5.28133 17.2853 http://www.opengis.net/def/crs/EPSG/0/4326 2388482 G1 Populated Place 2 2 Boudoukpa 5.53749 18.2722 http://www.opengis.net/def/crs/EPSG/0/4326 2388547 G1 Populated Place 2 2 Bodiki 5.28333 17.1333 http://www.opengis.net/def/crs/EPSG/0/4326 2388576 G1 Populated Place 2 2 Bodele 4.75 17.55 http://www.opengis.net/def/crs/EPSG/0/4326 2388585 G1 Populated Place 2 2 Boboua 5.30043 17.1225 http://www.opengis.net/def/crs/EPSG/0/4326 2388634 G1 Populated Place 2 2 Boane II 5.63333 16.6 http://www.opengis.net/def/crs/EPSG/0/4326 2388713 G1 Populated Place 2 2 Beya 3.23333 16.2667 http://www.opengis.net/def/crs/EPSG/0/4326 2389030 G1 Populated Place 2 2 Belou 3.8 18.0833 http://www.opengis.net/def/crs/EPSG/0/4326 2389217 G1 Populated Place 2 2 Beloko 5.93333 14.6 http://www.opengis.net/def/crs/EPSG/0/4326 2389220 G1 Populated Place 2 2 Behina 4.46667 16.8833 http://www.opengis.net/def/crs/EPSG/0/4326 2389408 G1 Populated Place 2 2 Bayanga Didi 5.28333 15.8 http://www.opengis.net/def/crs/EPSG/0/4326 2389609 G1 Populated Place 2 2 Batoko 4.43333 16.2833 http://www.opengis.net/def/crs/EPSG/0/4326 2389668 G1 Populated Place 2 2 Barde 5.81667 15 http://www.opengis.net/def/crs/EPSG/0/4326 2389754 G1 Populated Place 2 2 Bamassa 5.79551 19.529 http://www.opengis.net/def/crs/EPSG/0/4326 2390082 G1 Populated Place 2 2 Bakere 5.24727 17.6872 http://www.opengis.net/def/crs/EPSG/0/4326 2390242 G1 Populated Place 2 1 Sous-Prefecture de Baboua 5.72656 14.889 http://www.opengis.net/def/crs/EPSG/0/4326 2390511 G1 Administrative Region 2 2 Bobazou 5.26687 17.7263 http://www.opengis.net/def/crs/EPSG/0/4326 7525093 G1 Populated Place 2 2 Bobandjia 5.80594 19.5684 http://www.opengis.net/def/crs/EPSG/0/4326 7525354 G1 Populated Place 2 2 Ouadda 5.71839 19.2089 http://www.opengis.net/def/crs/EPSG/0/4326 7525391 G1 Populated Place 2 2 Bomimi 5.73408 19.1685 http://www.opengis.net/def/crs/EPSG/0/4326 7525416 G1 Populated Place 2 2 Boambali 5.73727 19.1528 http://www.opengis.net/def/crs/EPSG/0/4326 7525418 G1 Populated Place 2 2 Bakongo 5.7461 19.1376 http://www.opengis.net/def/crs/EPSG/0/4326 7525420 G1 Populated Place 2 1 Gambo 4.65305 22.1574 http://www.opengis.net/def/crs/EPSG/0/4326 7731889 G1 Administrative Region 2 1 Kembe 4.48243 21.6962 http://www.opengis.net/def/crs/EPSG/0/4326 7731890 G1 Administrative Region 2 1 Kouango 5.11987 20.4281 http://www.opengis.net/def/crs/EPSG/0/4326 7731893 G1 Administrative Region 2 1 Ndjoukou 5.30643 19.4241 http://www.opengis.net/def/crs/EPSG/0/4326 7731894 G1 Administrative Region 2 1 Bayanga 2.78864 16.2261 http://www.opengis.net/def/crs/EPSG/0/4326 7731905 G1 Administrative Region 2 1 Bambari 5.73633 21.0496 http://www.opengis.net/def/crs/EPSG/0/4326 7732062 G1 Administrative Region 2 1 Bangassou 5.01352 23.1533 http://www.opengis.net/def/crs/EPSG/0/4326 7732064 G1 Administrative Region 2 1 Alindao 5.20281 21.2122 http://www.opengis.net/def/crs/EPSG/0/4326 7732066 G1 Administrative Region 2 1 Ippy 6.64468 21.277 http://www.opengis.net/def/crs/EPSG/0/4326 7732067 G1 Administrative Region 2 1 Mbaiki 3.97145 17.9335 http://www.opengis.net/def/crs/EPSG/0/4326 7732068 G1 Administrative Region 2 1 Bouar 5.9978 15.4604 http://www.opengis.net/def/crs/EPSG/0/4326 7732085 G1 Administrative Region 2 1 Baoro 5.45157 16.1272 http://www.opengis.net/def/crs/EPSG/0/4326 7732103 G1 Administrative Region 2 1 Bossangoa 6.4068 17.3519 http://www.opengis.net/def/crs/EPSG/0/4326 7732115 G1 Administrative Region 2 1 Yaloke 5.41797 16.9688 http://www.opengis.net/def/crs/EPSG/0/4326 7732372 G1 Administrative Region 2 1 Grimari 5.73549 19.9121 http://www.opengis.net/def/crs/EPSG/0/4326 7732377 G1 Administrative Region 2 1 Sibut 5.73333 19.0833 http://www.opengis.net/def/crs/EPSG/0/4326 7732483 G1 Administrative Region 2 1 Berberati 4.31211 15.8895 http://www.opengis.net/def/crs/EPSG/0/4326 7732685 G1 Administrative Region 2 1 Bakouma 5.5267 22.5856 http://www.opengis.net/def/crs/EPSG/0/4326 7732690 G1 Administrative Region 2 1 Bossembele 5.24147 17.6087 http://www.opengis.net/def/crs/EPSG/0/4326 7732723 G1 Administrative Region 2 1 Gamboula 4.37859 15.1052 http://www.opengis.net/def/crs/EPSG/0/4326 7732916 G1 Administrative Region 2 1 Gadzi 4.89014 16.7074 http://www.opengis.net/def/crs/EPSG/0/4326 7732917 G1 Administrative Region 2 true en please refer to the appraisal report below iati/afdb-centralafricanrepublic.xml 2016-05-25T23:04:12 2.01 46002 40 African Development Bank Group 2 fr Le projet de développement communautaire et d'appui aux groupes vulnérables a pour objectif de contribuer à l'amélioration des conditions de vie des populations, particulièrement des groupes vulnérables. De manière spécifique, il vise à améliorer l'offre de services sociaux de base au niveau communautaire. Les principaux objectifs spécifiques du projet sont : (a) renforcer les capacités du ministère chargés des affaires sociales, et du ministère chargé du développement rural en matière d'élaboration, de mise en oeuvre et de suivi des projets et programmes d'appui aux groupes vulnérables ; (b) renforcer les capacités des bénéficiaires par l'amélioration de leurs techniques de production agricole et contribuer à l'augmentation de leur production par la fourniture des kits d'outillages agricoles et de plateformes multifonctionnelles ; et (c) accroître et diversifier l'offre publique des services sociaux de base par la réhabilitation des infrastructures détruites pendant les périodes de conflits et par la construction de nouvelles infrastructures. 46002-P-CF-IE0-001 1 2016-05-25T23:04:12 www.afdb.org BISSAKONOU Judes African Development Bank Group Headquarters Avenue Joseph Anoma 01 BP 1387 Abidjan 01, Côte d'Ivoire African Development Bank Group Social Development Specialist Cameroon Country Office/ Bureau National du Cameroun j.bissakonou@afdb.org 2016-05-25T23:04:47 iati/afdb-centralafricanrepublic.xml 4 D02 10 Fragile States Facility GOUVERNEMENT DE CENTRAFRIQUE MINISTERE DE L'ECONOMIE ET DES FINANCES 8000000.00 2009-07-24 110 5 2009-07-24 5900155000601 2 2010-09-30 Fragile States Facility 3 187645.59 2010-09-30 Total Disbursement in Third Quarter of 2010 2011-03-31 Fragile States Facility 3 765510.67 2011-03-31 Total Disbursement in First Quarter of 2011 2011-06-30 Fragile States Facility 3 229550.79 2011-06-30 Total Disbursement in Second Quarter of 2011 2012-06-30 Fragile States Facility 3 473559.33 2012-06-30 Total Disbursement in Second Quarter of 2012 2014-09-30 Fragile States Facility 3 1141977.79 2014-09-30 Total Disbursement in Third Quarter of 2014 2016-03-31 Fragile States Facility 3 738888.53 2016-03-31 Total Disbursement in First Quarter of 2016 XDR A12 Activity Web Site fr WebPage http://www.afdb.org/en/projects-and-operations/project-portfolio/project/p-cf-ie0-001/ A01 A02 A03 A04 A05 A08 Appraisal report en application/pdf http://www.afdb.org/fileadmin/uploads/afdb/Documents/Project-and-Operations/CAR_-_Project_for_Community_Development_and_Support_to_Vulnerable_Groups_-_Appraisal_Report.pdf A01 A02 A03 A04 A05 A08 Appraisal report fr application/pdf http://www.afdb.org/fileadmin/uploads/afdb/Documents/Project-and-Operations/Centrafrique_-_Projet_de_d%C3%A9veloppement_communautaire_et_d_appui_aux_groupes_vuln%C3%A9rable__PDCAGV__-_Rapport_d%E2%80%99%C3%A9valuation.pdf 2 2\n",
      "\n",
      "\n",
      "\n",
      "==================================================\n",
      "\n",
      "\n",
      "Activity 124434\n",
      "46002-P-BF-DB0-017\t21020 Transport DAC 2014-01-09 1 2015-07-24 2 2019-12-31 3 2019-12-31 4 BF African Development Fund 46003 1 40 DIRECTION GENERALE DES ROUTES MININFRASTUCTURES, TRANSPORTS , HABITAT 4 en Burkina - Upgrading of Access Roads Project fr Burkina Faso - Projet d'aménagement de routes de désenclavement en 2 Zoumbara 12.8833 -3.15 http://www.opengis.net/def/crs/EPSG/0/4326 2353174 G1 Populated Place 40276 1 G1 12137 2 G1 2 2 Zakuy 12.5333 -3.41667 http://www.opengis.net/def/crs/EPSG/0/4326 2353418 G1 Populated Place 40276 1 G1 12134 2 G1 2 2 ZabrÃ© 11.1825 -0.63222 http://www.opengis.net/def/crs/EPSG/0/4326 2353436 G1 Populated Place 40279 1 G1 12115 2 G1 2 2 Zaba 12.7833 -3.2 http://www.opengis.net/def/crs/EPSG/0/4326 2353442 G1 Populated Place 40276 1 G1 12137 2 G1 2 2 Yoro 11.0667 -2.36667 http://www.opengis.net/def/crs/EPSG/0/4326 2353471 G1 Populated Place 40281 1 G1 12146 2 G1 2 2 Yalka 13.4985 -1.54752 http://www.opengis.net/def/crs/EPSG/0/4326 2353667 G1 Populated Place 40280 1 G1 12111 2 G1 2 2 Yakouta 14.0758 -0.13689 http://www.opengis.net/def/crs/EPSG/0/4326 2353684 G1 Populated Place 40287 1 G1 12145 2 G1 2 2 Tougan 13.0725 -3.0694 http://www.opengis.net/def/crs/EPSG/0/4326 2354176 G1 Populated Place 40276 1 G1 12148 2 G1 2 2 TilÃ©rÃ© 14.0567 -1.65802 http://www.opengis.net/def/crs/EPSG/0/4326 2354485 G1 Populated Place 40287 1 G1 12147 2 G1 2 2 Tamponga 13.4331 -1.5468 http://www.opengis.net/def/crs/EPSG/0/4326 2355068 G1 Populated Place 40280 1 G1 12111 2 G1 2 2 Tagyama 13.4017 -1.53513 http://www.opengis.net/def/crs/EPSG/0/4326 2355157 G1 Populated Place 40280 1 G1 12111 2 G1 2 1 Province du Sourou 13.25 -3 http://www.opengis.net/def/crs/EPSG/0/4326 2355211 G1 Administrative Region 40276 1 G1 12148 2 G1 2 1 Province du Soum 14.3333 -1.25 http://www.opengis.net/def/crs/EPSG/0/4326 2355248 G1 Administrative Region 40287 1 G1 12147 2 G1 2 2 Soroni 12.7114 -3.20362 http://www.opengis.net/def/crs/EPSG/0/4326 2355311 G1 Populated Place 40276 1 G1 12137 2 G1 2 2 Soakui 12.5 -3.41667 http://www.opengis.net/def/crs/EPSG/0/4326 2355460 G1 Populated Place 40276 1 G1 12134 2 G1 2 1 Province de la Sissili 11.3333 -2.25 http://www.opengis.net/def/crs/EPSG/0/4326 2355474 G1 Administrative Region 40281 1 G1 12146 2 G1 2 2 SadourÃ© 13.4599 -1.55228 http://www.opengis.net/def/crs/EPSG/0/4326 2356097 G1 Populated Place 40280 1 G1 12111 2 G1 2 2 PÃ´ 11.1697 -1.145 http://www.opengis.net/def/crs/EPSG/0/4326 2356454 G1 Populated Place 40282 1 G1 12135 2 G1 2 2 Passakongo Tonbo 12.5167 -3.41667 http://www.opengis.net/def/crs/EPSG/0/4326 2356669 G1 Populated Place 40276 1 G1 12134 2 G1 2 2 Wessa 11.0454 -2.78857 http://www.opengis.net/def/crs/EPSG/0/4326 2356953 G1 Populated Place 40288 1 G1 12122 2 G1 2 2 NobwÃ¨l 14.021 -0.31227 http://www.opengis.net/def/crs/EPSG/0/4326 2357225 G1 Populated Place 40287 1 G1 12145 2 G1 2 2 NÃ©bou 11.3125 -1.87722 http://www.opengis.net/def/crs/EPSG/0/4326 2357442 G1 Populated Place 40281 1 G1 12146 2 G1 2 1 Nahouri Province 11.25 -1.25 http://www.opengis.net/def/crs/EPSG/0/4326 2357548 G1 Administrative Region 40282 1 G1 12135 2 G1 2 2 Namssiguia 13.8317 -1.60816 http://www.opengis.net/def/crs/EPSG/0/4326 2357598 G1 Populated Place 40280 1 G1 12111 2 G1 2 2 Nadion 11.1284 -2.20882 http://www.opengis.net/def/crs/EPSG/0/4326 2357721 G1 Populated Place 40281 1 G1 12146 2 G1 2 1 Province du Mouhoun 12.25 -3.41667 http://www.opengis.net/def/crs/EPSG/0/4326 2357858 G1 Administrative Region 40276 1 G1 12134 2 G1 2 2 MÃ¨ntaÃ´ 13.9541 -1.67408 http://www.opengis.net/def/crs/EPSG/0/4326 2357993 G1 Populated Place 40287 1 G1 12147 2 G1 2 2 Loulouka 13.3517 -1.54767 http://www.opengis.net/def/crs/EPSG/0/4326 2358203 G1 Populated Place 40280 1 G1 12111 2 G1 2 2 LÃ©o 11.1003 -2.10654 http://www.opengis.net/def/crs/EPSG/0/4326 2358382 G1 Populated Place 40281 1 G1 12146 2 G1 2 2 KoupellÃ© 13.4497 -1.54112 http://www.opengis.net/def/crs/EPSG/0/4326 2358733 G1 Populated Place 40280 1 G1 12111 2 G1 2 2 Kora 13.3783 -1.54573 http://www.opengis.net/def/crs/EPSG/0/4326 2359083 G1 Populated Place 40280 1 G1 12111 2 G1 2 2 Kongoussi 13.3258 -1.53472 http://www.opengis.net/def/crs/EPSG/0/4326 2359142 G1 Populated Place 40280 1 G1 12111 2 G1 2 2 Housi 13.5313 -1.56667 http://www.opengis.net/def/crs/EPSG/0/4326 2360072 G1 Populated Place 40280 1 G1 12111 2 G1 2 2 Gorgadji 14.0328 -0.5195 http://www.opengis.net/def/crs/EPSG/0/4326 2360385 G1 Populated Place 40287 1 G1 12145 2 G1 2 2 Gassan 12.8183 -3.20164 http://www.opengis.net/def/crs/EPSG/0/4326 2360560 G1 Populated Place 40276 1 G1 12137 2 G1 2 2 Douroula 12.5841 -3.29963 http://www.opengis.net/def/crs/EPSG/0/4326 2360973 G1 Populated Place 40276 1 G1 12134 2 G1 2 2 Dori 14.0354 -0.0345 http://www.opengis.net/def/crs/EPSG/0/4326 2361082 G1 Populated Place 40287 1 G1 12145 2 G1 2 2 Djibo 14.0994 -1.62554 http://www.opengis.net/def/crs/EPSG/0/4326 2361177 G1 Populated Place 40287 1 G1 12147 2 G1 2 2 Diouroum 12.9906 -3.11239 http://www.opengis.net/def/crs/EPSG/0/4326 2361199 G1 Populated Place 40276 1 G1 12148 2 G1 2 2 Diolo 14.1723 -0.71254 http://www.opengis.net/def/crs/EPSG/0/4326 2361237 G1 Populated Place 40287 1 G1 12147 2 G1 2 2 DÃ©dougou 12.4634 -3.46075 http://www.opengis.net/def/crs/EPSG/0/4326 2361477 G1 Populated Place 40276 1 G1 12134 2 G1 2 2 Bozo 11.0333 -2.66667 http://www.opengis.net/def/crs/EPSG/0/4326 2361817 G1 Populated Place 40281 1 G1 12146 2 G1 2 2 Bourzanga 13.6781 -1.54611 http://www.opengis.net/def/crs/EPSG/0/4326 2361853 G1 Populated Place 40280 1 G1 12111 2 G1 2 2 Boura 11.0428 -2.50196 http://www.opengis.net/def/crs/EPSG/0/4326 2361898 G1 Populated Place 40281 1 G1 12146 2 G1 2 2 Boulounga 13.6037 -1.56205 http://www.opengis.net/def/crs/EPSG/0/4326 2361956 G1 Populated Place 40280 1 G1 12111 2 G1 2 1 Province du Boulgou 11.5 -0.41667 http://www.opengis.net/def/crs/EPSG/0/4326 2362006 G1 Administrative Region 40279 1 G1 12115 2 G1 2 2 Bittou 11.2581 -0.30611 http://www.opengis.net/def/crs/EPSG/0/4326 2362376 G1 Populated Place 40279 1 G1 12115 2 G1 2 2 BÃ©lÃ©hÃ©dÃ© 14.0815 -1.29076 http://www.opengis.net/def/crs/EPSG/0/4326 2362603 G1 Populated Place 40287 1 G1 12147 2 G1 2 1 Province du Bam 13.4667 -1.58333 http://www.opengis.net/def/crs/EPSG/0/4326 2362973 G1 Administrative Region 40280 1 G1 12111 2 G1 2 2 Aribinda 14.2296 -0.86537 http://www.opengis.net/def/crs/EPSG/0/4326 2363174 G1 Populated Place 40287 1 G1 12147 2 G1 2 1 Province du Ioba 11.0833 -3.08333 http://www.opengis.net/def/crs/EPSG/0/4326 2597251 G1 Administrative Region 40288 1 G1 12122 2 G1 2 1 Province du Nayala 12.6667 -3 http://www.opengis.net/def/crs/EPSG/0/4326 2597265 G1 Administrative Region 40276 1 G1 12137 2 G1 2 true en please refer to the appraisal report below iati/afdb-burkinafaso.xml 2016-05-25T22:45:02 2.01 46002 40 African Development Bank Group 2 fr L'objectif sectoriel du projet est de : (i) Favoriser les échanges commerciaux par la baisse du coût de transport intérieur et (ii) Contribuer au renforcement de l'intégration régionale et participer à la réduction de la pauvreté. Son objectif spécifique est d'améliorer l'efficacité de la chaîne logistique de transport et contribuer au désenclavement des régions Nord et Nord-Ouest du Burkina Faso. 46002-P-BF-DB0-017 1 2016-05-25T22:45:02 www.afdb.org YOUGBARE Barnabe African Development Bank Group Headquarters Avenue Joseph Anoma 01 BP 1387 Abidjan 01, Côte d'Ivoire African Development Bank Group Infrastructure Specialist Transport West and Central Africa (incl. Libya)/ Transport Afrique de l'Ouest et Afrique Centrale (y compris la Libye) b.yougbare@afdb.org 2016-05-25T22:45:41 iati/afdb-burkinafaso.xml 4 C01 10 African Development Fund GOUVERNEMENT DE LA REPUBLIQUE DU BURKINA MINISTERE DE L'ECONOMIE ET DES FINANCES 31218000.00 2014-01-09 410 5 2014-01-09 2100150030394 2 2015-09-30 African Development Fund 3 50393.98 2015-09-30 Total Disbursement in Third Quarter of 2015 2016-03-31 African Development Fund 3 2448745.61 2016-03-31 Total Disbursement in First Quarter of 2016 2014-12-31 African Development Fund 5 55166.05 2014-12-31 Total Interest Repayment in Fourth Quarter of 2014 2015-06-30 African Development Fund 5 77403.53 2015-06-30 Total Interest Repayment in Second Quarter of 2015 2015-12-31 African Development Fund 5 78706.42 2015-12-31 Total Interest Repayment in Fourth Quarter of 2015 C01 10 African Development Fund GOUVERNEMENT DE LA REPUBLIQUE DU BURKINA MINISTERE DE L'ECONOMIE ET DES FINANCES 15220000.00 2014-01-09 110 5 2014-01-09 2100155026370 2 2016-03-31 African Development Fund 3 1494066.25 2016-03-31 Total Disbursement in First Quarter of 2016 XDR A12 Activity Web Site fr WebPage http://www.afdb.org/en/projects-and-operations/project-portfolio/project/p-bf-db0-017/ A01 A02 A03 A04 A05 A08 Appraisal Report en application/pdf http://www.afdb.org/fileadmin/uploads/afdb/Documents/Environmental-and-Social-Assessments/Burkina%20Faso%20-%20Construction%20and%20Asphalting%20of%20the%20Dedougou-Tougan%20and%20Kongoussi-%20Djibo%20Roads%20-%20ESIA%20Summary.pdf A10 Tender fr application/pdf http://www.afdb.org/fileadmin/uploads/afdb/Documents/Procurement/Project-related-Procurement/EOI_%E2%80%93_Burkina_Faso_-_Services_de_consultants_-_Contr%C3%B4le_et_surveillance_des_travaux_de_construction_et_de_bitumage_de_la_RN22___Section_2__dans_le_cadre_du_projet_d%E2%80%99am%C3%A9nagement_de_routes_de_d%C3%A9senclavement_interne_%E2%80%93_01_2015.pdf A01 A02 A03 A04 A05 A08 Appraisal report fr application/pdf http://www.afdb.org/fileadmin/uploads/afdb/Documents/Project-and-Operations/Burkina_Faso_-_Projet_d%E2%80%99am%C3%A9nagement_de_routes_de_d%C3%A9senclavement_-_Rapport_d_%C3%A9valuation_du_projet.pdf A01 A02 A03 A04 A05 A08 Appraisal report en application/pdf http://www.afdb.org/fileadmin/uploads/afdb/Documents/Project-and-Operations/Burkina_Faso_-_Upgrading_of_Access_Roads_Project_-_Appraisal_Report.pdf 2 2\n",
      "\n",
      "\n",
      "\n",
      "==================================================\n",
      "\n",
      "\n",
      "Activity 540054\n",
      "46002-P-MG-IBE-004\t12250 Social DAC 2012-01-30 1 2012-09-30 3 2012-04-30 4 MG Special Relief Funds SRF 1 CELLULE D'EXECUTION DES PROJETS SANTE 4 fr Madagascar - Aide d'urgence pour la lutte contre les épidémies de poliomyélite, de peste et de rage en 2 Toamasina -18.1492 49.4023 http://www.opengis.net/def/crs/EPSG/0/4326 1053384 G1 Populated Place 2 2 Vangaindrano -23.35 47.6 http://www.opengis.net/def/crs/EPSG/0/4326 1054329 G1 Populated Place 2 2 Tsiroanomandidy -18.7691 46.0501 http://www.opengis.net/def/crs/EPSG/0/4326 1054463 G1 Populated Place 2 2 Tsiombe -25.3 45.4833 http://www.opengis.net/def/crs/EPSG/0/4326 1054500 G1 Populated Place 2 2 Tsaratanana -16.7971 47.6517 http://www.opengis.net/def/crs/EPSG/0/4326 1055059 G1 Populated Place 2 2 Fort Dauphin -25.0325 46.9833 http://www.opengis.net/def/crs/EPSG/0/4326 1055433 G1 Populated Place 2 2 Soavinandriana -19.1667 46.7333 http://www.opengis.net/def/crs/EPSG/0/4326 1056151 G1 Populated Place 2 2 Sambava -14.2667 50.1667 http://www.opengis.net/def/crs/EPSG/0/4326 1056899 G1 Populated Place 2 2 Sakaraha -22.9 44.5333 http://www.opengis.net/def/crs/EPSG/0/4326 1057095 G1 Populated Place 2 2 Sainte-Marie -16.1333 46.9667 http://www.opengis.net/def/crs/EPSG/0/4326 1057215 G1 Populated Place 2 2 Nosy Be -13.3333 48.25 http://www.opengis.net/def/crs/EPSG/0/4326 1058090 G1 Populated Place 2 2 Morondava -20.2839 44.3176 http://www.opengis.net/def/crs/EPSG/0/4326 1058381 G1 Populated Place 2 2 Moramanga -18.9495 48.2301 http://www.opengis.net/def/crs/EPSG/0/4326 1058532 G1 Populated Place 2 2 Miarinarivo -18.95 46.9167 http://www.opengis.net/def/crs/EPSG/0/4326 1059011 G1 Populated Place 2 2 Manakara -22.1454 48.0157 http://www.opengis.net/def/crs/EPSG/0/4326 1061605 G1 Populated Place 2 2 Maintirano -22.0167 44.3667 http://www.opengis.net/def/crs/EPSG/0/4326 1061910 G1 Populated Place 2 2 Mahajanga -15.7167 46.3167 http://www.opengis.net/def/crs/EPSG/0/4326 1062663 G1 Populated Place 2 2 Maevatanana -16.95 46.8333 http://www.opengis.net/def/crs/EPSG/0/4326 1062842 G1 Populated Place 2 2 Ikongo -21.8833 47.4333 http://www.opengis.net/def/crs/EPSG/0/4326 1064234 G1 Populated Place 2 2 Ikalamavony -21.15 46.5833 http://www.opengis.net/def/crs/EPSG/0/4326 1064258 G1 Populated Place 2 2 Fenoarivobe -18.45 46.5667 http://www.opengis.net/def/crs/EPSG/0/4326 1064977 G1 Populated Place 2 2 Faratsiho -19.4 46.95 http://www.opengis.net/def/crs/EPSG/0/4326 1065140 G1 Populated Place 2 2 Fandriana -12.7667 48.9167 http://www.opengis.net/def/crs/EPSG/0/4326 1065223 G1 Populated Place 2 2 Betroka -23.2667 46.0833 http://www.opengis.net/def/crs/EPSG/0/4326 1066248 G1 Populated Place 2 2 Betioky -23.7167 44.3833 http://www.opengis.net/def/crs/EPSG/0/4326 1066310 G1 Populated Place 2 2 Betafo -19.8333 46.85 http://www.opengis.net/def/crs/EPSG/0/4326 1066514 G1 Populated Place 2 2 Beroroha -21.6667 45.1667 http://www.opengis.net/def/crs/EPSG/0/4326 1066831 G1 Populated Place 2 2 Benenitra -23.45 45.0833 http://www.opengis.net/def/crs/EPSG/0/4326 1067154 G1 Populated Place 2 2 Beloha -25.1667 45.05 http://www.opengis.net/def/crs/EPSG/0/4326 1067565 G1 Populated Place 2 2 Bekily -23.6 46.0167 http://www.opengis.net/def/crs/EPSG/0/4326 1067985 G1 Populated Place 2 2 Befandriana -15.2667 48.5333 http://www.opengis.net/def/crs/EPSG/0/4326 1068387 G1 Populated Place 2 2 Bealanana -14.55 48.7333 http://www.opengis.net/def/crs/EPSG/0/4326 1068670 G1 Populated Place 2 2 Arivonimamo -19.0167 47.1833 http://www.opengis.net/def/crs/EPSG/0/4326 1068865 G1 Populated Place 2 2 Antsiranana -12.2787 49.2917 http://www.opengis.net/def/crs/EPSG/0/4326 1069129 G1 Populated Place 2 2 Antsirabe -13.8667 48.2 http://www.opengis.net/def/crs/EPSG/0/4326 1069183 G1 Populated Place 2 2 Anosibe an' Ala -19.4333 48.2167 http://www.opengis.net/def/crs/EPSG/0/4326 1071486 G1 Populated Place 2 2 Ankazobe -18.3167 47.1167 http://www.opengis.net/def/crs/EPSG/0/4326 1072849 G1 Populated Place 2 2 Ankazoabo -22.2833 44.5167 http://www.opengis.net/def/crs/EPSG/0/4326 1072879 G1 Populated Place 2 2 Anjozorobe -18.4 47.8667 http://www.opengis.net/def/crs/EPSG/0/4326 1073482 G1 Populated Place 2 2 Andilamena -17.0101 48.5731 http://www.opengis.net/def/crs/EPSG/0/4326 1076194 G1 Populated Place 2 2 Amparafaravola -17.5876 48.2239 http://www.opengis.net/def/crs/EPSG/0/4326 1078446 G1 Populated Place 2 2 Ampanihy -24.2167 45.8667 http://www.opengis.net/def/crs/EPSG/0/4326 1078555 G1 Populated Place 2 2 Ambovombe -25.1784 46.0872 http://www.opengis.net/def/crs/EPSG/0/4326 1079048 G1 Populated Place 2 2 Ambositra -20.5303 47.2434 http://www.opengis.net/def/crs/EPSG/0/4326 1079088 G1 Populated Place 2 2 Ambohidratrimo -18.818 47.4338 http://www.opengis.net/def/crs/EPSG/0/4326 1080522 G1 Populated Place 2 2 Amboasary -25.0333 46.3833 http://www.opengis.net/def/crs/EPSG/0/4326 1081790 G1 Populated Place 2 2 Ambilobe -13.2 49.05 http://www.opengis.net/def/crs/EPSG/0/4326 1082243 G1 Populated Place 2 2 Ambatondrazaka -17.8333 48.4167 http://www.opengis.net/def/crs/EPSG/0/4326 1082639 G1 Populated Place 2 2 Ambatomainty -20.9 46.45 http://www.opengis.net/def/crs/EPSG/0/4326 1082888 G1 Populated Place 2 2 Ambatofinandrahana -20.5528 46.8036 http://www.opengis.net/def/crs/EPSG/0/4326 1083239 G1 Populated Place 2 1 Ambanjarafotsibe -16.15 46.9667 http://www.opengis.net/def/crs/EPSG/0/4326 1083697 G1 Administrative Region 2 2 Ambalavao -21.8333 46.9333 http://www.opengis.net/def/crs/EPSG/0/4326 1083968 G1 Populated Place 2 2 Andapa -14.6517 49.6206 http://www.opengis.net/def/crs/EPSG/0/4326 6297044 G1 Populated Place 2 1 Diana Region -13.5 49 http://www.opengis.net/def/crs/EPSG/0/4326 7670842 G1 Administrative Region 2 1 Sava Region -14.2 49.8 http://www.opengis.net/def/crs/EPSG/0/4326 7670846 G1 Administrative Region 2 1 Sofia Region -15.2 48.4 http://www.opengis.net/def/crs/EPSG/0/4326 7670847 G1 Administrative Region 2 1 Boeny Region -16.3 46.1 http://www.opengis.net/def/crs/EPSG/0/4326 7670849 G1 Administrative Region 2 1 Betsiboka Region -17.2 47.1 http://www.opengis.net/def/crs/EPSG/0/4326 7670850 G1 Administrative Region 2 1 Alaotra Mangoro Region -17.9 48.4 http://www.opengis.net/def/crs/EPSG/0/4326 7670851 G1 Administrative Region 2 1 Melaky Region -17.6 44.8 http://www.opengis.net/def/crs/EPSG/0/4326 7670852 G1 Administrative Region 2 1 Bongolava Region -18.5 46.1 http://www.opengis.net/def/crs/EPSG/0/4326 7670853 G1 Administrative Region 2 1 Vakinankaratra Region -19.7 46.9 http://www.opengis.net/def/crs/EPSG/0/4326 7670854 G1 Administrative Region 2 2 Itasy Region -18.95 46.95 http://www.opengis.net/def/crs/EPSG/0/4326 7670855 G1 Populated Place 2 2 Analamanga Region -18.45 47.5 http://www.opengis.net/def/crs/EPSG/0/4326 7670856 G1 Populated Place 2 1 Atsinanana Region -19 48.9 http://www.opengis.net/def/crs/EPSG/0/4326 7670857 G1 Administrative Region 2 2 Antananarivo-Atsimondrano -18.9275 47.6113 http://www.opengis.net/def/crs/EPSG/0/4326 7670898 G1 Populated Place 2 2 Manjakandriana -18.8376 47.7596 http://www.opengis.net/def/crs/EPSG/0/4326 7670899 G1 Populated Place 2 2 Menabe Region -20.2 45.07 http://www.opengis.net/def/crs/EPSG/0/4326 7670902 G1 Populated Place 2 2 Fianarantsoa I -21.4805 47.1338 http://www.opengis.net/def/crs/EPSG/0/4326 7670903 G1 Populated Place 2 1 Amoron'i Mania Region -20.5 46.7 http://www.opengis.net/def/crs/EPSG/0/4326 7670904 G1 Administrative Region 2 1 Haute Matsiatra Region -21.37 46.5 http://www.opengis.net/def/crs/EPSG/0/4326 7670905 G1 Administrative Region 2 1 Vatovavy Fitovinany Region -21.3 47.9 http://www.opengis.net/def/crs/EPSG/0/4326 7670906 G1 Administrative Region 2 2 Fianarantsoa II -21.4237 46.9975 http://www.opengis.net/def/crs/EPSG/0/4326 7670909 G1 Populated Place 2 1 Anosy Region -24.1 46.3 http://www.opengis.net/def/crs/EPSG/0/4326 7670910 G1 Administrative Region 2 1 Androy Region -24.75 45.5 http://www.opengis.net/def/crs/EPSG/0/4326 7670911 G1 Administrative Region 2 2 Ambohimahasoa -21.0681 47.1517 http://www.opengis.net/def/crs/EPSG/0/4326 7670912 G1 Populated Place 2 1 Atsimo-Andrefana Region -23.2 44.4 http://www.opengis.net/def/crs/EPSG/0/4326 7670913 G1 Administrative Region 2 2 Antsirabe II -19.8689 47.1484 http://www.opengis.net/def/crs/EPSG/0/4326 7670915 G1 Populated Place 2 2 Antanifotsy -19.7447 47.4813 http://www.opengis.net/def/crs/EPSG/0/4326 7670918 G1 Populated Place 2 2 Ambatolampy -19.4618 47.5501 http://www.opengis.net/def/crs/EPSG/0/4326 7670920 G1 Populated Place 2 2 Antsohihy -14.9625 48.0865 http://www.opengis.net/def/crs/EPSG/0/4326 7670921 G1 Populated Place 2 2 Mandritsara -15.9879 48.7165 http://www.opengis.net/def/crs/EPSG/0/4326 7670924 G1 Populated Place 2 2 Antananarivo-Avaradrano District -18.9999 47.5005 http://www.opengis.net/def/crs/EPSG/0/4326 7670936 G1 Populated Place 2 2 Antananarivo-Renivohitra District -18.9605 47.5661 http://www.opengis.net/def/crs/EPSG/0/4326 7670938 G1 Populated Place 2 2 Morombe District -22.096 43.774 http://www.opengis.net/def/crs/EPSG/0/4326 8299293 G1 Populated Place 2 2 Toliara II District -23.036 43.815 http://www.opengis.net/def/crs/EPSG/0/4326 8299676 G1 Populated Place 2 2 Toliara I District -23.29 43.701 http://www.opengis.net/def/crs/EPSG/0/4326 8299677 G1 Populated Place 2 true en please refer to the appraisal report below iati/afdb-madagascar.xml 2016-05-25T22:20:37 2.01 46002 40 African Development Bank Group 1 fr Fourniture de vaccins et de médicaments pour lutter contre les épidémies de poliomyélite antérieure aigue, de peste et de rage 46002-P-MG-IBE-004 1 2016-05-25T22:20:37 www.afdb.org ANDRIANARISATA John C. African Development Bank Group Headquarters Avenue Joseph Anoma 01 BP 1387 Abidjan 01, Côte d'Ivoire African Development Bank Group Country Programm Officier Chad Country Office/ Bureau National du TChad j.andrianarisata@afdb.org 2016-05-25T22:20:59 iati/afdb-madagascar.xml 4 D02 10 Special Relief Funds GOUVERNEMENT DE MADAGASCAR 651856.49 2012-01-30 110 5 2012-01-30 5000199002418 2 XDR A01 A02 A03 A04 A05 A08 Appraisal report fr application/pdf http://www.afdb.org/fileadmin/uploads/afdb/Documents/Project-and-Operations/Madagascar_-_LOTB_-_Aide_Urgence_Epid%C3%A9mies_Polio_Peste_et_Rage__Final_14_12_2011___2_-_Aide_d_urgence.pdf 2 3\n",
      "\n",
      "\n",
      "\n",
      "==================================================\n",
      "\n",
      "\n",
      "Activity 124447\n",
      "46002-P-BF-FA0-006\t23010 Power DAC 2010-09-15 1 2011-10-18 2 2016-12-31 3 2016-06-30 4 BF 1 2015-12-31 2010-01-01 1251.59 2015-12-31 2015-01-01 0.00 kilometers 1 Length of transmission and distribution lines rehabilitated or installed (km) 1 2015-12-31 2010-01-01 312.90 2015-12-31 2015-01-01 0.00 number 1 Distribution substations and transformers constructed or rehabilitated 1 2015-12-31 2010-01-01 13906.55 2015-12-31 2015-01-01 0.00 Number of people 1 People with a new electricity connection 1 2015-12-31 2010-01-01 556262.10 2015-12-31 2015-01-01 0.00 Number of people 1 People benefiting from new electricity connections African Development Fund 46003 1 40 Société Nationale d'électricité (SONABEL) 4 en Burkina Faso - Electricity Infrastructure Strengthening and Rural Electrification Project fr Burkina Faso - Projet de renforcement des infrastructures électriques et d'électrification rurale en 1 Province du zoundweogo 11.5833 -1 http://www.opengis.net/def/crs/EPSG/0/4326 2353169 G1 Administrative Region 2 2 zorgho 12.2489 -0.615833 http://www.opengis.net/def/crs/EPSG/0/4326 2353197 G1 Populated Place 2 2 ziniare 12.5822 -1.29833 http://www.opengis.net/def/crs/EPSG/0/4326 2353257 G1 Populated Place 2 2 ziga 12.5606 -1.10917 http://www.opengis.net/def/crs/EPSG/0/4326 2353293 G1 Populated Place 2 2 zeguedeguen 12.9572 -0.455278 http://www.opengis.net/def/crs/EPSG/0/4326 2353335 G1 Populated Place 2 2 zam 12.35 -0.816667 http://www.opengis.net/def/crs/EPSG/0/4326 2353414 G1 Populated Place 2 2 zabre 11.1825 -0.632222 http://www.opengis.net/def/crs/EPSG/0/4326 2353436 G1 Populated Place 2 2 Ye 12.6 -3.11667 http://www.opengis.net/def/crs/EPSG/0/4326 2353565 G1 Populated Place 2 1 Province du Yatenga 13.5833 -2.41667 http://www.opengis.net/def/crs/EPSG/0/4326 2353568 G1 Administrative Region 2 2 Yalgo 13.5833 -0.266667 http://www.opengis.net/def/crs/EPSG/0/4326 2353671 G1 Populated Place 2 2 Yako 12.9667 -2.26667 http://www.opengis.net/def/crs/EPSG/0/4326 2353688 G1 Populated Place 2 2 Yaba 12.8667 -2.86667 http://www.opengis.net/def/crs/EPSG/0/4326 2353717 G1 Populated Place 2 2 Tourny 10.7667 -5.15 http://www.opengis.net/def/crs/EPSG/0/4326 2354082 G1 Populated Place 2 2 Tougouri 13.3164 -0.5225 http://www.opengis.net/def/crs/EPSG/0/4326 2354162 G1 Populated Place 2 2 Tougan 13.0667 -3.06667 http://www.opengis.net/def/crs/EPSG/0/4326 2354176 G1 Populated Place 2 2 Toma 12.7667 -2.88333 http://www.opengis.net/def/crs/EPSG/0/4326 2354265 G1 Populated Place 2 2 Titao 13.7667 -2.06667 http://www.opengis.net/def/crs/EPSG/0/4326 2354349 G1 Populated Place 2 2 Tikare 13.2914 -1.72611 http://www.opengis.net/def/crs/EPSG/0/4326 2354492 G1 Populated Place 2 2 Tiebele 11.0972 -0.965556 http://www.opengis.net/def/crs/EPSG/0/4326 2354552 G1 Populated Place 2 2 Tibga 12.1692 0.0575 http://www.opengis.net/def/crs/EPSG/0/4326 2354575 G1 Populated Place 2 2 Tiou 13.8063 -2.66373 http://www.opengis.net/def/crs/EPSG/0/4326 2354633 G1 Populated Place 2 2 Tenkodogo 11.78 -0.369722 http://www.opengis.net/def/crs/EPSG/0/4326 2354675 G1 Populated Place 2 2 Toeni 13.3799 -3.2008 http://www.opengis.net/def/crs/EPSG/0/4326 2354688 G1 Populated Place 2 2 Tenado 12.2 -2.6 http://www.opengis.net/def/crs/EPSG/0/4326 2354692 G1 Populated Place 2 1 Province de la Tapoa 12 1.75 http://www.opengis.net/def/crs/EPSG/0/4326 2354771 G1 Administrative Region 2 2 Tanwolbougou 12.05 0.783333 http://www.opengis.net/def/crs/EPSG/0/4326 2354802 G1 Populated Place 2 2 Tassila 12.419 -4.3852 http://www.opengis.net/def/crs/EPSG/0/4326 2354830 G1 Populated Place 2 2 Tansarga 11.8753 1.86694 http://www.opengis.net/def/crs/EPSG/0/4326 2354841 G1 Populated Place 2 1 Province du Sourou 13.25 -3 http://www.opengis.net/def/crs/EPSG/0/4326 2355211 G1 Administrative Region 2 2 Sourgou 12.1333 -2.28333 http://www.opengis.net/def/crs/EPSG/0/4326 2355222 G1 Populated Place 2 1 Province du Soum 14.3333 -1.25 http://www.opengis.net/def/crs/EPSG/0/4326 2355248 G1 Administrative Region 2 2 Solenzo 12.1833 -4.08333 http://www.opengis.net/def/crs/EPSG/0/4326 2355404 G1 Populated Place 2 2 Sitenga 13.972 0.309556 http://www.opengis.net/def/crs/EPSG/0/4326 2355472 G1 Populated Place 2 1 Province de la Sissili 11.3333 -2.25 http://www.opengis.net/def/crs/EPSG/0/4326 2355474 G1 Administrative Region 2 2 Sindou 10.6667 -5.16667 http://www.opengis.net/def/crs/EPSG/0/4326 2355548 G1 Populated Place 2 2 Silmissin 12.2142 -1.56361 http://www.opengis.net/def/crs/EPSG/0/4326 2355575 G1 Populated Place 2 1 Province du Seno 13.9167 -0.166667 http://www.opengis.net/def/crs/EPSG/0/4326 2355737 G1 Administrative Region 2 2 Seguenega 13.4417 -1.96694 http://www.opengis.net/def/crs/EPSG/0/4326 2355779 G1 Populated Place 2 2 Sebba 13.4364 0.530443 http://www.opengis.net/def/crs/EPSG/0/4326 2355803 G1 Populated Place 2 2 Sapouy 11.5544 -1.77361 http://www.opengis.net/def/crs/EPSG/0/4326 2355869 G1 Populated Place 2 1 Province du Sanmatenga 13.25 -1.08333 http://www.opengis.net/def/crs/EPSG/0/4326 2355914 G1 Administrative Region 2 1 Province du Sanguie 12.1667 -2.66667 http://www.opengis.net/def/crs/EPSG/0/4326 2355930 G1 Administrative Region 2 2 Sanaba 12.4167 -3.81667 http://www.opengis.net/def/crs/EPSG/0/4326 2355975 G1 Populated Place 2 2 Rouko 13.2103 -1.63595 http://www.opengis.net/def/crs/EPSG/0/4326 2356186 G1 Populated Place 2 2 Rollo 13.5994 -1.70583 http://www.opengis.net/def/crs/EPSG/0/4326 2356197 G1 Populated Place 2 2 Reo 12.3167 -2.46667 http://www.opengis.net/def/crs/EPSG/0/4326 2356228 G1 Populated Place 2 2 Pouytenga 12.2525 -0.426944 http://www.opengis.net/def/crs/EPSG/0/4326 2356300 G1 Populated Place 2 1 Province du Poni 10.25 -3.41667 http://www.opengis.net/def/crs/EPSG/0/4326 2356386 G1 Administrative Region 2 2 Po 11.1697 -1.145 http://www.opengis.net/def/crs/EPSG/0/4326 2356454 G1 Populated Place 2 2 Pissila 13.1642 -0.8225 http://www.opengis.net/def/crs/EPSG/0/4326 2356467 G1 Populated Place 2 2 Piela 12.7103 -0.1325 http://www.opengis.net/def/crs/EPSG/0/4326 2356530 G1 Populated Place 2 2 Pibaore 12.9 -0.816667 http://www.opengis.net/def/crs/EPSG/0/4326 2356536 G1 Populated Place 2 1 Province du Passore 12.9167 -2.16667 http://www.opengis.net/def/crs/EPSG/0/4326 2356667 G1 Administrative Region 2 2 Pama 11.2497 0.7075 http://www.opengis.net/def/crs/EPSG/0/4326 2356738 G1 Populated Place 2 2 Pa 11.55 -3.25 http://www.opengis.net/def/crs/EPSG/0/4326 2356766 G1 Populated Place 2 1 Province de l' Oudalan 14.6667 -0.33333 http://www.opengis.net/def/crs/EPSG/0/4326 2356982 G1 Administrative Region 2 1 Province d' Oubritenga 12.5833 -1.41667 http://www.opengis.net/def/crs/EPSG/0/4326 2356983 G1 Administrative Region 2 2 Ouargaye 11.5033 0.0572222 http://www.opengis.net/def/crs/EPSG/0/4326 2357012 G1 Populated Place 2 2 Ouahigouya 13.5828 -2.42158 http://www.opengis.net/def/crs/EPSG/0/4326 2357043 G1 Populated Place 2 2 Ouagadougou 12.3642 -1.53834 http://www.opengis.net/def/crs/EPSG/0/4326 2357048 G1 Populated Place 2 2 Nouna 12.7333 -3.86667 http://www.opengis.net/def/crs/EPSG/0/4326 2357163 G1 Populated Place 2 2 Niofila 10.6667 -5.1 http://www.opengis.net/def/crs/EPSG/0/4326 2357275 G1 Populated Place 2 2 Niangoloko 10.2833 -4.91667 http://www.opengis.net/def/crs/EPSG/0/4326 2357371 G1 Populated Place 2 1 Province du Nahouri 11.25 -1.25 http://www.opengis.net/def/crs/EPSG/0/4326 2357548 G1 Administrative Region 2 2 Nanoro 12.6833 -2.2 http://www.opengis.net/def/crs/EPSG/0/4326 2357560 G1 Populated Place 2 2 Nandiala 12.3333 -2.16667 http://www.opengis.net/def/crs/EPSG/0/4326 2357583 G1 Populated Place 2 2 Namssiguia 13.8317 -1.60816 http://www.opengis.net/def/crs/EPSG/0/4326 2357598 G1 Populated Place 2 1 Province du Namentenga 13.25 -0.583333 http://www.opengis.net/def/crs/EPSG/0/4326 2357611 G1 Administrative Region 2 1 Province du Mouhoun 12.25 -3.41667 http://www.opengis.net/def/crs/EPSG/0/4326 2357858 G1 Administrative Region 2 2 Mogtedo 12.2844 -0.837222 http://www.opengis.net/def/crs/EPSG/0/4326 2357931 G1 Populated Place 2 2 Markoye 14.6433 0.036111 http://www.opengis.net/def/crs/EPSG/0/4326 2358043 G1 Populated Place 2 2 Mani 13.26 -0.209444 http://www.opengis.net/def/crs/EPSG/0/4326 2358085 G1 Populated Place 2 2 Manga 11.6636 -1.07306 http://www.opengis.net/def/crs/EPSG/0/4326 2358100 G1 Populated Place 2 2 Mane 12.9886 -1.33972 http://www.opengis.net/def/crs/EPSG/0/4326 2358109 G1 Populated Place 2 2 Madiagoune 11.1667 0.833333 http://www.opengis.net/def/crs/EPSG/0/4326 2358176 G1 Populated Place 2 2 Loropeni 10.3 -3.53333 http://www.opengis.net/def/crs/EPSG/0/4326 2358241 G1 Populated Place 2 2 Leo 11.1 -2.1 http://www.opengis.net/def/crs/EPSG/0/4326 2358382 G1 Populated Place 2 2 Lankoe 13.2459 -2.58355 http://www.opengis.net/def/crs/EPSG/0/4326 2358489 G1 Populated Place 2 2 Lanfiera 12.9833 -3.41667 http://www.opengis.net/def/crs/EPSG/0/4326 2358493 G1 Populated Place 2 1 Province du Kouritenga 12 -0.166667 http://www.opengis.net/def/crs/EPSG/0/4326 2358700 G1 Administrative Region 2 2 Koupela 12.1794 -0.351667 http://www.opengis.net/def/crs/EPSG/0/4326 2358738 G1 Populated Place 2 2 Koungny 12.7833 -3.11667 http://www.opengis.net/def/crs/EPSG/0/4326 2358755 G1 Populated Place 2 2 Koumbri 13.8478 -2.41718 http://www.opengis.net/def/crs/EPSG/0/4326 2358786 G1 Populated Place 2 2 Kouka 11.8982 -4.33785 http://www.opengis.net/def/crs/EPSG/0/4326 2358899 G1 Populated Place 2 2 Koudougou 12.25 -2.36667 http://www.opengis.net/def/crs/EPSG/0/4326 2358946 G1 Populated Place 2 1 Province de la Kossi 12.9167 -3.83333 http://www.opengis.net/def/crs/EPSG/0/4326 2359027 G1 Administrative Region 2 2 Korsimoro 12.8233 -1.07 http://www.opengis.net/def/crs/EPSG/0/4326 2359042 G1 Populated Place 2 2 Kongoussi 13.3258 -1.53472 http://www.opengis.net/def/crs/EPSG/0/4326 2359142 G1 Populated Place 2 1 Province de la Comoe 10.3333 -4.41667 http://www.opengis.net/def/crs/EPSG/0/4326 2359209 G1 Administrative Region 2 2 Kombori 13.4359 -3.9403 http://www.opengis.net/def/crs/EPSG/0/4326 2359224 G1 Populated Place 2 2 Kombissiri 12.0656 -1.3375 http://www.opengis.net/def/crs/EPSG/0/4326 2359227 G1 Populated Place 2 2 Kokologo 12.1897 -1.88556 http://www.opengis.net/def/crs/EPSG/0/4326 2359317 G1 Populated Place 2 2 Kiembara 13.2395 -2.73111 http://www.opengis.net/def/crs/EPSG/0/4326 2359527 G1 Populated Place 2 1 Province du Kenedougou 11.4167 -5 http://www.opengis.net/def/crs/EPSG/0/4326 2359569 G1 Administrative Region 2 2 Kaya 13.0917 -1.08444 http://www.opengis.net/def/crs/EPSG/0/4326 2359608 G1 Populated Place 2 2 Kassoum 13.0788 -3.3024 http://www.opengis.net/def/crs/EPSG/0/4326 2359629 G1 Populated Place 2 2 Kantchari 12.4756 1.51162 http://www.opengis.net/def/crs/EPSG/0/4326 2359723 G1 Populated Place 2 2 Kampti 10.1333 -3.45 http://www.opengis.net/def/crs/EPSG/0/4326 2359817 G1 Populated Place 2 1 Province du Kadiogo 12.3333 -1.5 http://www.opengis.net/def/crs/EPSG/0/4326 2359923 G1 Administrative Region 2 2 Imassogo 12.4333 -2.33333 http://www.opengis.net/def/crs/EPSG/0/4326 2360040 G1 Populated Place 2 2 Hounde 11.5 -3.51667 http://www.opengis.net/def/crs/EPSG/0/4326 2360073 G1 Populated Place 2 1 Province du Houet 11.3333 -4.25 http://www.opengis.net/def/crs/EPSG/0/4326 2360075 G1 Administrative Region 2 2 Guiaro 11.3689 -1.37722 http://www.opengis.net/def/crs/EPSG/0/4326 2360172 G1 Populated Place 2 1 Province du Gourma 12.0833 0.5 http://www.opengis.net/def/crs/EPSG/0/4326 2360223 G1 Administrative Region 2 2 Gourcy 13.2167 -2.35 http://www.opengis.net/def/crs/EPSG/0/4326 2360238 G1 Populated Place 2 2 Gossina 12.5333 -2.86667 http://www.opengis.net/def/crs/EPSG/0/4326 2360351 G1 Populated Place 2 2 Gorom-Gorom 14.4439 -0.236111 http://www.opengis.net/def/crs/EPSG/0/4326 2360372 G1 Populated Place 2 2 Gomboro 13.4846 -2.77637 http://www.opengis.net/def/crs/EPSG/0/4326 2360446 G1 Populated Place 2 1 Province de la Gnagna 12.9188 0.0392 http://www.opengis.net/def/crs/EPSG/0/4326 2360516 G1 Administrative Region 2 2 Gayeri 12.6497 0.493056 http://www.opengis.net/def/crs/EPSG/0/4326 2360541 G1 Populated Place 2 2 Gassan 12.8167 -3.2 http://www.opengis.net/def/crs/EPSG/0/4326 2360560 G1 Populated Place 2 2 Garango 11.8 -0.550556 http://www.opengis.net/def/crs/EPSG/0/4326 2360615 G1 Populated Place 2 1 Province du Ganzourgou 12.3333 -0.75 http://www.opengis.net/def/crs/EPSG/0/4326 2360627 G1 Administrative Region 2 2 Fara 11.5333 -2.76667 http://www.opengis.net/def/crs/EPSG/0/4326 2360855 G1 Populated Place 2 2 Fada N'Gourma 12.0622 0.357778 http://www.opengis.net/def/crs/EPSG/0/4326 2360886 G1 Populated Place 2 2 Douna 10.6167 -5.11667 http://www.opengis.net/def/crs/EPSG/0/4326 2361018 G1 Populated Place 2 2 Doumbara 12.9093 -4.1705 http://www.opengis.net/def/crs/EPSG/0/4326 2361026 G1 Populated Place 2 2 Dori 14.0354 -0.0345 http://www.opengis.net/def/crs/EPSG/0/4326 2361082 G1 Populated Place 2 2 Dokui 12.5431 -4.1116 http://www.opengis.net/def/crs/EPSG/0/4326 2361138 G1 Populated Place 2 2 Djibo 14.1022 -1.63056 http://www.opengis.net/def/crs/EPSG/0/4326 2361177 G1 Populated Place 2 2 Djibasso 13.1221 -4.1563 http://www.opengis.net/def/crs/EPSG/0/4326 2361178 G1 Populated Place 2 2 Dissini 10.9333 -2.93333 http://www.opengis.net/def/crs/EPSG/0/4326 2361188 G1 Populated Place 2 2 Diebougou 10.9667 -3.25 http://www.opengis.net/def/crs/EPSG/0/4326 2361342 G1 Populated Place 2 2 Diapaga 12.0708 1.78889 http://www.opengis.net/def/crs/EPSG/0/4326 2361373 G1 Populated Place 2 2 Diabo 12.0167 -0.033333 http://www.opengis.net/def/crs/EPSG/0/4326 2361417 G1 Populated Place 2 2 Di 13.169 -3.4151 http://www.opengis.net/def/crs/EPSG/0/4326 2361424 G1 Populated Place 2 2 Dedougou 12.4667 -3.46667 http://www.opengis.net/def/crs/EPSG/0/4326 2361477 G1 Populated Place 2 2 Dapelogo 12.6692 -1.53444 http://www.opengis.net/def/crs/EPSG/0/4326 2361567 G1 Populated Place 2 2 Dano 11.15 -3.06667 http://www.opengis.net/def/crs/EPSG/0/4326 2361586 G1 Populated Place 2 2 Gomboussougou 11.4261 -0.772778 http://www.opengis.net/def/crs/EPSG/0/4326 2361778 G1 Populated Place 2 2 Bousse 12.6606 -1.89222 http://www.opengis.net/def/crs/EPSG/0/4326 2361845 G1 Populated Place 2 2 Bourzanga 13.6781 -1.54611 http://www.opengis.net/def/crs/EPSG/0/4326 2361853 G1 Populated Place 2 2 Bourasso 12.6333 -3.71667 http://www.opengis.net/def/crs/EPSG/0/4326 2361894 G1 Populated Place 2 2 Boulsa 12.6675 -0.575833 http://www.opengis.net/def/crs/EPSG/0/4326 2361946 G1 Populated Place 2 1 Province du Boulkiemde 12.3333 -2.16667 http://www.opengis.net/def/crs/EPSG/0/4326 2361988 G1 Administrative Region 2 1 Province du Boulgou 11.5 -0.5 http://www.opengis.net/def/crs/EPSG/0/4326 2362006 G1 Administrative Region 2 1 Province de la Bougouriba 10.8333 -3.41667 http://www.opengis.net/def/crs/EPSG/0/4326 2362047 G1 Administrative Region 2 2 Bogoya 13.6351 -2.42566 http://www.opengis.net/def/crs/EPSG/0/4326 2362145 G1 Populated Place 2 2 Boromo 11.75 -2.93333 http://www.opengis.net/def/crs/EPSG/0/4326 2362150 G1 Populated Place 2 2 Bogande 12.9714 -0.143611 http://www.opengis.net/def/crs/EPSG/0/4326 2362323 G1 Populated Place 2 2 Bobo-Dioulasso 11.1772 -4.2979 http://www.opengis.net/def/crs/EPSG/0/4326 2362344 G1 Populated Place 2 2 Boala 12.8833 -0.7 http://www.opengis.net/def/crs/EPSG/0/4326 2362359 G1 Populated Place 2 2 Bittou 11.2581 -0.306111 http://www.opengis.net/def/crs/EPSG/0/4326 2362376 G1 Populated Place 2 2 Bilanga 12.5478 -0.0361111 http://www.opengis.net/def/crs/EPSG/0/4326 2362499 G1 Populated Place 2 1 Province du Bazega 11.9167 -1.5 http://www.opengis.net/def/crs/EPSG/0/4326 2362644 G1 Administrative Region 2 2 Batie 9.88333 -2.91667 http://www.opengis.net/def/crs/EPSG/0/4326 2362669 G1 Populated Place 2 2 Barsalogo 13.4139 -1.05583 http://www.opengis.net/def/crs/EPSG/0/4326 2362735 G1 Populated Place 2 2 Barani 13.1691 -3.8899 http://www.opengis.net/def/crs/EPSG/0/4326 2362781 G1 Populated Place 2 2 Bani 14.0153 -1.70085 http://www.opengis.net/def/crs/EPSG/0/4326 2362863 G1 Populated Place 2 2 Banfora 10.6333 -4.76667 http://www.opengis.net/def/crs/EPSG/0/4326 2362909 G1 Populated Place 2 1 Province du Bam 13.5 -1.66667 http://www.opengis.net/def/crs/EPSG/0/4326 2362973 G1 Administrative Region 2 2 Balave 12.3742 -4.1532 http://www.opengis.net/def/crs/EPSG/0/4326 2363004 G1 Populated Place 2 2 Bagassi 11.75 -3.3 http://www.opengis.net/def/crs/EPSG/0/4326 2363072 G1 Populated Place 2 2 Gaoua 10.2992 -3.25083 http://www.opengis.net/def/crs/EPSG/0/4326 2577162 G1 Populated Place 2 2 Orodara 10.9492 -4.93417 http://www.opengis.net/def/crs/EPSG/0/4326 2577164 G1 Populated Place 2 1 Province des Bale 11.7 -3.16667 http://www.opengis.net/def/crs/EPSG/0/4326 2597248 G1 Administrative Region 2 1 Province du Ioba 11.0833 -3.08333 http://www.opengis.net/def/crs/EPSG/0/4326 2597251 G1 Administrative Region 2 1 Province de la Komandjoari 12.6667 0.666667 http://www.opengis.net/def/crs/EPSG/0/4326 2597259 G1 Administrative Region 2 1 Province de la Kompienga 11.4167 0.916667 http://www.opengis.net/def/crs/EPSG/0/4326 2597260 G1 Administrative Region 2 1 Province du Koulpelogo 11.4167 0.166667 http://www.opengis.net/def/crs/EPSG/0/4326 2597261 G1 Administrative Region 2 1 Province du Kourweogo 12.5833 -1.8 http://www.opengis.net/def/crs/EPSG/0/4326 2597262 G1 Administrative Region 2 1 Province de la Leraba 10.6667 -5.2 http://www.opengis.net/def/crs/EPSG/0/4326 2597263 G1 Administrative Region 2 1 Province du Loroum 13.9167 -2.16667 http://www.opengis.net/def/crs/EPSG/0/4326 2597264 G1 Administrative Region 2 1 Province du Nayala 12.6667 -3 http://www.opengis.net/def/crs/EPSG/0/4326 2597265 G1 Administrative Region 2 1 Province du Tuy 11.4167 -3.41667 http://www.opengis.net/def/crs/EPSG/0/4326 2597267 G1 Administrative Region 2 1 Province du Yagha 13.4167 0.583333 http://www.opengis.net/def/crs/EPSG/0/4326 2597268 G1 Administrative Region 2 1 Province du zondoma 13.1667 -2.16667 http://www.opengis.net/def/crs/EPSG/0/4326 2597270 G1 Administrative Region 2 2 Bomborokui 13.0075 -3.96081 http://www.opengis.net/def/crs/EPSG/0/4326 6875024 G1 Populated Place 2 2 Bagre 11.4824 -0.51695 http://www.opengis.net/def/crs/EPSG/0/4326 7701508 G1 Populated Place 2 2 Tanema 11.9445 -0.77344 http://www.opengis.net/def/crs/EPSG/0/4326 7701512 G1 Populated Place 2 true en please refer to the appraisal report below iati/afdb-burkinafaso.xml 2016-05-25T22:45:02 2.01 46002 40 African Development Bank Group 2 fr Le projet a pour objectif spécifique d'assurer (i) l'accès à l'électricité de 160 localités rurales présentant un potentiel immédiat de près de 43 000 nouveaux consommateurs ; et (ii) l'électrification de 48 centres isolés identifiés par la Sonabel. 46002-P-BF-FA0-006 1 2016-05-25T22:45:02 www.afdb.org MOUSSA Adama African Development Bank Group Headquarters Avenue Joseph Anoma 01 BP 1387 Abidjan 01, Côte d'Ivoire African Development Bank Group Power Engineer Morocco Country Office/ Bureau National du Maroc a.d.moussa@afdb.org 2016-05-25T22:45:54 iati/afdb-burkinafaso.xml 4 C01 10 African Development Fund GOUVERNEMENT DE LA REPUBLIQUE DU BURKINA MINISTERE DE L'ECONOMIE ET DES FINANCES 25150000.00 2010-09-15 110 5 2010-09-15 2100155018668 2 2011-12-31 African Development Fund 3 267083.93 2011-12-31 Total Disbursement in Fourth Quarter of 2011 2012-09-30 African Development Fund 3 14757.47 2012-09-30 Total Disbursement in Third Quarter of 2012 2012-12-31 African Development Fund 3 1899218.04 2012-12-31 Total Disbursement in Fourth Quarter of 2012 2013-03-31 African Development Fund 3 5851.99 2013-03-31 Total Disbursement in First Quarter of 2013 2013-06-30 African Development Fund 3 5290404.31 2013-06-30 Total Disbursement in Second Quarter of 2013 2013-09-30 African Development Fund 3 2428381.16 2013-09-30 Total Disbursement in Third Quarter of 2013 2013-12-31 African Development Fund 3 4865723.34 2013-12-31 Total Disbursement in Fourth Quarter of 2013 2014-03-31 African Development Fund 3 3215460.68 2014-03-31 Total Disbursement in First Quarter of 2014 2014-06-30 African Development Fund 3 2112839.85 2014-06-30 Total Disbursement in Second Quarter of 2014 2014-09-30 African Development Fund 3 2063202.50 2014-09-30 Total Disbursement in Third Quarter of 2014 2014-12-31 African Development Fund 3 1300825.77 2014-12-31 Total Disbursement in Fourth Quarter of 2014 2015-03-31 African Development Fund 3 43580.58 2015-03-31 Total Disbursement in First Quarter of 2015 2015-06-30 African Development Fund 3 51664.68 2015-06-30 Total Disbursement in Second Quarter of 2015 2015-09-30 African Development Fund 3 56449.01 2015-09-30 Total Disbursement in Third Quarter of 2015 2015-12-31 African Development Fund 3 135191.54 2015-12-31 Total Disbursement in Fourth Quarter of 2015 2016-03-31 African Development Fund 3 788003.74 2016-03-31 Total Disbursement in First Quarter of 2016 XDR A12 Activity Web Site fr WebPage http://www.afdb.org/en/projects-and-operations/project-portfolio/project/p-bf-fa0-006/ A06 A11 Contract fr application/pdf http://www.afdb.org/fileadmin/uploads/afdb/Documents/Procurement/Project-related-Procurement/AwardBurkinaPRIELER%20%207-12.pdf A06 A11 Contract fr application/pdf http://www.afdb.org/fileadmin/uploads/afdb/Documents/Procurement/Project-related-Procurement/Burkina%20Faso%20-%20Publication%20de%20d%E2%80%99attribution%20de%20marches%20de%20biens%20et%20travaux%20%28LOT%201%29%20-%20Attribution%20des%20march%C3%A9s.pdf A06 A11 Contract fr application/pdf http://www.afdb.org/fileadmin/uploads/afdb/Documents/Procurement/Project-related-Procurement/Burkina%20Faso%20-%20Publication%20de%20l%E2%80%99attribution%20de%20marches%20de%20biens%20et%20travaux%20%28LOT%202%29%20-%20Attribution%20des%20march%C3%A9s.pdf A01 A02 A03 A04 A05 A08 Appraisal report en application/pdf http://www.afdb.org/fileadmin/uploads/afdb/Documents/Project-and-Operations/Burkina_Faso_-_Electricity_Infrastructure_Strengthening_and_Rural_Electrification_Project_-_Appraisal_Report.pdf 2 2\n",
      "\n",
      "\n",
      "\n",
      "==================================================\n",
      "\n",
      "\n"
     ]
    }
   ],
   "source": [
    "#TODO: Test this new function\n",
    "# t0 = time()\n",
    "# vectorizer = TfidfVectorizer(max_df = 0.8, stop_words = 'english', decode_error = 'ignore') #needed for function\n",
    "# vectorizer.fit(data)\n",
    "# print \"Vectorizer is working in %0.3fs\" % (time() - t0)\n",
    "\n",
    "\n",
    "#Used for a new project that is not in our list\n",
    "def NewProjectSearch(text, num_neighbors = 5):\n",
    "    newMatrix = vectorizer.transform([text]) #make new tfidf entry\n",
    "    similarity_matrix = cosine_similarity(newMatrix, tf_matrix)\n",
    "    sorted_matrix = np.argsort(similarity_matrix[0])\n",
    "    nearest = sorted_matrix[-num_neighbors:]\n",
    "    return nearest[::-1]\n",
    "\n",
    "activity = \"Agricultural projects in Libya taking place from 2003 to 2014\"\n",
    "nums = NewProjectSearch(activity)\n",
    "print nums\n",
    "for number in nums:\n",
    "    print 'Activity ' + str(number)\n",
    "    print data[number]\n",
    "    print '\\n'\n",
    "    print '=' * 50\n",
    "    print '\\n'"
   ]
  },
  {
   "cell_type": "markdown",
   "metadata": {
    "collapsed": true
   },
   "source": [
    "\n",
    "Original Run: [     0 229910  49041    574 229808]\n",
    "With Ignore Vectorizer: [587159 195716 195722 195721 195720]"
   ]
  },
  {
   "cell_type": "code",
   "execution_count": 38,
   "metadata": {
    "collapsed": false
   },
   "outputs": [
    {
     "name": "stdout",
     "output_type": "stream",
     "text": [
      "1531310\n"
     ]
    }
   ],
   "source": [
    "stuff = vectorizer.get_feature_names()\n",
    "print stuff[249873]"
   ]
  },
  {
   "cell_type": "code",
   "execution_count": 11,
   "metadata": {
    "collapsed": false
   },
   "outputs": [
    {
     "name": "stdout",
     "output_type": "stream",
     "text": [
      "US-11-998-70-1037407935\t2014-02-11 2 5 USA US-USAGOV 1 10 U.S. Department of State US-11 2 10 U.S. Department of State US-11 3 10 Rp Fed Vendor 4 10 Not Applicable en 1 4 Developing countries, unspecified 1 2014-02-11T00:00:00 0 iati/unitedstates-developing_countries_unspecified_us_department_of_state_3.xml 2016-02-16T23:17:00 http://www.foreignassistance.gov/web/IATI/usg-extension 2.01 US-USAGOV 10 USA Award Description - The description for this item is Administrative Expenses US-11-998-70-1037407935 3 2016-02-16T23:17:00 http://www.foreignassistance.gov General Inquiry 2201 C Street Northwest, Washington, DC 20520 U.S. Department of State +1 202-647-8471 1 foreignassistanceweb@state.gov 2016-02-16T23:17:00 110 C01 iati/unitedstates-developing_countries_unspecified_us_department_of_state_3.xml 1 720 Emergency Response 2 7001 Protection, Assistance and Solutions 99 2014-12-31 2 -179.43 2014-12-31 1143 Migration and Refugee Assistance 19 2014 0 720 Emergency Response 2 7001 Protection, Assistance and Solutions 99 2014-05-31 3 220.57 2014-05-31 1143 Migration and Refugee Assistance 19 2014 0 720 Emergency Response 2 7001 Protection, Assistance and Solutions 99 2014-02-28 2 400.00 2014-02-28 1143 Migration and Refugee Assistance 19 2014 0 US-11-998-70 1 USD 1 Developing countries, unspecified 998 100 1 3 10\n",
      "\n",
      "====================================================================================================\n",
      "['XM-OCHA-FTS-CAR-15/WS/94358/R/14879', '72010', 'Material', 'relief', 'assistance', 'and', 'services', '1', '4', 'Water', 'and', 'Sanitation', '99', '2015-01-01', '1', '2015-12-31', '3', 'CF', 'Central', 'African', 'Republic', '2015', 'nothing', 'XM-OCHA-FTS14879', '4', 'Premi\\xc3\\xa8re', 'Urgence', '-', 'Aide', 'M\\xc3\\xa9dicale', 'Internationale', 'Common', 'Humanitarian', 'Fund', 'XM-OCHA-FTS7622', '1', '40', '0', 'nothing', 'Water', 'and', 'Sanitation', 'en', 'HRP', '50', 'nothing', 'CAR-15/WS/94358/R/14879', 'A1', 'XM-OCHA-FTS', 'UN', 'OCHA', 'Financial', 'Tracking', 'Service', 'iati/ocha_fts-central_african_republic_2015.xml', '2016-05-30T04:06:39', 'http://fts.unocha.org', '2.01', 'XM-OCHA-FTS', '40', '1', 'UNOCHA-FTS', '2', 'n/a', 'XM-OCHA-FTS-CAR-15/WS/94358/R/14879', '1', 'D.', 'NOT', 'SPECIFIED', 'nothing', '2016-05-30T04:06:39', '2016-04-29T09:58:00', 'iati/ocha_fts-central_african_republic_2015.xml', 'XM-OCHA-FTS7622', 'Common', 'Humanitarian', 'Fund', 'XM-OCHA-FTS14879', 'Premi\\xc3\\xa8re', 'Urgence', '-', 'Aide', 'M\\xc3\\xa9dicale', 'Internationale', '92533', '2016-03-25', '110', '2016-03-25', '248569', '2', 'Allocation', '1', 'nothing', 'USD', 'Central', 'African', 'Republic', '2015', 'nothing', '2015-12-31', '2015-01-01', '1', '0', '2015-01-01', '2015-12-31', '2015-01-01', '2', '0', '2015-01-01', '2', 'WATER,', 'SANITATION', 'AND', 'HYGIENE', 'nothing']\n"
     ]
    }
   ],
   "source": [
    "print data[1]\n",
    "print '=' * 100\n",
    "print data[0].split()"
   ]
  },
  {
   "cell_type": "code",
   "execution_count": null,
   "metadata": {
    "collapsed": true
   },
   "outputs": [],
   "source": []
  }
 ],
 "metadata": {
  "kernelspec": {
   "display_name": "Python 2",
   "language": "python",
   "name": "python2"
  },
  "language_info": {
   "codemirror_mode": {
    "name": "ipython",
    "version": 2
   },
   "file_extension": ".py",
   "mimetype": "text/x-python",
   "name": "python",
   "nbconvert_exporter": "python",
   "pygments_lexer": "ipython2",
   "version": "2.7.11"
  }
 },
 "nbformat": 4,
 "nbformat_minor": 0
}
