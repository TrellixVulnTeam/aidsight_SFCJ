{
 "cells": [
  {
   "cell_type": "markdown",
   "metadata": {},
   "source": [
    "# Feature creation pipeline to operationalize data quality\n",
    "\n",
    "# Aspirational TODO list\n",
    "- How many different versions of the standard are we using\n",
    "- Build a flag for invalid reporting-org indications, add to features dict\n",
    "- Are there any other description contents to calculate (\"Wow, there's a lot of txn info here!\") - Do this on server side\n",
    "\n",
    "### Initial Setup"
   ]
  },
  {
   "cell_type": "code",
   "execution_count": 54,
   "metadata": {
    "collapsed": true
   },
   "outputs": [],
   "source": [
    "from __future__ import division,print_function\n",
    "\n",
    "import os\n",
    "import sys\n",
    "import json\n",
    "import re\n",
    "import time\n",
    "import pickle\n",
    "import requests\n",
    "import six\n",
    "from datetime import datetime\n",
    "from collections import Counter\n",
    "from operator import add\n",
    "\n",
    "import pandas as pd\n",
    "import pymongo\n",
    "\n",
    "from sklearn.feature_extraction.text import TfidfVectorizer\n",
    "from sklearn.feature_extraction.text import CountVectorizer\n",
    "from sklearn.metrics.pairwise import cosine_similarity\n",
    "\n",
    "from pprint import PrettyPrinter\n",
    "p=PrettyPrinter()"
   ]
  },
  {
   "cell_type": "code",
   "execution_count": 2,
   "metadata": {
    "collapsed": false
   },
   "outputs": [
    {
     "data": {
      "text/plain": [
       "[u'db_followers', u'db_tweets', u'iati', u'irs', u'local', u'MIDS1-w205']"
      ]
     },
     "execution_count": 2,
     "metadata": {},
     "output_type": "execute_result"
    }
   ],
   "source": [
    "conn=pymongo.MongoClient()\n",
    "\n",
    "# Check database names to test connection and see what's here\n",
    "conn.database_names()"
   ]
  },
  {
   "cell_type": "code",
   "execution_count": 16,
   "metadata": {
    "collapsed": false
   },
   "outputs": [
    {
     "data": {
      "text/plain": [
       "[u'activities',\n",
       " u'activities_archive',\n",
       " u'cleaned_orgs',\n",
       " u'cleaned_orgs_full',\n",
       " u'first_pass_activities',\n",
       " u'system.indexes',\n",
       " u'xml_docs']"
      ]
     },
     "execution_count": 16,
     "metadata": {},
     "output_type": "execute_result"
    }
   ],
   "source": [
    "# Make iati database\n",
    "db = conn.iati\n",
    "\n",
    "# Create collection objects for easy reference later\n",
    "activities=db.activities\n",
    "metadata=db.metadata\n",
    "\n",
    "#Verify contents of database\n",
    "db.collection_names()"
   ]
  },
  {
   "cell_type": "code",
   "execution_count": null,
   "metadata": {
    "collapsed": false
   },
   "outputs": [],
   "source": [
    "#Archive old activities collection in case we screw something up\n",
    "#activities.rename('activities_archive')"
   ]
  },
  {
   "cell_type": "code",
   "execution_count": null,
   "metadata": {
    "collapsed": true
   },
   "outputs": [],
   "source": [
    "#restore activities\n",
    "!mongorestore ./dump"
   ]
  },
  {
   "cell_type": "code",
   "execution_count": 4,
   "metadata": {
    "collapsed": false
   },
   "outputs": [
    {
     "name": "stdout",
     "output_type": "stream",
     "text": [
      "587828\n"
     ]
    }
   ],
   "source": [
    "print(activities.count())"
   ]
  },
  {
   "cell_type": "code",
   "execution_count": 5,
   "metadata": {
    "collapsed": false
   },
   "outputs": [],
   "source": [
    "#Load a test record into memory so we have it on hand for later\n",
    "activity=activities.find_one({'iati-identifier':'XM-DAC-41114-PROJECT-00047321'})"
   ]
  },
  {
   "cell_type": "markdown",
   "metadata": {},
   "source": [
    "## Define activity-level feature creation functions\n",
    "\n",
    "We're going to establish three different types of features\n",
    "- Completeness (does the activity have the data needed to be useful)\n",
    "- Compliance (does the numeric data in activity appear to be naturally generated)\n",
    "- Utility (is the activity likely to be practically useful to a human reader)\n",
    "\n",
    "### Completeness features"
   ]
  },
  {
   "cell_type": "code",
   "execution_count": 6,
   "metadata": {
    "collapsed": true
   },
   "outputs": [],
   "source": [
    "#Simple check for missing data\n",
    "\n",
    "def check_missing_fields(activity,field,features):\n",
    "    \"\"\"Generic function for checking whether or not a given field has data\"\"\"\n",
    "    try:\n",
    "        if activity[field]:\n",
    "            features['missing_'+field]=0\n",
    "        else:\n",
    "            features['missing_'+field]=1\n",
    "    except KeyError:\n",
    "        features['missing_'+field]=1"
   ]
  },
  {
   "cell_type": "code",
   "execution_count": 7,
   "metadata": {
    "collapsed": true
   },
   "outputs": [],
   "source": [
    "def get_val(val):\n",
    "    \"\"\"\n",
    "    Many IATI schema complex types are simple content (no embedded tags) with attributes.\n",
    "    xmltodict represents these as string values if no attributes are present, or as dicts with\n",
    "    the content as the '#text' member otherwise.\n",
    "    \"\"\"\n",
    "    if isinstance(val, dict):\n",
    "        return val.get('#text')\n",
    "    return val"
   ]
  },
  {
   "cell_type": "markdown",
   "metadata": {},
   "source": [
    "### Compliance features\n",
    "These are based on [Benford's law](https://en.wikipedia.org/wiki/Benford%27s_law), which defines certain patterns for the frequency of digits appearing in naturally generated data.  Datasets that don't comply with Benford's law are more likely to be made up (for example, by an analyst guessing at an approximate value rather than calculating it) or even fraudulent.  We aren't making any claims about the veracity of any activities, but rather simply trying to enable the user to get a sense for which numbers have a higher likelihood of a real-world meaning, since this is what's ultimately going to make a dataset useful for understanding an aid intervention"
   ]
  },
  {
   "cell_type": "code",
   "execution_count": 18,
   "metadata": {
    "collapsed": false
   },
   "outputs": [],
   "source": [
    "#Benford's Law Analysis\n",
    "\n",
    "def calculate_digit_distribution(list_of_numbers):\n",
    "    \"\"\"Returns a distribution of digits given a list of numbers (type agnostic)\"\"\"\n",
    "    counts=[0]*10\n",
    "    for num in list_of_numbers:\n",
    "        try:\n",
    "            num=filter(six.text_type.isdigit, six.text_type(num))\n",
    "            digit=int(next(iter(num)))\n",
    "            counts[digit]+=1\n",
    "        except StopIteration:\n",
    "            pass\n",
    "    total=sum(counts)\n",
    "    if total:\n",
    "        return [round(i/total,4) for i in counts]\n",
    "    return counts\n",
    "\n",
    "def benfords_law(activity,field,features):\n",
    "    \"\"\"\n",
    "    Tests whether or not a given field on an activity obeys Benford's law\n",
    "    \n",
    "    For our purposes, a distribution complies with Benford's law if the 1\n",
    "    represents at least 30% of the data.  This is a simplistic definition,\n",
    "    but it'll work for the prototype and we can make it more nuanced later\n",
    "    \n",
    "    \"\"\"\n",
    "    distribution=None\n",
    "    compliance=None\n",
    "    values=activity.get(field)\n",
    "    if values:\n",
    "        #Make sure types are consistent\n",
    "        if type(values)!=list:\n",
    "            values=[values]\n",
    "        raw_vals=[]\n",
    "        for value in values:\n",
    "            contents=get_val(value.get('value'))\n",
    "            if contents:\n",
    "                raw_vals.append(contents)\n",
    "        if raw_vals:\n",
    "            distribution=calculate_digit_distribution(raw_vals)\n",
    "            if distribution[1]>0.3:\n",
    "                compliance=1\n",
    "            else:\n",
    "                compliance=0            \n",
    "    features['benford_distribution_'+field]=distribution\n",
    "    features['benford_compliance_'+field]=compliance"
   ]
  },
  {
   "cell_type": "markdown",
   "metadata": {},
   "source": [
    "### Utility Features\n",
    "\n",
    "Here, we're trying to understand how practically useful a record is likely to be to a lay user.  Useful records are likely to be managable in size and contain a diverse mix of information.  If a record consists entirely of one type of data (usually long lists of transactions or budget items), it's liable to obscure important content about its programs in the same way that meaningful data is overwhelmed by useless packets sent during a DDOS attack.\n",
    "\n",
    "We also examine the similarity of the title and description of each activity, since these are typically among the easiest fields for end-users to understand and they're among the most complete.  When these fields are too similar, it may indicate lazy data entry (copy/pasting from one field to the other).  When they're too dissimilar, it may indicate a lack of programmatic alignment."
   ]
  },
  {
   "cell_type": "code",
   "execution_count": 9,
   "metadata": {
    "collapsed": false
   },
   "outputs": [],
   "source": [
    "#Extract and compare similarity of title and description\n",
    "\n",
    "def find_text_in_dict(field):\n",
    "    \"\"\"Structure of certain fields varies, so we need to unwrap the nested dicts when this happens\"\"\"\n",
    "    if type(field)==dict:\n",
    "        try:\n",
    "            field=field['narrative']\n",
    "            if type(field)==dict:\n",
    "                field=field['text']\n",
    "        except KeyError:\n",
    "            field=field['#text']\n",
    "            if type(field)==dict:\n",
    "                field=field['text']\n",
    "    return field\n",
    "\n",
    "def find_text(field):\n",
    "    \"\"\"\n",
    "    If there are more than one dict in a list, extract and concat all text content together\n",
    "    \"\"\"\n",
    "    if type(field)==list:\n",
    "        output=''\n",
    "        for i in field:\n",
    "            try:\n",
    "                output+=find_text_in_dict(i)\n",
    "            except TypeError:\n",
    "                pass\n",
    "    else:\n",
    "        output=find_text_in_dict(field)\n",
    "    return output\n",
    "\n",
    "def field_similarity(field1,field2):\n",
    "    \"\"\"Calculate cosine similarity between two TFIDF vectorized strings\"\"\"\n",
    "    tfidf_vectorizer=TfidfVectorizer(min_df=0)\n",
    "    tfidf_matrix=tfidf_vectorizer.fit_transform([field1,field2])\n",
    "    cs=cosine_similarity(tfidf_matrix[0],tfidf_matrix[1])\n",
    "    return cs[0][0]\n",
    "\n",
    "def compare_title_description(activity,features):\n",
    "    \"\"\"\n",
    "    Cosine similarity between title and description\n",
    "    \n",
    "    Very high values (close to 1) indicate that title and description are redundant\n",
    "    Very low value (close to 0) indicate that title and description have nothing to do with each other\n",
    "    \"\"\"\n",
    "    try:\n",
    "        title=find_text(activity['title'])\n",
    "        description=find_text(activity['description'])\n",
    "        cs=field_similarity(title,description)\n",
    "        features['title_description_similarity']=cs\n",
    "    #KeyError - fields don't exist\n",
    "    #ValueError - fields only contain stopwords\n",
    "    #AttributeError - don't remember\n",
    "    except (KeyError,AttributeError,ValueError):\n",
    "        features['title_description_similarity']=None"
   ]
  },
  {
   "cell_type": "code",
   "execution_count": 10,
   "metadata": {
    "collapsed": false
   },
   "outputs": [],
   "source": [
    "def get_relative_sizes(activity,exist_fields,features):\n",
    "    \"\"\"\n",
    "    Use the serialized storage space for different fields as a proxy for their relative size within a given activity\n",
    "    \"\"\"\n",
    "    sizes={ field:0 for field in exist_fields}\n",
    "    #Included in here is the features themselves, but those will be small relative to everything else\n",
    "    total=sys.getsizeof(pickle.dumps(activity))\n",
    "    for field in sizes:\n",
    "        try:\n",
    "            field_size=sys.getsizeof(pickle.dumps(activity[field]))\n",
    "            sizes[field]=field_size/total\n",
    "        except KeyError:\n",
    "            pass\n",
    "    features[u'total_size']=total\n",
    "    features[u'relative_sizes']=sizes\n"
   ]
  },
  {
   "cell_type": "markdown",
   "metadata": {},
   "source": [
    "### Other features\n",
    "\n",
    "There are certain features, like the IATI organization ID, that we'll want to have easily accessible later on, so we'll pull them out and add them to our feature vector.  Other incomplete feature implementations are included below as well"
   ]
  },
  {
   "cell_type": "code",
   "execution_count": 11,
   "metadata": {
    "collapsed": true
   },
   "outputs": [],
   "source": [
    "def find_reporting_org(field):\n",
    "    \"\"\"\n",
    "    Extract IATI ID of reporting org\n",
    "    \n",
    "    If there are more than one dict in a list, extract and concat all text content together\n",
    "    \n",
    "    This methodology is NOT perfect, but it gets about 210 distinct orgs in the dataset\n",
    "    We'll need to make it more responsive to the varying IATI versions, but it's close enough\n",
    "    for now.\n",
    "    \"\"\"\n",
    "    if type(field)==list:\n",
    "        output=field[1]['@ref']\n",
    "    elif type(field)==dict:\n",
    "        output=field['@ref']\n",
    "    else:\n",
    "        output=None\n",
    "    return output"
   ]
  },
  {
   "cell_type": "code",
   "execution_count": 12,
   "metadata": {
    "collapsed": false
   },
   "outputs": [],
   "source": [
    "#Testing whether URLS are valid - not currently in pipeline\n",
    "\n",
    "def test_links(list_of_links):\n",
    "    \"\"\"\n",
    "    Find percentage of links in a list that seem to work\n",
    "    \n",
    "    The process of checking these can be tedious, and requires a lot of bandwidth,\n",
    "    so it's probably best to implement this in the cloud if we want to scale across all activities\n",
    "    \"\"\"\n",
    "    valid_links=0\n",
    "    for link in activity[list_of_links]:\n",
    "        url=link['@url']\n",
    "        response=requests.get(url)\n",
    "        if response.status_code==200:\n",
    "            valid_links+=1\n",
    "    ratio=valid_links/len(list_of_links)\n",
    "    return ratio\n"
   ]
  },
  {
   "cell_type": "code",
   "execution_count": 61,
   "metadata": {
    "collapsed": false
   },
   "outputs": [],
   "source": [
    "# Initial implementation of activity date validation - INCOMPLETE\n",
    "from collections import OrderedDict\n",
    "date_dict=OrderedDict({'start-planned':None,'start-actual':None,'end-actual':None,'end-actual':None})\n",
    "dates=activity['activity-date']\n",
    "for date in dates:\n",
    "    try:\n",
    "        date_dict[date['@type']]=date['@iso-date']\n",
    "    except KeyError:\n",
    "        pass"
   ]
  },
  {
   "cell_type": "markdown",
   "metadata": {},
   "source": [
    "### Generate Features\n",
    "\n",
    "Having defined the functions needed to generate each feature, we can combine them to create a master pipeline function that we can run iteratively on the whole dataset. "
   ]
  },
  {
   "cell_type": "code",
   "execution_count": 13,
   "metadata": {
    "collapsed": true
   },
   "outputs": [],
   "source": [
    "#Define master feature pipeline function\n",
    "\n",
    "#lists of fields to check for existence\n",
    "exist_fields=['description','budget','title','result','transaction','document-link','participating-org','activity-date','@default-currency','@xml:lang']\n",
    "benford_fields=['budget','transaction']\n",
    "\n",
    "def generate_features(activity):\n",
    "    \"\"\"Generate all features\"\"\"\n",
    "    \n",
    "    #Clear old features/make space if it doesn't already exist\n",
    "    features={\n",
    "        '_id': activity['_id']\n",
    "    }\n",
    "    \n",
    "    #Find sizes of stuff\n",
    "    get_relative_sizes(activity,exist_fields, features) #do this early on so it's less affected by the creation of other data\n",
    "    \n",
    "    #Look for missing data\n",
    "    for field in exist_fields:\n",
    "        check_missing_fields(activity,field, features)\n",
    "        \n",
    "    #Data quality validations\n",
    "    compare_title_description(activity, features)\n",
    "    \n",
    "    #Benford's Law\n",
    "    for field in benford_fields:\n",
    "        benfords_law(activity,field, features)\n",
    "        \n",
    "    #Extract certain pieces of text to make it easier to parse later\n",
    "    features['organization']=find_reporting_org(activity['reporting-org'])\n",
    "    return features"
   ]
  },
  {
   "cell_type": "code",
   "execution_count": 14,
   "metadata": {
    "collapsed": false,
    "scrolled": false
   },
   "outputs": [
    {
     "name": "stdout",
     "output_type": "stream",
     "text": [
      "{'_id': ObjectId('575cce4d370d9309002fab43'),\n",
      " 'benford_compliance_budget': None,\n",
      " 'benford_compliance_transaction': None,\n",
      " 'benford_distribution_budget': None,\n",
      " 'benford_distribution_transaction': None,\n",
      " 'missing_@default-currency': 0,\n",
      " 'missing_@xml:lang': 0,\n",
      " 'missing_activity-date': 0,\n",
      " 'missing_budget': 1,\n",
      " 'missing_description': 0,\n",
      " 'missing_document-link': 0,\n",
      " 'missing_participating-org': 0,\n",
      " 'missing_result': 1,\n",
      " 'missing_title': 0,\n",
      " 'missing_transaction': 1,\n",
      " 'organization': u'XM-DAC-41114',\n",
      " u'relative_sizes': {'@default-currency': 0.0028872709013306555,\n",
      "                     '@xml:lang': 0.0028245041426060756,\n",
      "                     'activity-date': 0.013055485814712529,\n",
      "                     'budget': 0,\n",
      "                     'description': 0.012490584986191313,\n",
      "                     'document-link': 0.8017198091890535,\n",
      "                     'participating-org': 0.025232237007280944,\n",
      "                     'result': 0,\n",
      "                     'title': 0.007218177253326638,\n",
      "                     'transaction': 0},\n",
      " 'title_description_similarity': 0.24235771956792365,\n",
      " u'total_size': 15932}\n"
     ]
    }
   ],
   "source": [
    "#Test feature generation on one record\n",
    "features=generate_features(activity)\n",
    "p.pprint(features)"
   ]
  },
  {
   "cell_type": "code",
   "execution_count": 19,
   "metadata": {
    "collapsed": false
   },
   "outputs": [
    {
     "name": "stdout",
     "output_type": "stream",
     "text": [
      "2016-08-07 22:51:51.129010 Started processing\n",
      "2016-08-07 22:53:21.852721 Processed 25000 of 587828\n",
      "2016-08-07 22:55:40.062204 Processed 50000 of 587828\n",
      "2016-08-07 22:58:37.675166 Processed 75000 of 587828\n",
      "2016-08-07 23:00:40.244372 Processed 100000 of 587828\n",
      "2016-08-07 23:03:08.883897 Processed 125000 of 587828\n",
      "2016-08-07 23:05:28.640606 Processed 150000 of 587828\n",
      "2016-08-07 23:07:42.706206 Processed 175000 of 587828\n",
      "2016-08-07 23:10:29.974419 Processed 200000 of 587828\n",
      "2016-08-07 23:12:15.264503 Processed 225000 of 587828\n",
      "2016-08-07 23:14:09.195195 Processed 250000 of 587828\n",
      "2016-08-07 23:16:04.765043 Processed 275000 of 587828\n",
      "2016-08-07 23:18:54.584844 Processed 300000 of 587828\n",
      "2016-08-07 23:23:38.319558 Processed 325000 of 587828\n",
      "2016-08-07 23:25:53.831625 Processed 350000 of 587828\n",
      "2016-08-07 23:28:39.056037 Processed 375000 of 587828\n",
      "2016-08-07 23:30:57.609548 Processed 400000 of 587828\n",
      "2016-08-07 23:34:14.510184 Processed 425000 of 587828\n",
      "2016-08-07 23:36:46.393922 Processed 450000 of 587828\n",
      "2016-08-07 23:38:49.240431 Processed 475000 of 587828\n",
      "2016-08-07 23:40:52.175039 Processed 500000 of 587828\n",
      "2016-08-07 23:44:19.252793 Processed 525000 of 587828\n",
      "2016-08-07 23:46:14.555641 Processed 550000 of 587828\n",
      "2016-08-07 23:47:45.475676 Processed 575000 of 587828\n",
      "2016-08-07 23:48:38.070596 Finished processing\n"
     ]
    }
   ],
   "source": [
    "#GENERATE ALL FEATURES for all activities!\n",
    "db.drop_collection('quality')\n",
    "activities_count=activities.count()\n",
    "print(datetime.now(), 'Started processing')\n",
    "qual_recs=[]\n",
    "for num, activity in enumerate(activities.find()):\n",
    "    if num > 0 and num % 25000 == 0:\n",
    "        print(datetime.now(), 'Processed', num, 'of', activities_count)\n",
    "        db.quality.insert_many(qual_recs)\n",
    "        qual_recs=[]\n",
    "    #Do all the things!\n",
    "    qual_recs.append(generate_features(activity))\n",
    "if qual_recs == 0:\n",
    "    db.quality.insert_many(qual_recs)\n",
    "print(datetime.now(), 'Finished processing')"
   ]
  },
  {
   "cell_type": "code",
   "execution_count": 20,
   "metadata": {
    "collapsed": false
   },
   "outputs": [
    {
     "data": {
      "text/plain": [
       "373300"
      ]
     },
     "execution_count": 20,
     "metadata": {},
     "output_type": "execute_result"
    }
   ],
   "source": [
    "#Sanity check - how many results have non-null results for the title-description similarity\n",
    "db.quality.find({ 'title_description_similarity' : {'$ne' : None} }).count()"
   ]
  },
  {
   "cell_type": "code",
   "execution_count": 21,
   "metadata": {
    "collapsed": false
   },
   "outputs": [
    {
     "data": {
      "text/plain": [
       "u'organization_1'"
      ]
     },
     "execution_count": 21,
     "metadata": {},
     "output_type": "execute_result"
    }
   ],
   "source": [
    "db.quality.create_index('organization')"
   ]
  },
  {
   "cell_type": "markdown",
   "metadata": {},
   "source": [
    "### Exploration of activity-level results"
   ]
  },
  {
   "cell_type": "code",
   "execution_count": 22,
   "metadata": {
    "collapsed": false
   },
   "outputs": [
    {
     "name": "stdout",
     "output_type": "stream",
     "text": [
      "MISSING DATA\n",
      "{u'missing_@default-currency': 45932,\n",
      " u'missing_@xml:lang': 48588,\n",
      " u'missing_activity-date': 8279,\n",
      " u'missing_budget': 375860,\n",
      " u'missing_description': 43936,\n",
      " u'missing_document-link': 486121,\n",
      " u'missing_participating-org': 10014,\n",
      " u'missing_result': 529490,\n",
      " u'missing_title': 2136,\n",
      " u'missing_transaction': 33171}\n",
      "\n",
      "RELATIVE SIZES OF KEY FIELDS\n",
      "{u'average_@default-currency': 0.007377565125319809,\n",
      " u'average_@xml:lang': 0.00728123629187669,\n",
      " u'average_activity-date': 0.03261745793047522,\n",
      " u'average_budget': 0.030091984130244255,\n",
      " u'average_description': 0.05376616478223761,\n",
      " u'average_document-link': 0.02197509009883787,\n",
      " u'average_participating-org': 0.06411876690142511,\n",
      " u'average_result': 0.01235349445010078,\n",
      " u'average_title': 0.02097687662627871,\n",
      " u'average_transaction': 0.18001654781952756}\n",
      "\n",
      "BENFORD COMPLIANCE (AMONG ACTIVITIES WITH DATA)\n",
      "{u'benford_budget': 49230, u'benford_transaction': 205671}\n",
      "\n",
      "TOTAL ACTIVITIES\n",
      "575000\n"
     ]
    }
   ],
   "source": [
    "#EDA to figure out how much data is missing\n",
    "grp={'_id': None}\n",
    "for field in exist_fields:\n",
    "    grp['missing_'+field]={'$sum': '$missing_'+field}\n",
    "    grp['average_'+field]={'$avg': '$relative_sizes.'+field}\n",
    "for field in benford_fields:\n",
    "    grp['benford_'+field]={'$sum': '$benford_compliance_'+field}\n",
    "grp['total']={'$sum': 1}\n",
    "\n",
    "# Run the agg pipeline\n",
    "results=next(db.quality.aggregate([{'$group': grp}]))\n",
    "\n",
    "# Print the results\n",
    "print('MISSING DATA')\n",
    "p.pprint({k:v for k,v in results.items() if k.startswith('missing_')})\n",
    "print(\"\")\n",
    "print(\"RELATIVE SIZES OF KEY FIELDS\")\n",
    "p.pprint({k:v for k,v in results.items() if k.startswith('average_')})\n",
    "print(\"\")\n",
    "print(\"BENFORD COMPLIANCE (AMONG ACTIVITIES WITH DATA)\")\n",
    "p.pprint({k:v for k,v in results.items() if k.startswith('benford_')})\n",
    "print(\"\")\n",
    "print(\"TOTAL ACTIVITIES\")\n",
    "print(results['total'])"
   ]
  },
  {
   "cell_type": "code",
   "execution_count": 23,
   "metadata": {
    "collapsed": false
   },
   "outputs": [
    {
     "data": {
      "text/plain": [
       "[{u'_id': u'pt', u'count': 160},\n",
       " {u'_id': u'FR', u'count': 8749},\n",
       " {u'_id': u'de', u'count': 8813},\n",
       " {u'_id': u'es', u'count': 1699},\n",
       " {u'_id': u'fr', u'count': 1390},\n",
       " {u'_id': u'nl', u'count': 6026},\n",
       " {u'_id': u'EN', u'count': 1327},\n",
       " {u'_id': None, u'count': 49890},\n",
       " {u'_id': u'en', u'count': 509774}]"
      ]
     },
     "execution_count": 23,
     "metadata": {},
     "output_type": "execute_result"
    }
   ],
   "source": [
    "#Number of records by language\n",
    "pipeline=[{\"$group\": {\"_id\": \"$@xml:lang\", \"count\": {\"$sum\": 1}}}]\n",
    "list(activities.aggregate(pipeline))"
   ]
  },
  {
   "cell_type": "code",
   "execution_count": 24,
   "metadata": {
    "collapsed": false
   },
   "outputs": [
    {
     "data": {
      "text/plain": [
       "210"
      ]
     },
     "execution_count": 24,
     "metadata": {},
     "output_type": "execute_result"
    }
   ],
   "source": [
    "#Number of unique organizations\n",
    "len(list(db.quality.aggregate([{\"$group\": {\"_id\": \"$organization\", \"count\": {\"$sum\": 1}}}])))"
   ]
  },
  {
   "cell_type": "code",
   "execution_count": 99,
   "metadata": {
    "collapsed": false
   },
   "outputs": [
    {
     "data": {
      "text/plain": [
       "{'@ref': 'Netherlands Enterprise Agency',\n",
       " '@secondary-reporter': 'false',\n",
       " '@type': '10',\n",
       " 'narrative': {'#text': 'Netherlands Enterprise Agency', '@xml:lang': 'en'}}"
      ]
     },
     "execution_count": 99,
     "metadata": {},
     "output_type": "execute_result"
    }
   ],
   "source": [
    "#Use this to lookup how a particular org shows up \n",
    "test_q=db.quality.find_one({'organization':'Netherlands Enterprise Agency'})\n",
    "test=activities.find_one({'_id': test_q['_id']})\n",
    "test['reporting-org']"
   ]
  },
  {
   "cell_type": "markdown",
   "metadata": {},
   "source": [
    "## Aggregating activity features to the organization level\n",
    "\n",
    "Now that we've generated features for each activity, we need to aggregate them together to display them to the end user.  We'll focus on aggregating results at the organization level, but leave the option open to recalculate the aggregation for any of the other fields (country, theme, etc.)"
   ]
  },
  {
   "cell_type": "code",
   "execution_count": 27,
   "metadata": {
    "collapsed": false
   },
   "outputs": [],
   "source": [
    "#Load pickles into memory for quickly lookups later\n",
    "with open(\"lookup_by_ref.pickle\",'rb') as f:\n",
    "    lookup=pickle.load(f)\n",
    "    \n",
    "with open(\"lookup_by_name.pickle\",'rb') as f:\n",
    "    lookup_name=pickle.load(f)"
   ]
  },
  {
   "cell_type": "code",
   "execution_count": 28,
   "metadata": {
    "collapsed": false
   },
   "outputs": [],
   "source": [
    "def get_benford_distribution(orgid, field):\n",
    "    \"\"\"Calculate Benford distribution for an organization across all its activity records\"\"\"\n",
    "    qdata=db.quality.find({'organization':orgid})\n",
    "    count=0\n",
    "    running_distribution=[0,0,0,0,0,0,0,0,0,0]\n",
    "    for qrec in qdata:\n",
    "        try:\n",
    "            running_distribution=map(add,running_distribution,qrec['benford_distribution_'+field])\n",
    "            count+=1\n",
    "        except TypeError:\n",
    "            #print i['features']['benford_distribution_'+field]\n",
    "            continue\n",
    "    if count>0:\n",
    "        final_distribution=[100*i/count for i in running_distribution]\n",
    "    else:\n",
    "        final_distribution=running_distribution\n",
    "    final_dict={str(i):final_distribution[i] for i in range(0,10)}\n",
    "    return final_dict"
   ]
  },
  {
   "cell_type": "code",
   "execution_count": 48,
   "metadata": {
    "collapsed": false
   },
   "outputs": [],
   "source": [
    "#Extract aggregated results for a given grouping (we'll start at the org level for now)\n",
    "\n",
    "exist_fields=['description','budget','title','result','transaction','document-link','participating-org','activity-date','@default-currency','@xml:lang']\n",
    "size_exclude_fields=['activity-date','@default-currency','@xml:lang']\n",
    "benford_fields=['budget','transaction']\n",
    "\n",
    "def query_orgs(group_field, group_val=None):\n",
    "    \"\"\"\n",
    "    Collect aggregated results across our feature space for a given field.\n",
    "    Note that most of these aggregations are simple averages across all activities\n",
    "    for this prototype.\n",
    "    \n",
    "    This implementation isn't particularly fast because it makes repeated calls to the mongo collection.\n",
    "    There are certainly opportunities for optimization by gathering a subset of results \n",
    "    into memory and aggregating from there.\n",
    "    \n",
    "    \"\"\"\n",
    "    pipeline=[]\n",
    "    # Do we have a single org filter?\n",
    "    if group_val:\n",
    "        pipeline.append({\"$match\": {group_field: group_val}}) #Filter for a given subset of records\n",
    "    # get the fields, grouping by org ID (or whatever is passed in)\n",
    "    pipeline.append({'$group': {'_id': '$'+group_field,\n",
    "                                    #CONTACT INFO\n",
    "                                    'contact-info': {'$first': '$contact-info'},\n",
    "                                    #TOTAL\n",
    "                                    'total': {'$sum': 1},\n",
    "                                    #SIMILARITY\n",
    "                                    'title_description_similarity': {'$avg': '$title_description_similarity'},\n",
    "                                    #DOC SIZE\n",
    "                                    'avg': {'$avg': '$total_size'},\n",
    "                                    'min': {'$min': '$total_size'},\n",
    "                                    'max': {'$max': '$total_size'},\n",
    "                                    #Doesn't exist in Mongo 3.0.4 (which is what I'm using)\n",
    "                                    #'sd': {'$stdDevPop': '$total_size'},\n",
    "                                   }})\n",
    "    #MISSING DATA\n",
    "    for field in exist_fields:\n",
    "        pipeline[-1]['$group']['missing_'+field]={'$avg': '$missing_'+field}\n",
    "        \n",
    "        #FIELD SIZE DATA\n",
    "        if field not in size_exclude_fields:\n",
    "            pipeline[-1]['$group']['size_'+field]={'$avg': '$relative_sizes.'+field}\n",
    "    \n",
    "    #BENFORD COMPLIANCE (AMONG ACTIVITIES WITH DATA)\n",
    "    for field in benford_fields:\n",
    "        pipeline[-1]['$group']['benford_'+field]={'$avg': '$benford_compliance_'+field}\n",
    "\n",
    "    # Run the pipeline and yield results as they are available\n",
    "    for results in db.quality.aggregate(pipeline):\n",
    "        orgid=results['_id']\n",
    "        if not orgid: # discard blank and null\n",
    "            continue\n",
    "        # figure out the name\n",
    "        orgnames=lookup[orgid]\n",
    "        if orgnames and isinstance(orgnames, set):\n",
    "            orgname=next(iter(orgnames))\n",
    "        elif orgnames and isinstance(orgnames, six.string_types):\n",
    "            orgname=orgnames\n",
    "        else:\n",
    "            continue\n",
    "        # Collect Missing Data\n",
    "        exist_results={}\n",
    "        size_results={}\n",
    "        for field in exist_fields:\n",
    "            exist_results[field]=results['missing_'+field]\n",
    "            #FIELD SIZE DATA\n",
    "            if field not in size_exclude_fields:\n",
    "                size_results[field]=results['size_'+field]\n",
    "        # Collect Benford Fields\n",
    "        benford_results={}\n",
    "        for field in benford_fields:\n",
    "            benford_results[field]=results['benford_'+field]\n",
    "            benford_results[field+'_distribution']=get_benford_distribution(orgid,field)\n",
    "            \n",
    "        #Output result as JSON for easy parsing/storing in Mongo\n",
    "        yield {'organization_id': orgid,\n",
    "                'organization_name': orgname,\n",
    "                'contact_info': results['contact-info'] or {},\n",
    "                'doc_size': {\n",
    "                    'avg': results['avg'],\n",
    "                    'min': results['min'],\n",
    "                    'max': results['max']\n",
    "                },\n",
    "                'records': results['total'],\n",
    "                'missing_data':exist_results,\n",
    "                'title_description_similarity':results['title_description_similarity'],\n",
    "                'relative_size':size_results,\n",
    "                'benford_compliance':benford_results\n",
    "               }"
   ]
  },
  {
   "cell_type": "code",
   "execution_count": 55,
   "metadata": {
    "collapsed": false
   },
   "outputs": [
    {
     "data": {
      "text/plain": [
       "210"
      ]
     },
     "execution_count": 55,
     "metadata": {},
     "output_type": "execute_result"
    }
   ],
   "source": [
    "len(list(db.quality.aggregate([{'$group': {'_id': '$organization'}}])))"
   ]
  },
  {
   "cell_type": "code",
   "execution_count": 56,
   "metadata": {
    "collapsed": false
   },
   "outputs": [
    {
     "name": "stdout",
     "output_type": "stream",
     "text": [
      "{'benford_compliance': {'budget': 0.2,\n",
      "                        'budget_distribution': {'0': 0.0,\n",
      "                                                '1': 16.666,\n",
      "                                                '2': 10.0,\n",
      "                                                '3': 10.0,\n",
      "                                                '4': 10.0,\n",
      "                                                '5': 10.0,\n",
      "                                                '6': 20.0,\n",
      "                                                '7': 10.0,\n",
      "                                                '8': 13.334,\n",
      "                                                '9': 0.0},\n",
      "                        'transaction': 0.4,\n",
      "                        'transaction_distribution': {'0': 0.0,\n",
      "                                                     '1': 29.798000000000002,\n",
      "                                                     '2': 14.431999999999999,\n",
      "                                                     '3': 8.212,\n",
      "                                                     '4': 5.264,\n",
      "                                                     '5': 7.779999999999999,\n",
      "                                                     '6': 11.152,\n",
      "                                                     '7': 15.429999999999998,\n",
      "                                                     '8': 4.308,\n",
      "                                                     '9': 3.618}},\n",
      " 'contact_info': {},\n",
      " 'doc_size': {'avg': 36826.2, 'max': 103397, 'min': 19036},\n",
      " 'missing_data': {'@default-currency': 0.0,\n",
      "                  '@xml:lang': 0.0,\n",
      "                  'activity-date': 0.0,\n",
      "                  'budget': 0.0,\n",
      "                  'description': 0.0,\n",
      "                  'document-link': 0.8,\n",
      "                  'participating-org': 0.0,\n",
      "                  'result': 1.0,\n",
      "                  'title': 0.0,\n",
      "                  'transaction': 0.0},\n",
      " 'organization_id': u'GB-COH-04154075',\n",
      " 'organization_name': u'PENAL REFORM INTERNATIONAL',\n",
      " 'records': 5,\n",
      " 'relative_size': {'budget': 0.02316919749445498,\n",
      "                   'description': 0.03041194893969094,\n",
      "                   'document-link': 0.0018878690871108445,\n",
      "                   'participating-org': 0.04729997513189404,\n",
      "                   'result': 0.0,\n",
      "                   'title': 0.006606126820226606,\n",
      "                   'transaction': 0.7590727463292993},\n",
      " 'title_description_similarity': 0.2887381639824232}\n"
     ]
    }
   ],
   "source": [
    "#Test aggregation function\n",
    "output=query_orgs('organization', 'GB-COH-04154075')\n",
    "p.pprint(next(iter(output)))"
   ]
  },
  {
   "cell_type": "code",
   "execution_count": 50,
   "metadata": {
    "collapsed": false
   },
   "outputs": [
    {
     "name": "stdout",
     "output_type": "stream",
     "text": [
      "2016-08-09 00:06:31.913856 - inserting 100 orgs\n",
      "2016-08-09 00:06:45.681419 - inserting 100 orgs\n",
      "2016-08-09 00:06:48.040088 - inserting 8 orgs\n",
      "CPU times: user 25.7 s, sys: 3.06 s, total: 28.8 s\n",
      "Wall time: 37.4 s\n"
     ]
    }
   ],
   "source": [
    "%%time\n",
    "db.drop_collection('cleaned_orgs_full')\n",
    "orgs=db.cleaned_orgs_full\n",
    "batch=[]\n",
    "for num, results in enumerate(query_orgs('organization')):\n",
    "    batch.append(results)\n",
    "    if(len(batch)==100):\n",
    "        print(datetime.now(), \"- inserting {} orgs\".format(len(batch)))\n",
    "        orgs.insert_many(batch)\n",
    "        batch=[]\n",
    "if batch:\n",
    "    print(datetime.now(), \"- inserting {} orgs\".format(len(batch)))\n",
    "    orgs.insert_many(batch)"
   ]
  },
  {
   "cell_type": "code",
   "execution_count": 51,
   "metadata": {
    "collapsed": false
   },
   "outputs": [
    {
     "data": {
      "text/plain": [
       "u'organization_id_1'"
      ]
     },
     "execution_count": 51,
     "metadata": {},
     "output_type": "execute_result"
    }
   ],
   "source": [
    "orgs.create_index('organization_id')"
   ]
  },
  {
   "cell_type": "code",
   "execution_count": 52,
   "metadata": {
    "collapsed": false
   },
   "outputs": [
    {
     "name": "stdout",
     "output_type": "stream",
     "text": [
      "{u'_id': ObjectId('57a956c7370d933677eeb855'),\n",
      " u'benford_compliance': {u'budget': 0.2,\n",
      "                         u'budget_distribution': {u'0': 0.0,\n",
      "                                                  u'1': 16.666,\n",
      "                                                  u'2': 10.0,\n",
      "                                                  u'3': 10.0,\n",
      "                                                  u'4': 10.0,\n",
      "                                                  u'5': 10.0,\n",
      "                                                  u'6': 20.0,\n",
      "                                                  u'7': 10.0,\n",
      "                                                  u'8': 13.334,\n",
      "                                                  u'9': 0.0},\n",
      "                         u'transaction': 0.4,\n",
      "                         u'transaction_distribution': {u'0': 0.0,\n",
      "                                                       u'1': 29.798000000000002,\n",
      "                                                       u'2': 14.431999999999999,\n",
      "                                                       u'3': 8.212,\n",
      "                                                       u'4': 5.264,\n",
      "                                                       u'5': 7.779999999999999,\n",
      "                                                       u'6': 11.152,\n",
      "                                                       u'7': 15.429999999999998,\n",
      "                                                       u'8': 4.308,\n",
      "                                                       u'9': 3.618}},\n",
      " u'contact_info': {},\n",
      " u'doc_size': {u'avg': 36826.2, u'max': 103397, u'min': 19036},\n",
      " u'missing_data': {u'@default-currency': 0.0,\n",
      "                   u'@xml:lang': 0.0,\n",
      "                   u'activity-date': 0.0,\n",
      "                   u'budget': 0.0,\n",
      "                   u'description': 0.0,\n",
      "                   u'document-link': 0.8,\n",
      "                   u'participating-org': 0.0,\n",
      "                   u'result': 1.0,\n",
      "                   u'title': 0.0,\n",
      "                   u'transaction': 0.0},\n",
      " u'organization_id': u'GB-COH-04154075',\n",
      " u'organization_name': u'PENAL REFORM INTERNATIONAL',\n",
      " u'records': 5,\n",
      " u'relative_size': {u'budget': 0.02316919749445498,\n",
      "                    u'description': 0.03041194893969094,\n",
      "                    u'document-link': 0.0018878690871108445,\n",
      "                    u'participating-org': 0.04729997513189404,\n",
      "                    u'result': 0.0,\n",
      "                    u'title': 0.006606126820226606,\n",
      "                    u'transaction': 0.7590727463292993},\n",
      " u'title_description_similarity': 0.2887381639824232}\n"
     ]
    },
    {
     "data": {
      "text/plain": [
       "208"
      ]
     },
     "execution_count": 52,
     "metadata": {},
     "output_type": "execute_result"
    }
   ],
   "source": [
    "#Verify that this matches the manual test from above\n",
    "p.pprint(orgs.find_one({'organization_id':'GB-COH-04154075'}))\n",
    "orgs.count()"
   ]
  }
 ],
 "metadata": {
  "anaconda-cloud": {},
  "kernelspec": {
   "display_name": "Python 2",
   "language": "python",
   "name": "python2"
  },
  "language_info": {
   "codemirror_mode": {
    "name": "ipython",
    "version": 2
   },
   "file_extension": ".py",
   "mimetype": "text/x-python",
   "name": "python",
   "nbconvert_exporter": "python",
   "pygments_lexer": "ipython2",
   "version": "2.7.11"
  }
 },
 "nbformat": 4,
 "nbformat_minor": 0
}
