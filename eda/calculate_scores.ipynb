{
 "cells": [
  {
   "cell_type": "markdown",
   "metadata": {},
   "source": [
    "# Defining and calculating data quality scores\n",
    "\n",
    "Our approach here is similar to the score assignment system used by Charity Navigator, which calculates multiple subscores before assigning an overall grade based on the euclidean distance from the ideal perfect score.  Each of these scores can range between 0 and 100.  This method has two advantages.  First, users in the aid and philanthropy world tend to already have an understanding of how Charity Navigator scores are assigned, so by mirroring certain elements of their composition we're able to simplify understanding of the metrics that we create.  Second, the 0-100 numeric scale lends itself well to a letter-grade assignment (A-F), which is another concept that's widely understood. \n",
    "\n",
    "Specific weights and cutoff are set based on a combination of domain expertise and EDA results. There will likely need to be tweaks made as we finalize our MVP, but initial results look promising.\n",
    "\n",
    "### Setup"
   ]
  },
  {
   "cell_type": "code",
   "execution_count": 1,
   "metadata": {
    "collapsed": false
   },
   "outputs": [],
   "source": [
    "%matplotlib inline"
   ]
  },
  {
   "cell_type": "code",
   "execution_count": 161,
   "metadata": {
    "collapsed": true
   },
   "outputs": [],
   "source": [
    "from __future__ import division, print_function\n",
    "\n",
    "import time\n",
    "import pickle\n",
    "import os\n",
    "from time import time\n",
    "\n",
    "import matplotlib.pyplot as plt\n",
    "import numpy as np\n",
    "import pandas as pd\n",
    "from pandas.io.json import json_normalize\n",
    "import pymongo\n",
    "\n",
    "from sklearn.feature_extraction.text import TfidfVectorizer\n",
    "from sklearn.feature_extraction.text import CountVectorizer\n",
    "from sklearn.metrics.pairwise import cosine_similarity\n",
    "from nltk.corpus import words"
   ]
  },
  {
   "cell_type": "code",
   "execution_count": 3,
   "metadata": {
    "collapsed": false
   },
   "outputs": [],
   "source": [
    "pd.set_option('display.max_columns', None)"
   ]
  },
  {
   "cell_type": "code",
   "execution_count": 45,
   "metadata": {
    "collapsed": false
   },
   "outputs": [
    {
     "data": {
      "text/plain": [
       "[u'activities',\n",
       " u'activities_archive',\n",
       " u'cleaned_orgs',\n",
       " u'cleaned_orgs_full',\n",
       " u'first_pass_activities',\n",
       " u'quality',\n",
       " u'scores',\n",
       " u'system.indexes',\n",
       " u'xml_docs']"
      ]
     },
     "execution_count": 45,
     "metadata": {},
     "output_type": "execute_result"
    }
   ],
   "source": [
    "conn=pymongo.MongoClient()\n",
    "\n",
    "# Check database names to test connection and see what's here\n",
    "conn.database_names()\n",
    "db = conn.iati\n",
    "db.collection_names()"
   ]
  },
  {
   "cell_type": "code",
   "execution_count": 46,
   "metadata": {
    "collapsed": true
   },
   "outputs": [],
   "source": [
    "orgs=db.cleaned_orgs_full"
   ]
  },
  {
   "cell_type": "code",
   "execution_count": 47,
   "metadata": {
    "collapsed": false
   },
   "outputs": [
    {
     "data": {
      "text/plain": [
       "208"
      ]
     },
     "execution_count": 47,
     "metadata": {},
     "output_type": "execute_result"
    }
   ],
   "source": [
    "orgs.count()"
   ]
  },
  {
   "cell_type": "code",
   "execution_count": 48,
   "metadata": {
    "collapsed": false
   },
   "outputs": [],
   "source": [
    "import pickle\n",
    "with open(\"lookup_by_ref.pickle\",'rb') as f:\n",
    "    lookup=pickle.load(f)"
   ]
  },
  {
   "cell_type": "code",
   "execution_count": 49,
   "metadata": {
    "collapsed": false
   },
   "outputs": [
    {
     "data": {
      "text/html": [
       "<div style=\"max-height:1000px;max-width:1500px;overflow:auto;\">\n",
       "<table border=\"1\" class=\"dataframe\">\n",
       "  <thead>\n",
       "    <tr style=\"text-align: right;\">\n",
       "      <th></th>\n",
       "      <th>_id</th>\n",
       "      <th>benford_compliance.budget</th>\n",
       "      <th>benford_compliance.budget_distribution.0</th>\n",
       "      <th>benford_compliance.budget_distribution.1</th>\n",
       "      <th>benford_compliance.budget_distribution.2</th>\n",
       "      <th>benford_compliance.budget_distribution.3</th>\n",
       "      <th>benford_compliance.budget_distribution.4</th>\n",
       "      <th>benford_compliance.budget_distribution.5</th>\n",
       "      <th>benford_compliance.budget_distribution.6</th>\n",
       "      <th>benford_compliance.budget_distribution.7</th>\n",
       "      <th>benford_compliance.budget_distribution.8</th>\n",
       "      <th>benford_compliance.budget_distribution.9</th>\n",
       "      <th>benford_compliance.transaction</th>\n",
       "      <th>benford_compliance.transaction_distribution.0</th>\n",
       "      <th>benford_compliance.transaction_distribution.1</th>\n",
       "      <th>benford_compliance.transaction_distribution.2</th>\n",
       "      <th>benford_compliance.transaction_distribution.3</th>\n",
       "      <th>benford_compliance.transaction_distribution.4</th>\n",
       "      <th>benford_compliance.transaction_distribution.5</th>\n",
       "      <th>benford_compliance.transaction_distribution.6</th>\n",
       "      <th>benford_compliance.transaction_distribution.7</th>\n",
       "      <th>benford_compliance.transaction_distribution.8</th>\n",
       "      <th>benford_compliance.transaction_distribution.9</th>\n",
       "      <th>doc_size.avg</th>\n",
       "      <th>doc_size.max</th>\n",
       "      <th>doc_size.min</th>\n",
       "      <th>missing_data.@default-currency</th>\n",
       "      <th>missing_data.@xml:lang</th>\n",
       "      <th>missing_data.activity-date</th>\n",
       "      <th>missing_data.budget</th>\n",
       "      <th>missing_data.description</th>\n",
       "      <th>missing_data.document-link</th>\n",
       "      <th>missing_data.participating-org</th>\n",
       "      <th>missing_data.result</th>\n",
       "      <th>missing_data.title</th>\n",
       "      <th>missing_data.transaction</th>\n",
       "      <th>organization_id</th>\n",
       "      <th>organization_name</th>\n",
       "      <th>records</th>\n",
       "      <th>relative_size.budget</th>\n",
       "      <th>relative_size.description</th>\n",
       "      <th>relative_size.document-link</th>\n",
       "      <th>relative_size.participating-org</th>\n",
       "      <th>relative_size.result</th>\n",
       "      <th>relative_size.title</th>\n",
       "      <th>relative_size.transaction</th>\n",
       "      <th>title_description_similarity</th>\n",
       "    </tr>\n",
       "  </thead>\n",
       "  <tbody>\n",
       "    <tr>\n",
       "      <th>0</th>\n",
       "      <td> 57a956c7370d933677eeb825</td>\n",
       "      <td> 1.000000</td>\n",
       "      <td>  0.000000</td>\n",
       "      <td> 50.000000</td>\n",
       "      <td>  0.000000</td>\n",
       "      <td> 50.000000</td>\n",
       "      <td> 0.000000</td>\n",
       "      <td>  0.000000</td>\n",
       "      <td> 0.000000</td>\n",
       "      <td> 0.000000</td>\n",
       "      <td> 0.000000</td>\n",
       "      <td> 0.000000</td>\n",
       "      <td> 0.000000</td>\n",
       "      <td> 0.000000</td>\n",
       "      <td> 15.725000</td>\n",
       "      <td> 41.015000</td>\n",
       "      <td> 20.390000</td>\n",
       "      <td>  5.185000</td>\n",
       "      <td> 10.545000</td>\n",
       "      <td>  1.785000</td>\n",
       "      <td> 1.785000</td>\n",
       "      <td> 3.570000</td>\n",
       "      <td>  0.000000</td>\n",
       "      <td> 23295.000000</td>\n",
       "      <td>  23757</td>\n",
       "      <td> 22833</td>\n",
       "      <td> 0</td>\n",
       "      <td> 0.000000</td>\n",
       "      <td> 0</td>\n",
       "      <td> 0.0000</td>\n",
       "      <td> 0</td>\n",
       "      <td> 1.000000</td>\n",
       "      <td> 0</td>\n",
       "      <td> 1.0</td>\n",
       "      <td> 0</td>\n",
       "      <td> 0</td>\n",
       "      <td>  GB-CHC-1098752</td>\n",
       "      <td>                              AID</td>\n",
       "      <td>    2</td>\n",
       "      <td> 0.022032</td>\n",
       "      <td> 0.010930</td>\n",
       "      <td> 0.000000</td>\n",
       "      <td> 0.020618</td>\n",
       "      <td> 0.000000</td>\n",
       "      <td> 0.006336</td>\n",
       "      <td> 0.833997</td>\n",
       "      <td> 0.315287</td>\n",
       "    </tr>\n",
       "    <tr>\n",
       "      <th>1</th>\n",
       "      <td> 57a956c7370d933677eeb826</td>\n",
       "      <td> 0.000000</td>\n",
       "      <td>  0.000000</td>\n",
       "      <td>  0.000000</td>\n",
       "      <td>  0.000000</td>\n",
       "      <td>  0.000000</td>\n",
       "      <td> 0.000000</td>\n",
       "      <td>  0.000000</td>\n",
       "      <td> 0.000000</td>\n",
       "      <td> 0.000000</td>\n",
       "      <td> 0.000000</td>\n",
       "      <td> 0.000000</td>\n",
       "      <td> 0.300000</td>\n",
       "      <td> 0.000000</td>\n",
       "      <td> 30.000000</td>\n",
       "      <td> 20.000000</td>\n",
       "      <td> 10.000000</td>\n",
       "      <td>  0.000000</td>\n",
       "      <td> 30.000000</td>\n",
       "      <td> 10.000000</td>\n",
       "      <td> 0.000000</td>\n",
       "      <td> 0.000000</td>\n",
       "      <td>  0.000000</td>\n",
       "      <td>  2396.300000</td>\n",
       "      <td>   2500</td>\n",
       "      <td>  2354</td>\n",
       "      <td> 0</td>\n",
       "      <td> 0.000000</td>\n",
       "      <td> 0</td>\n",
       "      <td> 1.0000</td>\n",
       "      <td> 0</td>\n",
       "      <td> 1.000000</td>\n",
       "      <td> 0</td>\n",
       "      <td> 1.0</td>\n",
       "      <td> 0</td>\n",
       "      <td> 0</td>\n",
       "      <td>  GB-CHC-1133342</td>\n",
       "      <td>                             Zing</td>\n",
       "      <td>   10</td>\n",
       "      <td> 0.000000</td>\n",
       "      <td> 0.057596</td>\n",
       "      <td> 0.000000</td>\n",
       "      <td> 0.099661</td>\n",
       "      <td> 0.000000</td>\n",
       "      <td> 0.024566</td>\n",
       "      <td> 0.127755</td>\n",
       "      <td> 0.019360</td>\n",
       "    </tr>\n",
       "    <tr>\n",
       "      <th>2</th>\n",
       "      <td> 57a956c7370d933677eeb827</td>\n",
       "      <td> 0.000000</td>\n",
       "      <td>  0.000000</td>\n",
       "      <td>  0.000000</td>\n",
       "      <td> 33.333333</td>\n",
       "      <td> 33.333333</td>\n",
       "      <td> 0.000000</td>\n",
       "      <td> 33.333333</td>\n",
       "      <td> 0.000000</td>\n",
       "      <td> 0.000000</td>\n",
       "      <td> 0.000000</td>\n",
       "      <td> 0.000000</td>\n",
       "      <td> 0.400000</td>\n",
       "      <td> 0.000000</td>\n",
       "      <td> 32.858000</td>\n",
       "      <td> 25.714000</td>\n",
       "      <td>  2.858000</td>\n",
       "      <td> 12.858000</td>\n",
       "      <td>  0.000000</td>\n",
       "      <td> 10.000000</td>\n",
       "      <td> 0.000000</td>\n",
       "      <td> 0.000000</td>\n",
       "      <td> 15.714000</td>\n",
       "      <td>  7273.000000</td>\n",
       "      <td>   9350</td>\n",
       "      <td>  5664</td>\n",
       "      <td> 0</td>\n",
       "      <td> 0.000000</td>\n",
       "      <td> 0</td>\n",
       "      <td> 0.0000</td>\n",
       "      <td> 0</td>\n",
       "      <td> 0.400000</td>\n",
       "      <td> 0</td>\n",
       "      <td> 0.6</td>\n",
       "      <td> 0</td>\n",
       "      <td> 0</td>\n",
       "      <td> NL-KVK-51018586</td>\n",
       "      <td>          Zimmerman and Zimmerman</td>\n",
       "      <td>    5</td>\n",
       "      <td> 0.023307</td>\n",
       "      <td> 0.103643</td>\n",
       "      <td> 0.025532</td>\n",
       "      <td> 0.047617</td>\n",
       "      <td> 0.018428</td>\n",
       "      <td> 0.023169</td>\n",
       "      <td> 0.320381</td>\n",
       "      <td> 0.281650</td>\n",
       "    </tr>\n",
       "    <tr>\n",
       "      <th>3</th>\n",
       "      <td> 57a956c7370d933677eeb828</td>\n",
       "      <td> 0.000000</td>\n",
       "      <td>  0.000000</td>\n",
       "      <td>  0.000000</td>\n",
       "      <td> 33.333333</td>\n",
       "      <td> 50.000000</td>\n",
       "      <td> 0.000000</td>\n",
       "      <td>  0.000000</td>\n",
       "      <td> 0.000000</td>\n",
       "      <td> 8.333333</td>\n",
       "      <td> 0.000000</td>\n",
       "      <td> 8.333333</td>\n",
       "      <td> 0.333333</td>\n",
       "      <td> 0.000000</td>\n",
       "      <td> 15.633333</td>\n",
       "      <td> 21.263333</td>\n",
       "      <td> 21.610000</td>\n",
       "      <td> 14.483333</td>\n",
       "      <td> 10.113333</td>\n",
       "      <td>  9.080000</td>\n",
       "      <td> 0.000000</td>\n",
       "      <td> 0.000000</td>\n",
       "      <td>  7.816667</td>\n",
       "      <td> 12347.666667</td>\n",
       "      <td>  17836</td>\n",
       "      <td>  8066</td>\n",
       "      <td> 0</td>\n",
       "      <td> 0.333333</td>\n",
       "      <td> 0</td>\n",
       "      <td> 0.0000</td>\n",
       "      <td> 0</td>\n",
       "      <td> 0.333333</td>\n",
       "      <td> 0</td>\n",
       "      <td> 1.0</td>\n",
       "      <td> 0</td>\n",
       "      <td> 0</td>\n",
       "      <td>  GB-CHC-1109789</td>\n",
       "      <td>             Y Care International</td>\n",
       "      <td>    3</td>\n",
       "      <td> 0.057582</td>\n",
       "      <td> 0.042425</td>\n",
       "      <td> 0.017384</td>\n",
       "      <td> 0.040970</td>\n",
       "      <td> 0.000000</td>\n",
       "      <td> 0.017207</td>\n",
       "      <td> 0.531273</td>\n",
       "      <td> 0.300862</td>\n",
       "    </tr>\n",
       "    <tr>\n",
       "      <th>4</th>\n",
       "      <td> 57a956c7370d933677eeb829</td>\n",
       "      <td> 0.203523</td>\n",
       "      <td> 43.991757</td>\n",
       "      <td> 17.303625</td>\n",
       "      <td>  9.221219</td>\n",
       "      <td>  7.640311</td>\n",
       "      <td> 4.825322</td>\n",
       "      <td>  4.774669</td>\n",
       "      <td> 4.802262</td>\n",
       "      <td> 1.871521</td>\n",
       "      <td> 4.215869</td>\n",
       "      <td> 1.353950</td>\n",
       "      <td> 0.466576</td>\n",
       "      <td> 0.189245</td>\n",
       "      <td> 29.858390</td>\n",
       "      <td> 17.636589</td>\n",
       "      <td> 12.445475</td>\n",
       "      <td>  9.122356</td>\n",
       "      <td>  9.925052</td>\n",
       "      <td>  6.392115</td>\n",
       "      <td> 5.732137</td>\n",
       "      <td> 4.611473</td>\n",
       "      <td>  4.086808</td>\n",
       "      <td> 74794.854025</td>\n",
       "      <td> 297459</td>\n",
       "      <td>  6024</td>\n",
       "      <td> 0</td>\n",
       "      <td> 0.000000</td>\n",
       "      <td> 0</td>\n",
       "      <td> 0.0191</td>\n",
       "      <td> 0</td>\n",
       "      <td> 0.000000</td>\n",
       "      <td> 0</td>\n",
       "      <td> 1.0</td>\n",
       "      <td> 0</td>\n",
       "      <td> 0</td>\n",
       "      <td>           44000</td>\n",
       "      <td> INTERNATIONAL DEVELOPMENT AGENCY</td>\n",
       "      <td> 2199</td>\n",
       "      <td> 0.515351</td>\n",
       "      <td> 0.025242</td>\n",
       "      <td> 0.043724</td>\n",
       "      <td> 0.019746</td>\n",
       "      <td> 0.000000</td>\n",
       "      <td> 0.002487</td>\n",
       "      <td> 0.218464</td>\n",
       "      <td> 0.100171</td>\n",
       "    </tr>\n",
       "  </tbody>\n",
       "</table>\n",
       "</div>"
      ],
      "text/plain": [
       "                        _id  benford_compliance.budget  \\\n",
       "0  57a956c7370d933677eeb825                   1.000000   \n",
       "1  57a956c7370d933677eeb826                   0.000000   \n",
       "2  57a956c7370d933677eeb827                   0.000000   \n",
       "3  57a956c7370d933677eeb828                   0.000000   \n",
       "4  57a956c7370d933677eeb829                   0.203523   \n",
       "\n",
       "   benford_compliance.budget_distribution.0  \\\n",
       "0                                  0.000000   \n",
       "1                                  0.000000   \n",
       "2                                  0.000000   \n",
       "3                                  0.000000   \n",
       "4                                 43.991757   \n",
       "\n",
       "   benford_compliance.budget_distribution.1  \\\n",
       "0                                 50.000000   \n",
       "1                                  0.000000   \n",
       "2                                  0.000000   \n",
       "3                                  0.000000   \n",
       "4                                 17.303625   \n",
       "\n",
       "   benford_compliance.budget_distribution.2  \\\n",
       "0                                  0.000000   \n",
       "1                                  0.000000   \n",
       "2                                 33.333333   \n",
       "3                                 33.333333   \n",
       "4                                  9.221219   \n",
       "\n",
       "   benford_compliance.budget_distribution.3  \\\n",
       "0                                 50.000000   \n",
       "1                                  0.000000   \n",
       "2                                 33.333333   \n",
       "3                                 50.000000   \n",
       "4                                  7.640311   \n",
       "\n",
       "   benford_compliance.budget_distribution.4  \\\n",
       "0                                  0.000000   \n",
       "1                                  0.000000   \n",
       "2                                  0.000000   \n",
       "3                                  0.000000   \n",
       "4                                  4.825322   \n",
       "\n",
       "   benford_compliance.budget_distribution.5  \\\n",
       "0                                  0.000000   \n",
       "1                                  0.000000   \n",
       "2                                 33.333333   \n",
       "3                                  0.000000   \n",
       "4                                  4.774669   \n",
       "\n",
       "   benford_compliance.budget_distribution.6  \\\n",
       "0                                  0.000000   \n",
       "1                                  0.000000   \n",
       "2                                  0.000000   \n",
       "3                                  0.000000   \n",
       "4                                  4.802262   \n",
       "\n",
       "   benford_compliance.budget_distribution.7  \\\n",
       "0                                  0.000000   \n",
       "1                                  0.000000   \n",
       "2                                  0.000000   \n",
       "3                                  8.333333   \n",
       "4                                  1.871521   \n",
       "\n",
       "   benford_compliance.budget_distribution.8  \\\n",
       "0                                  0.000000   \n",
       "1                                  0.000000   \n",
       "2                                  0.000000   \n",
       "3                                  0.000000   \n",
       "4                                  4.215869   \n",
       "\n",
       "   benford_compliance.budget_distribution.9  benford_compliance.transaction  \\\n",
       "0                                  0.000000                        0.000000   \n",
       "1                                  0.000000                        0.300000   \n",
       "2                                  0.000000                        0.400000   \n",
       "3                                  8.333333                        0.333333   \n",
       "4                                  1.353950                        0.466576   \n",
       "\n",
       "   benford_compliance.transaction_distribution.0  \\\n",
       "0                                       0.000000   \n",
       "1                                       0.000000   \n",
       "2                                       0.000000   \n",
       "3                                       0.000000   \n",
       "4                                       0.189245   \n",
       "\n",
       "   benford_compliance.transaction_distribution.1  \\\n",
       "0                                      15.725000   \n",
       "1                                      30.000000   \n",
       "2                                      32.858000   \n",
       "3                                      15.633333   \n",
       "4                                      29.858390   \n",
       "\n",
       "   benford_compliance.transaction_distribution.2  \\\n",
       "0                                      41.015000   \n",
       "1                                      20.000000   \n",
       "2                                      25.714000   \n",
       "3                                      21.263333   \n",
       "4                                      17.636589   \n",
       "\n",
       "   benford_compliance.transaction_distribution.3  \\\n",
       "0                                      20.390000   \n",
       "1                                      10.000000   \n",
       "2                                       2.858000   \n",
       "3                                      21.610000   \n",
       "4                                      12.445475   \n",
       "\n",
       "   benford_compliance.transaction_distribution.4  \\\n",
       "0                                       5.185000   \n",
       "1                                       0.000000   \n",
       "2                                      12.858000   \n",
       "3                                      14.483333   \n",
       "4                                       9.122356   \n",
       "\n",
       "   benford_compliance.transaction_distribution.5  \\\n",
       "0                                      10.545000   \n",
       "1                                      30.000000   \n",
       "2                                       0.000000   \n",
       "3                                      10.113333   \n",
       "4                                       9.925052   \n",
       "\n",
       "   benford_compliance.transaction_distribution.6  \\\n",
       "0                                       1.785000   \n",
       "1                                      10.000000   \n",
       "2                                      10.000000   \n",
       "3                                       9.080000   \n",
       "4                                       6.392115   \n",
       "\n",
       "   benford_compliance.transaction_distribution.7  \\\n",
       "0                                       1.785000   \n",
       "1                                       0.000000   \n",
       "2                                       0.000000   \n",
       "3                                       0.000000   \n",
       "4                                       5.732137   \n",
       "\n",
       "   benford_compliance.transaction_distribution.8  \\\n",
       "0                                       3.570000   \n",
       "1                                       0.000000   \n",
       "2                                       0.000000   \n",
       "3                                       0.000000   \n",
       "4                                       4.611473   \n",
       "\n",
       "   benford_compliance.transaction_distribution.9  doc_size.avg  doc_size.max  \\\n",
       "0                                       0.000000  23295.000000         23757   \n",
       "1                                       0.000000   2396.300000          2500   \n",
       "2                                      15.714000   7273.000000          9350   \n",
       "3                                       7.816667  12347.666667         17836   \n",
       "4                                       4.086808  74794.854025        297459   \n",
       "\n",
       "   doc_size.min  missing_data.@default-currency  missing_data.@xml:lang  \\\n",
       "0         22833                               0                0.000000   \n",
       "1          2354                               0                0.000000   \n",
       "2          5664                               0                0.000000   \n",
       "3          8066                               0                0.333333   \n",
       "4          6024                               0                0.000000   \n",
       "\n",
       "   missing_data.activity-date  missing_data.budget  missing_data.description  \\\n",
       "0                           0               0.0000                         0   \n",
       "1                           0               1.0000                         0   \n",
       "2                           0               0.0000                         0   \n",
       "3                           0               0.0000                         0   \n",
       "4                           0               0.0191                         0   \n",
       "\n",
       "   missing_data.document-link  missing_data.participating-org  \\\n",
       "0                    1.000000                               0   \n",
       "1                    1.000000                               0   \n",
       "2                    0.400000                               0   \n",
       "3                    0.333333                               0   \n",
       "4                    0.000000                               0   \n",
       "\n",
       "   missing_data.result  missing_data.title  missing_data.transaction  \\\n",
       "0                  1.0                   0                         0   \n",
       "1                  1.0                   0                         0   \n",
       "2                  0.6                   0                         0   \n",
       "3                  1.0                   0                         0   \n",
       "4                  1.0                   0                         0   \n",
       "\n",
       "   organization_id                 organization_name  records  \\\n",
       "0   GB-CHC-1098752                               AID        2   \n",
       "1   GB-CHC-1133342                              Zing       10   \n",
       "2  NL-KVK-51018586           Zimmerman and Zimmerman        5   \n",
       "3   GB-CHC-1109789              Y Care International        3   \n",
       "4            44000  INTERNATIONAL DEVELOPMENT AGENCY     2199   \n",
       "\n",
       "   relative_size.budget  relative_size.description  \\\n",
       "0              0.022032                   0.010930   \n",
       "1              0.000000                   0.057596   \n",
       "2              0.023307                   0.103643   \n",
       "3              0.057582                   0.042425   \n",
       "4              0.515351                   0.025242   \n",
       "\n",
       "   relative_size.document-link  relative_size.participating-org  \\\n",
       "0                     0.000000                         0.020618   \n",
       "1                     0.000000                         0.099661   \n",
       "2                     0.025532                         0.047617   \n",
       "3                     0.017384                         0.040970   \n",
       "4                     0.043724                         0.019746   \n",
       "\n",
       "   relative_size.result  relative_size.title  relative_size.transaction  \\\n",
       "0              0.000000             0.006336                   0.833997   \n",
       "1              0.000000             0.024566                   0.127755   \n",
       "2              0.018428             0.023169                   0.320381   \n",
       "3              0.000000             0.017207                   0.531273   \n",
       "4              0.000000             0.002487                   0.218464   \n",
       "\n",
       "   title_description_similarity  \n",
       "0                      0.315287  \n",
       "1                      0.019360  \n",
       "2                      0.281650  \n",
       "3                      0.300862  \n",
       "4                      0.100171  "
      ]
     },
     "execution_count": 49,
     "metadata": {},
     "output_type": "execute_result"
    }
   ],
   "source": [
    "#Load mongo data into pandas dataframe to make EDA easier.\n",
    "#We'll need this to figure out where to set different cutoffs in our score definitions\n",
    "df=json_normalize(list(orgs.find()))\n",
    "df.head()"
   ]
  },
  {
   "cell_type": "markdown",
   "metadata": {},
   "source": [
    "### Definition of different sub-scores"
   ]
  },
  {
   "cell_type": "code",
   "execution_count": 50,
   "metadata": {
    "collapsed": false
   },
   "outputs": [
    {
     "data": {
      "text/plain": [
       "{u'_id': ObjectId('57a956c7370d933677eeb869'),\n",
       " u'benford_compliance': {u'budget': 0.2768595041322314,\n",
       "  u'budget_distribution': {u'0': 1.2396694214876034,\n",
       "   u'1': 27.68595041322314,\n",
       "   u'2': 17.768595041322314,\n",
       "   u'3': 11.983471074380166,\n",
       "   u'4': 11.983471074380166,\n",
       "   u'5': 8.264462809917354,\n",
       "   u'6': 7.43801652892562,\n",
       "   u'7': 5.785123966942149,\n",
       "   u'8': 2.8925619834710745,\n",
       "   u'9': 4.958677685950414},\n",
       "  u'transaction': 0.26859504132231404,\n",
       "  u'transaction_distribution': {u'0': 4.545454545454546,\n",
       "   u'1': 26.859504132231404,\n",
       "   u'2': 21.90082644628099,\n",
       "   u'3': 12.809917355371901,\n",
       "   u'4': 10.330578512396695,\n",
       "   u'5': 7.43801652892562,\n",
       "   u'6': 4.545454545454546,\n",
       "   u'7': 3.71900826446281,\n",
       "   u'8': 4.132231404958677,\n",
       "   u'9': 3.71900826446281}},\n",
       " u'contact_info': {},\n",
       " u'doc_size': {u'avg': 3110.115702479339, u'max': 5959, u'min': 2612},\n",
       " u'missing_data': {u'@default-currency': 0.0,\n",
       "  u'@xml:lang': 0.0,\n",
       "  u'activity-date': 0.0,\n",
       "  u'budget': 0.0,\n",
       "  u'description': 0.0,\n",
       "  u'document-link': 1.0,\n",
       "  u'participating-org': 0.0,\n",
       "  u'result': 1.0,\n",
       "  u'title': 0.05785123966942149,\n",
       "  u'transaction': 0.0},\n",
       " u'organization_id': u'21032',\n",
       " u'organization_name': u'PSI - Population Services International',\n",
       " u'records': 242,\n",
       " u'relative_size': {u'budget': 0.050261128428817095,\n",
       "  u'description': 0.14721784257848358,\n",
       "  u'document-link': 0.0,\n",
       "  u'participating-org': 0.06066232787428932,\n",
       "  u'result': 0.0,\n",
       "  u'title': 0.02400618937831992,\n",
       "  u'transaction': 0.06895866807678437},\n",
       " u'title_description_similarity': 0.18037193161728557}"
      ]
     },
     "execution_count": 50,
     "metadata": {},
     "output_type": "execute_result"
    }
   ],
   "source": [
    "test=orgs.find_one({'organization_id':'21032'})\n",
    "test"
   ]
  },
  {
   "cell_type": "code",
   "execution_count": 51,
   "metadata": {
    "collapsed": false
   },
   "outputs": [
    {
     "data": {
      "text/plain": [
       "79"
      ]
     },
     "execution_count": 51,
     "metadata": {},
     "output_type": "execute_result"
    }
   ],
   "source": [
    "def calculate_completeness(org):\n",
    "    \"\"\"\n",
    "    10 points per category based on completeness of 10 categories\n",
    "    proportional to percent of activities with data\n",
    "    \n",
    "    Example: If all fields are 100% complete except for one, which is only complete in 50% of documents,\n",
    "    the resulting score will be 95/100\n",
    "    \"\"\"\n",
    "    score=100\n",
    "    for i in org['missing_data']:\n",
    "        score-=org['missing_data'][i]*10\n",
    "    return int(score)\n",
    "\n",
    "calculate_completeness(test)"
   ]
  },
  {
   "cell_type": "code",
   "execution_count": 52,
   "metadata": {
    "collapsed": false
   },
   "outputs": [
    {
     "data": {
      "text/plain": [
       "43"
      ]
     },
     "execution_count": 52,
     "metadata": {},
     "output_type": "execute_result"
    }
   ],
   "source": [
    "def calculate_compliance_old(org):\n",
    "    \"\"\"\n",
    "    -25 points per category for non compliance\n",
    "    -30 if it’s because there’s no data (this kinda horns in on the completeness as well)\n",
    "    \"\"\"\n",
    "    score=100\n",
    "    for i in org['benford_compliance']:\n",
    "        if org['benford_compliance'][i]==0:\n",
    "            score-=25\n",
    "        elif not org['benford_compliance'][i]:\n",
    "            score-=30\n",
    "    return int(score)\n",
    "\n",
    "def calculate_compliance(org):\n",
    "    \"\"\"\n",
    "    For both categories (budget and transactions):\n",
    "    percent of records complying with benfords law*50\n",
    "    \n",
    "    Examples:\n",
    "    if both budgets and transactions fully comply, score will be 100\n",
    "    if budget fully complies and transactions complies half the time, score will be 75\n",
    "    \"\"\"\n",
    "    score=100\n",
    "    comp=org.get('benford_compliance')\n",
    "    if not comp:\n",
    "        return 0\n",
    "    for i in comp:\n",
    "        if not i.endswith('_distribution'):\n",
    "            score-=50-80*(comp[i] or 0)\n",
    "    if score>100:\n",
    "        score=100\n",
    "    return int(score)\n",
    "            \n",
    "calculate_compliance(test)"
   ]
  },
  {
   "cell_type": "markdown",
   "metadata": {},
   "source": [
    "To figure out the right parameters for our document size, we'll need to understand the overall distribution"
   ]
  },
  {
   "cell_type": "code",
   "execution_count": 12,
   "metadata": {
    "collapsed": false
   },
   "outputs": [
    {
     "data": {
      "image/png": "[encoded data removed]",
      "text/plain": [
       "<matplotlib.figure.Figure at 0x1081076d0>"
      ]
     },
     "metadata": {},
     "output_type": "display_data"
    }
   ],
   "source": [
    "#figure out distribution of sizes\n",
    "plt.hist(df['doc_size.avg'], bins=20)\n",
    "plt.title(\"Distribution of Average Serialized Document Size\")\n",
    "plt.xlabel(\"Average Doc Size\")\n",
    "plt.ylabel(\"Number of organizations\")\n",
    "plt.show()"
   ]
  },
  {
   "cell_type": "code",
   "execution_count": 13,
   "metadata": {
    "collapsed": false
   },
   "outputs": [
    {
     "data": {
      "image/png": "[encoded data removed]",
      "text/plain": [
       "<matplotlib.figure.Figure at 0x107ac2f90>"
      ]
     },
     "metadata": {},
     "output_type": "display_data"
    }
   ],
   "source": [
    "#Replot without the crazy high outlier\n",
    "outlier=df.ix[df['doc_size.avg'].idxmax()]['organization_id']\n",
    "filtered=df[df['organization_id'] != outlier]\n",
    "plt.hist(filtered['doc_size.avg'], bins=20)\n",
    "plt.title(\"Distribution of Average Serialized Document Size (minus outlier)\")\n",
    "plt.xlabel(\"Average Doc Size\")\n",
    "plt.ylabel(\"Number of organizations\")\n",
    "plt.show()"
   ]
  },
  {
   "cell_type": "code",
   "execution_count": 14,
   "metadata": {
    "collapsed": false
   },
   "outputs": [
    {
     "data": {
      "image/png": "[encoded data removed]",
      "text/plain": [
       "<matplotlib.figure.Figure at 0x107ffe410>"
      ]
     },
     "metadata": {},
     "output_type": "display_data"
    }
   ],
   "source": [
    "#Distribution is highly skewed, so replot with log transform\n",
    "plt.hist(np.log(filtered['doc_size.avg']), bins=20)\n",
    "plt.title(\"Distribution of Log of Average Serialized Document Size (minus outlier)\")\n",
    "plt.xlabel(\"Log(Average) Doc Size\")\n",
    "plt.ylabel(\"Number of organizations\")\n",
    "plt.show()"
   ]
  },
  {
   "cell_type": "markdown",
   "metadata": {},
   "source": [
    "Based on this distribution, orgs with a log(average doc size) between 8 and 9.5 represent the majority of results that are likely to be the most useful to our end users.  Having identified these bounds, we can incorporate them into our utility score definition."
   ]
  },
  {
   "cell_type": "code",
   "execution_count": 53,
   "metadata": {
    "collapsed": false
   },
   "outputs": [
    {
     "data": {
      "text/plain": [
       "83"
      ]
     },
     "execution_count": 53,
     "metadata": {},
     "output_type": "execute_result"
    }
   ],
   "source": [
    "def calculate_utility(org):\n",
    "    \"\"\"\n",
    "    -20 if log(record size) is less than 8\n",
    "    -20 if log(record size) is more than 9.5\n",
    "    (numbers above are based on the overall distribution)\n",
    "    \n",
    "    For records between the thresholds above\n",
    "    -2 per percentage point over 70 for financial\n",
    "    -1 per percentage point under 30 for program\n",
    "    \n",
    "    For everyone\n",
    "    -20 for title/description perfectly aligned\n",
    "    -10 for title/description perfectly misaligned\n",
    "    \"\"\"\n",
    "    \n",
    "    score=100\n",
    "    #First two criteria\n",
    "    if np.log(org['doc_size']['avg'])<8:\n",
    "        score-=30\n",
    "    elif np.log(org['doc_size']['avg'])>9.5:\n",
    "        score-=30\n",
    "        \n",
    "    #Second two criteria\n",
    "    else:\n",
    "        #Financial\n",
    "        if org['relative_size'] is None:\n",
    "            return 0\n",
    "        rel_sz=org['relative_size']\n",
    "        if rel_sz['budget'] is None or rel_sz['transaction'] is None:\n",
    "            return 0\n",
    "        raw_financial_result=(org['relative_size']['budget']+\n",
    "                              org['relative_size']['transaction']*2-\n",
    "                              0.7)\n",
    "        \n",
    "        if raw_financial_result>0:\n",
    "            score-=(raw_financial_result*100) #convert to percentage\n",
    "        \n",
    "        #Program\n",
    "        raw_program_result=0.3-(org['relative_size']['description']+\n",
    "                            org['relative_size']['document-link']+\n",
    "                            org['relative_size']['participating-org']+\n",
    "                            org['relative_size']['result']+\n",
    "                            org['relative_size']['title']\n",
    "                           )\n",
    "        if raw_program_result>0:\n",
    "            score-=(raw_program_result*100) #convert to percentage\n",
    "            \n",
    "    #Third two criteria\n",
    "    if (org['title_description_similarity'] or 0)<0.2:\n",
    "        # title not related to description\n",
    "        score-=10\n",
    "    elif (org['title_description_similarity'] or 0)>0.7:\n",
    "        # title and description basically the same\n",
    "        score-=20\n",
    "    return int(score)\n",
    "\n",
    "calculate_utility(test)"
   ]
  },
  {
   "cell_type": "code",
   "execution_count": 54,
   "metadata": {
    "collapsed": false
   },
   "outputs": [],
   "source": [
    "def find_distance(a,b,c):\n",
    "    \"\"\"\n",
    "    Similar to CN calculation - calculate 3D euclidean distance from perfect score\n",
    "    http://www.charitynavigator.org/index.cfm?bay=content.view&cpid=1287\n",
    "    \"\"\"\n",
    "    #print a,b,c\n",
    "    return np.sqrt((a**2+b**2+c**2)/3)"
   ]
  },
  {
   "cell_type": "code",
   "execution_count": 55,
   "metadata": {
    "collapsed": false,
    "scrolled": true
   },
   "outputs": [
    {
     "data": {
      "text/plain": [
       "{'completeness': 79,\n",
       " 'compliance': 43,\n",
       " 'distance': 70.7,\n",
       " 'organization_id': u'21032',\n",
       " 'utility': 83}"
      ]
     },
     "execution_count": 55,
     "metadata": {},
     "output_type": "execute_result"
    }
   ],
   "source": [
    "def calculate_score(org):\n",
    "    \"\"\"\n",
    "    Calculate all scores and output json result \n",
    "    This will enable us to load the output into mongo or (with one extra step) pandas\n",
    "    \"\"\"\n",
    "    completeness=calculate_completeness(org)\n",
    "    compliance=calculate_compliance(org)\n",
    "    utility=calculate_utility(org)\n",
    "    distance=round(float(find_distance(completeness,compliance,utility)),1)\n",
    "    return {\"organization_id\":org['organization_id'],\n",
    "            \"completeness\":completeness,\"compliance\":compliance,\n",
    "            \"utility\":utility,\"distance\":distance}\n",
    "\n",
    "calculate_score(test)"
   ]
  },
  {
   "cell_type": "markdown",
   "metadata": {},
   "source": [
    "### Calculate scores for all orgs and explore results"
   ]
  },
  {
   "cell_type": "code",
   "execution_count": 56,
   "metadata": {
    "collapsed": false
   },
   "outputs": [],
   "source": [
    "#Calculate scores iteratively based on mongo input\n",
    "scores=[]\n",
    "for org in orgs.find():\n",
    "    scores.append(calculate_score(org))\n",
    "\n",
    "#Convert results to dataframe for easier EDA\n",
    "scores_df=json_normalize(scores)\n",
    "full_results=df.join(scores_df,rsuffix='_DUPLICATE')"
   ]
  },
  {
   "cell_type": "code",
   "execution_count": 57,
   "metadata": {
    "collapsed": false
   },
   "outputs": [
    {
     "data": {
      "image/png": "[encoded data removed]",
      "text/plain": [
       "<matplotlib.figure.Figure at 0x107c1ce10>"
      ]
     },
     "metadata": {},
     "output_type": "display_data"
    }
   ],
   "source": [
    "#Plot distribution\n",
    "plt.figure(figsize=(10,6))\n",
    "plt.hist(full_results['distance'],bins=20)\n",
    "plt.title(\"Distribution of Data Quality Scores\")\n",
    "plt.xlabel(\"Score\")\n",
    "plt.ylabel(\"Number of Orgs\")\n",
    "plt.show()"
   ]
  },
  {
   "cell_type": "code",
   "execution_count": 58,
   "metadata": {
    "collapsed": false
   },
   "outputs": [
    {
     "name": "stdout",
     "output_type": "stream",
     "text": [
      "(array([ 0,  0,  6,  4,  8, 11,  3, 21, 16, 25, 23, 24, 14, 27,  6, 14,  4,\n",
      "        1,  0,  0]), array([  40.,   43.,   46.,   49.,   52.,   55.,   58.,   61.,   64.,\n",
      "         67.,   70.,   73.,   76.,   79.,   82.,   85.,   88.,   91.,\n",
      "         94.,   97.,  100.]))\n"
     ]
    }
   ],
   "source": [
    "#Rebuild raw data for histogram so we can export it and add to the site\n",
    "bins=np.linspace(40,100,21)\n",
    "hist_data=np.histogram(full_results['distance'], bins=bins)\n",
    "print(hist_data)\n",
    "benchmark_output=pd.DataFrame(hist_data[0],hist_data[1][:-1])\n",
    "benchmark_output.to_csv('benchmark_data.csv')"
   ]
  },
  {
   "cell_type": "markdown",
   "metadata": {},
   "source": [
    "Based on this tuning of the model, we can reasonably assign letter grades in line with typical breakdowns (A=100-90,B=89-80,C=79-70,D=69-60,F=<59)"
   ]
  },
  {
   "cell_type": "code",
   "execution_count": 59,
   "metadata": {
    "collapsed": false
   },
   "outputs": [],
   "source": [
    "def get_letter_grade(row):\n",
    "    score=row['distance']\n",
    "    if score>=90:\n",
    "        grade='A'\n",
    "    elif 80<=score<90:\n",
    "        grade='B'\n",
    "    elif 70<=score<80:\n",
    "        grade='C'\n",
    "    elif 60<=score<70:\n",
    "        grade='D'\n",
    "    else:\n",
    "        grade='F'\n",
    "    return grade"
   ]
  },
  {
   "cell_type": "code",
   "execution_count": 60,
   "metadata": {
    "collapsed": false
   },
   "outputs": [],
   "source": [
    "#Calculate grades\n",
    "full_results['grade']=full_results.apply(get_letter_grade,axis=1)"
   ]
  },
  {
   "cell_type": "code",
   "execution_count": 61,
   "metadata": {
    "collapsed": false
   },
   "outputs": [
    {
     "data": {
      "text/plain": [
       "<matplotlib.text.Text at 0x1087cff50>"
      ]
     },
     "execution_count": 61,
     "metadata": {},
     "output_type": "execute_result"
    },
    {
     "data": {
      "image/png": "[encoded data removed]",
      "text/plain": [
       "<matplotlib.figure.Figure at 0x107f8db10>"
      ]
     },
     "metadata": {},
     "output_type": "display_data"
    }
   ],
   "source": [
    "grades = full_results.groupby('grade')\n",
    "grade_results=grades.size()\n",
    "grade_percents=grade_results/sum(grade_results)\n",
    "percent_plot=grade_percents.plot(kind='bar', title=\"Percentage distribution of data quality grades\")\n",
    "percent_plot.set_ylabel(\"Percentage\")"
   ]
  },
  {
   "cell_type": "code",
   "execution_count": 62,
   "metadata": {
    "collapsed": false
   },
   "outputs": [
    {
     "data": {
      "text/plain": [
       "grade\n",
       "A        0.004808\n",
       "B        0.235577\n",
       "C        0.302885\n",
       "D        0.307692\n",
       "F        0.149038\n",
       "dtype: float64"
      ]
     },
     "execution_count": 62,
     "metadata": {},
     "output_type": "execute_result"
    }
   ],
   "source": [
    "grade_results\n",
    "grade_percents"
   ]
  },
  {
   "cell_type": "markdown",
   "metadata": {},
   "source": [
    "# Final Cleanup and Export"
   ]
  },
  {
   "cell_type": "code",
   "execution_count": 63,
   "metadata": {
    "collapsed": false
   },
   "outputs": [],
   "source": [
    "#add \"other\" column for relative size to make visualizing easier\n",
    "filter_col = [col for col in list(full_results) if col.startswith('relative')]\n",
    "full_results['relative_size.other']=1-full_results[filter_col].sum(axis=1)\n",
    "\n",
    "#add percentile rank for benchmarking\n",
    "full_results['percentile_rank']=full_results['distance'].rank(pct=True)"
   ]
  },
  {
   "cell_type": "code",
   "execution_count": 64,
   "metadata": {
    "collapsed": true
   },
   "outputs": [],
   "source": [
    "#Drop duplicate organization_id\n",
    "full_results.drop('organization_id_DUPLICATE', axis=1, inplace=True)"
   ]
  },
  {
   "cell_type": "code",
   "execution_count": 65,
   "metadata": {
    "collapsed": false
   },
   "outputs": [],
   "source": [
    "#Format columns nicely for future Flask integration\n",
    "rename_dict={}\n",
    "for column in list(full_results.columns):\n",
    "    new=column.replace('.','_')\n",
    "    new=new.replace('-','_')\n",
    "    rename_dict[column]=new\n",
    "    \n",
    "rename_dict['missing_data.@xml:lang']='missing_data_language'\n",
    "rename_dict['missing_data.@default_currency']='missing_data_currency'\n",
    "full_results.rename(columns=rename_dict,inplace=True)\n",
    "\n",
    "rename_dict['missing_data_@default_currency']='missing_data_currency'\n",
    "full_results.rename(columns=rename_dict,inplace=True)"
   ]
  },
  {
   "cell_type": "code",
   "execution_count": 66,
   "metadata": {
    "collapsed": false
   },
   "outputs": [
    {
     "data": {
      "text/html": [
       "<div style=\"max-height:1000px;max-width:1500px;overflow:auto;\">\n",
       "<table border=\"1\" class=\"dataframe\">\n",
       "  <thead>\n",
       "    <tr style=\"text-align: right;\">\n",
       "      <th></th>\n",
       "      <th>68</th>\n",
       "    </tr>\n",
       "  </thead>\n",
       "  <tbody>\n",
       "    <tr>\n",
       "      <th>_id</th>\n",
       "      <td>                57a956c7370d933677eeb869</td>\n",
       "    </tr>\n",
       "    <tr>\n",
       "      <th>benford_compliance_budget</th>\n",
       "      <td>                               0.2768595</td>\n",
       "    </tr>\n",
       "    <tr>\n",
       "      <th>benford_compliance_budget_distribution_0</th>\n",
       "      <td>                                1.239669</td>\n",
       "    </tr>\n",
       "    <tr>\n",
       "      <th>benford_compliance_budget_distribution_1</th>\n",
       "      <td>                                27.68595</td>\n",
       "    </tr>\n",
       "    <tr>\n",
       "      <th>benford_compliance_budget_distribution_2</th>\n",
       "      <td>                                 17.7686</td>\n",
       "    </tr>\n",
       "    <tr>\n",
       "      <th>benford_compliance_budget_distribution_3</th>\n",
       "      <td>                                11.98347</td>\n",
       "    </tr>\n",
       "    <tr>\n",
       "      <th>benford_compliance_budget_distribution_4</th>\n",
       "      <td>                                11.98347</td>\n",
       "    </tr>\n",
       "    <tr>\n",
       "      <th>benford_compliance_budget_distribution_5</th>\n",
       "      <td>                                8.264463</td>\n",
       "    </tr>\n",
       "    <tr>\n",
       "      <th>benford_compliance_budget_distribution_6</th>\n",
       "      <td>                                7.438017</td>\n",
       "    </tr>\n",
       "    <tr>\n",
       "      <th>benford_compliance_budget_distribution_7</th>\n",
       "      <td>                                5.785124</td>\n",
       "    </tr>\n",
       "    <tr>\n",
       "      <th>benford_compliance_budget_distribution_8</th>\n",
       "      <td>                                2.892562</td>\n",
       "    </tr>\n",
       "    <tr>\n",
       "      <th>benford_compliance_budget_distribution_9</th>\n",
       "      <td>                                4.958678</td>\n",
       "    </tr>\n",
       "    <tr>\n",
       "      <th>benford_compliance_transaction</th>\n",
       "      <td>                                0.268595</td>\n",
       "    </tr>\n",
       "    <tr>\n",
       "      <th>benford_compliance_transaction_distribution_0</th>\n",
       "      <td>                                4.545455</td>\n",
       "    </tr>\n",
       "    <tr>\n",
       "      <th>benford_compliance_transaction_distribution_1</th>\n",
       "      <td>                                 26.8595</td>\n",
       "    </tr>\n",
       "    <tr>\n",
       "      <th>benford_compliance_transaction_distribution_2</th>\n",
       "      <td>                                21.90083</td>\n",
       "    </tr>\n",
       "    <tr>\n",
       "      <th>benford_compliance_transaction_distribution_3</th>\n",
       "      <td>                                12.80992</td>\n",
       "    </tr>\n",
       "    <tr>\n",
       "      <th>benford_compliance_transaction_distribution_4</th>\n",
       "      <td>                                10.33058</td>\n",
       "    </tr>\n",
       "    <tr>\n",
       "      <th>benford_compliance_transaction_distribution_5</th>\n",
       "      <td>                                7.438017</td>\n",
       "    </tr>\n",
       "    <tr>\n",
       "      <th>benford_compliance_transaction_distribution_6</th>\n",
       "      <td>                                4.545455</td>\n",
       "    </tr>\n",
       "    <tr>\n",
       "      <th>benford_compliance_transaction_distribution_7</th>\n",
       "      <td>                                3.719008</td>\n",
       "    </tr>\n",
       "    <tr>\n",
       "      <th>benford_compliance_transaction_distribution_8</th>\n",
       "      <td>                                4.132231</td>\n",
       "    </tr>\n",
       "    <tr>\n",
       "      <th>benford_compliance_transaction_distribution_9</th>\n",
       "      <td>                                3.719008</td>\n",
       "    </tr>\n",
       "    <tr>\n",
       "      <th>doc_size_avg</th>\n",
       "      <td>                                3110.116</td>\n",
       "    </tr>\n",
       "    <tr>\n",
       "      <th>doc_size_max</th>\n",
       "      <td>                                    5959</td>\n",
       "    </tr>\n",
       "    <tr>\n",
       "      <th>doc_size_min</th>\n",
       "      <td>                                    2612</td>\n",
       "    </tr>\n",
       "    <tr>\n",
       "      <th>missing_data_currency</th>\n",
       "      <td>                                       0</td>\n",
       "    </tr>\n",
       "    <tr>\n",
       "      <th>missing_data_language</th>\n",
       "      <td>                                       0</td>\n",
       "    </tr>\n",
       "    <tr>\n",
       "      <th>missing_data_activity_date</th>\n",
       "      <td>                                       0</td>\n",
       "    </tr>\n",
       "    <tr>\n",
       "      <th>missing_data_budget</th>\n",
       "      <td>                                       0</td>\n",
       "    </tr>\n",
       "    <tr>\n",
       "      <th>missing_data_description</th>\n",
       "      <td>                                       0</td>\n",
       "    </tr>\n",
       "    <tr>\n",
       "      <th>missing_data_document_link</th>\n",
       "      <td>                                       1</td>\n",
       "    </tr>\n",
       "    <tr>\n",
       "      <th>missing_data_participating_org</th>\n",
       "      <td>                                       0</td>\n",
       "    </tr>\n",
       "    <tr>\n",
       "      <th>missing_data_result</th>\n",
       "      <td>                                       1</td>\n",
       "    </tr>\n",
       "    <tr>\n",
       "      <th>missing_data_title</th>\n",
       "      <td>                              0.05785124</td>\n",
       "    </tr>\n",
       "    <tr>\n",
       "      <th>missing_data_transaction</th>\n",
       "      <td>                                       0</td>\n",
       "    </tr>\n",
       "    <tr>\n",
       "      <th>organization_id</th>\n",
       "      <td>                                   21032</td>\n",
       "    </tr>\n",
       "    <tr>\n",
       "      <th>organization_name</th>\n",
       "      <td> PSI - Population Services International</td>\n",
       "    </tr>\n",
       "    <tr>\n",
       "      <th>records</th>\n",
       "      <td>                                     242</td>\n",
       "    </tr>\n",
       "    <tr>\n",
       "      <th>relative_size_budget</th>\n",
       "      <td>                              0.05026113</td>\n",
       "    </tr>\n",
       "    <tr>\n",
       "      <th>relative_size_description</th>\n",
       "      <td>                               0.1472178</td>\n",
       "    </tr>\n",
       "    <tr>\n",
       "      <th>relative_size_document_link</th>\n",
       "      <td>                                       0</td>\n",
       "    </tr>\n",
       "    <tr>\n",
       "      <th>relative_size_participating_org</th>\n",
       "      <td>                              0.06066233</td>\n",
       "    </tr>\n",
       "    <tr>\n",
       "      <th>relative_size_result</th>\n",
       "      <td>                                       0</td>\n",
       "    </tr>\n",
       "    <tr>\n",
       "      <th>relative_size_title</th>\n",
       "      <td>                              0.02400619</td>\n",
       "    </tr>\n",
       "    <tr>\n",
       "      <th>relative_size_transaction</th>\n",
       "      <td>                              0.06895867</td>\n",
       "    </tr>\n",
       "    <tr>\n",
       "      <th>title_description_similarity</th>\n",
       "      <td>                               0.1803719</td>\n",
       "    </tr>\n",
       "    <tr>\n",
       "      <th>completeness</th>\n",
       "      <td>                                      79</td>\n",
       "    </tr>\n",
       "    <tr>\n",
       "      <th>compliance</th>\n",
       "      <td>                                      43</td>\n",
       "    </tr>\n",
       "    <tr>\n",
       "      <th>distance</th>\n",
       "      <td>                                    70.7</td>\n",
       "    </tr>\n",
       "    <tr>\n",
       "      <th>utility</th>\n",
       "      <td>                                      83</td>\n",
       "    </tr>\n",
       "    <tr>\n",
       "      <th>grade</th>\n",
       "      <td>                                       C</td>\n",
       "    </tr>\n",
       "    <tr>\n",
       "      <th>relative_size_other</th>\n",
       "      <td>                               0.6488938</td>\n",
       "    </tr>\n",
       "    <tr>\n",
       "      <th>percentile_rank</th>\n",
       "      <td>                               0.4783654</td>\n",
       "    </tr>\n",
       "  </tbody>\n",
       "</table>\n",
       "</div>"
      ],
      "text/plain": [
       "                                                                                    68\n",
       "_id                                                           57a956c7370d933677eeb869\n",
       "benford_compliance_budget                                                    0.2768595\n",
       "benford_compliance_budget_distribution_0                                      1.239669\n",
       "benford_compliance_budget_distribution_1                                      27.68595\n",
       "benford_compliance_budget_distribution_2                                       17.7686\n",
       "benford_compliance_budget_distribution_3                                      11.98347\n",
       "benford_compliance_budget_distribution_4                                      11.98347\n",
       "benford_compliance_budget_distribution_5                                      8.264463\n",
       "benford_compliance_budget_distribution_6                                      7.438017\n",
       "benford_compliance_budget_distribution_7                                      5.785124\n",
       "benford_compliance_budget_distribution_8                                      2.892562\n",
       "benford_compliance_budget_distribution_9                                      4.958678\n",
       "benford_compliance_transaction                                                0.268595\n",
       "benford_compliance_transaction_distribution_0                                 4.545455\n",
       "benford_compliance_transaction_distribution_1                                  26.8595\n",
       "benford_compliance_transaction_distribution_2                                 21.90083\n",
       "benford_compliance_transaction_distribution_3                                 12.80992\n",
       "benford_compliance_transaction_distribution_4                                 10.33058\n",
       "benford_compliance_transaction_distribution_5                                 7.438017\n",
       "benford_compliance_transaction_distribution_6                                 4.545455\n",
       "benford_compliance_transaction_distribution_7                                 3.719008\n",
       "benford_compliance_transaction_distribution_8                                 4.132231\n",
       "benford_compliance_transaction_distribution_9                                 3.719008\n",
       "doc_size_avg                                                                  3110.116\n",
       "doc_size_max                                                                      5959\n",
       "doc_size_min                                                                      2612\n",
       "missing_data_currency                                                                0\n",
       "missing_data_language                                                                0\n",
       "missing_data_activity_date                                                           0\n",
       "missing_data_budget                                                                  0\n",
       "missing_data_description                                                             0\n",
       "missing_data_document_link                                                           1\n",
       "missing_data_participating_org                                                       0\n",
       "missing_data_result                                                                  1\n",
       "missing_data_title                                                          0.05785124\n",
       "missing_data_transaction                                                             0\n",
       "organization_id                                                                  21032\n",
       "organization_name                              PSI - Population Services International\n",
       "records                                                                            242\n",
       "relative_size_budget                                                        0.05026113\n",
       "relative_size_description                                                    0.1472178\n",
       "relative_size_document_link                                                          0\n",
       "relative_size_participating_org                                             0.06066233\n",
       "relative_size_result                                                                 0\n",
       "relative_size_title                                                         0.02400619\n",
       "relative_size_transaction                                                   0.06895867\n",
       "title_description_similarity                                                 0.1803719\n",
       "completeness                                                                        79\n",
       "compliance                                                                          43\n",
       "distance                                                                          70.7\n",
       "utility                                                                             83\n",
       "grade                                                                                C\n",
       "relative_size_other                                                          0.6488938\n",
       "percentile_rank                                                              0.4783654"
      ]
     },
     "execution_count": 66,
     "metadata": {},
     "output_type": "execute_result"
    }
   ],
   "source": [
    "full_results[full_results['organization_id']=='21032'].transpose()"
   ]
  },
  {
   "cell_type": "code",
   "execution_count": 67,
   "metadata": {
    "collapsed": false
   },
   "outputs": [],
   "source": [
    "#Drop _id column (since it breaks encoding) and encode to flat JSON\n",
    "full_results.ix[:, full_results.columns != '_id'].to_json('test_scores.json',orient='records')"
   ]
  },
  {
   "cell_type": "code",
   "execution_count": 152,
   "metadata": {
    "collapsed": false
   },
   "outputs": [
    {
     "data": {
      "text/plain": [
       "{u'benford_compliance_budget': 1.0,\n",
       " u'benford_compliance_budget_distribution_0': 0.0,\n",
       " u'benford_compliance_budget_distribution_1': 50.0,\n",
       " u'benford_compliance_budget_distribution_2': 0.0,\n",
       " u'benford_compliance_budget_distribution_3': 50.0,\n",
       " u'benford_compliance_budget_distribution_4': 0.0,\n",
       " u'benford_compliance_budget_distribution_5': 0.0,\n",
       " u'benford_compliance_budget_distribution_6': 0.0,\n",
       " u'benford_compliance_budget_distribution_7': 0.0,\n",
       " u'benford_compliance_budget_distribution_8': 0.0,\n",
       " u'benford_compliance_budget_distribution_9': 0.0,\n",
       " u'benford_compliance_transaction': 0.0,\n",
       " u'benford_compliance_transaction_distribution_0': 0.0,\n",
       " u'benford_compliance_transaction_distribution_1': 15.725,\n",
       " u'benford_compliance_transaction_distribution_2': 41.015,\n",
       " u'benford_compliance_transaction_distribution_3': 20.39,\n",
       " u'benford_compliance_transaction_distribution_4': 5.185,\n",
       " u'benford_compliance_transaction_distribution_5': 10.545,\n",
       " u'benford_compliance_transaction_distribution_6': 1.785,\n",
       " u'benford_compliance_transaction_distribution_7': 1.785,\n",
       " u'benford_compliance_transaction_distribution_8': 3.57,\n",
       " u'benford_compliance_transaction_distribution_9': 0.0,\n",
       " u'completeness': 80,\n",
       " u'compliance': 80,\n",
       " u'distance': 76.8,\n",
       " u'doc_size_avg': 23295.0,\n",
       " u'doc_size_max': 23757,\n",
       " u'doc_size_min': 22833,\n",
       " u'grade': u'C',\n",
       " u'missing_data_activity_date': 0.0,\n",
       " u'missing_data_budget': 0.0,\n",
       " u'missing_data_currency': 0.0,\n",
       " u'missing_data_description': 0.0,\n",
       " u'missing_data_document_link': 1.0,\n",
       " u'missing_data_language': 0.0,\n",
       " u'missing_data_participating_org': 0.0,\n",
       " u'missing_data_result': 1.0,\n",
       " u'missing_data_title': 0.0,\n",
       " u'missing_data_transaction': 0.0,\n",
       " u'organization_id': u'GB-CHC-1098752',\n",
       " u'organization_name': u'AID',\n",
       " u'percentile_rank': 0.7067307692,\n",
       " u'records': 2,\n",
       " u'relative_size_budget': 0.0220322618,\n",
       " u'relative_size_description': 0.0109301754,\n",
       " u'relative_size_document_link': 0.0,\n",
       " u'relative_size_other': 0.1060861941,\n",
       " u'relative_size_participating_org': 0.0206182715,\n",
       " u'relative_size_result': 0.0,\n",
       " u'relative_size_title': 0.0063364516,\n",
       " u'relative_size_transaction': 0.8339966456,\n",
       " u'title_description_similarity': 0.3152874426,\n",
       " u'utility': 70}"
      ]
     },
     "execution_count": 152,
     "metadata": {},
     "output_type": "execute_result"
    }
   ],
   "source": [
    "#Reload and check records\n",
    "import io, json\n",
    "with io.open('test_scores.json', encoding='utf-8') as f:\n",
    "    records=json.load(f)\n",
    "\n",
    "test=records[0]\n",
    "test"
   ]
  },
  {
   "cell_type": "code",
   "execution_count": 153,
   "metadata": {
    "collapsed": false
   },
   "outputs": [
    {
     "data": {
      "text/plain": [
       "208"
      ]
     },
     "execution_count": 153,
     "metadata": {},
     "output_type": "execute_result"
    }
   ],
   "source": [
    "# save the scores to the database\n",
    "db.drop_collection('scores')\n",
    "db.scores.insert_many(records)\n",
    "db.scores.count()"
   ]
  },
  {
   "cell_type": "markdown",
   "metadata": {},
   "source": [
    "# Imputing missing data (where possible)"
   ]
  },
  {
   "cell_type": "code",
   "execution_count": 154,
   "metadata": {
    "collapsed": true
   },
   "outputs": [],
   "source": [
    "#load graph structure into memory\n",
    "#note that this is currently using the text file, but for consistency we should use the pickled version\n",
    "\n",
    "with open('graph_root_ref.txt', 'r') as myfile:\n",
    "    graph_df=pd.read_table(myfile)\n",
    "graph_df=graph_df.drop(graph_df.columns[0], axis=1)\n",
    "graph_df.columns=['source','sink']"
   ]
  },
  {
   "cell_type": "code",
   "execution_count": 162,
   "metadata": {
    "collapsed": false
   },
   "outputs": [
    {
     "name": "stdout",
     "output_type": "stream",
     "text": [
      "^C\n",
      "Cleaning up. Please wait...                       \n"
     ]
    }
   ],
   "source": [
    "#download activity text if necessary\n",
    "if not os.path.isdir('iati_text'):\n",
    "    !aws s3 cp s3://mdang.w210/iati_text.txt.gz --region us-west-2 .\n",
    "    #!tar -zxf iati_text.tar.gz #not tar file\n",
    "    "
   ]
  },
  {
   "cell_type": "code",
   "execution_count": 165,
   "metadata": {
    "collapsed": false
   },
   "outputs": [
    {
     "name": "stdout",
     "output_type": "stream",
     "text": [
      "546742\n",
      "Number of orgs reporting 316\n",
      "2.73218894005\n"
     ]
    }
   ],
   "source": [
    "#Load activity text \n",
    "t0 = time()\n",
    "orgs_ids = set()\n",
    "with open('iati_text.txt', 'r') as myfile:\n",
    "    lines = myfile.readlines()\n",
    "    print(len(lines))\n",
    "    for line in lines:\n",
    "        line = line.split('\\t')\n",
    "        orgs_ids.add(line[0])\n",
    "print('Number of orgs reporting ' + str(len(orgs_ids)))\n",
    "print(time() - t0)"
   ]
  },
  {
   "cell_type": "code",
   "execution_count": 166,
   "metadata": {
    "collapsed": false
   },
   "outputs": [
    {
     "name": "stdout",
     "output_type": "stream",
     "text": [
      "Completed 0 lines\n",
      "Completed 50000 lines\n",
      "Completed 100000 lines\n",
      "Completed 150000 lines\n",
      "Completed 200000 lines\n",
      "Completed 250000 lines\n",
      "Completed 300000 lines\n",
      "Completed 350000 lines\n",
      "Completed 400000 lines\n",
      "Completed 450000 lines\n",
      "Completed 500000 lines\n",
      "316\n",
      "time: 108.187741995\n"
     ]
    }
   ],
   "source": [
    "#Create bag-of-words\n",
    "t0 = time()\n",
    "corpus = set(words.words()) #create corpus to use \n",
    "\n",
    "cur_line = 0\n",
    "orgs_with_text = {} #dictionary to hold org ids as keys and a list of all text as a value\n",
    "with open('iati_text.txt', 'r') as infile: #open infile\n",
    "    lines = infile.readlines()\n",
    "    for line in lines: #for each line of text in iati text\n",
    "        if cur_line % 50000 == 0: #sanity check\n",
    "            print('Completed ' + str(cur_line) + ' lines')\n",
    "        cur_id, data = line.split('\\t') #split line\n",
    "        working = orgs_with_text.get(cur_id) #retrieve value \n",
    "        if working is None: #if this doesn't exist then initialize a key and an empty list\n",
    "            orgs_with_text[cur_id] = []\n",
    "            working = []\n",
    "        for word in data.split(): #split into word tokens\n",
    "            if word.lower() in corpus: #check if word in corpus\n",
    "                working.append(word.lower()) #add to list\n",
    "        orgs_with_text[cur_id] = working #update dictionary value\n",
    "        cur_line += 1\n",
    "\n",
    "print(len(orgs_with_text.keys()))\n",
    "print('time: ' + str(time() - t0))"
   ]
  },
  {
   "cell_type": "code",
   "execution_count": 167,
   "metadata": {
    "collapsed": false
   },
   "outputs": [
    {
     "name": "stdout",
     "output_type": "stream",
     "text": [
      "vectorized in 77.8672659397\n",
      "(316, 22557)\n"
     ]
    }
   ],
   "source": [
    "#Convert Bag-of-words into matrix via TFIDF vectorizer\n",
    "\n",
    "t0 = time()\n",
    "raw_text = [] #holder for all text, these are words in the corpus\n",
    "for doc in orgs_with_text.values():\n",
    "    new_doc = str(doc) #render as a string\n",
    "    raw_text.append(new_doc)\n",
    "\n",
    "vectorizer = TfidfVectorizer(stop_words = 'english') #create vectorizer\n",
    "tf_matrix = vectorizer.fit_transform(raw_text)\n",
    "\n",
    "print('vectorized in ' + str(time() - t0))\n",
    "print(tf_matrix.shape)"
   ]
  },
  {
   "cell_type": "code",
   "execution_count": 168,
   "metadata": {
    "collapsed": false
   },
   "outputs": [
    {
     "name": "stdout",
     "output_type": "stream",
     "text": [
      "['NI-MIGOB-3602', 'NL-KVK-41149287', 'GB-CHC-1138287', 'GB-CHC-291691', 'GB-CHC-1090745']\n"
     ]
    }
   ],
   "source": [
    "#Returns the nearest neighbors as sorted by cosine similarity\n",
    "def getSimilarity(org_id):\n",
    "    num = None\n",
    "    for tupl in enumerate(orgs_with_text.keys()):\n",
    "        if org_id == tupl[1]: #match id\n",
    "            num = tupl[0] #return number corresponding to row in matrix\n",
    "            break\n",
    "    similarity_matrix = cosine_similarity(tf_matrix[num], tf_matrix) #get cosine similarity\n",
    "    sorted_matrix = np.argsort(similarity_matrix[0]) #sort and get ids\n",
    "    nums = list(sorted_matrix[-6:])[::-1][1:] #render top number as list and reverse order (most similar is first)\n",
    "    #in above line reverse and then remove first item which is the same ID\n",
    "    to_return = [] \n",
    "    for num in nums: #take numeric placeholders and translate into ids \n",
    "        to_return.append(orgs_with_text.keys()[num])\n",
    "    return to_return\n",
    "\n",
    "nums = getSimilarity('NL-KVK-41201644')\n",
    "print(nums)"
   ]
  },
  {
   "cell_type": "code",
   "execution_count": 179,
   "metadata": {
    "collapsed": false
   },
   "outputs": [],
   "source": [
    "def get_neighbors(organization_id):\n",
    "    \"\"\"returns a sorted dataframe with all neighbors for a given org\"\"\"\n",
    "    aggregate=graph_df[graph_df['source']==organization_id].groupby('sink').count()\n",
    "    return aggregate.sort(\"source\",ascending=False)\n",
    "\n",
    "def find_missing(record):\n",
    "    \"\"\"check if a record is missing values\"\"\"\n",
    "    fields_to_fill = [] #holder to contain fields we will try to impute\n",
    "    for mis in record.keys(): #check all missing fields\n",
    "        if record[mis] != 0 and 'missing_data_' in mis:\n",
    "            fields_to_fill.append(mis)\n",
    "    return fields_to_fill\n",
    "\n",
    "\n",
    "def find_imputing_options(cur_record):\n",
    "    \"\"\"impute all possible fields for a given record (this is the entire record, not just the id)\"\"\"\n",
    "\n",
    "    impute_results={}\n",
    "    missing_fields = find_missing(cur_record) #get the missing fields for that record\n",
    "    neighbors = get_neighbors(cur_record['organization_id']) #get a list of neighbors for each record\n",
    "    \n",
    "    for field in missing_fields: #check each field that is missing\n",
    "        for neighbor in neighbors.iterrows(): #check each neighbor, starting with the closest\n",
    "            cur_neighbor = db.scores.find_one({'organization_id':neighbor[0]}) #get record of the neighbor \n",
    "            if cur_neighbor: #if the record exists proceed\n",
    "                neighbor_missing = find_missing(cur_neighbor) #get the fields that are missing for the neighbor\n",
    "                if field not in neighbor_missing: #if a neighbor is not missing the same field we can impute\n",
    "                    #print('can impute ' + str(field[13:]) + ' for ' + str(cur_record['organization_id']) + ' from ' + str(neighbor[0]))\n",
    "                    try:\n",
    "                        text_neighbors=getSimilarity(neighbor[0])\n",
    "                    except IndexError:\n",
    "                        text_neighbors=[]\n",
    "                    similar=0\n",
    "                    if neighbor[0] in text_neighbors:\n",
    "                        similar=1\n",
    "                    \n",
    "                    impute_results[field[13:]]={'organization_id':neighbor[0],'similar_text':similar,'grade':cur_neighbor['grade']}\n",
    "                    break\n",
    "    return impute_results"
   ]
  },
  {
   "cell_type": "code",
   "execution_count": 180,
   "metadata": {
    "collapsed": false
   },
   "outputs": [
    {
     "name": "stdout",
     "output_type": "stream",
     "text": [
      "0 1 0 1471211340.52\n",
      "20 7 0 1471211350.75\n",
      "40 10 0 1471211364.76\n",
      "60 14 0 1471211378.0\n",
      "80 21 0 1471211388.27\n",
      "100 25 0 1471211394.41\n",
      "120 29 0 1471211399.52\n",
      "140 33 0 1471211405.88\n",
      "160 35 0 1471211411.8\n",
      "180 40 0 1471211417.01\n",
      "200 48 0 1471211422.39\n",
      "207 48 1471211430.65\n"
     ]
    }
   ],
   "source": [
    "#Run through the collection and add imputed records\n",
    "updated=0\n",
    "similar=0\n",
    "time.time()\n",
    "for k,i in enumerate(db.scores.find()):\n",
    "    results=find_imputing_options(i)\n",
    "    #print(results)\n",
    "    db.scores.update_one({\"organization_id\": i['organization_id']},{\"$set\": {\"impute_options\": results}})\n",
    "    if results:\n",
    "        for j in results.iteritems():\n",
    "            if j[1]['similar_text']==1:\n",
    "                similar+=1\n",
    "                break\n",
    "        updated+=1\n",
    "    if k %20==0:\n",
    "        print(k,updated,similar,time.time())\n",
    "print(k,updated,time.time())"
   ]
  },
  {
   "cell_type": "code",
   "execution_count": 151,
   "metadata": {
    "collapsed": false
   },
   "outputs": [
    {
     "name": "stdout",
     "output_type": "stream",
     "text": [
      "NL-KVK-51018586\n"
     ]
    }
   ],
   "source": [
    "for i in db.scores.find():\n",
    "    if i[\"impute_options\"]:\n",
    "        print(i['organization_id'])\n",
    "        break"
   ]
  },
  {
   "cell_type": "code",
   "execution_count": 182,
   "metadata": {
    "collapsed": false
   },
   "outputs": [],
   "source": [
    "test=db.scores.find_one({'organization_id': {'$eq': 'NL-KVK-51018586'}},{'_id':False})"
   ]
  },
  {
   "cell_type": "code",
   "execution_count": 183,
   "metadata": {
    "collapsed": false
   },
   "outputs": [
    {
     "name": "stdout",
     "output_type": "stream",
     "text": [
      "(u'document_link', {u'organization_id': u'NL-KVK-27327087', u'grade': u'C', u'similar_text': 0})\n",
      "(u'result', {u'organization_id': u'NL-KVK-27327087', u'grade': u'C', u'similar_text': 0})\n"
     ]
    }
   ],
   "source": [
    "for i in test['impute_options'].iteritems():\n",
    "    print(i)"
   ]
  },
  {
   "cell_type": "code",
   "execution_count": 185,
   "metadata": {
    "collapsed": false
   },
   "outputs": [
    {
     "name": "stdout",
     "output_type": "stream",
     "text": [
      "2016-08-15T22:33:12.603-0400\twriting iati.scores to dump/iati/scores.bson\r\n",
      "2016-08-15T22:33:12.610-0400\twriting iati.scores metadata to dump/iati/scores.metadata.json\r\n",
      "2016-08-15T22:33:12.613-0400\tdone dumping iati.scores\r\n"
     ]
    }
   ],
   "source": [
    "#Pack up new scores collection for easy sharing\n",
    "!mongodump --db iati --collection scores\n",
    "!tar -cf dump.scores.tar dump/iati/scores.bson dump/iati/scores.metadata.json\n",
    "!gzip dump.scores.tar"
   ]
  },
  {
   "cell_type": "code",
   "execution_count": null,
   "metadata": {
    "collapsed": true
   },
   "outputs": [],
   "source": []
  }
 ],
 "metadata": {
  "kernelspec": {
   "display_name": "Python 2",
   "language": "python",
   "name": "python2"
  },
  "language_info": {
   "codemirror_mode": {
    "name": "ipython",
    "version": 2
   },
   "file_extension": ".py",
   "mimetype": "text/x-python",
   "name": "python",
   "nbconvert_exporter": "python",
   "pygments_lexer": "ipython2",
   "version": "2.7.11"
  }
 },
 "nbformat": 4,
 "nbformat_minor": 0
}
