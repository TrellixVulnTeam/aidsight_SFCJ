{
 "cells": [
  {
   "cell_type": "code",
   "execution_count": null,
   "metadata": {
    "collapsed": true
   },
   "outputs": [],
   "source": [
    "%matplotlib inline"
   ]
  },
  {
   "cell_type": "code",
   "execution_count": null,
   "metadata": {
    "collapsed": false
   },
   "outputs": [
    {
     "name": "stdout",
     "output_type": "stream",
     "text": [
      "Requirement already satisfied (use --upgrade to upgrade): numpy in /usr/local/lib/python2.7/dist-packages\n",
      "Requirement already satisfied (use --upgrade to upgrade): pandas in /usr/local/lib/python2.7/dist-packages\n",
      "Requirement already satisfied (use --upgrade to upgrade): requests in /usr/lib/python2.7/dist-packages\n",
      "Collecting xmltodict\n",
      "  Downloading xmltodict-0.10.2.tar.gz\n",
      "Requirement already satisfied (use --upgrade to upgrade): pytz>=2011k in /usr/local/lib/python2.7/dist-packages (from pandas)\n",
      "Requirement already satisfied (use --upgrade to upgrade): python-dateutil in /usr/local/lib/python2.7/dist-packages (from pandas)\n",
      "Requirement already satisfied (use --upgrade to upgrade): six>=1.5 in /usr/local/lib/python2.7/dist-packages (from python-dateutil->pandas)\n",
      "Building wheels for collected packages: xmltodict\n",
      "  Running setup.py bdist_wheel for xmltodict ... \u001b[?25l-\b \bdone\n",
      "\u001b[?25h  Stored in directory: /root/.cache/pip/wheels/2a/dc/70/da8958d7089d994c8614bc38210f64855f09615e85707bf615\n",
      "Successfully built xmltodict\n",
      "Installing collected packages: xmltodict\n",
      "Successfully installed xmltodict-0.10.2\n"
     ]
    }
   ],
   "source": [
    "!sudo -H pip install numpy pandas requests xmltodict"
   ]
  },
  {
   "cell_type": "code",
   "execution_count": null,
   "metadata": {
    "collapsed": false
   },
   "outputs": [],
   "source": [
    "import io\n",
    "import json\n",
    "import numpy as np\n",
    "import os\n",
    "import pandas as pd\n",
    "import requests\n",
    "import xml\n",
    "import xmltodict"
   ]
  },
  {
   "cell_type": "markdown",
   "metadata": {},
   "source": [
    "# Retrieve IATI Metadata"
   ]
  },
  {
   "cell_type": "code",
   "execution_count": null,
   "metadata": {
    "collapsed": false
   },
   "outputs": [
    {
     "name": "stdout",
     "output_type": "stream",
     "text": [
      "\n",
      "    Searches for packages satisfying a given search criteria.\n",
      "\n",
      "    This action accepts solr search query parameters (details below), and\n",
      "    returns a dictionary of results, including dictized datasets that match\n",
      "    the search criteria, a search count and also facet information.\n",
      "\n",
      "    **Solr Parameters:**\n",
      "\n",
      "    For more in depth treatment of each paramter, please read the `Solr\n",
      "    Documentation <http://wiki.apache.org/solr/CommonQueryParameters>`_.\n",
      "\n",
      "    This action accepts a *subset* of solr's search query parameters:\n",
      "\n",
      "\n",
      "    :param q: the solr query.  Optional.  Default: `\"*:*\"`\n",
      "    :type q: string\n",
      "    :param fq: any filter queries to apply.  Note: `+site_id:{ckan_site_id}`\n",
      "        is added to this string prior to the query being executed.\n",
      "    :type fq: string\n",
      "    :param sort: sorting of the search results.  Optional.  Default:\n",
      "        'relevance asc, metadata_modified desc'.  As per the solr\n",
      "        documentation, this is a comma-separated string of field names and\n",
      "        sort-orderings.\n",
      "    :type sort: string\n",
      "    :param rows: the number of matching rows to return.\n",
      "    :type rows: int\n",
      "    :param start: the offset in the complete result for where the set of\n",
      "        returned datasets should begin.\n",
      "    :type start: int\n",
      "    :param facet: whether to enable faceted results.  Default: \"true\".\n",
      "    :type facet: string\n",
      "    :param facet.mincount: the minimum counts for facet fields should be\n",
      "        included in the results.\n",
      "    :type facet.mincount: int\n",
      "    :param facet.limit: the maximum number of constraint counts that should be\n",
      "        returned for the facet fields. A negative value means unlimited\n",
      "    :type facet.limit: int\n",
      "    :param facet.field: the fields to facet upon.  Default empty.  If empty,\n",
      "        then the returned facet information is empty.\n",
      "    :type facet.field: list of strings\n",
      "\n",
      "\n",
      "    The following advanced Solr parameters are supported as well. Note that\n",
      "    some of these are only available on particular Solr versions. See Solr's\n",
      "    `dismax`_ and `edismax`_ documentation for further details on them:\n",
      "\n",
      "    ``qf``, ``wt``, ``bf``, ``boost``, ``tie``, ``defType``, ``mm``\n",
      "\n",
      "\n",
      "    .. _dismax: http://wiki.apache.org/solr/DisMaxQParserPlugin\n",
      "    .. _edismax: http://wiki.apache.org/solr/ExtendedDisMax\n",
      "\n",
      "\n",
      "    **Results:**\n",
      "\n",
      "    The result of this action is a dict with the following keys:\n",
      "\n",
      "    :rtype: A dictionary with the following keys\n",
      "    :param count: the number of results found.  Note, this is the total number\n",
      "        of results found, not the total number of results returned (which is\n",
      "        affected by limit and row parameters used in the input).\n",
      "    :type count: int\n",
      "    :param results: ordered list of datasets matching the query, where the\n",
      "        ordering defined by the sort parameter used in the query.\n",
      "    :type results: list of dictized datasets.\n",
      "    :param facets: DEPRECATED.  Aggregated information about facet counts.\n",
      "    :type facets: DEPRECATED dict\n",
      "    :param search_facets: aggregated information about facet counts.  The outer\n",
      "        dict is keyed by the facet field name (as used in the search query).\n",
      "        Each entry of the outer dict is itself a dict, with a \"title\" key, and\n",
      "        an \"items\" key.  The \"items\" key's value is a list of dicts, each with\n",
      "        \"count\", \"display_name\" and \"name\" entries.  The display_name is a\n",
      "        form of the name that can be used in titles.\n",
      "    :type search_facets: nested dict of dicts.\n",
      "\n",
      "    An example result: ::\n",
      "\n",
      "     {'count': 2,\n",
      "      'results': [ { <snip> }, { <snip> }],\n",
      "      'search_facets': {u'tags': {'items': [{'count': 1,\n",
      "                                             'display_name': u'tolstoy',\n",
      "                                             'name': u'tolstoy'},\n",
      "                                            {'count': 2,\n",
      "                                             'display_name': u'russian',\n",
      "                                             'name': u'russian'}\n",
      "                                           ]\n",
      "                                 }\n",
      "                       }\n",
      "     }\n",
      "\n",
      "    **Limitations:**\n",
      "\n",
      "    The full solr query language is not exposed, including.\n",
      "\n",
      "    fl\n",
      "        The parameter that controls which fields are returned in the solr\n",
      "        query cannot be changed.  CKAN always returns the matched datasets as\n",
      "        dictionary objects.\n",
      "\n"
     ]
    }
   ],
   "source": [
    "# Use the IATI registry API to identify the metadata\n",
    "# http://iatiregistry.org/registry-api\n",
    "\n",
    "base_url = 'http://iatiregistry.org/api/3/action/package_search'\n",
    "\n",
    "# Retrieve the current count by issuing a request that returns zero rows\n",
    "\n",
    "query_data = {\n",
    "    'q': 'extras_filetype:activity',\n",
    "    'start': 0,\n",
    "    'rows': 0\n",
    "}\n",
    "\n",
    "response = requests.get(base_url, params = query_data).json()\n",
    "count = response['result']['count']\n",
    "\n",
    "# Also print out the help text in case it helps us in the future\n",
    "\n",
    "print response['help']"
   ]
  },
  {
   "cell_type": "code",
   "execution_count": null,
   "metadata": {
    "collapsed": false
   },
   "outputs": [
    {
     "name": "stdout",
     "output_type": "stream",
     "text": [
      "Retrieved 0 of 4134 results\n",
      "Retrieved 100 of 4134 results\n",
      "Retrieved 200 of 4134 results\n",
      "Retrieved 300 of 4134 results\n",
      "Retrieved 400 of 4134 results\n",
      "Retrieved 500 of 4134 results\n",
      "Retrieved 600 of 4134 results\n",
      "Retrieved 700 of 4134 results\n",
      "Retrieved 800 of 4134 results\n",
      "Retrieved 900 of 4134 results\n",
      "Retrieved 1000 of 4134 results\n",
      "Retrieved 1100 of 4134 results\n",
      "Retrieved 1200 of 4134 results\n",
      "Retrieved 1300 of 4134 results\n",
      "Retrieved 1400 of 4134 results\n",
      "Retrieved 1500 of 4134 results\n",
      "Retrieved 1600 of 4134 results\n",
      "Retrieved 1700 of 4134 results\n",
      "Retrieved 1800 of 4134 results\n",
      "Retrieved 1900 of 4134 results\n",
      "Retrieved 2000 of 4134 results\n",
      "Retrieved 2100 of 4134 results\n",
      "Retrieved 2200 of 4134 results\n",
      "Retrieved 2300 of 4134 results\n",
      "Retrieved 2400 of 4134 results\n",
      "Retrieved 2500 of 4134 results\n",
      "Retrieved 2600 of 4134 results\n",
      "Retrieved 2700 of 4134 results\n",
      "Retrieved 2800 of 4134 results\n",
      "Retrieved 2900 of 4134 results\n",
      "Retrieved 3000 of 4134 results\n",
      "Retrieved 3100 of 4134 results\n",
      "Retrieved 3200 of 4134 results\n",
      "Retrieved 3300 of 4134 results\n",
      "Retrieved 3400 of 4134 results\n",
      "Retrieved 3500 of 4134 results\n",
      "Retrieved 3600 of 4134 results\n",
      "Retrieved 3700 of 4134 results\n",
      "Retrieved 3800 of 4134 results\n",
      "Retrieved 3900 of 4134 results\n",
      "Retrieved 4000 of 4134 results\n",
      "Retrieved 4100 of 4134 results\n",
      "Retrieved 4134 of 4134 results\n"
     ]
    }
   ],
   "source": [
    "# Retrieve all the pages of metadata from the cache file (if available)\n",
    "# or from the server (if no cache file is available)\n",
    "\n",
    "if os.path.isfile('metadata.json'):\n",
    "    with io.open('metadata.json', 'r', encoding = 'utf-8') as metadata_file:\n",
    "        metadata = json.load(metadata_file)\n",
    "else:\n",
    "    metadata = []\n",
    "\n",
    "    # Allowed page size is 100\n",
    "\n",
    "    for i in range(0, count, 100):\n",
    "        print 'Retrieved', i, 'of', count, 'results'\n",
    "\n",
    "        query_data = {\n",
    "            'q': 'extras_filetype:activity',\n",
    "            'start': i,\n",
    "            'rows': 100\n",
    "        }\n",
    "\n",
    "        response = requests.get(base_url, params = query_data).json()\n",
    "        metadata.extend(response['result']['results'])\n",
    "\n",
    "    print 'Retrieved', count, 'of', count, 'results'"
   ]
  },
  {
   "cell_type": "code",
   "execution_count": null,
   "metadata": {
    "collapsed": false
   },
   "outputs": [],
   "source": [
    "# Cache the metadata to disk so that we don't have to fetch it\n",
    "\n",
    "with open('metadata.json', 'w') as metadata_file:\n",
    "    json.dump(metadata, metadata_file)"
   ]
  },
  {
   "cell_type": "markdown",
   "metadata": {},
   "source": [
    "# Validate IATI Metadata"
   ]
  },
  {
   "cell_type": "code",
   "execution_count": null,
   "metadata": {
    "collapsed": false
   },
   "outputs": [
    {
     "data": {
      "text/plain": [
       "array([u'author', u'author_email', u'extras', u'groups', u'id', u'isopen',\n",
       "       u'license_id', u'license_title', u'license_url', u'maintainer',\n",
       "       u'maintainer_email', u'metadata_created', u'metadata_modified',\n",
       "       u'name', u'notes', u'num_resources', u'num_tags', u'organization',\n",
       "       u'owner_org', u'private', u'relationships_as_object',\n",
       "       u'relationships_as_subject', u'resources', u'revision_id',\n",
       "       u'revision_timestamp', u'state', u'tags', u'title',\n",
       "       u'tracking_summary', u'type', u'url', u'version'], dtype=object)"
      ]
     },
     "execution_count": null,
     "metadata": {},
     "output_type": "execute_result"
    }
   ],
   "source": [
    "# Take a quick look at the field names and get a feel for the data\n",
    "\n",
    "df = pd.DataFrame(metadata)\n",
    "\n",
    "df.columns.values"
   ]
  },
  {
   "cell_type": "code",
   "execution_count": null,
   "metadata": {
    "collapsed": false
   },
   "outputs": [
    {
     "data": {
      "text/plain": [
       "<matplotlib.axes._subplots.AxesSubplot at 0x7f7ee1018c90>"
      ]
     },
     "execution_count": null,
     "metadata": {},
     "output_type": "execute_result"
    },
    {
     "data": {
      "image/png": "[encoded data removed]",
      "text/plain": []
     },
     "metadata": {},
     "output_type": "display_data"
    }
   ],
   "source": [
    "# There's an isopen column indicating whether the data set is open\n",
    "# to be used for general purposes. Let's see the distribution.\n",
    "\n",
    "df['isopen'].hist()"
   ]
  },
  {
   "cell_type": "code",
   "execution_count": null,
   "metadata": {
    "collapsed": false
   },
   "outputs": [
    {
     "data": {
      "text/plain": [
       "<matplotlib.axes._subplots.AxesSubplot at 0x7f7ee1877190>"
      ]
     },
     "execution_count": null,
     "metadata": {},
     "output_type": "execute_result"
    },
    {
     "data": {
      "image/png": "[encoded data removed]",
      "text/plain": []
     },
     "metadata": {},
     "output_type": "display_data"
    }
   ],
   "source": [
    "# There is a metadata column on the timestamp when a revision was made,\n",
    "# which we can use to see if the data is out of date or not.\n",
    "\n",
    "pd.to_datetime(df['revision_timestamp']).hist()"
   ]
  },
  {
   "cell_type": "markdown",
   "metadata": {},
   "source": [
    "# Identify Resources"
   ]
  },
  {
   "cell_type": "code",
   "execution_count": null,
   "metadata": {
    "collapsed": false
   },
   "outputs": [],
   "source": [
    "# Grab the URLs associated with our metadata\n",
    "\n",
    "metadata_titles = {}\n",
    "metadata_resources = {}\n",
    "\n",
    "for metadata_item in metadata:\n",
    "    if not metadata_item['isopen']:\n",
    "        continue\n",
    "\n",
    "    title = metadata_item['title']\n",
    "    short_name = metadata_item['name']\n",
    "\n",
    "    resources = metadata_item['resources']\n",
    "    resource_urls = [x for x in set([resource_item['url'] for resource_item in resources])]\n",
    "\n",
    "    metadata_titles[short_name] = title\n",
    "    metadata_resources[short_name] = resource_urls"
   ]
  },
  {
   "cell_type": "code",
   "execution_count": null,
   "metadata": {
    "collapsed": false
   },
   "outputs": [
    {
     "name": "stdout",
     "output_type": "stream",
     "text": [
      "plannlno-89\n",
      "[u'https://www.aidstream.org/files/xml/Plan Nederland-89.xml', u'https://aidstream.org/files/xml/Plan Nederland-89.xml']\n",
      "plannlno-br\n",
      "[u'https://aidstream.org/files/xml/Plan Nederland-br.xml', u'https://www.aidstream.org/files/xml/Plan Nederland-br.xml']\n",
      "plannlno-bd\n",
      "[u'https://www.aidstream.org/files/xml/Plan Nederland-bd.xml', u'https://aidstream.org/files/xml/Plan Nederland-bd.xml']\n",
      "plannlno-ke\n",
      "[u'https://aidstream.org/files/xml/Plan Nederland-ke.xml', u'https://www.aidstream.org/files/xml/Plan Nederland-ke.xml']\n"
     ]
    }
   ],
   "source": [
    "# Check our metadata for duplicate URLs\n",
    "\n",
    "for short_name, resource_urls in metadata_resources.iteritems():\n",
    "    if len(resource_urls) > 1:\n",
    "        print short_name\n",
    "        print resource_urls"
   ]
  },
  {
   "cell_type": "code",
   "execution_count": null,
   "metadata": {
    "collapsed": false
   },
   "outputs": [],
   "source": [
    "# It looks like there are no actual duplicates, except for aidstream.org\n",
    "# which has a URL listed for both aidstream.org and www.aidstream.org\n",
    "# This means we should be able to safely download everything!\n",
    "\n",
    "with io.open('download-iati.sh', 'w', encoding='utf8') as iati_file:\n",
    "    iati_file.write(u'mkdir -p iati\\n')\n",
    "\n",
    "    for short_name, resource_urls in metadata_resources.iteritems():\n",
    "        iati_filename = 'iati/' + short_name + '.xml'\n",
    "\n",
    "        if os.path.isfile(iati_filename) and os.path.getsize(iati_filename) > 0:\n",
    "            continue\n",
    "\n",
    "        iati_file.write('# %s\\n' % metadata_titles[short_name])\n",
    "        iati_file.write('curl -Ls \"%s\" > %s &\\n' % (resource_urls[0], iati_filename))\n",
    "\n",
    "    iati_file.write(u'wait\\n')"
   ]
  },
  {
   "cell_type": "code",
   "execution_count": null,
   "metadata": {
    "collapsed": false
   },
   "outputs": [],
   "source": [
    "!chmod u+x download-iati.sh\n",
    "!./download-iati.sh"
   ]
  },
  {
   "cell_type": "code",
   "execution_count": null,
   "metadata": {
    "collapsed": false
   },
   "outputs": [],
   "source": [
    "# Clean up anything that wound up with a file size of zero\n",
    "\n",
    "for xml_name in os.listdir('iati'):\n",
    "    iati_filename = 'iati/' + xml_name\n",
    "\n",
    "    if os.path.getsize(iati_filename) == 0:\n",
    "        os.remove(iati_filename)"
   ]
  },
  {
   "cell_type": "markdown",
   "metadata": {},
   "source": [
    "# Create Resource Archive"
   ]
  },
  {
   "cell_type": "code",
   "execution_count": null,
   "metadata": {
    "collapsed": false
   },
   "outputs": [
    {
     "name": "stdout",
     "output_type": "stream",
     "text": [
      "upload: ./iati.tar.gz to s3://mdang.w210/iati.tar.gz\n"
     ]
    }
   ],
   "source": [
    "!rm -f iati.tar.gz\n",
    "!tar -cf iati.tar iati\n",
    "!gzip iati.tar\n",
    "!aws s3 cp iati.tar.gz s3://mdang.w210/"
   ]
  },
  {
   "cell_type": "code",
   "execution_count": null,
   "metadata": {
    "collapsed": true
   },
   "outputs": [],
   "source": []
  }
 ],
 "metadata": {
  "kernelspec": {
   "display_name": "Python [Root]",
   "language": "python",
   "name": "Python [Root]"
  },
  "language_info": {
   "codemirror_mode": {
    "name": "ipython",
    "version": 3
   },
   "file_extension": ".py",
   "mimetype": "text/x-python",
   "name": "python",
   "nbconvert_exporter": "python",
   "pygments_lexer": "ipython3",
   "version": "3.5.1"
  }
 },
 "nbformat": 4,
 "nbformat_minor": 0
}
