{
 "cells": [
  {
   "cell_type": "markdown",
   "metadata": {},
   "source": [
    "# Install Packages"
   ]
  },
  {
   "cell_type": "code",
   "execution_count": null,
   "metadata": {
    "collapsed": false
   },
   "outputs": [],
   "source": [
    "%matplotlib inline"
   ]
  },
  {
   "cell_type": "code",
   "execution_count": null,
   "metadata": {
    "collapsed": false
   },
   "outputs": [
    {
     "name": "stdout",
     "output_type": "stream",
     "text": [
      "Requirement already satisfied (use --upgrade to upgrade): pymongo in /usr/local/lib/python2.7/dist-packages\r\n"
     ]
    }
   ],
   "source": [
    "!sudo -H pip install pymongo"
   ]
  },
  {
   "cell_type": "code",
   "execution_count": null,
   "metadata": {
    "collapsed": false
   },
   "outputs": [],
   "source": [
    "from collections import defaultdict\n",
    "from datetime import datetime\n",
    "import functools\n",
    "import io\n",
    "import itertools\n",
    "import json\n",
    "import os\n",
    "import pandas\n",
    "import pickle\n",
    "from pprint import PrettyPrinter\n",
    "import pymongo\n",
    "import re"
   ]
  },
  {
   "cell_type": "code",
   "execution_count": null,
   "metadata": {
    "collapsed": true
   },
   "outputs": [],
   "source": [
    "printer = PrettyPrinter()"
   ]
  },
  {
   "cell_type": "markdown",
   "metadata": {},
   "source": [
    "# Data Check"
   ]
  },
  {
   "cell_type": "code",
   "execution_count": null,
   "metadata": {
    "collapsed": true
   },
   "outputs": [],
   "source": [
    "mongodb_host = 'ec2-54-213-2-79.us-west-2.compute.amazonaws.com'\n",
    "mongodb_port = '27017'"
   ]
  },
  {
   "cell_type": "code",
   "execution_count": null,
   "metadata": {
    "collapsed": false
   },
   "outputs": [
    {
     "data": {
      "text/plain": [
       "[u'iati', u'local']"
      ]
     },
     "execution_count": null,
     "metadata": {},
     "output_type": "execute_result"
    }
   ],
   "source": [
    "conn=pymongo.MongoClient('mongodb://%s:%s' % (mongodb_host, mongodb_port))\n",
    "\n",
    "# Check database names to test connection and see what's here\n",
    "conn.database_names()"
   ]
  },
  {
   "cell_type": "code",
   "execution_count": null,
   "metadata": {
    "collapsed": false
   },
   "outputs": [
    {
     "data": {
      "text/plain": [
       "[u'organizations',\n",
       " u'activities',\n",
       " u'activities_metadata',\n",
       " u'transactions',\n",
       " u'organizations_metadata']"
      ]
     },
     "execution_count": null,
     "metadata": {},
     "output_type": "execute_result"
    }
   ],
   "source": [
    "# Make iati database\n",
    "db = conn.iati\n",
    "\n",
    "# Create new activities collection and check that manual renaming worked\n",
    "\n",
    "activities=db.activities\n",
    "activities_metadata=db.activities_metadata\n",
    "\n",
    "db.collection_names()"
   ]
  },
  {
   "cell_type": "code",
   "execution_count": null,
   "metadata": {
    "collapsed": false
   },
   "outputs": [
    {
     "name": "stdout",
     "output_type": "stream",
     "text": [
      "3562 579320\n"
     ]
    }
   ],
   "source": [
    "print activities_metadata.count(), activities.count()"
   ]
  },
  {
   "cell_type": "markdown",
   "metadata": {},
   "source": [
    "# Cache in Memory"
   ]
  },
  {
   "cell_type": "markdown",
   "metadata": {},
   "source": [
    "## Cache Metadata"
   ]
  },
  {
   "cell_type": "code",
   "execution_count": null,
   "metadata": {
    "collapsed": false
   },
   "outputs": [
    {
     "name": "stdout",
     "output_type": "stream",
     "text": [
      "2016-07-28 06:57:57.528750 Started processing\n",
      "2016-07-28 06:57:57.537295 Processed 0 of 3562\n",
      "2016-07-28 06:57:57.632291 Processed 1000 of 3562\n",
      "2016-07-28 06:57:57.755748 Processed 2000 of 3562\n",
      "2016-07-28 06:57:57.800810 Processed 3000 of 3562\n",
      "2016-07-28 06:57:57.802248 Finished processing\n"
     ]
    }
   ],
   "source": [
    "all_metadata = {}\n",
    "metadata_count = activities_metadata.count()\n",
    "\n",
    "print datetime.now(), 'Started processing'\n",
    "\n",
    "for num, metadata_item in enumerate(activities_metadata.find()):\n",
    "    if num % 1000 == 0:\n",
    "        print datetime.now(), 'Processed', num, 'of', metadata_count\n",
    "\n",
    "    all_metadata[metadata_item['@w210-key']] = metadata_item\n",
    "\n",
    "print datetime.now(), 'Finished processing'"
   ]
  },
  {
   "cell_type": "code",
   "execution_count": null,
   "metadata": {
    "collapsed": false
   },
   "outputs": [
    {
     "data": {
      "text/plain": [
       "3562"
      ]
     },
     "execution_count": null,
     "metadata": {},
     "output_type": "execute_result"
    }
   ],
   "source": [
    "len(all_metadata)"
   ]
  },
  {
   "cell_type": "markdown",
   "metadata": {},
   "source": [
    "## Store Names from Metadata"
   ]
  },
  {
   "cell_type": "code",
   "execution_count": null,
   "metadata": {
    "collapsed": true
   },
   "outputs": [],
   "source": [
    "iati_urls = {}"
   ]
  },
  {
   "cell_type": "code",
   "execution_count": null,
   "metadata": {
    "collapsed": true
   },
   "outputs": [],
   "source": [
    "for metadata in activities_metadata.find():\n",
    "    filename = metadata['@w210-key']\n",
    "\n",
    "    if 'organization' not in metadata:\n",
    "        continue\n",
    "\n",
    "    organization = metadata['organization']\n",
    "\n",
    "    if organization is None:\n",
    "        continue\n",
    "\n",
    "    urlname = organization['name']\n",
    "    title = organization['title']\n",
    "\n",
    "    iati_urls[filename] = (urlname, title)"
   ]
  },
  {
   "cell_type": "code",
   "execution_count": null,
   "metadata": {
    "collapsed": false
   },
   "outputs": [
    {
     "data": {
      "text/plain": [
       "3550"
      ]
     },
     "execution_count": null,
     "metadata": {},
     "output_type": "execute_result"
    }
   ],
   "source": [
    "len(iati_urls)"
   ]
  },
  {
   "cell_type": "markdown",
   "metadata": {},
   "source": [
    "So we see that about 12 of the organizations don't have a clean URL we can easily derive. Let's see which ones those are."
   ]
  },
  {
   "cell_type": "code",
   "execution_count": null,
   "metadata": {
    "collapsed": false
   },
   "outputs": [
    {
     "data": {
      "text/plain": [
       "{u'aai-2015',\n",
       " u'acord-289',\n",
       " u'btc-ctb-all',\n",
       " u'dapp-mw-activities',\n",
       " u'ddp-activityfile1',\n",
       " u'ia_nam-o379',\n",
       " u'mamac-activities',\n",
       " u'mapaction-gb',\n",
       " u'mapaction-mw',\n",
       " u'st_vluchteling-activities',\n",
       " u'unops-at',\n",
       " u'yipl-activities'}"
      ]
     },
     "execution_count": null,
     "metadata": {},
     "output_type": "execute_result"
    }
   ],
   "source": [
    "set(all_metadata.keys()) - set(iati_urls.keys())"
   ]
  },
  {
   "cell_type": "markdown",
   "metadata": {},
   "source": [
    "All of these seem to be okay, so we'll go ahead and pickle this file."
   ]
  },
  {
   "cell_type": "code",
   "execution_count": null,
   "metadata": {
    "collapsed": true
   },
   "outputs": [],
   "source": [
    "with open('iati_urls.pickle', 'w') as f:\n",
    "    pickle.dump(iati_urls, f)"
   ]
  },
  {
   "cell_type": "markdown",
   "metadata": {},
   "source": [
    "## Cache Activities"
   ]
  },
  {
   "cell_type": "markdown",
   "metadata": {},
   "source": [
    "Bring all the activities out of MongoDB and into memory so that we can process them much faster. Iterating over the MongoDB collection takes minutes. Iterating over an in-memory version containing only the fields we're interested in takes seconds.\n",
    "\n",
    "However, we need a lot of memory to fit everything, so we'll only include a few of the fields which might be useful when constructing the graph.\n",
    "\n",
    "* http://iatistandard.org/202/activity-standard/elements/"
   ]
  },
  {
   "cell_type": "code",
   "execution_count": null,
   "metadata": {
    "collapsed": false
   },
   "outputs": [
    {
     "name": "stdout",
     "output_type": "stream",
     "text": [
      "2016-07-28 07:09:42.107587 Started processing\n",
      "2016-07-28 07:09:42.114161 Processed 0 of 579320\n",
      "2016-07-28 07:09:52.733305 Processed 50000 of 579320\n",
      "2016-07-28 07:10:03.904216 Processed 100000 of 579320\n",
      "2016-07-28 07:10:15.481560 Processed 150000 of 579320\n",
      "2016-07-28 07:10:28.677899 Processed 200000 of 579320\n",
      "2016-07-28 07:10:38.064521 Processed 250000 of 579320\n",
      "2016-07-28 07:10:47.166304 Processed 300000 of 579320\n",
      "2016-07-28 07:11:03.271878 Processed 350000 of 579320\n",
      "2016-07-28 07:11:14.547123 Processed 400000 of 579320\n",
      "2016-07-28 07:11:28.687019 Processed 450000 of 579320\n",
      "2016-07-28 07:11:45.847730 Processed 500000 of 579320\n",
      "2016-07-28 07:11:51.408295 Processed 550000 of 579320\n",
      "2016-07-28 07:12:02.321137 Finished processing\n"
     ]
    }
   ],
   "source": [
    "all_activities = []\n",
    "activities_count = activities.count()\n",
    "\n",
    "fields = set([\n",
    "    '@w210-key',\n",
    "    'iati-identifier',\n",
    "    'other-identifier',\n",
    "    'reporting-org',\n",
    "    'participating-org',\n",
    "    'activity-status',\n",
    "    'recipient-country',\n",
    "    'recipient-region',\n",
    "    'location',\n",
    "    'sector',\n",
    "    'transaction'\n",
    "])\n",
    "\n",
    "print datetime.now(), 'Started processing'\n",
    "\n",
    "for num, activity in enumerate(activities.find()):\n",
    "    if num % 50000 == 0:\n",
    "        print datetime.now(), 'Processed', num, 'of', activities_count\n",
    "\n",
    "    activity_copy = { key: value for key, value in activity.iteritems() if key in fields }\n",
    "\n",
    "    all_activities.append(activity_copy)\n",
    "\n",
    "print datetime.now(), 'Finished processing'"
   ]
  },
  {
   "cell_type": "code",
   "execution_count": null,
   "metadata": {
    "collapsed": false
   },
   "outputs": [
    {
     "data": {
      "text/plain": [
       "579320"
      ]
     },
     "execution_count": null,
     "metadata": {},
     "output_type": "execute_result"
    }
   ],
   "source": [
    "len(all_activities)"
   ]
  },
  {
   "cell_type": "code",
   "execution_count": null,
   "metadata": {
    "collapsed": false
   },
   "outputs": [],
   "source": [
    "iati_urls_by_ref = {}\n",
    "\n",
    "for activity in all_activities:\n",
    "    if 'reporting-org' not in activity:\n",
    "        continue\n",
    "\n",
    "    filename = activity['@w210-key']\n",
    "\n",
    "    if filename in iati_urls:\n",
    "        iati_name = iati_urls[filename][0]\n",
    "    else:\n",
    "        iati_name = filename[0:filename.find('-')]\n",
    "\n",
    "    iati_url = 'https://www.iatiregistry.org/publisher/%s' % iati_name\n",
    "\n",
    "    organization = activity['reporting-org']\n",
    "\n",
    "    if '@ref' not in organization:\n",
    "        continue\n",
    "\n",
    "    organization_ref = organization['@ref']\n",
    "\n",
    "    if organization_ref not in iati_urls_by_ref:\n",
    "        iati_urls_by_ref[organization_ref] = set([iati_url])\n",
    "    else:\n",
    "        iati_urls_by_ref[organization_ref].add(iati_url)"
   ]
  },
  {
   "cell_type": "markdown",
   "metadata": {},
   "source": [
    "Let's pickle the file."
   ]
  },
  {
   "cell_type": "code",
   "execution_count": null,
   "metadata": {
    "collapsed": true
   },
   "outputs": [],
   "source": [
    "with open('iati_urls_by_ref.pickle', 'w') as f:\n",
    "    pickle.dump(iati_urls_by_ref, f)"
   ]
  },
  {
   "cell_type": "markdown",
   "metadata": {},
   "source": [
    "# Check Fields (Summary)"
   ]
  },
  {
   "cell_type": "markdown",
   "metadata": {},
   "source": [
    "Let's get a sense of how populated each field is in the data."
   ]
  },
  {
   "cell_type": "code",
   "execution_count": null,
   "metadata": {
    "collapsed": false
   },
   "outputs": [
    {
     "name": "stdout",
     "output_type": "stream",
     "text": [
      "2016-07-23 20:30:16.032295 Started processing\n",
      "2016-07-23 20:30:18.958755 Finished processing\n"
     ]
    },
    {
     "data": {
      "text/plain": [
       "{'@w210-key': 579320,\n",
       " 'activity-status': 568179,\n",
       " 'iati-identifier': 578806,\n",
       " 'location': 267279,\n",
       " 'other-identifier': 170308,\n",
       " 'participating-org': 570215,\n",
       " 'recipient-country': 451309,\n",
       " 'recipient-region': 193359,\n",
       " 'reporting-org': 579320,\n",
       " 'sector': 393588,\n",
       " 'transaction': 546455}"
      ]
     },
     "execution_count": null,
     "metadata": {},
     "output_type": "execute_result"
    }
   ],
   "source": [
    "# Count how many times each of the keys of interest appears\n",
    "# in our activity data set.\n",
    "\n",
    "field_counts = { key: 0 for key in fields }\n",
    "field_keys = field_counts.keys()\n",
    "\n",
    "print datetime.now(), 'Started processing'\n",
    "\n",
    "for activity in all_activities:\n",
    "    for key in field_keys:\n",
    "        if key in activity:\n",
    "            field_counts[key] += 1\n",
    "\n",
    "print datetime.now(), 'Finished processing'\n",
    "\n",
    "field_counts"
   ]
  },
  {
   "cell_type": "markdown",
   "metadata": {},
   "source": [
    "Based on these counts, we'll prefer anything where we can:\n",
    "\n",
    "* Include the file name\n",
    "* Include the participating organization\n",
    "* Include the reporting organization\n",
    "* Include the transaction information"
   ]
  },
  {
   "cell_type": "markdown",
   "metadata": {},
   "source": [
    "# Check Fields (One Record)"
   ]
  },
  {
   "cell_type": "code",
   "execution_count": null,
   "metadata": {
    "collapsed": false
   },
   "outputs": [],
   "source": [
    "activity = all_activities[0]"
   ]
  },
  {
   "cell_type": "code",
   "execution_count": null,
   "metadata": {
    "collapsed": false
   },
   "outputs": [
    {
     "data": {
      "text/plain": [
       "[u'sector',\n",
       " u'reporting-org',\n",
       " u'transaction',\n",
       " u'participating-org',\n",
       " u'iati-identifier',\n",
       " u'recipient-country',\n",
       " u'@w210-key',\n",
       " u'other-identifier',\n",
       " u'activity-status']"
      ]
     },
     "execution_count": null,
     "metadata": {},
     "output_type": "execute_result"
    }
   ],
   "source": [
    "activity.keys()"
   ]
  },
  {
   "cell_type": "code",
   "execution_count": null,
   "metadata": {
    "collapsed": false
   },
   "outputs": [
    {
     "data": {
      "text/plain": [
       "u'XM-OCHA-FTS-CAR-15/P-HR-RL/94360/R/13864'"
      ]
     },
     "execution_count": null,
     "metadata": {},
     "output_type": "execute_result"
    }
   ],
   "source": [
    "activity['iati-identifier']"
   ]
  },
  {
   "cell_type": "code",
   "execution_count": null,
   "metadata": {
    "collapsed": false
   },
   "outputs": [
    {
     "data": {
      "text/plain": [
       "[{u'@code': u'72050',\n",
       "  u'@vocabulary': u'1',\n",
       "  u'narrative': u'Relief coordination; protection and support services'},\n",
       " {u'@code': u'7',\n",
       "  u'@vocabulary': u'99',\n",
       "  u'narrative': u'Protection/Human rights/Rule of law'}]"
      ]
     },
     "execution_count": null,
     "metadata": {},
     "output_type": "execute_result"
    }
   ],
   "source": [
    "# http://iatistandard.org/202/activity-standard/iati-activities/iati-activity/sector/\n",
    "# Vocabulary: http://iatistandard.org/202/codelists/SectorVocabulary/\n",
    "\n",
    "activity['sector']"
   ]
  },
  {
   "cell_type": "code",
   "execution_count": null,
   "metadata": {
    "collapsed": false
   },
   "outputs": [
    {
     "data": {
      "text/plain": [
       "{u'@ref': u'XM-OCHA-FTS',\n",
       " u'@secondary-reporter': u'1',\n",
       " u'@type': u'40',\n",
       " u'narrative': u'UNOCHA-FTS'}"
      ]
     },
     "execution_count": null,
     "metadata": {},
     "output_type": "execute_result"
    }
   ],
   "source": [
    "# Ref: http://iatistandard.org/202/activity-standard/iati-activities/iati-activity/participating-org/\n",
    "# Type: http://iatistandard.org/202/codelists/OrganisationType/\n",
    "\n",
    "activity['reporting-org']"
   ]
  },
  {
   "cell_type": "code",
   "execution_count": null,
   "metadata": {
    "collapsed": false
   },
   "outputs": [
    {
     "data": {
      "text/plain": [
       "[{u'@ref': u'XM-OCHA-FTS13864',\n",
       "  u'@role': u'4',\n",
       "  u'narrative': u'Vitalit\\xe9 Plus'},\n",
       " {u'@ref': u'XM-OCHA-FTS7622',\n",
       "  u'@role': u'1',\n",
       "  u'@type': u'40',\n",
       "  u'narrative': u'Common Humanitarian Fund'}]"
      ]
     },
     "execution_count": null,
     "metadata": {},
     "output_type": "execute_result"
    }
   ],
   "source": [
    "# Ref: http://iatistandard.org/202/activity-standard/iati-activities/iati-activity/participating-org/\n",
    "# Role: http://iatistandard.org/202/codelists/OrganisationRole/\n",
    "# Type: http://iatistandard.org/202/codelists/OrganisationType/\n",
    "\n",
    "activity['participating-org']"
   ]
  },
  {
   "cell_type": "code",
   "execution_count": null,
   "metadata": {
    "collapsed": false
   },
   "outputs": [
    {
     "data": {
      "text/plain": [
       "{u'@code': u'2'}"
      ]
     },
     "execution_count": null,
     "metadata": {},
     "output_type": "execute_result"
    }
   ],
   "source": [
    "# Code: http://iatistandard.org/202/codelists/ActivityStatus/\n",
    "\n",
    "activity['activity-status']"
   ]
  },
  {
   "cell_type": "code",
   "execution_count": null,
   "metadata": {
    "collapsed": false
   },
   "outputs": [
    {
     "data": {
      "text/plain": [
       "{u'@code': u'CF'}"
      ]
     },
     "execution_count": null,
     "metadata": {},
     "output_type": "execute_result"
    }
   ],
   "source": [
    "# Code: http://iatistandard.org/202/codelists/Country/\n",
    "\n",
    "activity['recipient-country']"
   ]
  },
  {
   "cell_type": "code",
   "execution_count": null,
   "metadata": {
    "collapsed": false
   },
   "outputs": [
    {
     "data": {
      "text/plain": [
       "{u'@generated-datetime': u'2016-06-25T22:49:09',\n",
       " u'@ref': u'248592',\n",
       " u'@w210-activity': u'XM-OCHA-FTS-CAR-15/P-HR-RL/94360/R/13864',\n",
       " u'@w210-key': u'ocha_fts-central_african_republic_2015',\n",
       " u'finance-type': {u'@code': u'110'},\n",
       " u'fts:contribution-category': {u'#text': u'Allocation',\n",
       "  u'@code': u'1',\n",
       "  u'@xmlns:fts': u'nothing'},\n",
       " u'provider-org': {u'@ref': u'XM-OCHA-FTS7622',\n",
       "  u'narrative': u'Common Humanitarian Fund'},\n",
       " u'receiver-org': {u'@ref': u'XM-OCHA-FTS13864',\n",
       "  u'narrative': u'Vitalit\\xe9 Plus'},\n",
       " u'transaction-date': {u'@iso-date': u'2015-08-28'},\n",
       " u'transaction-type': {u'@code': u'3'},\n",
       " u'value': {u'#text': u'231332', u'@value-date': u'2015-08-28'}}"
      ]
     },
     "execution_count": null,
     "metadata": {},
     "output_type": "execute_result"
    }
   ],
   "source": [
    "# FinanceType: http://iatistandard.org/202/codelists/FinanceType/\n",
    "# TransactionType: http://iatistandard.org/202/codelists/TransactionType/\n",
    "\n",
    "activity['transaction']"
   ]
  },
  {
   "cell_type": "markdown",
   "metadata": {},
   "source": [
    "# Find Usable Field"
   ]
  },
  {
   "cell_type": "code",
   "execution_count": null,
   "metadata": {
    "collapsed": true
   },
   "outputs": [],
   "source": [
    "def flatten(item_list):\n",
    "    if type(item_list) != list:\n",
    "        return [item_list]\n",
    "\n",
    "    return_value = []\n",
    "\n",
    "    # Recursively flatten lists of lists\n",
    "\n",
    "    for item in item_list:\n",
    "        if type(item) == list:\n",
    "            return_value += flatten(item)\n",
    "        else:\n",
    "            return_value.append(item)\n",
    "\n",
    "    return return_value"
   ]
  },
  {
   "cell_type": "code",
   "execution_count": null,
   "metadata": {
    "collapsed": true
   },
   "outputs": [],
   "source": [
    "def get_text(element, attribute):\n",
    "\n",
    "    if element is None:\n",
    "        return None\n",
    "\n",
    "    if attribute not in element:\n",
    "        return None\n",
    "\n",
    "    try:\n",
    "        value = element[attribute]\n",
    "    except Exception as e:\n",
    "        print element, attribute\n",
    "        raise e\n",
    "\n",
    "    if type(value) == dict:\n",
    "        if '#text' in value:\n",
    "            return value['#text']\n",
    "\n",
    "        return None\n",
    "\n",
    "    if type(value) != list:\n",
    "        return value\n",
    "\n",
    "    return [\n",
    "        item['#text'] if type(item) == dict and '#text' in item else\n",
    "            None if type(item) == dict else item\n",
    "        for item in value\n",
    "    ]"
   ]
  },
  {
   "cell_type": "code",
   "execution_count": null,
   "metadata": {
    "collapsed": true
   },
   "outputs": [],
   "source": [
    "def get_node_list(parent, field_keys):\n",
    "    value = parent\n",
    "\n",
    "    for key in field_keys:\n",
    "\n",
    "        # If we have a dictionary, we simply access the attribute\n",
    "\n",
    "        if type(value) == dict:\n",
    "            if key not in value:\n",
    "                return []\n",
    "\n",
    "            value = value[key]\n",
    "            continue\n",
    "\n",
    "        # If we have something that is neither a dict nor a list, we\n",
    "        # cannot navigate further down the JSON object, so we were\n",
    "        # unable to find what we needed.\n",
    "\n",
    "        if type(value) != list:\n",
    "            return []\n",
    "\n",
    "        # If we have a list, then we'll check the key in each element\n",
    "        # of the list.\n",
    "\n",
    "        value = [ item[key] for item in value if item is not None and key in item ]\n",
    "\n",
    "    if value is None:\n",
    "        return []\n",
    "\n",
    "    if type(value) != list:\n",
    "        value = [value]\n",
    "\n",
    "    return value"
   ]
  },
  {
   "cell_type": "code",
   "execution_count": null,
   "metadata": {
    "collapsed": false
   },
   "outputs": [],
   "source": [
    "def get_value(activity, field_keys):\n",
    "    node_list = get_node_list(activity, field_keys)\n",
    "\n",
    "    return_value = []\n",
    "\n",
    "    for node in node_list:\n",
    "        ref = get_text(node, '@ref')\n",
    "        narrative = get_text(node, 'narrative')\n",
    "\n",
    "        if narrative is not None:\n",
    "            return_value.append({\n",
    "                'ref': ref, 'narrative': narrative\n",
    "            })\n",
    "\n",
    "        narrative = get_text(node, '@narrative')\n",
    "\n",
    "        if narrative is not None:\n",
    "            return_value.append({\n",
    "                'ref': ref, 'narrative': narrative\n",
    "            })\n",
    "\n",
    "    return return_value"
   ]
  },
  {
   "cell_type": "code",
   "execution_count": null,
   "metadata": {
    "collapsed": true
   },
   "outputs": [],
   "source": [
    "def get_values(field_path):\n",
    "    field_keys = field_path.split('.')\n",
    "\n",
    "    return_values = []\n",
    "\n",
    "    for activity in all_activities:\n",
    "        new_values = get_value(activity, field_keys)\n",
    "\n",
    "        for value in new_values:\n",
    "            value['file_id'] = activity['@w210-key']\n",
    "\n",
    "        return_values += new_values\n",
    "\n",
    "    return return_values"
   ]
  },
  {
   "cell_type": "markdown",
   "metadata": {},
   "source": [
    "# Check Data"
   ]
  },
  {
   "cell_type": "code",
   "execution_count": null,
   "metadata": {
    "collapsed": true
   },
   "outputs": [],
   "source": [
    "def get_new_version_values(element_name):\n",
    "    return pandas.DataFrame(get_values(element_name))"
   ]
  },
  {
   "cell_type": "markdown",
   "metadata": {},
   "source": [
    "## Reporting Organizations"
   ]
  },
  {
   "cell_type": "code",
   "execution_count": null,
   "metadata": {
    "collapsed": false
   },
   "outputs": [],
   "source": [
    "reporters = get_new_version_values('reporting-org')"
   ]
  },
  {
   "cell_type": "code",
   "execution_count": null,
   "metadata": {
    "collapsed": false
   },
   "outputs": [
    {
     "data": {
      "text/html": [
       "<div>\n",
       "<table border=\"1\" class=\"dataframe\">\n",
       "  <thead>\n",
       "    <tr style=\"text-align: right;\">\n",
       "      <th></th>\n",
       "      <th>file_id</th>\n",
       "      <th>narrative</th>\n",
       "      <th>ref</th>\n",
       "    </tr>\n",
       "  </thead>\n",
       "  <tbody>\n",
       "    <tr>\n",
       "      <th>0</th>\n",
       "      <td>ocha_fts-central_african_republic_2015</td>\n",
       "      <td>UNOCHA-FTS</td>\n",
       "      <td>XM-OCHA-FTS</td>\n",
       "    </tr>\n",
       "    <tr>\n",
       "      <th>1</th>\n",
       "      <td>ocha_fts-central_african_republic_2015</td>\n",
       "      <td>UNOCHA-FTS</td>\n",
       "      <td>XM-OCHA-FTS</td>\n",
       "    </tr>\n",
       "    <tr>\n",
       "      <th>2</th>\n",
       "      <td>ocha_fts-central_african_republic_2015</td>\n",
       "      <td>UNOCHA-FTS</td>\n",
       "      <td>XM-OCHA-FTS</td>\n",
       "    </tr>\n",
       "    <tr>\n",
       "      <th>3</th>\n",
       "      <td>ocha_fts-central_african_republic_2015</td>\n",
       "      <td>UNOCHA-FTS</td>\n",
       "      <td>XM-OCHA-FTS</td>\n",
       "    </tr>\n",
       "    <tr>\n",
       "      <th>4</th>\n",
       "      <td>ocha_fts-central_african_republic_2015</td>\n",
       "      <td>UNOCHA-FTS</td>\n",
       "      <td>XM-OCHA-FTS</td>\n",
       "    </tr>\n",
       "  </tbody>\n",
       "</table>\n",
       "</div>"
      ],
      "text/plain": [
       "                                  file_id   narrative          ref\n",
       "0  ocha_fts-central_african_republic_2015  UNOCHA-FTS  XM-OCHA-FTS\n",
       "1  ocha_fts-central_african_republic_2015  UNOCHA-FTS  XM-OCHA-FTS\n",
       "2  ocha_fts-central_african_republic_2015  UNOCHA-FTS  XM-OCHA-FTS\n",
       "3  ocha_fts-central_african_republic_2015  UNOCHA-FTS  XM-OCHA-FTS\n",
       "4  ocha_fts-central_african_republic_2015  UNOCHA-FTS  XM-OCHA-FTS"
      ]
     },
     "execution_count": null,
     "metadata": {},
     "output_type": "execute_result"
    }
   ],
   "source": [
    "reporters.head()"
   ]
  },
  {
   "cell_type": "code",
   "execution_count": null,
   "metadata": {
    "collapsed": false
   },
   "outputs": [
    {
     "data": {
      "text/html": [
       "<div>\n",
       "<table border=\"1\" class=\"dataframe\">\n",
       "  <thead>\n",
       "    <tr style=\"text-align: right;\">\n",
       "      <th></th>\n",
       "      <th>file_id</th>\n",
       "      <th>narrative</th>\n",
       "      <th>ref</th>\n",
       "    </tr>\n",
       "  </thead>\n",
       "  <tbody>\n",
       "    <tr>\n",
       "      <th>377877</th>\n",
       "      <td>dfid-998_2</td>\n",
       "      <td>Department for International Development</td>\n",
       "      <td>GB-GOV-1</td>\n",
       "    </tr>\n",
       "    <tr>\n",
       "      <th>377878</th>\n",
       "      <td>dfid-998_2</td>\n",
       "      <td>Department for International Development</td>\n",
       "      <td>GB-GOV-1</td>\n",
       "    </tr>\n",
       "    <tr>\n",
       "      <th>377879</th>\n",
       "      <td>dfid-998_2</td>\n",
       "      <td>Department for International Development</td>\n",
       "      <td>GB-GOV-1</td>\n",
       "    </tr>\n",
       "    <tr>\n",
       "      <th>377880</th>\n",
       "      <td>dfid-998_2</td>\n",
       "      <td>Department for International Development</td>\n",
       "      <td>GB-GOV-1</td>\n",
       "    </tr>\n",
       "    <tr>\n",
       "      <th>377881</th>\n",
       "      <td>dfid-998_2</td>\n",
       "      <td>Department for International Development</td>\n",
       "      <td>GB-GOV-1</td>\n",
       "    </tr>\n",
       "  </tbody>\n",
       "</table>\n",
       "</div>"
      ],
      "text/plain": [
       "           file_id                                 narrative       ref\n",
       "377877  dfid-998_2  Department for International Development  GB-GOV-1\n",
       "377878  dfid-998_2  Department for International Development  GB-GOV-1\n",
       "377879  dfid-998_2  Department for International Development  GB-GOV-1\n",
       "377880  dfid-998_2  Department for International Development  GB-GOV-1\n",
       "377881  dfid-998_2  Department for International Development  GB-GOV-1"
      ]
     },
     "execution_count": null,
     "metadata": {},
     "output_type": "execute_result"
    }
   ],
   "source": [
    "reporters.tail()"
   ]
  },
  {
   "cell_type": "markdown",
   "metadata": {},
   "source": [
    "## Other Identifier"
   ]
  },
  {
   "cell_type": "code",
   "execution_count": null,
   "metadata": {
    "collapsed": false
   },
   "outputs": [],
   "source": [
    "others = get_new_version_values('other-identifier.owner-org')"
   ]
  },
  {
   "cell_type": "code",
   "execution_count": null,
   "metadata": {
    "collapsed": false
   },
   "outputs": [
    {
     "data": {
      "text/html": [
       "<div>\n",
       "<table border=\"1\" class=\"dataframe\">\n",
       "  <thead>\n",
       "    <tr style=\"text-align: right;\">\n",
       "      <th></th>\n",
       "      <th>file_id</th>\n",
       "      <th>narrative</th>\n",
       "      <th>ref</th>\n",
       "    </tr>\n",
       "  </thead>\n",
       "  <tbody>\n",
       "    <tr>\n",
       "      <th>0</th>\n",
       "      <td>ocha_fts-central_african_republic_2015</td>\n",
       "      <td>UN OCHA Financial Tracking Service</td>\n",
       "      <td>XM-OCHA-FTS</td>\n",
       "    </tr>\n",
       "    <tr>\n",
       "      <th>1</th>\n",
       "      <td>ocha_fts-central_african_republic_2015</td>\n",
       "      <td>UN OCHA Financial Tracking Service</td>\n",
       "      <td>XM-OCHA-FTS</td>\n",
       "    </tr>\n",
       "    <tr>\n",
       "      <th>2</th>\n",
       "      <td>ocha_fts-central_african_republic_2015</td>\n",
       "      <td>UN OCHA Financial Tracking Service</td>\n",
       "      <td>XM-OCHA-FTS</td>\n",
       "    </tr>\n",
       "    <tr>\n",
       "      <th>3</th>\n",
       "      <td>ocha_fts-central_african_republic_2015</td>\n",
       "      <td>UN OCHA Financial Tracking Service</td>\n",
       "      <td>XM-OCHA-FTS</td>\n",
       "    </tr>\n",
       "    <tr>\n",
       "      <th>4</th>\n",
       "      <td>ocha_fts-central_african_republic_2015</td>\n",
       "      <td>UN OCHA Financial Tracking Service</td>\n",
       "      <td>XM-OCHA-FTS</td>\n",
       "    </tr>\n",
       "  </tbody>\n",
       "</table>\n",
       "</div>"
      ],
      "text/plain": [
       "                                  file_id                           narrative  \\\n",
       "0  ocha_fts-central_african_republic_2015  UN OCHA Financial Tracking Service\n",
       "1  ocha_fts-central_african_republic_2015  UN OCHA Financial Tracking Service\n",
       "2  ocha_fts-central_african_republic_2015  UN OCHA Financial Tracking Service\n",
       "3  ocha_fts-central_african_republic_2015  UN OCHA Financial Tracking Service\n",
       "4  ocha_fts-central_african_republic_2015  UN OCHA Financial Tracking Service\n",
       "\n",
       "           ref\n",
       "0  XM-OCHA-FTS\n",
       "1  XM-OCHA-FTS\n",
       "2  XM-OCHA-FTS\n",
       "3  XM-OCHA-FTS\n",
       "4  XM-OCHA-FTS  "
      ]
     },
     "execution_count": null,
     "metadata": {},
     "output_type": "execute_result"
    }
   ],
   "source": [
    "others.head()"
   ]
  },
  {
   "cell_type": "code",
   "execution_count": null,
   "metadata": {
    "collapsed": false
   },
   "outputs": [
    {
     "data": {
      "text/html": [
       "<div>\n",
       "<table border=\"1\" class=\"dataframe\">\n",
       "  <thead>\n",
       "    <tr style=\"text-align: right;\">\n",
       "      <th></th>\n",
       "      <th>file_id</th>\n",
       "      <th>narrative</th>\n",
       "      <th>ref</th>\n",
       "    </tr>\n",
       "  </thead>\n",
       "  <tbody>\n",
       "    <tr>\n",
       "      <th>112472</th>\n",
       "      <td>dfid-998_2</td>\n",
       "      <td>DFID previous reporting-org identifier</td>\n",
       "      <td>GB-GOV-1</td>\n",
       "    </tr>\n",
       "    <tr>\n",
       "      <th>112473</th>\n",
       "      <td>dfid-998_2</td>\n",
       "      <td>DFID</td>\n",
       "      <td>GB-GOV-1</td>\n",
       "    </tr>\n",
       "    <tr>\n",
       "      <th>112474</th>\n",
       "      <td>dfid-998_2</td>\n",
       "      <td>DFID previous reporting-org identifier</td>\n",
       "      <td>GB-GOV-1</td>\n",
       "    </tr>\n",
       "    <tr>\n",
       "      <th>112475</th>\n",
       "      <td>dfid-998_2</td>\n",
       "      <td>DFID</td>\n",
       "      <td>GB-GOV-1</td>\n",
       "    </tr>\n",
       "    <tr>\n",
       "      <th>112476</th>\n",
       "      <td>dfid-998_2</td>\n",
       "      <td>DFID previous reporting-org identifier</td>\n",
       "      <td>GB-GOV-1</td>\n",
       "    </tr>\n",
       "  </tbody>\n",
       "</table>\n",
       "</div>"
      ],
      "text/plain": [
       "           file_id                               narrative       ref\n",
       "112472  dfid-998_2  DFID previous reporting-org identifier  GB-GOV-1\n",
       "112473  dfid-998_2                                    DFID  GB-GOV-1\n",
       "112474  dfid-998_2  DFID previous reporting-org identifier  GB-GOV-1\n",
       "112475  dfid-998_2                                    DFID  GB-GOV-1\n",
       "112476  dfid-998_2  DFID previous reporting-org identifier  GB-GOV-1"
      ]
     },
     "execution_count": null,
     "metadata": {},
     "output_type": "execute_result"
    }
   ],
   "source": [
    "others.tail()"
   ]
  },
  {
   "cell_type": "markdown",
   "metadata": {},
   "source": [
    "## Participating Organizations"
   ]
  },
  {
   "cell_type": "code",
   "execution_count": null,
   "metadata": {
    "collapsed": false
   },
   "outputs": [],
   "source": [
    "participants = get_new_version_values('participating-org')"
   ]
  },
  {
   "cell_type": "code",
   "execution_count": null,
   "metadata": {
    "collapsed": false
   },
   "outputs": [
    {
     "data": {
      "text/html": [
       "<div>\n",
       "<table border=\"1\" class=\"dataframe\">\n",
       "  <thead>\n",
       "    <tr style=\"text-align: right;\">\n",
       "      <th></th>\n",
       "      <th>file_id</th>\n",
       "      <th>narrative</th>\n",
       "      <th>ref</th>\n",
       "    </tr>\n",
       "  </thead>\n",
       "  <tbody>\n",
       "    <tr>\n",
       "      <th>0</th>\n",
       "      <td>ocha_fts-central_african_republic_2015</td>\n",
       "      <td>Vitalité Plus</td>\n",
       "      <td>XM-OCHA-FTS13864</td>\n",
       "    </tr>\n",
       "    <tr>\n",
       "      <th>1</th>\n",
       "      <td>ocha_fts-central_african_republic_2015</td>\n",
       "      <td>Common Humanitarian Fund</td>\n",
       "      <td>XM-OCHA-FTS7622</td>\n",
       "    </tr>\n",
       "    <tr>\n",
       "      <th>2</th>\n",
       "      <td>ocha_fts-central_african_republic_2015</td>\n",
       "      <td>Norwegian Refugee Council</td>\n",
       "      <td>XM-OCHA-FTS5834</td>\n",
       "    </tr>\n",
       "    <tr>\n",
       "      <th>3</th>\n",
       "      <td>ocha_fts-central_african_republic_2015</td>\n",
       "      <td>Common Humanitarian Fund</td>\n",
       "      <td>XM-OCHA-FTS7622</td>\n",
       "    </tr>\n",
       "    <tr>\n",
       "      <th>4</th>\n",
       "      <td>ocha_fts-central_african_republic_2015</td>\n",
       "      <td>ACT Alliance / Lutheran World Federation</td>\n",
       "      <td>XM-OCHA-FTS5502</td>\n",
       "    </tr>\n",
       "  </tbody>\n",
       "</table>\n",
       "</div>"
      ],
      "text/plain": [
       "                                  file_id  \\\n",
       "0  ocha_fts-central_african_republic_2015\n",
       "1  ocha_fts-central_african_republic_2015\n",
       "2  ocha_fts-central_african_republic_2015\n",
       "3  ocha_fts-central_african_republic_2015\n",
       "4  ocha_fts-central_african_republic_2015\n",
       "\n",
       "                                  narrative               ref\n",
       "0                             Vitalité Plus  XM-OCHA-FTS13864\n",
       "1                  Common Humanitarian Fund   XM-OCHA-FTS7622\n",
       "2                 Norwegian Refugee Council   XM-OCHA-FTS5834\n",
       "3                  Common Humanitarian Fund   XM-OCHA-FTS7622\n",
       "4  ACT Alliance / Lutheran World Federation   XM-OCHA-FTS5502  "
      ]
     },
     "execution_count": null,
     "metadata": {},
     "output_type": "execute_result"
    }
   ],
   "source": [
    "participants.head()"
   ]
  },
  {
   "cell_type": "code",
   "execution_count": null,
   "metadata": {
    "collapsed": false
   },
   "outputs": [
    {
     "data": {
      "text/html": [
       "<div>\n",
       "<table border=\"1\" class=\"dataframe\">\n",
       "  <thead>\n",
       "    <tr style=\"text-align: right;\">\n",
       "      <th></th>\n",
       "      <th>file_id</th>\n",
       "      <th>narrative</th>\n",
       "      <th>ref</th>\n",
       "    </tr>\n",
       "  </thead>\n",
       "  <tbody>\n",
       "    <tr>\n",
       "      <th>1394942</th>\n",
       "      <td>dfid-998_2</td>\n",
       "      <td>Department for International Development</td>\n",
       "      <td>GB-GOV-1</td>\n",
       "    </tr>\n",
       "    <tr>\n",
       "      <th>1394943</th>\n",
       "      <td>dfid-998_2</td>\n",
       "      <td>Other.</td>\n",
       "      <td>52000</td>\n",
       "    </tr>\n",
       "    <tr>\n",
       "      <th>1394944</th>\n",
       "      <td>dfid-998_2</td>\n",
       "      <td>UNITED KINGDOM</td>\n",
       "      <td>GB</td>\n",
       "    </tr>\n",
       "    <tr>\n",
       "      <th>1394945</th>\n",
       "      <td>dfid-998_2</td>\n",
       "      <td>Department for International Development</td>\n",
       "      <td>GB-GOV-1</td>\n",
       "    </tr>\n",
       "    <tr>\n",
       "      <th>1394946</th>\n",
       "      <td>dfid-998_2</td>\n",
       "      <td>University, college or other teaching institut...</td>\n",
       "      <td>51000</td>\n",
       "    </tr>\n",
       "  </tbody>\n",
       "</table>\n",
       "</div>"
      ],
      "text/plain": [
       "            file_id                                          narrative  \\\n",
       "1394942  dfid-998_2           Department for International Development\n",
       "1394943  dfid-998_2                                             Other.\n",
       "1394944  dfid-998_2                                     UNITED KINGDOM\n",
       "1394945  dfid-998_2           Department for International Development\n",
       "1394946  dfid-998_2  University, college or other teaching institut...\n",
       "\n",
       "              ref\n",
       "1394942  GB-GOV-1\n",
       "1394943     52000\n",
       "1394944        GB\n",
       "1394945  GB-GOV-1\n",
       "1394946     51000  "
      ]
     },
     "execution_count": null,
     "metadata": {},
     "output_type": "execute_result"
    }
   ],
   "source": [
    "participants.tail()"
   ]
  },
  {
   "cell_type": "markdown",
   "metadata": {},
   "source": [
    "## Transaction Providers"
   ]
  },
  {
   "cell_type": "code",
   "execution_count": null,
   "metadata": {
    "collapsed": false
   },
   "outputs": [],
   "source": [
    "transaction_providers = get_new_version_values('transaction.provider-org')"
   ]
  },
  {
   "cell_type": "code",
   "execution_count": null,
   "metadata": {
    "collapsed": false
   },
   "outputs": [
    {
     "data": {
      "text/html": [
       "<div>\n",
       "<table border=\"1\" class=\"dataframe\">\n",
       "  <thead>\n",
       "    <tr style=\"text-align: right;\">\n",
       "      <th></th>\n",
       "      <th>file_id</th>\n",
       "      <th>narrative</th>\n",
       "      <th>ref</th>\n",
       "    </tr>\n",
       "  </thead>\n",
       "  <tbody>\n",
       "    <tr>\n",
       "      <th>0</th>\n",
       "      <td>ocha_fts-central_african_republic_2015</td>\n",
       "      <td>Common Humanitarian Fund</td>\n",
       "      <td>XM-OCHA-FTS7622</td>\n",
       "    </tr>\n",
       "    <tr>\n",
       "      <th>1</th>\n",
       "      <td>ocha_fts-central_african_republic_2015</td>\n",
       "      <td>Common Humanitarian Fund</td>\n",
       "      <td>XM-OCHA-FTS7622</td>\n",
       "    </tr>\n",
       "    <tr>\n",
       "      <th>2</th>\n",
       "      <td>ocha_fts-central_african_republic_2015</td>\n",
       "      <td>Common Humanitarian Fund</td>\n",
       "      <td>XM-OCHA-FTS7622</td>\n",
       "    </tr>\n",
       "    <tr>\n",
       "      <th>3</th>\n",
       "      <td>ocha_fts-central_african_republic_2015</td>\n",
       "      <td>Common Humanitarian Fund</td>\n",
       "      <td>XM-OCHA-FTS7622</td>\n",
       "    </tr>\n",
       "    <tr>\n",
       "      <th>4</th>\n",
       "      <td>ocha_fts-central_african_republic_2015</td>\n",
       "      <td>Common Humanitarian Fund</td>\n",
       "      <td>XM-OCHA-FTS7622</td>\n",
       "    </tr>\n",
       "  </tbody>\n",
       "</table>\n",
       "</div>"
      ],
      "text/plain": [
       "                                  file_id                 narrative  \\\n",
       "0  ocha_fts-central_african_republic_2015  Common Humanitarian Fund\n",
       "1  ocha_fts-central_african_republic_2015  Common Humanitarian Fund\n",
       "2  ocha_fts-central_african_republic_2015  Common Humanitarian Fund\n",
       "3  ocha_fts-central_african_republic_2015  Common Humanitarian Fund\n",
       "4  ocha_fts-central_african_republic_2015  Common Humanitarian Fund\n",
       "\n",
       "               ref\n",
       "0  XM-OCHA-FTS7622\n",
       "1  XM-OCHA-FTS7622\n",
       "2  XM-OCHA-FTS7622\n",
       "3  XM-OCHA-FTS7622\n",
       "4  XM-OCHA-FTS7622  "
      ]
     },
     "execution_count": null,
     "metadata": {},
     "output_type": "execute_result"
    }
   ],
   "source": [
    "transaction_providers.head()"
   ]
  },
  {
   "cell_type": "code",
   "execution_count": null,
   "metadata": {
    "collapsed": false
   },
   "outputs": [
    {
     "data": {
      "text/html": [
       "<div>\n",
       "<table border=\"1\" class=\"dataframe\">\n",
       "  <thead>\n",
       "    <tr style=\"text-align: right;\">\n",
       "      <th></th>\n",
       "      <th>file_id</th>\n",
       "      <th>narrative</th>\n",
       "      <th>ref</th>\n",
       "    </tr>\n",
       "  </thead>\n",
       "  <tbody>\n",
       "    <tr>\n",
       "      <th>496768</th>\n",
       "      <td>dfid-998_2</td>\n",
       "      <td>Department for International Development</td>\n",
       "      <td>GB-GOV-1</td>\n",
       "    </tr>\n",
       "    <tr>\n",
       "      <th>496769</th>\n",
       "      <td>dfid-998_2</td>\n",
       "      <td>Department for International Development</td>\n",
       "      <td>GB-GOV-1</td>\n",
       "    </tr>\n",
       "    <tr>\n",
       "      <th>496770</th>\n",
       "      <td>dfid-998_2</td>\n",
       "      <td>Department for International Development</td>\n",
       "      <td>GB-GOV-1</td>\n",
       "    </tr>\n",
       "    <tr>\n",
       "      <th>496771</th>\n",
       "      <td>dfid-998_2</td>\n",
       "      <td>Department for International Development</td>\n",
       "      <td>GB-GOV-1</td>\n",
       "    </tr>\n",
       "    <tr>\n",
       "      <th>496772</th>\n",
       "      <td>dfid-998_2</td>\n",
       "      <td>Department for International Development</td>\n",
       "      <td>GB-GOV-1</td>\n",
       "    </tr>\n",
       "  </tbody>\n",
       "</table>\n",
       "</div>"
      ],
      "text/plain": [
       "           file_id                                 narrative       ref\n",
       "496768  dfid-998_2  Department for International Development  GB-GOV-1\n",
       "496769  dfid-998_2  Department for International Development  GB-GOV-1\n",
       "496770  dfid-998_2  Department for International Development  GB-GOV-1\n",
       "496771  dfid-998_2  Department for International Development  GB-GOV-1\n",
       "496772  dfid-998_2  Department for International Development  GB-GOV-1"
      ]
     },
     "execution_count": null,
     "metadata": {},
     "output_type": "execute_result"
    }
   ],
   "source": [
    "transaction_providers.tail()"
   ]
  },
  {
   "cell_type": "markdown",
   "metadata": {},
   "source": [
    "## Transaction Receivers"
   ]
  },
  {
   "cell_type": "code",
   "execution_count": null,
   "metadata": {
    "collapsed": true
   },
   "outputs": [],
   "source": [
    "transaction_receivers = get_new_version_values('transaction.receiver-org')"
   ]
  },
  {
   "cell_type": "code",
   "execution_count": null,
   "metadata": {
    "collapsed": false
   },
   "outputs": [
    {
     "data": {
      "text/html": [
       "<div>\n",
       "<table border=\"1\" class=\"dataframe\">\n",
       "  <thead>\n",
       "    <tr style=\"text-align: right;\">\n",
       "      <th></th>\n",
       "      <th>file_id</th>\n",
       "      <th>narrative</th>\n",
       "      <th>ref</th>\n",
       "    </tr>\n",
       "  </thead>\n",
       "  <tbody>\n",
       "    <tr>\n",
       "      <th>0</th>\n",
       "      <td>ocha_fts-central_african_republic_2015</td>\n",
       "      <td>Vitalité Plus</td>\n",
       "      <td>XM-OCHA-FTS13864</td>\n",
       "    </tr>\n",
       "    <tr>\n",
       "      <th>1</th>\n",
       "      <td>ocha_fts-central_african_republic_2015</td>\n",
       "      <td>Norwegian Refugee Council</td>\n",
       "      <td>XM-OCHA-FTS5834</td>\n",
       "    </tr>\n",
       "    <tr>\n",
       "      <th>2</th>\n",
       "      <td>ocha_fts-central_african_republic_2015</td>\n",
       "      <td>ACT Alliance / Lutheran World Federation</td>\n",
       "      <td>XM-OCHA-FTS5502</td>\n",
       "    </tr>\n",
       "    <tr>\n",
       "      <th>3</th>\n",
       "      <td>ocha_fts-central_african_republic_2015</td>\n",
       "      <td>Vitalité Plus</td>\n",
       "      <td>XM-OCHA-FTS13864</td>\n",
       "    </tr>\n",
       "    <tr>\n",
       "      <th>4</th>\n",
       "      <td>ocha_fts-central_african_republic_2015</td>\n",
       "      <td>Vitalité Plus</td>\n",
       "      <td>XM-OCHA-FTS13864</td>\n",
       "    </tr>\n",
       "  </tbody>\n",
       "</table>\n",
       "</div>"
      ],
      "text/plain": [
       "                                  file_id  \\\n",
       "0  ocha_fts-central_african_republic_2015\n",
       "1  ocha_fts-central_african_republic_2015\n",
       "2  ocha_fts-central_african_republic_2015\n",
       "3  ocha_fts-central_african_republic_2015\n",
       "4  ocha_fts-central_african_republic_2015\n",
       "\n",
       "                                  narrative               ref\n",
       "0                             Vitalité Plus  XM-OCHA-FTS13864\n",
       "1                 Norwegian Refugee Council   XM-OCHA-FTS5834\n",
       "2  ACT Alliance / Lutheran World Federation   XM-OCHA-FTS5502\n",
       "3                             Vitalité Plus  XM-OCHA-FTS13864\n",
       "4                             Vitalité Plus  XM-OCHA-FTS13864  "
      ]
     },
     "execution_count": null,
     "metadata": {},
     "output_type": "execute_result"
    }
   ],
   "source": [
    "transaction_receivers.head()"
   ]
  },
  {
   "cell_type": "code",
   "execution_count": null,
   "metadata": {
    "collapsed": false
   },
   "outputs": [
    {
     "data": {
      "text/html": [
       "<div>\n",
       "<table border=\"1\" class=\"dataframe\">\n",
       "  <thead>\n",
       "    <tr style=\"text-align: right;\">\n",
       "      <th></th>\n",
       "      <th>file_id</th>\n",
       "      <th>narrative</th>\n",
       "      <th>ref</th>\n",
       "    </tr>\n",
       "  </thead>\n",
       "  <tbody>\n",
       "    <tr>\n",
       "      <th>509281</th>\n",
       "      <td>dfid-998_2</td>\n",
       "      <td>Journal Transaction</td>\n",
       "      <td>Excluded</td>\n",
       "    </tr>\n",
       "    <tr>\n",
       "      <th>509282</th>\n",
       "      <td>dfid-998_2</td>\n",
       "      <td>Journal Transaction</td>\n",
       "      <td>Excluded</td>\n",
       "    </tr>\n",
       "    <tr>\n",
       "      <th>509283</th>\n",
       "      <td>dfid-998_2</td>\n",
       "      <td>Climate Policy Initiative</td>\n",
       "      <td>None</td>\n",
       "    </tr>\n",
       "    <tr>\n",
       "      <th>509284</th>\n",
       "      <td>dfid-998_2</td>\n",
       "      <td>Emerging Markets Private Equity Association (E...</td>\n",
       "      <td>None</td>\n",
       "    </tr>\n",
       "    <tr>\n",
       "      <th>509285</th>\n",
       "      <td>dfid-998_2</td>\n",
       "      <td>TRANSITION INTERNATIONAL</td>\n",
       "      <td>52000</td>\n",
       "    </tr>\n",
       "  </tbody>\n",
       "</table>\n",
       "</div>"
      ],
      "text/plain": [
       "           file_id                                          narrative  \\\n",
       "509281  dfid-998_2                                Journal Transaction\n",
       "509282  dfid-998_2                                Journal Transaction\n",
       "509283  dfid-998_2                          Climate Policy Initiative\n",
       "509284  dfid-998_2  Emerging Markets Private Equity Association (E...\n",
       "509285  dfid-998_2                           TRANSITION INTERNATIONAL\n",
       "\n",
       "             ref\n",
       "509281  Excluded\n",
       "509282  Excluded\n",
       "509283      None\n",
       "509284      None\n",
       "509285     52000  "
      ]
     },
     "execution_count": null,
     "metadata": {},
     "output_type": "execute_result"
    }
   ],
   "source": [
    "transaction_receivers.tail()"
   ]
  },
  {
   "cell_type": "markdown",
   "metadata": {},
   "source": [
    "# Check Ref-Names"
   ]
  },
  {
   "cell_type": "markdown",
   "metadata": {},
   "source": [
    "## Check Ref to Name Mapping"
   ]
  },
  {
   "cell_type": "code",
   "execution_count": null,
   "metadata": {
    "collapsed": true
   },
   "outputs": [],
   "source": [
    "def get_names(name_lookup, df):\n",
    "    for file_id, ref, narrative in zip(df['file_id'], df['ref'], df['narrative']):\n",
    "        if ref is None or narrative is None:\n",
    "            continue\n",
    "\n",
    "        ref = ref.strip()\n",
    "\n",
    "        if len(ref) == 0:\n",
    "            continue\n",
    "\n",
    "        if type(narrative) != list:\n",
    "            narrative = narrative.strip()\n",
    "\n",
    "            if len(narrative) > 0:\n",
    "                name_lookup[ref].add(narrative)\n",
    "\n",
    "            continue\n",
    "\n",
    "        for item in narrative:\n",
    "            if item is None:\n",
    "                continue\n",
    "\n",
    "            item = item.strip()\n",
    "\n",
    "            if len(item) > 0:\n",
    "                name_lookup[ref].add(item)"
   ]
  },
  {
   "cell_type": "code",
   "execution_count": null,
   "metadata": {
    "collapsed": true
   },
   "outputs": [],
   "source": [
    "name_lookup = defaultdict(set)"
   ]
  },
  {
   "cell_type": "code",
   "execution_count": null,
   "metadata": {
    "collapsed": false
   },
   "outputs": [],
   "source": [
    "get_names(name_lookup, reporters)\n",
    "get_names(name_lookup, others)\n",
    "get_names(name_lookup, participants)\n",
    "get_names(name_lookup, transaction_providers)\n",
    "get_names(name_lookup, transaction_receivers)"
   ]
  },
  {
   "cell_type": "code",
   "execution_count": null,
   "metadata": {
    "collapsed": false
   },
   "outputs": [
    {
     "data": {
      "text/plain": [
       "8240"
      ]
     },
     "execution_count": null,
     "metadata": {},
     "output_type": "execute_result"
    }
   ],
   "source": [
    "len(name_lookup)"
   ]
  },
  {
   "cell_type": "code",
   "execution_count": null,
   "metadata": {
    "collapsed": false
   },
   "outputs": [],
   "source": [
    "multiple_names = []\n",
    "\n",
    "for ref, names in name_lookup.iteritems():\n",
    "    if len(names) > 1:\n",
    "        multiple_names.append({'ref': ref, 'narrative': names})"
   ]
  },
  {
   "cell_type": "code",
   "execution_count": null,
   "metadata": {
    "collapsed": false
   },
   "outputs": [
    {
     "data": {
      "text/plain": [
       "1543"
      ]
     },
     "execution_count": null,
     "metadata": {},
     "output_type": "execute_result"
    }
   ],
   "source": [
    "len(multiple_names)"
   ]
  },
  {
   "cell_type": "code",
   "execution_count": null,
   "metadata": {
    "collapsed": false
   },
   "outputs": [
    {
     "data": {
      "text/html": [
       "<div>\n",
       "<table border=\"1\" class=\"dataframe\">\n",
       "  <thead>\n",
       "    <tr style=\"text-align: right;\">\n",
       "      <th></th>\n",
       "      <th>narrative</th>\n",
       "      <th>ref</th>\n",
       "    </tr>\n",
       "  </thead>\n",
       "  <tbody>\n",
       "    <tr>\n",
       "      <th>0</th>\n",
       "      <td>{Fundación Española para la Cooperación Solida...</td>\n",
       "      <td>AC-326</td>\n",
       "    </tr>\n",
       "    <tr>\n",
       "      <th>1</th>\n",
       "      <td>{The Campaign for Popular Education (CAMPE) is...</td>\n",
       "      <td>501119</td>\n",
       "    </tr>\n",
       "    <tr>\n",
       "      <th>2</th>\n",
       "      <td>{Gana Unnayan Kendra (GUK) as a non-government...</td>\n",
       "      <td>501114</td>\n",
       "    </tr>\n",
       "    <tr>\n",
       "      <th>3</th>\n",
       "      <td>{Shalom Foundation, Nyein is one of the more c...</td>\n",
       "      <td>504764</td>\n",
       "    </tr>\n",
       "    <tr>\n",
       "      <th>4</th>\n",
       "      <td>{Dutch Employers Cooperation Programme, DECP, ...</td>\n",
       "      <td>NL-KVK-27284008</td>\n",
       "    </tr>\n",
       "  </tbody>\n",
       "</table>\n",
       "</div>"
      ],
      "text/plain": [
       "                                           narrative              ref\n",
       "0  {Fundación Española para la Cooperación Solida...           AC-326\n",
       "1  {The Campaign for Popular Education (CAMPE) is...           501119\n",
       "2  {Gana Unnayan Kendra (GUK) as a non-government...           501114\n",
       "3  {Shalom Foundation, Nyein is one of the more c...           504764\n",
       "4  {Dutch Employers Cooperation Programme, DECP, ...  NL-KVK-27284008"
      ]
     },
     "execution_count": null,
     "metadata": {},
     "output_type": "execute_result"
    }
   ],
   "source": [
    "pandas.DataFrame(multiple_names).head()"
   ]
  },
  {
   "cell_type": "markdown",
   "metadata": {},
   "source": [
    "## Check Name to Ref Mapping"
   ]
  },
  {
   "cell_type": "code",
   "execution_count": null,
   "metadata": {
    "collapsed": true
   },
   "outputs": [],
   "source": [
    "def get_refs(ref_lookup, df):\n",
    "    for file_id, ref, narrative in zip(df['file_id'], df['ref'], df['narrative']):\n",
    "        if ref is None or narrative is None:\n",
    "            continue\n",
    "\n",
    "        ref = ref.strip()\n",
    "\n",
    "        if len(ref) == 0:\n",
    "            continue\n",
    "\n",
    "        if type(narrative) != list:\n",
    "            narrative = narrative.strip()\n",
    "\n",
    "            if len(narrative) > 0:\n",
    "                ref_lookup[narrative].add(ref)\n",
    "\n",
    "            continue\n",
    "\n",
    "        for item in narrative:\n",
    "            if item is None:\n",
    "                continue\n",
    "\n",
    "            item = item.strip()\n",
    "\n",
    "            if len(item) > 0:\n",
    "                ref_lookup[item].add(ref)"
   ]
  },
  {
   "cell_type": "code",
   "execution_count": null,
   "metadata": {
    "collapsed": true
   },
   "outputs": [],
   "source": [
    "ref_lookup = defaultdict(set)"
   ]
  },
  {
   "cell_type": "code",
   "execution_count": null,
   "metadata": {
    "collapsed": true
   },
   "outputs": [],
   "source": [
    "get_refs(ref_lookup, reporters)\n",
    "get_refs(ref_lookup, others)\n",
    "get_refs(ref_lookup, participants)\n",
    "get_refs(ref_lookup, transaction_providers)\n",
    "get_refs(ref_lookup, transaction_receivers)"
   ]
  },
  {
   "cell_type": "code",
   "execution_count": null,
   "metadata": {
    "collapsed": false
   },
   "outputs": [
    {
     "data": {
      "text/plain": [
       "15994"
      ]
     },
     "execution_count": null,
     "metadata": {},
     "output_type": "execute_result"
    }
   ],
   "source": [
    "len(ref_lookup)"
   ]
  },
  {
   "cell_type": "code",
   "execution_count": null,
   "metadata": {
    "collapsed": true
   },
   "outputs": [],
   "source": [
    "multiple_refs = []\n",
    "\n",
    "for name, refs in ref_lookup.iteritems():\n",
    "    if len(refs) > 1:\n",
    "        multiple_refs.append({'narrative': name, 'ref': refs})"
   ]
  },
  {
   "cell_type": "code",
   "execution_count": null,
   "metadata": {
    "collapsed": false
   },
   "outputs": [
    {
     "data": {
      "text/plain": [
       "908"
      ]
     },
     "execution_count": null,
     "metadata": {},
     "output_type": "execute_result"
    }
   ],
   "source": [
    "len(multiple_refs)"
   ]
  },
  {
   "cell_type": "code",
   "execution_count": null,
   "metadata": {
    "collapsed": false
   },
   "outputs": [
    {
     "data": {
      "text/html": [
       "<div>\n",
       "<table border=\"1\" class=\"dataframe\">\n",
       "  <thead>\n",
       "    <tr style=\"text-align: right;\">\n",
       "      <th></th>\n",
       "      <th>narrative</th>\n",
       "      <th>ref</th>\n",
       "    </tr>\n",
       "  </thead>\n",
       "  <tbody>\n",
       "    <tr>\n",
       "      <th>0</th>\n",
       "      <td>UNDP (Direct Execution)</td>\n",
       "      <td>{03332, 02186, 03235, 00946, 01940, 02975, 004...</td>\n",
       "    </tr>\n",
       "    <tr>\n",
       "      <th>1</th>\n",
       "      <td>SCIDEV.NET</td>\n",
       "      <td>{23000, 20000}</td>\n",
       "    </tr>\n",
       "    <tr>\n",
       "      <th>2</th>\n",
       "      <td>YoungInnovations Pvt. Ltd.</td>\n",
       "      <td>{NP-CRO-45995-063-064, NP-CRO-45995/063/064}</td>\n",
       "    </tr>\n",
       "    <tr>\n",
       "      <th>3</th>\n",
       "      <td>Heart to Heart International</td>\n",
       "      <td>{US-EIN-48-1108359, XM-OCHA-FTS5538}</td>\n",
       "    </tr>\n",
       "    <tr>\n",
       "      <th>4</th>\n",
       "      <td>PRI Head Office</td>\n",
       "      <td>{GB-COH-04154075-PRI-001, GB-COH-04154075-PPA-...</td>\n",
       "    </tr>\n",
       "  </tbody>\n",
       "</table>\n",
       "</div>"
      ],
      "text/plain": [
       "                      narrative  \\\n",
       "0       UNDP (Direct Execution)\n",
       "1                    SCIDEV.NET\n",
       "2    YoungInnovations Pvt. Ltd.\n",
       "3  Heart to Heart International\n",
       "4               PRI Head Office\n",
       "\n",
       "                                                 ref\n",
       "0  {03332, 02186, 03235, 00946, 01940, 02975, 004...\n",
       "1                                     {23000, 20000}\n",
       "2       {NP-CRO-45995-063-064, NP-CRO-45995/063/064}\n",
       "3               {US-EIN-48-1108359, XM-OCHA-FTS5538}\n",
       "4  {GB-COH-04154075-PRI-001, GB-COH-04154075-PPA-...  "
      ]
     },
     "execution_count": null,
     "metadata": {},
     "output_type": "execute_result"
    }
   ],
   "source": [
    "pandas.DataFrame(multiple_refs).head()"
   ]
  },
  {
   "cell_type": "markdown",
   "metadata": {},
   "source": [
    "## Save the Refs/Names"
   ]
  },
  {
   "cell_type": "code",
   "execution_count": null,
   "metadata": {
    "collapsed": true
   },
   "outputs": [],
   "source": [
    "with open('lookup_by_ref.pickle', 'w') as f:\n",
    "    pickle.dump(name_lookup, f)"
   ]
  },
  {
   "cell_type": "code",
   "execution_count": null,
   "metadata": {
    "collapsed": true
   },
   "outputs": [],
   "source": [
    "with open('lookup_by_name.pickle', 'w') as f:\n",
    "    pickle.dump(ref_lookup, f)"
   ]
  },
  {
   "cell_type": "code",
   "execution_count": null,
   "metadata": {
    "collapsed": false
   },
   "outputs": [],
   "source": [
    "!rm -f lookup.tar.gz\n",
    "!tar -cf lookup.tar lookup_by_ref.pickle lookup_by_name.pickle\n",
    "!gzip lookup.tar"
   ]
  },
  {
   "cell_type": "code",
   "execution_count": null,
   "metadata": {
    "collapsed": false
   },
   "outputs": [
    {
     "name": "stdout",
     "output_type": "stream",
     "text": [
      "upload: ./lookup.tar.gz to s3://mdang.w210/lookup.tar.gz\r\n"
     ]
    }
   ],
   "source": [
    "!aws s3 cp lookup.tar.gz s3://mdang.w210/ --acl public-read"
   ]
  },
  {
   "cell_type": "markdown",
   "metadata": {},
   "source": [
    "# Create Graph Files"
   ]
  },
  {
   "cell_type": "code",
   "execution_count": null,
   "metadata": {
    "collapsed": true
   },
   "outputs": [],
   "source": [
    "def clean_text(text):\n",
    "    return re.sub('\\s+', ' ', text).strip()"
   ]
  },
  {
   "cell_type": "code",
   "execution_count": null,
   "metadata": {
    "collapsed": true
   },
   "outputs": [],
   "source": [
    "def get_edge_list(\n",
    "    activity, field_keys, left_element, left_child, right_element, right_child,\n",
    "    left_reporting_org_fallback, right_reporting_org_fallback):\n",
    "\n",
    "    node_list = get_node_list(activity, field_keys)\n",
    "\n",
    "    return_value = []\n",
    "\n",
    "    left_fallback = None\n",
    "\n",
    "    if left_reporting_org_fallback is not None:\n",
    "        left = get_node_list(activity, ['reporting-org'])\n",
    "        left_fallback = get_text(left[0], left_reporting_org_fallback)\n",
    "\n",
    "    right_fallback = None\n",
    "\n",
    "    if right_reporting_org_fallback is not None:\n",
    "        right = get_node_list(activity, ['reporting-org'])\n",
    "        right_fallback = get_text(right[0], right_reporting_org_fallback)\n",
    "\n",
    "    for node in node_list:\n",
    "        if left_element not in node or right_element not in node:\n",
    "            continue\n",
    "\n",
    "        left = get_node_list(node, [left_element])\n",
    "        right = get_node_list(node, [right_element])\n",
    "\n",
    "        for left_node, right_node in itertools.product(left, right):\n",
    "            left_list = get_text(left_node, left_child)\n",
    "            right_list = get_text(right_node, right_child)\n",
    "\n",
    "            if left_list is None:\n",
    "                left_list = left_fallback\n",
    "\n",
    "            if right_list is None:\n",
    "                right_list = right_fallback\n",
    "\n",
    "            if left_list is None or right_list is None:\n",
    "                continue\n",
    "\n",
    "            if type(left_list) != list:\n",
    "                left_list = [left_list]\n",
    "\n",
    "            if type(right_list) != list:\n",
    "                right_list = [right_list]\n",
    "\n",
    "            return_value += [\n",
    "                (activity['@w210-key'], clean_text(left_value), clean_text(right_value))\n",
    "                    for left_value, right_value in itertools.product(left_list, right_list)\n",
    "                        if left_value is not None and right_value is not None\n",
    "            ]\n",
    "\n",
    "    return return_value"
   ]
  },
  {
   "cell_type": "code",
   "execution_count": null,
   "metadata": {
    "collapsed": false
   },
   "outputs": [],
   "source": [
    "def get_edges(\n",
    "    field_path, left_element, left_child, right_element, right_child,\n",
    "    left_reporting_org_fallback = None, right_reporting_org_fallback = None):\n",
    "\n",
    "    if field_path is None:\n",
    "        field_keys = []\n",
    "    else:\n",
    "        field_keys = field_path.split('.')\n",
    "\n",
    "    return_values = []\n",
    "\n",
    "    for activity in all_activities:\n",
    "        new_values = get_edge_list(\n",
    "            activity, field_keys, left_element, left_child, right_element, right_child,\n",
    "            left_reporting_org_fallback, right_reporting_org_fallback)\n",
    "\n",
    "        return_values += new_values\n",
    "\n",
    "    return return_values"
   ]
  },
  {
   "cell_type": "markdown",
   "metadata": {},
   "source": [
    "## Graph from Root Elements"
   ]
  },
  {
   "cell_type": "code",
   "execution_count": null,
   "metadata": {
    "collapsed": false
   },
   "outputs": [],
   "source": [
    "root_edges_ref = get_edges(\n",
    "    None, 'reporting-org', '@ref', 'participating-org', '@ref')"
   ]
  },
  {
   "cell_type": "code",
   "execution_count": null,
   "metadata": {
    "collapsed": false
   },
   "outputs": [
    {
     "data": {
      "text/plain": [
       "1542373"
      ]
     },
     "execution_count": null,
     "metadata": {},
     "output_type": "execute_result"
    }
   ],
   "source": [
    "len(root_edges_ref)"
   ]
  },
  {
   "cell_type": "code",
   "execution_count": null,
   "metadata": {
    "collapsed": true
   },
   "outputs": [],
   "source": [
    "with open('graph_root_ref.txt', 'w') as f:\n",
    "    pickle.dump(root_edges_ref, f)"
   ]
  },
  {
   "cell_type": "code",
   "execution_count": null,
   "metadata": {
    "collapsed": true
   },
   "outputs": [],
   "source": [
    "root_edges_narrative = get_edges(\n",
    "    None, 'reporting-org', 'narrative', 'participating-org', 'narrative')"
   ]
  },
  {
   "cell_type": "code",
   "execution_count": null,
   "metadata": {
    "collapsed": false
   },
   "outputs": [
    {
     "data": {
      "text/plain": [
       "1565548"
      ]
     },
     "execution_count": null,
     "metadata": {},
     "output_type": "execute_result"
    }
   ],
   "source": [
    "len(root_edges_narrative)"
   ]
  },
  {
   "cell_type": "code",
   "execution_count": null,
   "metadata": {
    "collapsed": true
   },
   "outputs": [],
   "source": [
    "with open('graph_root_narrative.txt', 'w') as f:\n",
    "    pickle.dump(root_edges_ref, f)"
   ]
  },
  {
   "cell_type": "markdown",
   "metadata": {},
   "source": [
    "## Graph from Transaction Elements"
   ]
  },
  {
   "cell_type": "code",
   "execution_count": null,
   "metadata": {
    "collapsed": false
   },
   "outputs": [],
   "source": [
    "transaction_edges_ref = get_edges(\n",
    "    'transaction', 'provider-org', '@ref', 'receiver-org', '@ref', '@ref', None)"
   ]
  },
  {
   "cell_type": "code",
   "execution_count": null,
   "metadata": {
    "collapsed": false
   },
   "outputs": [
    {
     "data": {
      "text/plain": [
       "436654"
      ]
     },
     "execution_count": null,
     "metadata": {},
     "output_type": "execute_result"
    }
   ],
   "source": [
    "len(transaction_edges_ref)"
   ]
  },
  {
   "cell_type": "code",
   "execution_count": null,
   "metadata": {
    "collapsed": true
   },
   "outputs": [],
   "source": [
    "with open('graph_transaction_ref.txt', 'w') as f:\n",
    "    pickle.dump(transaction_edges_ref, f)"
   ]
  },
  {
   "cell_type": "code",
   "execution_count": null,
   "metadata": {
    "collapsed": false
   },
   "outputs": [],
   "source": [
    "transaction_edges_narrative = get_edges(\n",
    "    'transaction', 'provider-org', 'narrative', 'receiver-org', 'narrative', 'narrative', None)"
   ]
  },
  {
   "cell_type": "code",
   "execution_count": null,
   "metadata": {
    "collapsed": false
   },
   "outputs": [
    {
     "data": {
      "text/plain": [
       "575730"
      ]
     },
     "execution_count": null,
     "metadata": {},
     "output_type": "execute_result"
    }
   ],
   "source": [
    "len(transaction_edges_narrative)"
   ]
  },
  {
   "cell_type": "code",
   "execution_count": null,
   "metadata": {
    "collapsed": true
   },
   "outputs": [],
   "source": [
    "with open('graph_transaction_narrative.txt', 'w') as f:\n",
    "    pickle.dump(root_edges_ref, f)"
   ]
  },
  {
   "cell_type": "markdown",
   "metadata": {},
   "source": [
    "## Graph from Recipient Country"
   ]
  },
  {
   "cell_type": "code",
   "execution_count": null,
   "metadata": {
    "collapsed": true
   },
   "outputs": [],
   "source": [
    "recipient_edges_ref = get_edges(\n",
    "    None, 'recipient-country', '@code', 'reporting-org', '@ref')"
   ]
  },
  {
   "cell_type": "code",
   "execution_count": null,
   "metadata": {
    "collapsed": false
   },
   "outputs": [
    {
     "data": {
      "text/plain": [
       "462486"
      ]
     },
     "execution_count": null,
     "metadata": {},
     "output_type": "execute_result"
    }
   ],
   "source": [
    "len(recipient_edges_ref)"
   ]
  },
  {
   "cell_type": "code",
   "execution_count": null,
   "metadata": {
    "collapsed": true
   },
   "outputs": [],
   "source": [
    "with open('graph_country_ref.txt', 'w') as f:\n",
    "    pickle.dump(recipient_edges_ref, f)"
   ]
  },
  {
   "cell_type": "markdown",
   "metadata": {},
   "source": [
    "# Load Graphs"
   ]
  },
  {
   "cell_type": "code",
   "execution_count": null,
   "metadata": {
    "collapsed": false
   },
   "outputs": [],
   "source": [
    "def get_node_id(node_ids, name):\n",
    "\n",
    "    # Increment the counter if we haven't seen it\n",
    "\n",
    "    if name not in node_ids:\n",
    "        node_ids[name] = len(node_ids)\n",
    "\n",
    "    return node_ids[name]"
   ]
  },
  {
   "cell_type": "code",
   "execution_count": null,
   "metadata": {
    "collapsed": true
   },
   "outputs": [],
   "source": [
    "def load_graph(file_name):\n",
    "    node_ids = {}\n",
    "\n",
    "    get_graph_node_id = functools.partial(get_node_id, node_ids)\n",
    "\n",
    "    # Iterate once in order to initialize the node ID dictionary\n",
    "\n",
    "    print datetime.now(), 'Identifying nodes in', file_name\n",
    "\n",
    "    with open(file_name, 'r') as graph_file:\n",
    "        edges = pickle.load(graph_file)\n",
    "\n",
    "        for activity_file, source_name, target_name in edges:\n",
    "            source_id = get_graph_node_id(source_name)\n",
    "            target_id = get_graph_node_id(target_name)\n",
    "\n",
    "    node_count = len(node_ids)\n",
    "\n",
    "    graph_matrix = dok_matrix((node_count, node_count))\n",
    "\n",
    "    print datetime.now(), 'Building sparse matrix for', file_name\n",
    "\n",
    "    # Iterate again in order to populate the sparse matrix\n",
    "\n",
    "    with open(file_name, 'r') as graph_file:\n",
    "        edges = pickle.load(graph_file)\n",
    "\n",
    "        for activity_file, source_name, target_name in edges:\n",
    "            source_id = get_graph_node_id(source_name)\n",
    "            target_id = get_graph_node_id(target_name)\n",
    "\n",
    "            graph_matrix[source_id, target_id] += 1\n",
    "\n",
    "    print datetime.now(), 'Finished processing', file_name\n",
    "\n",
    "    return node_ids, graph_matrix"
   ]
  },
  {
   "cell_type": "markdown",
   "metadata": {},
   "source": [
    "# Find Dangling Nodes"
   ]
  },
  {
   "cell_type": "code",
   "execution_count": null,
   "metadata": {
    "collapsed": true
   },
   "outputs": [],
   "source": [
    "def get_dangling_nodes(check_axis, graph_ids, graph):\n",
    "\n",
    "    # Create a reverse lookup table\n",
    "\n",
    "    graph_names = { value: key for key, value in graph_ids.iteritems() }\n",
    "\n",
    "    # Sum by the axis and identify the non-zero entries\n",
    "\n",
    "    sums = graph.sum(axis = check_axis)\n",
    "    sums = sums.reshape((sums.shape[1 - check_axis], 1))\n",
    "\n",
    "    return [graph_names[index] for index, value in enumerate(sums) if value == 0]"
   ]
  },
  {
   "cell_type": "code",
   "execution_count": null,
   "metadata": {
    "collapsed": true
   },
   "outputs": [],
   "source": [
    "get_source_nodes = functools.partial(get_dangling_nodes, 0)\n",
    "get_sink_nodes = functools.partial(get_dangling_nodes, 1)"
   ]
  },
  {
   "cell_type": "markdown",
   "metadata": {},
   "source": [
    "# Run against All Graphs"
   ]
  },
  {
   "cell_type": "code",
   "execution_count": null,
   "metadata": {
    "collapsed": false
   },
   "outputs": [
    {
     "name": "stdout",
     "output_type": "stream",
     "text": [
      "rm: cannot remove ‘*.ids’: No such file or directory\n",
      "rm: cannot remove ‘*.graph’: No such file or directory\n"
     ]
    }
   ],
   "source": [
    "!rm *.ids\n",
    "!rm *.graph"
   ]
  },
  {
   "cell_type": "code",
   "execution_count": null,
   "metadata": {
    "collapsed": false
   },
   "outputs": [
    {
     "name": "stdout",
     "output_type": "stream",
     "text": [
      "2016-07-08 08:51:56.241010 Identifying nodes in graph_root_narrative.txt\n",
      "2016-07-08 08:52:07.905261 Building sparse matrix for graph_root_narrative.txt\n",
      "2016-07-08 08:52:42.609892 Finished processing graph_root_narrative.txt\n",
      "2016-07-08 08:52:43.652097 Loading cached graph for graph_transaction_ref.txt\n",
      "2016-07-08 08:52:44.041622 Identifying nodes in graph_transaction_narrative.txt\n",
      "2016-07-08 08:52:55.470379 Building sparse matrix for graph_transaction_narrative.txt\n",
      "2016-07-08 08:53:30.061735 Finished processing graph_transaction_narrative.txt\n",
      "2016-07-08 08:53:31.074964 Loading cached graph for graph_root_ref.txt\n"
     ]
    }
   ],
   "source": [
    "graph_stats = []\n",
    "graph_data = []\n",
    "\n",
    "for file_name in os.listdir('.'):\n",
    "    if file_name[0:5] != 'graph' or file_name[-4:] != '.txt':\n",
    "        continue\n",
    "\n",
    "    # Load the file from cache if we've already done the computation once\n",
    "\n",
    "    if os.path.isfile(file_name + '.ids') and os.path.isfile(file_name + '.graph'):\n",
    "        print datetime.now(), 'Loading cached graph for', file_name\n",
    "\n",
    "        with open(file_name + '.ids', 'r') as id_file:\n",
    "            graph_ids = pickle.load(id_file)\n",
    "\n",
    "        with open(file_name + '.graph', 'r') as graph_file:\n",
    "            graph = pickle.load(graph_file)\n",
    "\n",
    "    # Otherwise, perform the computation and save the resulting computations\n",
    "\n",
    "    else:\n",
    "        graph_ids, graph = load_graph(file_name)\n",
    "\n",
    "        with open(file_name + '.ids', 'w') as id_file:\n",
    "            pickle.dump(graph_ids, id_file)\n",
    "\n",
    "        with open(file_name + '.graph', 'w') as graph_file:\n",
    "            pickle.dump(graph, graph_file)\n",
    "\n",
    "    source_nodes = get_source_nodes(graph_ids, graph)\n",
    "    sink_nodes = get_sink_nodes(graph_ids, graph)\n",
    "\n",
    "    graph_stats.append({\n",
    "        'graph file': file_name,\n",
    "        'total nodes': len(graph_ids),\n",
    "        'has both edges': len(graph_ids) - len(source_nodes) - len(sink_nodes),\n",
    "        'has only outgoing edges': len(source_nodes),\n",
    "        'has only incoming edges': len(sink_nodes)\n",
    "    })\n",
    "\n",
    "    graph_data.append({\n",
    "        'file': file_name,\n",
    "        'graph': graph,\n",
    "        'all_nodes': graph_ids,\n",
    "        'source_nodes': source_nodes,\n",
    "        'sink_nodes': sink_nodes\n",
    "    })"
   ]
  },
  {
   "cell_type": "code",
   "execution_count": null,
   "metadata": {
    "collapsed": false
   },
   "outputs": [
    {
     "data": {
      "text/html": [
       "<div>\n",
       "<table border=\"1\" class=\"dataframe\">\n",
       "  <thead>\n",
       "    <tr style=\"text-align: right;\">\n",
       "      <th></th>\n",
       "      <th>graph file</th>\n",
       "      <th>has both edges</th>\n",
       "      <th>has only incoming edges</th>\n",
       "      <th>has only outgoing edges</th>\n",
       "      <th>total nodes</th>\n",
       "    </tr>\n",
       "  </thead>\n",
       "  <tbody>\n",
       "    <tr>\n",
       "      <th>0</th>\n",
       "      <td>graph_root_narrative.txt</td>\n",
       "      <td>165</td>\n",
       "      <td>14326</td>\n",
       "      <td>26</td>\n",
       "      <td>14517</td>\n",
       "    </tr>\n",
       "    <tr>\n",
       "      <th>1</th>\n",
       "      <td>graph_transaction_ref.txt</td>\n",
       "      <td>159</td>\n",
       "      <td>6980</td>\n",
       "      <td>1471</td>\n",
       "      <td>8610</td>\n",
       "    </tr>\n",
       "    <tr>\n",
       "      <th>2</th>\n",
       "      <td>graph_transaction_narrative.txt</td>\n",
       "      <td>165</td>\n",
       "      <td>14326</td>\n",
       "      <td>26</td>\n",
       "      <td>14517</td>\n",
       "    </tr>\n",
       "    <tr>\n",
       "      <th>3</th>\n",
       "      <td>graph_root_ref.txt</td>\n",
       "      <td>162</td>\n",
       "      <td>14338</td>\n",
       "      <td>29</td>\n",
       "      <td>14529</td>\n",
       "    </tr>\n",
       "  </tbody>\n",
       "</table>\n",
       "</div>"
      ],
      "text/plain": [
       "                        graph file  has both edges  has only incoming edges  \\\n",
       "0         graph_root_narrative.txt             165                    14326\n",
       "1        graph_transaction_ref.txt             159                     6980\n",
       "2  graph_transaction_narrative.txt             165                    14326\n",
       "3               graph_root_ref.txt             162                    14338\n",
       "\n",
       "   has only outgoing edges  total nodes\n",
       "0                       26        14517\n",
       "1                     1471         8610\n",
       "2                       26        14517\n",
       "3                       29        14529  "
      ]
     },
     "execution_count": null,
     "metadata": {},
     "output_type": "execute_result"
    }
   ],
   "source": [
    "pandas.DataFrame(graph_stats)"
   ]
  },
  {
   "cell_type": "markdown",
   "metadata": {},
   "source": [
    "# Check a Graph"
   ]
  },
  {
   "cell_type": "code",
   "execution_count": null,
   "metadata": {
    "collapsed": false
   },
   "outputs": [],
   "source": [
    "test_graph = graph_data[3]"
   ]
  },
  {
   "cell_type": "code",
   "execution_count": null,
   "metadata": {
    "collapsed": false
   },
   "outputs": [
    {
     "data": {
      "text/plain": [
       "'graph_root_ref.txt'"
      ]
     },
     "execution_count": null,
     "metadata": {},
     "output_type": "execute_result"
    }
   ],
   "source": [
    "test_graph['file']"
   ]
  },
  {
   "cell_type": "code",
   "execution_count": null,
   "metadata": {
    "collapsed": false
   },
   "outputs": [],
   "source": [
    "all_nodes = set(test_graph['all_nodes'])\n",
    "source_nodes = set(test_graph['source_nodes'])\n",
    "sink_nodes = set(test_graph['sink_nodes'])"
   ]
  },
  {
   "cell_type": "markdown",
   "metadata": {},
   "source": [
    "Identify all nodes that have both incoming and outgoing edges."
   ]
  },
  {
   "cell_type": "code",
   "execution_count": null,
   "metadata": {
    "collapsed": false
   },
   "outputs": [
    {
     "data": {
      "text/plain": [
       "[u'',\n",
       " u'21-PK-WWF',\n",
       " u'41108',\n",
       " u'41119',\n",
       " u'41122',\n",
       " u'41304',\n",
       " u'41AAA',\n",
       " u'44000',\n",
       " u'46002',\n",
       " u'46004',\n",
       " u'47045',\n",
       " u'47122',\n",
       " u'47134',\n",
       " u'47135',\n",
       " u'BE-10',\n",
       " u'BE-BCE_KBO-0264814354',\n",
       " u'CA-3',\n",
       " u'CA-CRA-89980-1815-RR0001',\n",
       " u'CH-4',\n",
       " u'DAC-1601',\n",
       " u'DE-1',\n",
       " u'DK-1',\n",
       " u'ES-DIR3-E04585801',\n",
       " u'FI-3',\n",
       " u'FI-PRO-1498487-2',\n",
       " u'GB-1-202615',\n",
       " u'GB-2',\n",
       " u'GB-3',\n",
       " u'GB-6',\n",
       " u'GB-7',\n",
       " u'GB-CHC-1001349',\n",
       " u'GB-CHC-1017255',\n",
       " u'GB-CHC-1043843',\n",
       " u'GB-CHC-1046001',\n",
       " u'GB-CHC-1050327',\n",
       " u'GB-CHC-1055436',\n",
       " u'GB-CHC-1065705',\n",
       " u'GB-CHC-1068839',\n",
       " u'GB-CHC-1071659',\n",
       " u'GB-CHC-1071886',\n",
       " u'GB-CHC-1074937',\n",
       " u'GB-CHC-1075920',\n",
       " u'GB-CHC-1079358',\n",
       " u'GB-CHC-1085096',\n",
       " u'GB-CHC-1089879',\n",
       " u'GB-CHC-1092236',\n",
       " u'GB-CHC-1098106',\n",
       " u'GB-CHC-1098752',\n",
       " u'GB-CHC-1099776',\n",
       " u'GB-CHC-1105489',\n",
       " u'GB-CHC-1109789',\n",
       " u'GB-CHC-1112734',\n",
       " u'GB-CHC-1115109',\n",
       " u'GB-CHC-1120413',\n",
       " u'GB-CHC-1127488',\n",
       " u'GB-CHC-1128267-8',\n",
       " u'GB-CHC-1128536',\n",
       " u'GB-CHC-1133342',\n",
       " u'GB-CHC-1157009',\n",
       " u'GB-CHC-1837621',\n",
       " u'GB-CHC-202918',\n",
       " u'GB-CHC-213251',\n",
       " u'GB-CHC-213890',\n",
       " u'GB-CHC-218186',\n",
       " u'GB-CHC-220949',\n",
       " u'GB-CHC-250456',\n",
       " u'GB-CHC-265464',\n",
       " u'GB-CHC-272465',\n",
       " u'GB-CHC-27446721',\n",
       " u'GB-CHC-285776',\n",
       " u'GB-CHC-285908',\n",
       " u'GB-CHC-288701',\n",
       " u'GB-CHC-289036',\n",
       " u'GB-CHC-291333',\n",
       " u'GB-CHC-291824',\n",
       " u'GB-CHC-294329',\n",
       " u'GB-CHC-299717',\n",
       " u'GB-CHC-327421',\n",
       " u'GB-CHC-327461',\n",
       " u'GB-CHC-328158',\n",
       " u'GB-CHC-328273',\n",
       " u'GB-COH-03788027',\n",
       " u'GB-COH-06368740',\n",
       " u'GB-COH-07676886',\n",
       " u'GB-COH-1102208',\n",
       " u'GB-COH-1364201',\n",
       " u'GB-COH-1762840',\n",
       " u'GB-COH-1858644',\n",
       " u'GB-COH-213890',\n",
       " u'GB-COH-2732176',\n",
       " u'GB-COH-4016725',\n",
       " u'GB-COH-NI21482',\n",
       " u'GB-COH-RC000346',\n",
       " u'GB-GOV-1',\n",
       " u'GB-GOV-21',\n",
       " u'GB-GOV-8',\n",
       " u'GB-OSCR-SC032327',\n",
       " u'GB-SC-SC030289',\n",
       " u'GH-DSW-TBD',\n",
       " u'IE-CHY-6663',\n",
       " u'IN-MCA-TBD',\n",
       " u'KE-NCB-TBD',\n",
       " u'NG-CAC-5938',\n",
       " u'NI-MIGOB-3602',\n",
       " u'NL-KVK-27108436',\n",
       " u'NL-KVK-27264198',\n",
       " u'NL-KVK-27284008',\n",
       " u'NL-KVK-27327087',\n",
       " u'NL-KVK-27378529',\n",
       " u'NL-KVK-32108345',\n",
       " u'NL-KVK-34200988',\n",
       " u'NL-KVK-34214586',\n",
       " u'NL-KVK-34229026',\n",
       " u'NL-KVK-41048542',\n",
       " u'NL-KVK-41118168',\n",
       " u'NL-KVK-41149287',\n",
       " u'NL-KVK-41149486',\n",
       " u'NL-KVK-41150939',\n",
       " u'NL-KVK-41158230',\n",
       " u'NL-KVK-41177588',\n",
       " u'NL-KVK-41180885',\n",
       " u'NL-KVK-41198677',\n",
       " u'NL-KVK-41201644',\n",
       " u'NL-KVK-41202535',\n",
       " u'NL-KVK-41207989',\n",
       " u'NL-KVK-41210098',\n",
       " u'NL-KVK-41223308',\n",
       " u'NL-KVK-51018586',\n",
       " u'NL-KVK-52957535',\n",
       " u'NL-KvK-41198890',\n",
       " u'NO-BRC-971277882',\n",
       " u'NZ-1',\n",
       " u'Netherlands Enterprise Agency',\n",
       " u'PK-MSW-633-1965',\n",
       " u'SE-0',\n",
       " u'TZ-BRE-63966',\n",
       " u'US-1',\n",
       " u'US-11',\n",
       " u'US-18',\n",
       " u'US-EIN-13-2702768',\n",
       " u'US-EIN-13-3287064',\n",
       " u'US-EIN-300108263',\n",
       " u'US-EIN-941655673',\n",
       " u'US-IRS-13-5661832',\n",
       " u'US-USAGOV',\n",
       " u'XI-IATI-EBRD',\n",
       " u'XI-IATI-EC_DEVCO',\n",
       " u'XI-IATI-EC_ECHO',\n",
       " u'XI-IATI-EC_FPI',\n",
       " u'XI-IATI-EC_NEAR',\n",
       " u'XI-IATI-IADB',\n",
       " u'XI-IATI-SOL-CAM',\n",
       " u'XI-IATI-SOL-SAM',\n",
       " u'XM-DAC-41114',\n",
       " u'XM-DAC-41140',\n",
       " u'XM-DAC-47086',\n",
       " u'XM-DAC-7',\n",
       " u'XM-DAC-701-8',\n",
       " u'XM-OCHA-CERF',\n",
       " u'ZA-CIPC-2001/005850/08',\n",
       " u'ZA-NPO-TBD',\n",
       " u'ZA-ROC-1999/05072/08']"
      ]
     },
     "execution_count": null,
     "metadata": {},
     "output_type": "execute_result"
    }
   ],
   "source": [
    "sorted(all_nodes - source_nodes - sink_nodes)"
   ]
  },
  {
   "cell_type": "code",
   "execution_count": null,
   "metadata": {
    "collapsed": false
   },
   "outputs": [
    {
     "data": {
      "text/plain": [
       "[u'GB-CHC-1029161',\n",
       " u'GB-CHC-1089490',\n",
       " u'GB-CHC-208724',\n",
       " u'GB-CHC-254781',\n",
       " u'GB-CHC-261488',\n",
       " u'GB-CHC-290836',\n",
       " u'GB-CHC-328206',\n",
       " u'GB-COH-00637978',\n",
       " u'GB-COH-01926828',\n",
       " u'GB-COH-02394229',\n",
       " u'GB-COH-03877777',\n",
       " u'GB-COH-04154075',\n",
       " u'GB-COH-294860',\n",
       " u'GB-COH-7557881',\n",
       " u'GB-SC-044007',\n",
       " u'IM-CR-017899B',\n",
       " u'MW-CNM-21',\n",
       " u'NL-CCI-20081098 ',\n",
       " u'NL-KVK-32037590',\n",
       " u'NL-KVK-34308169',\n",
       " u'NL-KVK-40530953',\n",
       " u'NL-KVK-56484038',\n",
       " u'NL-KvK-30214009',\n",
       " u'NP-CRO-45995/063/064',\n",
       " u'UG-NGB-5914-1107',\n",
       " u'US-EIN-13-3287064NAM',\n",
       " u'US-EIN-941191246',\n",
       " u'XM-DAC-918-3',\n",
       " u'XM-OCHA-FTS']"
      ]
     },
     "execution_count": null,
     "metadata": {},
     "output_type": "execute_result"
    }
   ],
   "source": [
    "sorted(source_nodes)"
   ]
  },
  {
   "cell_type": "code",
   "execution_count": null,
   "metadata": {
    "collapsed": false
   },
   "outputs": [
    {
     "data": {
      "text/plain": [
       "[u'\\n',\n",
       " u' ',\n",
       " u' GB-CHC-1112734 ',\n",
       " u' GB-COH-7557881',\n",
       " u' NL-KVK-51018586 ',\n",
       " u' NL-KVK-KVK 41151952',\n",
       " u'00001',\n",
       " u'00001-07',\n",
       " u'00002',\n",
       " u'00004',\n",
       " u'00005',\n",
       " u'00006',\n",
       " u'00007',\n",
       " u'00008',\n",
       " u'00009',\n",
       " u'00010',\n",
       " u'00011',\n",
       " u'00012',\n",
       " u'00013',\n",
       " u'00014',\n",
       " u'00015',\n",
       " u'00019',\n",
       " u'00020',\n",
       " u'00021',\n",
       " u'00023',\n",
       " u'00024',\n",
       " u'00027',\n",
       " u'00028',\n",
       " u'00029',\n",
       " u'00030',\n",
       " u'00032',\n",
       " u'00039',\n",
       " u'00040',\n",
       " u'00041',\n",
       " u'00042',\n",
       " u'00043',\n",
       " u'00044',\n",
       " u'00045',\n",
       " u'00054',\n",
       " u'00056',\n",
       " u'00057',\n",
       " u'00058',\n",
       " u'00060',\n",
       " u'00062',\n",
       " u'00064',\n",
       " u'00067',\n",
       " u'00068',\n",
       " u'00069',\n",
       " u'00070',\n",
       " u'00071',\n",
       " u'00072',\n",
       " u'00073',\n",
       " u'00077',\n",
       " u'00080',\n",
       " u'00081',\n",
       " u'00082',\n",
       " u'00085',\n",
       " u'00086',\n",
       " u'00087',\n",
       " u'00088',\n",
       " u'00089',\n",
       " u'00092',\n",
       " u'00093',\n",
       " u'00096',\n",
       " u'00097',\n",
       " u'00098',\n",
       " u'00100',\n",
       " u'00101',\n",
       " u'00102',\n",
       " u'00103',\n",
       " u'00105',\n",
       " u'00113',\n",
       " u'00114',\n",
       " u'00115',\n",
       " u'00119',\n",
       " u'00120',\n",
       " u'00121',\n",
       " u'00123',\n",
       " u'00124',\n",
       " u'00125',\n",
       " u'00128',\n",
       " u'00129',\n",
       " u'00130',\n",
       " u'00131',\n",
       " u'00132',\n",
       " u'00133',\n",
       " u'00135',\n",
       " u'00136',\n",
       " u'00137',\n",
       " u'00138',\n",
       " u'00139',\n",
       " u'00140',\n",
       " u'00141',\n",
       " u'00142',\n",
       " u'00143',\n",
       " u'00144',\n",
       " u'00145',\n",
       " u'00146',\n",
       " u'00147',\n",
       " u'00148',\n",
       " u'00149',\n",
       " u'00150',\n",
       " u'00151',\n",
       " u'00152',\n",
       " u'00153',\n",
       " u'00154',\n",
       " u'00155',\n",
       " u'00156',\n",
       " u'00157',\n",
       " u'00158',\n",
       " u'00159',\n",
       " u'00160',\n",
       " u'00161',\n",
       " u'00162',\n",
       " u'00163',\n",
       " u'00164',\n",
       " u'00165',\n",
       " u'00167',\n",
       " u'00168',\n",
       " u'00169',\n",
       " u'00170',\n",
       " u'00171',\n",
       " u'00172',\n",
       " u'00180',\n",
       " u'00181',\n",
       " u'00184',\n",
       " u'00185',\n",
       " u'00186',\n",
       " u'00187',\n",
       " u'00188',\n",
       " u'00189',\n",
       " u'00190',\n",
       " u'00191',\n",
       " u'00192',\n",
       " u'00193',\n",
       " u'00194',\n",
       " u'00195',\n",
       " u'00196',\n",
       " u'00197',\n",
       " u'00198',\n",
       " u'00199',\n",
       " u'00200',\n",
       " u'0020000000',\n",
       " u'0020000001',\n",
       " u'0020000003',\n",
       " u'0020000005',\n",
       " u'0020000006',\n",
       " u'0020000007',\n",
       " u'0020000009',\n",
       " u'0020000010',\n",
       " u'0020000011',\n",
       " u'0020000012',\n",
       " u'0020000020',\n",
       " u'0020000031',\n",
       " u'0020000032',\n",
       " u'0020000035',\n",
       " u'0020000060',\n",
       " u'0020000066',\n",
       " u'0020000080',\n",
       " u'0020000090',\n",
       " u'0020000100',\n",
       " u'0020000121',\n",
       " u'0020000131',\n",
       " u'0020000135',\n",
       " u'0020000155',\n",
       " u'0020000161',\n",
       " u'0020000165',\n",
       " u'0020000172',\n",
       " u'0020000174',\n",
       " u'0020000191',\n",
       " u'0020000195',\n",
       " u'0020000213',\n",
       " u'0020000215',\n",
       " u'0020000216',\n",
       " u'0020000229',\n",
       " u'0020000231',\n",
       " u'0020000232',\n",
       " u'0020000234',\n",
       " u'0020000238',\n",
       " u'0020000239',\n",
       " u'0020000247',\n",
       " u'0020000249',\n",
       " u'0020000250',\n",
       " u'0020000265',\n",
       " u'0020000266',\n",
       " u'0020000268',\n",
       " u'0020000270',\n",
       " u'0020000271',\n",
       " u'0020000276',\n",
       " u'0020000278',\n",
       " u'0020000280',\n",
       " u'0020000282',\n",
       " u'0020000283',\n",
       " u'0020000287',\n",
       " u'0020000290',\n",
       " u'0020000291',\n",
       " u'0020000293',\n",
       " u'00202',\n",
       " u'00204',\n",
       " u'00205',\n",
       " u'00206',\n",
       " u'00208',\n",
       " u'00210',\n",
       " u'00211',\n",
       " u'00212',\n",
       " u'00215',\n",
       " u'00215-04',\n",
       " u'00216',\n",
       " u'00218',\n",
       " u'00225',\n",
       " u'00227',\n",
       " u'00228',\n",
       " u'00229',\n",
       " u'00230',\n",
       " u'00231',\n",
       " u'00235',\n",
       " u'00237',\n",
       " u'00238',\n",
       " u'00240',\n",
       " u'00243',\n",
       " u'00244',\n",
       " u'00246',\n",
       " u'00250',\n",
       " u'00251',\n",
       " u'00255',\n",
       " u'00256',\n",
       " u'00257',\n",
       " u'00259',\n",
       " u'00262',\n",
       " u'00264',\n",
       " u'00273',\n",
       " u'00275',\n",
       " u'00277',\n",
       " u'00278',\n",
       " u'00279',\n",
       " u'00280',\n",
       " u'00288',\n",
       " u'00289',\n",
       " u'00296',\n",
       " u'00297',\n",
       " u'00298',\n",
       " u'00299',\n",
       " u'00302',\n",
       " u'00303',\n",
       " u'00304',\n",
       " u'00311',\n",
       " u'00313',\n",
       " u'00316',\n",
       " u'00320',\n",
       " u'00321',\n",
       " u'00328',\n",
       " u'00360',\n",
       " u'00363',\n",
       " u'00365',\n",
       " u'00384',\n",
       " u'00390',\n",
       " u'00397',\n",
       " u'00401',\n",
       " u'00410',\n",
       " u'00411',\n",
       " u'00412',\n",
       " u'00417',\n",
       " u'00423',\n",
       " u'00427',\n",
       " u'00428',\n",
       " u'00451',\n",
       " u'00477',\n",
       " u'00481',\n",
       " u'00500',\n",
       " u'00511',\n",
       " u'00513',\n",
       " u'00515',\n",
       " u'00519',\n",
       " u'00524',\n",
       " u'00536',\n",
       " u'00537',\n",
       " u'00540',\n",
       " u'00543',\n",
       " u'00545',\n",
       " u'00550',\n",
       " u'00553',\n",
       " u'00554',\n",
       " u'00555',\n",
       " u'00556',\n",
       " u'00559',\n",
       " u'00569',\n",
       " u'00572',\n",
       " u'00580',\n",
       " u'00583',\n",
       " u'00584',\n",
       " u'00585',\n",
       " u'00587',\n",
       " u'00589',\n",
       " u'00593',\n",
       " u'00594',\n",
       " u'00595',\n",
       " u'00596',\n",
       " u'00599',\n",
       " u'00600',\n",
       " u'00602',\n",
       " u'00603',\n",
       " u'00604',\n",
       " u'00607',\n",
       " u'00609',\n",
       " u'00612',\n",
       " u'00623',\n",
       " u'00624',\n",
       " u'00626-02',\n",
       " u'00632',\n",
       " u'00634',\n",
       " u'00638',\n",
       " u'00639',\n",
       " u'00645',\n",
       " u'00654',\n",
       " u'00659',\n",
       " u'00667',\n",
       " u'00669',\n",
       " u'00671',\n",
       " u'00672',\n",
       " u'00674',\n",
       " u'00676',\n",
       " u'00695-06',\n",
       " u'00711',\n",
       " u'00717',\n",
       " u'00720',\n",
       " u'00735',\n",
       " u'00745',\n",
       " u'00749',\n",
       " u'00750',\n",
       " u'00765',\n",
       " u'00776',\n",
       " u'00786',\n",
       " u'00787',\n",
       " u'00794-02',\n",
       " u'00810',\n",
       " u'00811',\n",
       " u'00813',\n",
       " u'00820',\n",
       " u'00825',\n",
       " u'00830',\n",
       " u'00840',\n",
       " u'00842',\n",
       " u'00847',\n",
       " u'00848',\n",
       " u'00850',\n",
       " u'00853',\n",
       " u'00854',\n",
       " u'00856',\n",
       " u'00861',\n",
       " u'00864',\n",
       " u'00867',\n",
       " u'00875',\n",
       " u'00877',\n",
       " u'00881',\n",
       " u'00884',\n",
       " u'00893',\n",
       " u'00894',\n",
       " u'00896',\n",
       " u'00897',\n",
       " u'00898',\n",
       " u'00899',\n",
       " u'00900',\n",
       " u'00901',\n",
       " u'00902',\n",
       " u'00904',\n",
       " u'00905',\n",
       " u'00906',\n",
       " u'00908',\n",
       " u'00909',\n",
       " u'00923',\n",
       " u'00928',\n",
       " u'00936',\n",
       " u'00942',\n",
       " u'00946',\n",
       " u'00951',\n",
       " u'00954',\n",
       " u'00980',\n",
       " u'00983',\n",
       " u'00995',\n",
       " u'00997',\n",
       " u'01001',\n",
       " u'01003',\n",
       " u'01005',\n",
       " u'01009',\n",
       " u'01010',\n",
       " u'01011',\n",
       " u'01012',\n",
       " u'01013',\n",
       " u'01015',\n",
       " u'01020',\n",
       " u'01022',\n",
       " u'01023',\n",
       " u'01026',\n",
       " u'01027',\n",
       " u'01028',\n",
       " u'01029',\n",
       " u'01030',\n",
       " u'01031',\n",
       " u'01032',\n",
       " u'01033',\n",
       " u'01034',\n",
       " u'01035',\n",
       " u'01036',\n",
       " u'01037',\n",
       " u'01038',\n",
       " u'01039',\n",
       " u'01040',\n",
       " u'01041',\n",
       " u'01042',\n",
       " u'01044',\n",
       " u'01045',\n",
       " u'01046',\n",
       " u'01048',\n",
       " u'01049',\n",
       " u'01050',\n",
       " u'01052',\n",
       " u'01053',\n",
       " u'01059',\n",
       " u'01064',\n",
       " u'01069',\n",
       " u'01070',\n",
       " u'01071',\n",
       " u'01077',\n",
       " u'01087',\n",
       " u'01093',\n",
       " u'01094',\n",
       " u'01095',\n",
       " u'01107',\n",
       " u'01117',\n",
       " u'01125',\n",
       " u'01126',\n",
       " u'01127',\n",
       " u'01128',\n",
       " u'01130',\n",
       " u'01131',\n",
       " u'01132',\n",
       " u'01134',\n",
       " u'01135',\n",
       " u'01136',\n",
       " u'01137',\n",
       " u'01138',\n",
       " u'01139',\n",
       " u'01140',\n",
       " u'01142',\n",
       " u'01143',\n",
       " u'01144',\n",
       " u'01145',\n",
       " u'01148',\n",
       " u'01155',\n",
       " u'01165',\n",
       " u'01169',\n",
       " u'01183',\n",
       " u'01185',\n",
       " u'01190',\n",
       " u'01194',\n",
       " u'01196',\n",
       " u'01205',\n",
       " u'01206',\n",
       " u'01207',\n",
       " u'01209',\n",
       " u'01213',\n",
       " u'01215',\n",
       " u'01216',\n",
       " u'01217',\n",
       " u'01218',\n",
       " u'01219',\n",
       " u'01224',\n",
       " u'01231',\n",
       " u'01232',\n",
       " u'01241',\n",
       " u'01252',\n",
       " u'01267',\n",
       " u'01271',\n",
       " u'01277',\n",
       " u'01281',\n",
       " u'01283',\n",
       " u'01284',\n",
       " u'01287',\n",
       " u'01292',\n",
       " u'01293',\n",
       " u'01296',\n",
       " u'01302',\n",
       " u'01308',\n",
       " u'01317',\n",
       " u'01320',\n",
       " u'01321',\n",
       " u'01322',\n",
       " u'01324',\n",
       " u'01336',\n",
       " u'01337',\n",
       " u'01338',\n",
       " u'01342',\n",
       " u'01345',\n",
       " u'01350',\n",
       " u'01356',\n",
       " u'01359',\n",
       " u'01360',\n",
       " u'01362',\n",
       " u'01365',\n",
       " u'01369',\n",
       " u'01373',\n",
       " u'01377',\n",
       " u'01389',\n",
       " u'01390',\n",
       " u'01391',\n",
       " u'01392',\n",
       " u'01394',\n",
       " u'01395',\n",
       " u'01396',\n",
       " u'01398',\n",
       " u'01402',\n",
       " u'01403',\n",
       " u'01405',\n",
       " u'01411',\n",
       " u'01415',\n",
       " u'01422',\n",
       " u'01424',\n",
       " u'01427',\n",
       " u'01430',\n",
       " u'01431',\n",
       " u'01439',\n",
       " u'01441',\n",
       " u'01444',\n",
       " u'01447',\n",
       " u'01449',\n",
       " u'01453',\n",
       " u'01458',\n",
       " u'01459',\n",
       " u'01463',\n",
       " u'01465',\n",
       " u'01479',\n",
       " u'01494',\n",
       " u'01501',\n",
       " u'01506',\n",
       " u'01511',\n",
       " u'01513',\n",
       " u'01514',\n",
       " u'01518',\n",
       " u'01519',\n",
       " u'01523',\n",
       " u'01526',\n",
       " u'01528',\n",
       " u'01536',\n",
       " u'01542',\n",
       " u'01543',\n",
       " u'01545',\n",
       " u'01548',\n",
       " u'01560',\n",
       " u'01566',\n",
       " u'01572',\n",
       " u'01573',\n",
       " u'01574',\n",
       " u'01579',\n",
       " u'01591',\n",
       " u'01593',\n",
       " u'01598',\n",
       " u'01599',\n",
       " u'01604',\n",
       " u'01612',\n",
       " u'01620',\n",
       " u'01622',\n",
       " u'01641',\n",
       " u'01643',\n",
       " u'01652',\n",
       " u'01654',\n",
       " u'01655',\n",
       " u'01658',\n",
       " u'01664',\n",
       " u'01665',\n",
       " u'01671',\n",
       " u'01675',\n",
       " u'01680',\n",
       " u'01682',\n",
       " u'01683',\n",
       " u'01686',\n",
       " u'01690',\n",
       " u'01694',\n",
       " u'01695',\n",
       " u'01696',\n",
       " u'01697',\n",
       " u'01713',\n",
       " u'01714',\n",
       " u'01717',\n",
       " u'01724',\n",
       " u'01726',\n",
       " u'01727',\n",
       " u'01728',\n",
       " u'01739',\n",
       " u'01742',\n",
       " u'01749',\n",
       " u'01751',\n",
       " u'01752',\n",
       " u'01761',\n",
       " u'01762',\n",
       " u'01767',\n",
       " u'01781',\n",
       " u'01783',\n",
       " u'01784',\n",
       " u'01817',\n",
       " u'01824',\n",
       " u'01829',\n",
       " u'01832',\n",
       " u'01834',\n",
       " u'01836',\n",
       " u'01837',\n",
       " u'01841',\n",
       " u'01842',\n",
       " u'01846',\n",
       " u'01853',\n",
       " u'01855',\n",
       " u'01856',\n",
       " u'01860',\n",
       " u'01863',\n",
       " u'01864',\n",
       " u'01865',\n",
       " u'01867',\n",
       " u'01872',\n",
       " u'01890',\n",
       " u'01897',\n",
       " u'01916',\n",
       " u'01917',\n",
       " u'01918',\n",
       " u'01921',\n",
       " u'01922',\n",
       " u'01923',\n",
       " u'01925',\n",
       " u'01927',\n",
       " u'01928',\n",
       " u'01932',\n",
       " u'01933',\n",
       " u'01940',\n",
       " u'01947',\n",
       " u'01951',\n",
       " u'01953',\n",
       " u'01961',\n",
       " u'01965',\n",
       " u'01969',\n",
       " u'01971',\n",
       " u'01974',\n",
       " u'01982',\n",
       " u'01983',\n",
       " u'01986',\n",
       " u'02002',\n",
       " u'02022',\n",
       " u'02023',\n",
       " u'02034',\n",
       " u'02035',\n",
       " u'02040',\n",
       " u'02055',\n",
       " u'02056',\n",
       " u'02061',\n",
       " u'02068',\n",
       " u'02077',\n",
       " u'02084',\n",
       " u'02095',\n",
       " u'02106',\n",
       " u'02124',\n",
       " u'02128',\n",
       " u'02129',\n",
       " u'02135',\n",
       " u'02147',\n",
       " u'02172',\n",
       " u'02186',\n",
       " u'02187',\n",
       " u'02198',\n",
       " u'02209',\n",
       " u'02210',\n",
       " u'02211',\n",
       " u'02234',\n",
       " u'02236',\n",
       " u'02240',\n",
       " u'02243',\n",
       " u'02248',\n",
       " u'02252',\n",
       " u'02260',\n",
       " u'02262',\n",
       " u'02286',\n",
       " u'02289',\n",
       " u'02290',\n",
       " u'02297',\n",
       " u'02323',\n",
       " u'02329',\n",
       " u'02343',\n",
       " u'02352',\n",
       " u'02355',\n",
       " u'02356',\n",
       " u'02366',\n",
       " u'02373',\n",
       " u'02386',\n",
       " u'02388',\n",
       " u'02389',\n",
       " u'02392',\n",
       " u'02393',\n",
       " u'02396',\n",
       " u'02402',\n",
       " u'02403',\n",
       " u'02406',\n",
       " u'02407',\n",
       " u'02408',\n",
       " u'02414',\n",
       " u'02419',\n",
       " u'02422',\n",
       " u'02424',\n",
       " u'02428',\n",
       " u'02436-02',\n",
       " u'02441',\n",
       " u'02447',\n",
       " u'02449',\n",
       " u'02454',\n",
       " u'02456',\n",
       " u'02457-02',\n",
       " u'02457-07',\n",
       " u'02459',\n",
       " u'02467',\n",
       " u'02472',\n",
       " u'02473',\n",
       " u'02474',\n",
       " u'02489',\n",
       " u'02490',\n",
       " u'02491',\n",
       " u'02492',\n",
       " u'02498',\n",
       " u'02500',\n",
       " u'02507',\n",
       " u'02509',\n",
       " u'02510',\n",
       " u'02512',\n",
       " u'02529',\n",
       " u'02530',\n",
       " u'02535',\n",
       " u'02536',\n",
       " u'02557',\n",
       " u'02561',\n",
       " u'02568',\n",
       " u'02580',\n",
       " u'02592',\n",
       " u'02597',\n",
       " u'02656',\n",
       " u'02664',\n",
       " u'02668',\n",
       " u'02669',\n",
       " u'02691',\n",
       " u'02695',\n",
       " u'02707',\n",
       " u'02728',\n",
       " u'02729',\n",
       " u'02733',\n",
       " u'02742',\n",
       " u'02743',\n",
       " u'02755',\n",
       " u'02758',\n",
       " u'02761',\n",
       " u'02762',\n",
       " u'02768',\n",
       " u'02773',\n",
       " u'02790-02',\n",
       " u'02796',\n",
       " u'02815',\n",
       " u'02834',\n",
       " u'02848',\n",
       " u'02850',\n",
       " u'02854',\n",
       " u'02859',\n",
       " u'02862',\n",
       " u'02866',\n",
       " u'02869',\n",
       " u'02875',\n",
       " u'02881',\n",
       " u'02882',\n",
       " u'02885',\n",
       " u'02897',\n",
       " u'02898',\n",
       " u'02907',\n",
       " u'02925',\n",
       " u'02938',\n",
       " u'02941',\n",
       " u'02946',\n",
       " u'02953',\n",
       " u'02970',\n",
       " u'02972',\n",
       " u'02975',\n",
       " u'02982',\n",
       " u'02988',\n",
       " u'02993',\n",
       " u'02996',\n",
       " u'03008',\n",
       " u'03015',\n",
       " u'03018',\n",
       " u'03027',\n",
       " u'03028',\n",
       " u'03029',\n",
       " u'03048',\n",
       " u'03053',\n",
       " u'03061',\n",
       " u'03063',\n",
       " u'03066',\n",
       " u'03078',\n",
       " u'03079',\n",
       " u'03087',\n",
       " u'03100',\n",
       " u'03106',\n",
       " u'03125',\n",
       " u'03141',\n",
       " u'03146',\n",
       " u'03158',\n",
       " u'03178',\n",
       " u'03212',\n",
       " u'03223',\n",
       " u'03228',\n",
       " u'03235',\n",
       " u'03247',\n",
       " u'03269',\n",
       " u'03277',\n",
       " u'03280',\n",
       " u'03281',\n",
       " u'03282',\n",
       " u'03302',\n",
       " u'03304',\n",
       " u'03311',\n",
       " u'03312',\n",
       " u'03315',\n",
       " u'03328',\n",
       " u'03332',\n",
       " u'03336',\n",
       " u'03338',\n",
       " u'03340',\n",
       " u'03345',\n",
       " u'03354',\n",
       " u'03374',\n",
       " u'03376',\n",
       " u'03388',\n",
       " u'03392',\n",
       " u'03405',\n",
       " u'03406',\n",
       " u'03410',\n",
       " u'03437',\n",
       " u'03439',\n",
       " u'03440',\n",
       " u'03441',\n",
       " u'03442',\n",
       " u'03443',\n",
       " u'03444',\n",
       " u'03445',\n",
       " u'03447',\n",
       " u'03466',\n",
       " u'03468',\n",
       " u'03469',\n",
       " u'03470',\n",
       " u'03471',\n",
       " u'03474',\n",
       " u'03500',\n",
       " u'03501',\n",
       " u'03502',\n",
       " u'03504',\n",
       " u'03575',\n",
       " u'03582',\n",
       " u'03585',\n",
       " u'03590',\n",
       " u'03597',\n",
       " u'03599',\n",
       " u'03600',\n",
       " u'03601',\n",
       " u'03602-02',\n",
       " u'03605',\n",
       " u'03607-03',\n",
       " u'03682',\n",
       " u'03683',\n",
       " u'03685',\n",
       " u'03704',\n",
       " u'03709',\n",
       " u'03710',\n",
       " u'03711',\n",
       " u'03715',\n",
       " u'03722',\n",
       " u'03725',\n",
       " u'03728',\n",
       " u'03729',\n",
       " u'03730',\n",
       " u'03736',\n",
       " u'03744',\n",
       " u'03750',\n",
       " u'03758',\n",
       " u'03763',\n",
       " u'03769',\n",
       " u'03775',\n",
       " u'03776',\n",
       " u'03778',\n",
       " u'03803',\n",
       " u'03809',\n",
       " u'03811',\n",
       " u'03812',\n",
       " u'03815',\n",
       " u'03822',\n",
       " u'03825',\n",
       " u'03826',\n",
       " u'03827',\n",
       " u'03828',\n",
       " u'03829',\n",
       " u'03830',\n",
       " u'03831',\n",
       " u'03832',\n",
       " u'03833',\n",
       " u'03834',\n",
       " u'03835',\n",
       " u'03836',\n",
       " u'03837',\n",
       " u'03838',\n",
       " u'03839',\n",
       " u'03841',\n",
       " u'03842',\n",
       " u'03843',\n",
       " u'03847',\n",
       " u'03853',\n",
       " u'03857',\n",
       " u'03860',\n",
       " u'03861',\n",
       " u'03862',\n",
       " u'03863',\n",
       " u'03865',\n",
       " u'03866',\n",
       " u'03868',\n",
       " u'05145-03',\n",
       " u'06225-02',\n",
       " u'06227-01',\n",
       " u'06405-02',\n",
       " u'06839-01',\n",
       " u'06923-01',\n",
       " u'07744-02',\n",
       " u'07817-01',\n",
       " u'08031-08',\n",
       " u'08051-01',\n",
       " u'08109-01',\n",
       " u'08124-02',\n",
       " u'08129-01',\n",
       " u'08154-01',\n",
       " u'08190-15',\n",
       " u'08255-01',\n",
       " u'08261-01',\n",
       " u'08287-01',\n",
       " u'08293-01',\n",
       " u'08298-01',\n",
       " u'08335-01',\n",
       " u'08338-01',\n",
       " u'08363-01',\n",
       " u'08373-04',\n",
       " u'08386-01',\n",
       " u'08475-01',\n",
       " u'08503-01',\n",
       " u'08518-01',\n",
       " u'08519-01',\n",
       " u'08587-01',\n",
       " u'08649-01',\n",
       " u'08655-05',\n",
       " u'08655-08',\n",
       " u'08742-01',\n",
       " u'08743-01',\n",
       " u'08753-02',\n",
       " u'08768-01',\n",
       " u'09068-01',\n",
       " u'09075-01',\n",
       " u'09103-01',\n",
       " u'09113-02',\n",
       " u'09128-02',\n",
       " u'09178-01',\n",
       " u'09179-01',\n",
       " u'09181-02',\n",
       " u'09263-02',\n",
       " u'10-Government',\n",
       " u'10000',\n",
       " u'10003',\n",
       " u'10004',\n",
       " u'10009',\n",
       " u'10015',\n",
       " u'10032',\n",
       " u'10048',\n",
       " u'10056',\n",
       " u'10062',\n",
       " u'10075',\n",
       " u'10078-01',\n",
       " u'10125',\n",
       " u'10135',\n",
       " u'10142-01',\n",
       " u'10147',\n",
       " u'10150',\n",
       " u'10153',\n",
       " u'10159',\n",
       " u'10174',\n",
       " u'10180',\n",
       " u'10188',\n",
       " u'10191',\n",
       " u'10193',\n",
       " u'10194',\n",
       " u'10201',\n",
       " u'10211',\n",
       " u'10216',\n",
       " u'10224',\n",
       " u'10228',\n",
       " u'10238',\n",
       " u'10245',\n",
       " u'10259',\n",
       " ...]"
      ]
     },
     "execution_count": null,
     "metadata": {},
     "output_type": "execute_result"
    }
   ],
   "source": [
    "sorted(sink_nodes)"
   ]
  }
 ],
 "metadata": {
  "kernelspec": {
   "display_name": "Python 2",
   "language": "python",
   "name": "python2"
  },
  "language_info": {
   "codemirror_mode": {
    "name": "ipython",
    "version": 2
   },
   "file_extension": ".py",
   "mimetype": "text/x-python",
   "name": "python",
   "nbconvert_exporter": "python",
   "pygments_lexer": "ipython2",
   "version": "2.7.6"
  }
 },
 "nbformat": 4,
 "nbformat_minor": 0
}
