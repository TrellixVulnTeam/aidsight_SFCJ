{
 "cells": [
  {
   "cell_type": "markdown",
   "metadata": {},
   "source": [
    "# TODO\n",
    "\n",
    "* __Check with Minhchau on best method to establish neighbors__ (currently just counting links)\n",
    "* __Export to json__ \n",
    "* __Create pipeline to run through all methods__\n",
    "* __Add comments to make clear__\n",
    "\n",
    "\n"
   ]
  },
  {
   "cell_type": "code",
   "execution_count": 1,
   "metadata": {
    "collapsed": true
   },
   "outputs": [],
   "source": [
    "import pandas as pd\n",
    "from collections import Counter\n",
    "import json\n",
    "import pymongo\n",
    "import re\n",
    "import time"
   ]
  },
  {
   "cell_type": "markdown",
   "metadata": {},
   "source": [
    "## Function that returns list of neighbors as counter"
   ]
  },
  {
   "cell_type": "code",
   "execution_count": 2,
   "metadata": {
    "collapsed": false
   },
   "outputs": [
    {
     "data": {
      "text/plain": [
       "[('GB-1', 2), ('GB-CHC-1071886', 1)]"
      ]
     },
     "execution_count": 2,
     "metadata": {},
     "output_type": "execute_result"
    }
   ],
   "source": [
    "#get a list of the neighbors a record has based on counts of occurrences\n",
    "def getNeighbors(organization_id):\n",
    "    neighbors = Counter()\n",
    "    with open('graph/graph_root_ref.txt', 'r') as myfile:\n",
    "        for line in myfile.readlines():\n",
    "            rawText = line.strip().split('\\t')\n",
    "            if rawText[1] == organization_id:\n",
    "                neighbors[rawText[2]] += 1\n",
    "    return neighbors.most_common()\n",
    "\n",
    "neighbors = getNeighbors('GB-CHC-1071886')\n",
    "neighbors"
   ]
  },
  {
   "cell_type": "markdown",
   "metadata": {},
   "source": [
    "## Write Function where based on list of neighbors returns imputed data"
   ]
  },
  {
   "cell_type": "code",
   "execution_count": 30,
   "metadata": {
    "collapsed": false
   },
   "outputs": [
    {
     "name": "stdout",
     "output_type": "stream",
     "text": [
      "can impute data_document_link for NL-KVK-51018586 from NL-KVK-27327087\n",
      "can impute data_result for NL-KVK-51018586 from NL-KVK-27327087\n",
      "can impute data_language for GB-CHC-1115109 from XM-DAC-7\n",
      "13.0038030148\n"
     ]
    },
    {
     "name": "stderr",
     "output_type": "stream",
     "text": [
      "/Library/Python/2.7/site-packages/ipykernel/__main__.py:9: UnicodeWarning: Unicode equal comparison failed to convert both arguments to Unicode - interpreting them as being unequal\n"
     ]
    }
   ],
   "source": [
    "#Using test scores to start with\n",
    "with open('test_scores.json', 'r') as myfile:\n",
    "    records = json.loads(myfile.read().decode('utf-8-sig'))\n",
    "\n",
    "#Helper function to find a record's id\n",
    "#If it is None, that means the record does not appear in our list\n",
    "def findRecord(org_id):\n",
    "    for record in enumerate(records):\n",
    "        if record[1]['organization_id'] == org_id:\n",
    "            return record[0]\n",
    "\n",
    "#Function to check if there are missing values in the record\n",
    "\n",
    "def findMissing(num):\n",
    "    missing_datas = [u'missing_data_activity_date',\n",
    " u'missing_data_budget',\n",
    " u'missing_data_currency',\n",
    " u'missing_data_description',\n",
    " u'missing_data_document_link',\n",
    " u'missing_data_language',\n",
    " u'missing_data_participating_org',\n",
    " u'missing_data_result',\n",
    " u'missing_data_title',\n",
    " u'missing_data_transaction']\n",
    "    \n",
    "    record = records[num] #get the specific record\n",
    "    fields_to_fill = [] #holder to contain fields we will try to impute\n",
    "    for mis in missing_datas: #check all missing fields\n",
    "        if record[mis] != 0:\n",
    "            fields_to_fill.append(mis)\n",
    "    return fields_to_fill\n",
    "            \n",
    "        \n",
    "#Get a list of ids in our records\n",
    "ids = []\n",
    "for record in records:\n",
    "    ids.append(record['organization_id'])\n",
    "ids = ids[:10] #keep only first 10 to make it easy   \n",
    "\n",
    "t0 = time.time()\n",
    "found = 0\n",
    "for cur_id in ids: #for each id\n",
    "    cur_record = findRecord(cur_id) #get the record\n",
    "    missingFields = findMissing(cur_record) #get the missing fields for that record\n",
    "    neighbors = getNeighbors(cur_id) #get a list of neighbors for each record\n",
    "    for field in missingFields: #check each field that is missing\n",
    "        for neighbor in neighbors: #check each neighbor, we want the one that is closest\n",
    "            cur_neighbor = findRecord(neighbor[0]) #look for a record of the neighbor\n",
    "            if cur_neighbor != None: #if the record exists proceed\n",
    "                neighborMissing = findMissing(cur_neighbor) #get the fields that are missing for the neighbor\n",
    "                if field not in neighborMissing: #if a neighbor is not missing the same field we can impute\n",
    "                    print 'can impute ' + str(field[8:]) + ' for ' + str(cur_id) + ' from ' + str(neighbor[0])\n",
    "                    break\n",
    "    \n",
    "            \n",
    "    \n",
    "#     for neighbor in neighbors:\n",
    "#         if neighbor[0] in ids:\n",
    "#             print \"This record \" + str(cur_id) + \" is linked to \" + str(neighbor)\n",
    "print time.time() - t0\n",
    "    \n",
    "        \n",
    "# record = '21032'\n",
    "# number = findRecord(record) #21032\n",
    "# if number != None:\n",
    "#     fields = findMissing(number)\n",
    "#     neighbors = getNeighbors(record)\n",
    "#     imputeData(list_of_neighbors = neighbors)\n",
    "# else:\n",
    "#     print \"This record does not appear in our scores data\"\n",
    "\n",
    "#imputeData(list_of_neighbors = neighbors)\n",
    "\n",
    "# u'organization_id': u'GB-CHC-1098752'\n",
    "\n",
    "#Primitive structure to impute the missing fields\n",
    "\n",
    "# def imputeData(list_of_neighbors):\n",
    "#     allNone = True #logical flag for if all neighbors are None and don't appear in our records\n",
    "#     for neighbor in list_of_neighbors: #check each neighbor\n",
    "#         found = findRecord(neighbor)\n",
    "#         if found != None: #if a neighbor is not None proceed\n",
    "#             allNone = False\n",
    "#             cur_neighbor = records[found] #get neighbor's record\n",
    "#             if cur_neighbor['missing_data_document_link'] == 0.0: #here would check if a missing value is present\n",
    "#                 print \"Found this\"\n",
    "#     if allNone == True:\n",
    "#         print \"Could not impute data\"\n",
    "\n",
    "can impute data_document_link for GB-CHC-1133342 from GB-CHC-1127488\n",
    "can impute data_document_link for NL-KVK-51018586 from NL-KVK-27327087\n",
    "can impute data_result for NL-KVK-51018586 from NL-KVK-27327087\n",
    "can impute data_language for GB-CHC-1115109 from XM-DAC-7\n",
    "3.88020896912\n"
   ]
  },
  {
   "cell_type": "code",
   "execution_count": 9,
   "metadata": {
    "collapsed": false
   },
   "outputs": [
    {
     "name": "stdout",
     "output_type": "stream",
     "text": [
      "data_document_link\n"
     ]
    }
   ],
   "source": [
    "stuff = 'missing_data_document_link'\n",
    "\n",
    "stuff = stuff[8:]\n",
    "\n",
    "print stuff"
   ]
  },
  {
   "cell_type": "code",
   "execution_count": 5,
   "metadata": {
    "collapsed": false
   },
   "outputs": [],
   "source": [
    "#records[0]"
   ]
  },
  {
   "cell_type": "markdown",
   "metadata": {},
   "source": [
    "## Refactoring above to work in pymongo"
   ]
  },
  {
   "cell_type": "code",
   "execution_count": 3,
   "metadata": {
    "collapsed": false
   },
   "outputs": [
    {
     "name": "stdout",
     "output_type": "stream",
     "text": [
      "[u'organizations', u'activities', u'cleaned_orgs_full', u'activities_metadata', u'transactions', u'organizations_metadata']\n"
     ]
    }
   ],
   "source": [
    "conn = pymongo.MongoClient()\n",
    "#conn.database_names() # iati, local\n",
    "\n",
    "db = conn.iati\n",
    "print db.collection_names()"
   ]
  },
  {
   "cell_type": "code",
   "execution_count": 16,
   "metadata": {
    "collapsed": false
   },
   "outputs": [
    {
     "data": {
      "text/plain": [
       "{u'@default-currency': 0.0,\n",
       " u'@xml:lang': 0.0,\n",
       " u'activity-date': 0.0,\n",
       " u'budget': 0.0,\n",
       " u'description': 0.0,\n",
       " u'document-link': 1.0,\n",
       " u'participating-org': 0.0,\n",
       " u'result': 1.0,\n",
       " u'title': 0.05785123966942149,\n",
       " u'transaction': 0.0}"
      ]
     },
     "execution_count": 16,
     "metadata": {},
     "output_type": "execute_result"
    }
   ],
   "source": [
    "organizations = db.cleaned_orgs_full\n",
    "test = organizations.find_one({'organization_id' : '21032'})\n",
    "missing_data = test['missing_data']\n",
    "missing_data"
   ]
  },
  {
   "cell_type": "code",
   "execution_count": 29,
   "metadata": {
    "collapsed": false
   },
   "outputs": [
    {
     "name": "stdout",
     "output_type": "stream",
     "text": [
      "can impute document-link for NL-KVK-51018586 from NL-KVK-27327087\n",
      "can impute result for NL-KVK-51018586 from NL-KVK-27327087\n",
      "can impute @xml:lang for GB-CHC-1115109 from XM-DAC-7\n",
      "16.4473400116\n"
     ]
    }
   ],
   "source": [
    "#load data from json because easier\n",
    "with open('test_scores.json', 'r') as myfile:\n",
    "    records = json.loads(myfile.read().decode('utf-8-sig'))\n",
    "\n",
    "#list that will hold ids for testing\n",
    "ids = []\n",
    "for record in records:\n",
    "    ids.append(record['organization_id'])\n",
    "ids = ids[:10] #keep only first 10 to make it easy   \n",
    "\n",
    "#Don't need to a find record function because using mongo\n",
    "\n",
    "#find and return a list of missing fields for a given id\n",
    "def findMissing(org_id):\n",
    "    record = organizations.find_one({'organization_id': org_id}) #get the specific record\n",
    "    fields_to_fill = [] #holder to contain fields we will try to impute\n",
    "    missing_data = record['missing_data']\n",
    "    for missing in missing_data.keys():\n",
    "        if missing_data[missing] != 0.0:\n",
    "            fields_to_fill.append(missing)\n",
    "    return fields_to_fill\n",
    "\n",
    "t0 = time.time()\n",
    "\n",
    "\n",
    "for cur_id in ids: #for each id\n",
    "    missingFields = findMissing(cur_id) #get the missing fields for that record\n",
    "    neighbors = getNeighbors(cur_id) #get a list of neighbors for each record\n",
    "    for field in missingFields: #check each field that is missing\n",
    "        for neighbor in neighbors: #check each neighbor, we want the one that is closest\n",
    "            cur_neighbor = organizations.find_one({'organization_id' : neighbor[0]}) #look for a record of the neighbor\n",
    "            if cur_neighbor != None: #if the record exists proceed \n",
    "                neighborMissing = findMissing(neighbor[0]) #get the fields that are missing for the neighbor\n",
    "                if field not in neighborMissing: #if a neighbor is not missing the same field we can impute\n",
    "                    print 'can impute ' + str(field) + ' for ' + str(cur_id) + ' from ' + str(neighbor[0])\n",
    "                    break\n",
    "    \n",
    "print time.time() - t0"
   ]
  },
  {
   "cell_type": "code",
   "execution_count": 17,
   "metadata": {
    "collapsed": false
   },
   "outputs": [
    {
     "data": {
      "text/plain": [
       "[u'title', u'document-link', u'result']"
      ]
     },
     "execution_count": 17,
     "metadata": {},
     "output_type": "execute_result"
    }
   ],
   "source": [
    "#load data from json because easier\n",
    "with open('test_scores.json', 'r') as myfile:\n",
    "    records = json.loads(myfile.read().decode('utf-8-sig'))\n",
    "\n",
    "#list that will hold ids for testing\n",
    "ids = []\n",
    "for record in records:\n",
    "    ids.append(record['organization_id'])\n",
    "ids = ids[:10]"
   ]
  },
  {
   "cell_type": "markdown",
   "metadata": {},
   "source": [
    "## Output the above to a json format"
   ]
  },
  {
   "cell_type": "markdown",
   "metadata": {},
   "source": [
    "## Old stuff might be useful"
   ]
  },
  {
   "cell_type": "code",
   "execution_count": 9,
   "metadata": {
    "collapsed": true
   },
   "outputs": [],
   "source": [
    "scoreData = pd.read_csv('scores.csv')"
   ]
  },
  {
   "cell_type": "code",
   "execution_count": 14,
   "metadata": {
    "collapsed": false
   },
   "outputs": [],
   "source": [
    "scoreData.rename(columns = {'Unnamed: 0': 'Index'}, inplace = True)\n",
    "#ata.rename(columns={'gdp':'log(gdp)'}, inplace=True)"
   ]
  },
  {
   "cell_type": "code",
   "execution_count": 19,
   "metadata": {
    "collapsed": false
   },
   "outputs": [
    {
     "data": {
      "text/plain": [
       "Index([u'Unnamed: 0', u'_id', u'benford_compliance.budget',\n",
       "       u'benford_compliance.transaction', u'doc_size.avg', u'doc_size.max',\n",
       "       u'doc_size.min', u'missing_data.@default-currency',\n",
       "       u'missing_data.@xml:lang', u'missing_data.activity-date',\n",
       "       u'missing_data.budget', u'missing_data.description',\n",
       "       u'missing_data.document-link', u'missing_data.participating-org',\n",
       "       u'missing_data.result', u'missing_data.title',\n",
       "       u'missing_data.transaction', u'organization_id', u'records',\n",
       "       u'relative_size.budget', u'relative_size.description',\n",
       "       u'relative_size.document-link', u'relative_size.participating-org',\n",
       "       u'relative_size.result', u'relative_size.title',\n",
       "       u'relative_size.transaction', u'title_description_similarity',\n",
       "       u'completeness', u'compliance', u'distance', u'organization_id.score',\n",
       "       u'utility', u'grade'],\n",
       "      dtype='object')"
      ]
     },
     "execution_count": 19,
     "metadata": {},
     "output_type": "execute_result"
    }
   ],
   "source": [
    "scoreData.columns"
   ]
  },
  {
   "cell_type": "code",
   "execution_count": 17,
   "metadata": {
    "collapsed": true
   },
   "outputs": [],
   "source": [
    "missingData = scoreData[[u'_id', u'missing_data.@default-currency',\n",
    "       u'missing_data.@xml:lang', u'missing_data.activity-date',\n",
    "       u'missing_data.budget', u'missing_data.description',\n",
    "       u'missing_data.document-link', u'missing_data.participating-org',\n",
    "       u'missing_data.result', u'missing_data.title',\n",
    "       u'missing_data.transaction', u'organization_id']]"
   ]
  },
  {
   "cell_type": "code",
   "execution_count": 19,
   "metadata": {
    "collapsed": false
   },
   "outputs": [
    {
     "data": {
      "text/html": [
       "<div>\n",
       "<table border=\"1\" class=\"dataframe\">\n",
       "  <thead>\n",
       "    <tr style=\"text-align: right;\">\n",
       "      <th></th>\n",
       "      <th>_id</th>\n",
       "      <th>missing_data.@default-currency</th>\n",
       "      <th>missing_data.@xml:lang</th>\n",
       "      <th>missing_data.activity-date</th>\n",
       "      <th>missing_data.budget</th>\n",
       "      <th>missing_data.description</th>\n",
       "      <th>missing_data.document-link</th>\n",
       "      <th>missing_data.participating-org</th>\n",
       "      <th>missing_data.result</th>\n",
       "      <th>missing_data.title</th>\n",
       "      <th>missing_data.transaction</th>\n",
       "      <th>organization_id</th>\n",
       "    </tr>\n",
       "  </thead>\n",
       "  <tbody>\n",
       "    <tr>\n",
       "      <th>0</th>\n",
       "      <td>5780510b370d935726735f83</td>\n",
       "      <td>0</td>\n",
       "      <td>0.000000</td>\n",
       "      <td>0</td>\n",
       "      <td>0.000000</td>\n",
       "      <td>0</td>\n",
       "      <td>1.000000</td>\n",
       "      <td>0</td>\n",
       "      <td>1.0</td>\n",
       "      <td>0</td>\n",
       "      <td>0</td>\n",
       "      <td>GB-CHC-1098752</td>\n",
       "    </tr>\n",
       "    <tr>\n",
       "      <th>1</th>\n",
       "      <td>5780511f370d935726735f84</td>\n",
       "      <td>0</td>\n",
       "      <td>0.000000</td>\n",
       "      <td>0</td>\n",
       "      <td>1.000000</td>\n",
       "      <td>0</td>\n",
       "      <td>1.000000</td>\n",
       "      <td>0</td>\n",
       "      <td>1.0</td>\n",
       "      <td>0</td>\n",
       "      <td>0</td>\n",
       "      <td>GB-CHC-1133342</td>\n",
       "    </tr>\n",
       "    <tr>\n",
       "      <th>2</th>\n",
       "      <td>57805132370d935726735f85</td>\n",
       "      <td>0</td>\n",
       "      <td>0.000000</td>\n",
       "      <td>0</td>\n",
       "      <td>0.000000</td>\n",
       "      <td>0</td>\n",
       "      <td>0.400000</td>\n",
       "      <td>0</td>\n",
       "      <td>0.6</td>\n",
       "      <td>0</td>\n",
       "      <td>0</td>\n",
       "      <td>NL-KVK-51018586</td>\n",
       "    </tr>\n",
       "    <tr>\n",
       "      <th>3</th>\n",
       "      <td>57805146370d935726735f86</td>\n",
       "      <td>0</td>\n",
       "      <td>0.333333</td>\n",
       "      <td>0</td>\n",
       "      <td>0.000000</td>\n",
       "      <td>0</td>\n",
       "      <td>0.333333</td>\n",
       "      <td>0</td>\n",
       "      <td>1.0</td>\n",
       "      <td>0</td>\n",
       "      <td>0</td>\n",
       "      <td>GB-CHC-1109789</td>\n",
       "    </tr>\n",
       "    <tr>\n",
       "      <th>4</th>\n",
       "      <td>5780515a370d935726735f87</td>\n",
       "      <td>0</td>\n",
       "      <td>0.000000</td>\n",
       "      <td>0</td>\n",
       "      <td>0.018834</td>\n",
       "      <td>0</td>\n",
       "      <td>0.000000</td>\n",
       "      <td>0</td>\n",
       "      <td>1.0</td>\n",
       "      <td>0</td>\n",
       "      <td>0</td>\n",
       "      <td>44000</td>\n",
       "    </tr>\n",
       "  </tbody>\n",
       "</table>\n",
       "</div>"
      ],
      "text/plain": [
       "                        _id  missing_data.@default-currency  \\\n",
       "0  5780510b370d935726735f83                               0   \n",
       "1  5780511f370d935726735f84                               0   \n",
       "2  57805132370d935726735f85                               0   \n",
       "3  57805146370d935726735f86                               0   \n",
       "4  5780515a370d935726735f87                               0   \n",
       "\n",
       "   missing_data.@xml:lang  missing_data.activity-date  missing_data.budget  \\\n",
       "0                0.000000                           0             0.000000   \n",
       "1                0.000000                           0             1.000000   \n",
       "2                0.000000                           0             0.000000   \n",
       "3                0.333333                           0             0.000000   \n",
       "4                0.000000                           0             0.018834   \n",
       "\n",
       "   missing_data.description  missing_data.document-link  \\\n",
       "0                         0                    1.000000   \n",
       "1                         0                    1.000000   \n",
       "2                         0                    0.400000   \n",
       "3                         0                    0.333333   \n",
       "4                         0                    0.000000   \n",
       "\n",
       "   missing_data.participating-org  missing_data.result  missing_data.title  \\\n",
       "0                               0                  1.0                   0   \n",
       "1                               0                  1.0                   0   \n",
       "2                               0                  0.6                   0   \n",
       "3                               0                  1.0                   0   \n",
       "4                               0                  1.0                   0   \n",
       "\n",
       "   missing_data.transaction  organization_id  \n",
       "0                         0   GB-CHC-1098752  \n",
       "1                         0   GB-CHC-1133342  \n",
       "2                         0  NL-KVK-51018586  \n",
       "3                         0   GB-CHC-1109789  \n",
       "4                         0            44000  "
      ]
     },
     "execution_count": 19,
     "metadata": {},
     "output_type": "execute_result"
    }
   ],
   "source": [
    "missingData.head()"
   ]
  },
  {
   "cell_type": "code",
   "execution_count": 19,
   "metadata": {
    "collapsed": false
   },
   "outputs": [
    {
     "name": "stdout",
     "output_type": "stream",
     "text": [
      "compliance imputed data 100.0\n",
      "grade imputed data C\n"
     ]
    }
   ],
   "source": [
    "scoreData = pd.read_csv('scores.csv')\n",
    "\n",
    "list_of_neighbors = ['NL-KVK-41048542', 'GB-CHC-1071886', 'US-EIN-941191246'] #some list of IDs\n",
    "list_of_fields = ['compliance', 'grade']\n",
    "# for field in list_of_fields:\n",
    "#     list_of_imputes = []\n",
    "#     for neighbor in list_of_neighbors:\n",
    "#         filt = scoreData[scoreData.organization_id == neighbor]\n",
    "#         list_of_imputes.append(filt.get_value(filt.index[0], col = field))\n",
    "#     counts = Counter(list_of_imputes)\n",
    "#     print str(field) + ' imputed data ' + str(counts.most_common(1)[0][0])\n",
    "\n",
    "def getImputedData(neighbors):\n",
    "    list_of_fields = ['compliance', 'grade']\n",
    "    for field in list_of_fields:\n",
    "        list_of_imputes = []\n",
    "        for neighbor in neighbors:\n",
    "            filt = scoreData[scoreData.organization_id == neighbor]\n",
    "            list_of_imputes.append(filt.get_value(filt.index[0], col = field))\n",
    "        counts = Counter(list_of_imputes)\n",
    "        print str(field) + ' imputed data ' + str(counts.most_common(1)[0][0])\n",
    "        \n",
    "getImputedData(list_of_neighbors)   \n",
    "\n",
    "# filt = scoreData[scoreData.organization_id == 'GB-CHC-1098752']\n",
    "# filt.get_value(filt.index[0], col = 'compliance')\n",
    "# counts = Counter(list_of_imputes)\n",
    "# print counts.most_common(1)[0][0]\n"
   ]
  },
  {
   "cell_type": "markdown",
   "metadata": {},
   "source": [
    "## Pymongo Stuff"
   ]
  },
  {
   "cell_type": "code",
   "execution_count": 13,
   "metadata": {
    "collapsed": false
   },
   "outputs": [
    {
     "name": "stdout",
     "output_type": "stream",
     "text": [
      "[u'organizations', u'activities', u'cleaned_orgs_full', u'activities_metadata', u'transactions', u'organizations_metadata']\n"
     ]
    }
   ],
   "source": []
  },
  {
   "cell_type": "code",
   "execution_count": 30,
   "metadata": {
    "collapsed": false
   },
   "outputs": [
    {
     "name": "stdout",
     "output_type": "stream",
     "text": [
      "title\n",
      "document-link\n",
      "result\n"
     ]
    }
   ],
   "source": [
    "for i in test['missing_data'].keys():\n",
    "    if test['missing_data'][i] != 0:\n",
    "        print i"
   ]
  }
 ],
 "metadata": {
  "kernelspec": {
   "display_name": "Python 2",
   "language": "python",
   "name": "python2"
  },
  "language_info": {
   "codemirror_mode": {
    "name": "ipython",
    "version": 2
   },
   "file_extension": ".py",
   "mimetype": "text/x-python",
   "name": "python",
   "nbconvert_exporter": "python",
   "pygments_lexer": "ipython2",
   "version": "2.7.11"
  }
 },
 "nbformat": 4,
 "nbformat_minor": 0
}
