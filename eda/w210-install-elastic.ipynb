{
 "cells": [
  {
   "cell_type": "markdown",
   "metadata": {},
   "source": [
    "# Elasticsearch"
   ]
  },
  {
   "cell_type": "markdown",
   "metadata": {},
   "source": [
    "## Install Elasticsearch"
   ]
  },
  {
   "cell_type": "markdown",
   "metadata": {},
   "source": [
    "Elasticsearch version can be found on their website.\n",
    "\n",
    "* https://www.elastic.co/downloads/elasticsearch"
   ]
  },
  {
   "cell_type": "code",
   "execution_count": null,
   "metadata": {
    "collapsed": true
   },
   "outputs": [],
   "source": [
    "elasticsearch_version = '2.3.4'"
   ]
  },
  {
   "cell_type": "markdown",
   "metadata": {},
   "source": [
    "We'll now use this to download the correct version."
   ]
  },
  {
   "cell_type": "code",
   "execution_count": null,
   "metadata": {
    "collapsed": false
   },
   "outputs": [
    {
     "name": "stdout",
     "output_type": "stream",
     "text": [
      "--2016-06-08 06:32:20--  https://download.elastic.co/elasticsearch/release/org/elasticsearch/distribution/deb/elasticsearch/2.3.3/elasticsearch-2.3.3.deb\n",
      "Resolving download.elastic.co (download.elastic.co)... 23.21.64.37, 50.17.193.7, 50.19.223.249, ...\n",
      "Connecting to download.elastic.co (download.elastic.co)|23.21.64.37|:443... connected.\n",
      "HTTP request sent, awaiting response... 200 OK\n",
      "Length: 27426588 (26M) [application/x-debian-package]\n",
      "Saving to: ‘elasticsearch-2.3.3.deb’\n",
      "\n",
      "100%[======================================>] 27,426,588  7.05MB/s   in 6.1s\n",
      "\n",
      "2016-06-08 06:32:27 (4.29 MB/s) - ‘elasticsearch-2.3.3.deb’ saved [27426588/27426588]\n",
      "\n"
     ]
    }
   ],
   "source": [
    "!wget https://download.elastic.co/elasticsearch/release/org/elasticsearch/distribution/deb/elasticsearch/{elasticsearch_version}/elasticsearch-{elasticsearch_version}.deb"
   ]
  },
  {
   "cell_type": "markdown",
   "metadata": {},
   "source": [
    "Now install Elasticsearch."
   ]
  },
  {
   "cell_type": "code",
   "execution_count": null,
   "metadata": {
    "collapsed": false
   },
   "outputs": [
    {
     "name": "stdout",
     "output_type": "stream",
     "text": [
      "Selecting previously unselected package elasticsearch.\n",
      "(Reading database ... 59347 files and directories currently installed.)\n",
      "Preparing to unpack elasticsearch-2.3.3.deb ...\n",
      "Creating elasticsearch group... OK\n",
      "Creating elasticsearch user... OK\n",
      "Unpacking elasticsearch (2.3.3) ...\n",
      "Setting up elasticsearch (2.3.3) ...\n",
      "Processing triggers for ureadahead (0.100.0-16) ...\n"
     ]
    }
   ],
   "source": [
    "!sudo dpkg -i elasticsearch-{elasticsearch_version}.deb"
   ]
  },
  {
   "cell_type": "markdown",
   "metadata": {},
   "source": [
    "## Configure Elasticsearch"
   ]
  },
  {
   "cell_type": "code",
   "execution_count": null,
   "metadata": {
    "collapsed": false
   },
   "outputs": [
    {
     "name": "stdout",
     "output_type": "stream",
     "text": [
      "# ======================== Elasticsearch Configuration =========================\r\n",
      "#\r\n",
      "# NOTE: Elasticsearch comes with reasonable defaults for most settings.\r\n",
      "#       Before you set out to tweak and tune the configuration, make sure you\r\n",
      "#       understand what are you trying to accomplish and the consequences.\r\n",
      "#\r\n",
      "# The primary way of configuring a node is via this file. This template lists\r\n",
      "# the most important settings you may want to configure for a production cluster.\r\n",
      "#\r\n",
      "# Please see the documentation for further information on configuration options:\r\n",
      "# <http://www.elastic.co/guide/en/elasticsearch/reference/current/setup-configuration.html>\r\n",
      "#\r\n",
      "# ---------------------------------- Cluster -----------------------------------\r\n",
      "#\r\n",
      "# Use a descriptive name for your cluster:\r\n",
      "#\r\n",
      "# cluster.name: my-application\r\n",
      "#\r\n",
      "# ------------------------------------ Node ------------------------------------\r\n",
      "#\r\n",
      "# Use a descriptive name for the node:\r\n",
      "#\r\n",
      "# node.name: node-1\r\n",
      "#\r\n",
      "# Add custom attributes to the node:\r\n",
      "#\r\n",
      "# node.rack: r1\r\n",
      "#\r\n",
      "# ----------------------------------- Paths ------------------------------------\r\n",
      "#\r\n",
      "# Path to directory where to store the data (separate multiple locations by comma):\r\n",
      "#\r\n",
      "# path.data: /path/to/data\r\n",
      "#\r\n",
      "# Path to log files:\r\n",
      "#\r\n",
      "# path.logs: /path/to/logs\r\n",
      "#\r\n",
      "# ----------------------------------- Memory -----------------------------------\r\n",
      "#\r\n",
      "# Lock the memory on startup:\r\n",
      "#\r\n",
      "# bootstrap.mlockall: true\r\n",
      "#\r\n",
      "# Make sure that the `ES_HEAP_SIZE` environment variable is set to about half the memory\r\n",
      "# available on the system and that the owner of the process is allowed to use this limit.\r\n",
      "#\r\n",
      "# Elasticsearch performs poorly when the system is swapping the memory.\r\n",
      "#\r\n",
      "# ---------------------------------- Network -----------------------------------\r\n",
      "#\r\n",
      "# Set the bind address to a specific IP (IPv4 or IPv6):\r\n",
      "#\r\n",
      "# network.host: 192.168.0.1\r\n",
      "#\r\n",
      "# Set a custom port for HTTP:\r\n",
      "#\r\n",
      "# http.port: 9200\r\n",
      "#\r\n",
      "# For more information, see the documentation at:\r\n",
      "# <http://www.elastic.co/guide/en/elasticsearch/reference/current/modules-network.html>\r\n",
      "#\r\n",
      "# --------------------------------- Discovery ----------------------------------\r\n",
      "#\r\n",
      "# Pass an initial list of hosts to perform discovery when new node is started:\r\n",
      "# The default list of hosts is [\"127.0.0.1\", \"[::1]\"]\r\n",
      "#\r\n",
      "# discovery.zen.ping.unicast.hosts: [\"host1\", \"host2\"]\r\n",
      "#\r\n",
      "# Prevent the \"split brain\" by configuring the majority of nodes (total number of nodes / 2 + 1):\r\n",
      "#\r\n",
      "# discovery.zen.minimum_master_nodes: 3\r\n",
      "#\r\n",
      "# For more information, see the documentation at:\r\n",
      "# <http://www.elastic.co/guide/en/elasticsearch/reference/current/modules-discovery.html>\r\n",
      "#\r\n",
      "# ---------------------------------- Gateway -----------------------------------\r\n",
      "#\r\n",
      "# Block initial recovery after a full cluster restart until N nodes are started:\r\n",
      "#\r\n",
      "# gateway.recover_after_nodes: 3\r\n",
      "#\r\n",
      "# For more information, see the documentation at:\r\n",
      "# <http://www.elastic.co/guide/en/elasticsearch/reference/current/modules-gateway.html>\r\n",
      "#\r\n",
      "# ---------------------------------- Various -----------------------------------\r\n",
      "#\r\n",
      "# Disable starting multiple nodes on a single system:\r\n",
      "#\r\n",
      "# node.max_local_storage_nodes: 1\r\n",
      "#\r\n",
      "# Require explicit names when deleting indices:\r\n",
      "#\r\n",
      "# action.destructive_requires_name: true\r\n"
     ]
    }
   ],
   "source": [
    "!sudo cat /etc/elasticsearch/elasticsearch.yml"
   ]
  },
  {
   "cell_type": "markdown",
   "metadata": {},
   "source": [
    "## Start Elasticsearch"
   ]
  },
  {
   "cell_type": "markdown",
   "metadata": {},
   "source": [
    "If nothing needs to be changed, start the Elasticsearch instance."
   ]
  },
  {
   "cell_type": "code",
   "execution_count": null,
   "metadata": {
    "collapsed": false
   },
   "outputs": [
    {
     "name": "stdout",
     "output_type": "stream",
     "text": [
      " Adding system startup for /etc/init.d/elasticsearch ...\r\n",
      "   /etc/rc0.d/K20elasticsearch -> ../init.d/elasticsearch\r\n",
      "   /etc/rc1.d/K20elasticsearch -> ../init.d/elasticsearch\r\n",
      "   /etc/rc6.d/K20elasticsearch -> ../init.d/elasticsearch\r\n",
      "   /etc/rc2.d/S20elasticsearch -> ../init.d/elasticsearch\r\n",
      "   /etc/rc3.d/S20elasticsearch -> ../init.d/elasticsearch\r\n",
      "   /etc/rc4.d/S20elasticsearch -> ../init.d/elasticsearch\r\n",
      "   /etc/rc5.d/S20elasticsearch -> ../init.d/elasticsearch\r\n"
     ]
    }
   ],
   "source": [
    "!sudo update-rc.d elasticsearch defaults"
   ]
  },
  {
   "cell_type": "code",
   "execution_count": null,
   "metadata": {
    "collapsed": false
   },
   "outputs": [
    {
     "name": "stdout",
     "output_type": "stream",
     "text": [
      " * Starting Elasticsearch Server\n",
      "   ...done.\n"
     ]
    }
   ],
   "source": [
    "!sudo service elasticsearch start"
   ]
  },
  {
   "cell_type": "markdown",
   "metadata": {},
   "source": [
    "# Kibana"
   ]
  },
  {
   "cell_type": "markdown",
   "metadata": {},
   "source": [
    "## Install Kibana"
   ]
  },
  {
   "cell_type": "markdown",
   "metadata": {},
   "source": [
    "Kibana version can be found on their website.\n",
    "\n",
    "* https://www.elastic.co/downloads/kibana"
   ]
  },
  {
   "cell_type": "code",
   "execution_count": null,
   "metadata": {
    "collapsed": true
   },
   "outputs": [],
   "source": [
    "kibana_version = '4.5.3'"
   ]
  },
  {
   "cell_type": "markdown",
   "metadata": {},
   "source": [
    "We'll now use this to download the correct version."
   ]
  },
  {
   "cell_type": "code",
   "execution_count": null,
   "metadata": {
    "collapsed": false
   },
   "outputs": [
    {
     "name": "stdout",
     "output_type": "stream",
     "text": [
      "--2016-06-08 06:39:58--  https://download.elastic.co/kibana/kibana/kibana_4.5.1_amd64.deb\n",
      "Resolving download.elastic.co (download.elastic.co)... 50.19.223.249, 23.21.64.37, 50.17.193.7, ...\n",
      "Connecting to download.elastic.co (download.elastic.co)|50.19.223.249|:443... connected.\n",
      "HTTP request sent, awaiting response... 200 OK\n",
      "Length: 33634320 (32M) [application/octet-stream]\n",
      "Saving to: ‘kibana_4.5.1_amd64.deb’\n",
      "\n",
      "100%[======================================>] 33,634,320  13.1MB/s   in 2.4s\n",
      "\n",
      "2016-06-08 06:40:01 (13.1 MB/s) - ‘kibana_4.5.1_amd64.deb’ saved [33634320/33634320]\n",
      "\n"
     ]
    }
   ],
   "source": [
    "!wget https://download.elastic.co/kibana/kibana/kibana_{kibana_version}_amd64.deb"
   ]
  },
  {
   "cell_type": "markdown",
   "metadata": {},
   "source": [
    "Now install Kibana."
   ]
  },
  {
   "cell_type": "code",
   "execution_count": null,
   "metadata": {
    "collapsed": false
   },
   "outputs": [
    {
     "name": "stdout",
     "output_type": "stream",
     "text": [
      "Selecting previously unselected package kibana.\n",
      "(Reading database ... 59428 files and directories currently installed.)\n",
      "Preparing to unpack kibana_4.5.1_amd64.deb ...\n",
      "Unpacking kibana (4.5.1) ...\n",
      "Setting up kibana (4.5.1) ...\n",
      "Processing triggers for ureadahead (0.100.0-16) ...\n"
     ]
    }
   ],
   "source": [
    "!sudo dpkg -i kibana_{kibana_version}_amd64.deb"
   ]
  },
  {
   "cell_type": "markdown",
   "metadata": {},
   "source": [
    "## Configure Kibana"
   ]
  },
  {
   "cell_type": "code",
   "execution_count": null,
   "metadata": {
    "collapsed": false
   },
   "outputs": [
    {
     "name": "stdout",
     "output_type": "stream",
     "text": [
      "# Kibana is served by a back end server. This controls which port to use.\r\n",
      "# server.port: 5601\r\n",
      "\r\n",
      "# The host to bind the server to.\r\n",
      "# server.host: \"0.0.0.0\"\r\n",
      "\r\n",
      "# If you are running kibana behind a proxy, and want to mount it at a path,\r\n",
      "# specify that path here. The basePath can't end in a slash.\r\n",
      "# server.basePath: \"\"\r\n",
      "\r\n",
      "# The maximum payload size in bytes on incoming server requests.\r\n",
      "# server.maxPayloadBytes: 1048576\r\n",
      "\r\n",
      "# The Elasticsearch instance to use for all your queries.\r\n",
      "# elasticsearch.url: \"http://localhost:9200\"\r\n",
      "\r\n",
      "# preserve_elasticsearch_host true will send the hostname specified in `elasticsearch`. If you set it to false,\r\n",
      "# then the host you use to connect to *this* Kibana instance will be sent.\r\n",
      "# elasticsearch.preserveHost: true\r\n",
      "\r\n",
      "# Kibana uses an index in Elasticsearch to store saved searches, visualizations\r\n",
      "# and dashboards. It will create a new index if it doesn't already exist.\r\n",
      "# kibana.index: \".kibana\"\r\n",
      "\r\n",
      "# The default application to load.\r\n",
      "# kibana.defaultAppId: \"discover\"\r\n",
      "\r\n",
      "# If your Elasticsearch is protected with basic auth, these are the user credentials\r\n",
      "# used by the Kibana server to perform maintenance on the kibana_index at startup. Your Kibana\r\n",
      "# users will still need to authenticate with Elasticsearch (which is proxied through\r\n",
      "# the Kibana server)\r\n",
      "# elasticsearch.username: \"user\"\r\n",
      "# elasticsearch.password: \"pass\"\r\n",
      "\r\n",
      "# SSL for outgoing requests from the Kibana Server to the browser (PEM formatted)\r\n",
      "# server.ssl.cert: /path/to/your/server.crt\r\n",
      "# server.ssl.key: /path/to/your/server.key\r\n",
      "\r\n",
      "# Optional setting to validate that your Elasticsearch backend uses the same key files (PEM formatted)\r\n",
      "# elasticsearch.ssl.cert: /path/to/your/client.crt\r\n",
      "# elasticsearch.ssl.key: /path/to/your/client.key\r\n",
      "\r\n",
      "# If you need to provide a CA certificate for your Elasticsearch instance, put\r\n",
      "# the path of the pem file here.\r\n",
      "# elasticsearch.ssl.ca: /path/to/your/CA.pem\r\n",
      "\r\n",
      "# Set to false to have a complete disregard for the validity of the SSL\r\n",
      "# certificate.\r\n",
      "# elasticsearch.ssl.verify: true\r\n",
      "\r\n",
      "# Time in milliseconds to wait for elasticsearch to respond to pings, defaults to\r\n",
      "# request_timeout setting\r\n",
      "# elasticsearch.pingTimeout: 1500\r\n",
      "\r\n",
      "# Time in milliseconds to wait for responses from the back end or elasticsearch.\r\n",
      "# This must be > 0\r\n",
      "# elasticsearch.requestTimeout: 30000\r\n",
      "\r\n",
      "# Time in milliseconds for Elasticsearch to wait for responses from shards.\r\n",
      "# Set to 0 to disable.\r\n",
      "# elasticsearch.shardTimeout: 0\r\n",
      "\r\n",
      "# Time in milliseconds to wait for Elasticsearch at Kibana startup before retrying\r\n",
      "# elasticsearch.startupTimeout: 5000\r\n",
      "\r\n",
      "# Set the path to where you would like the process id file to be created.\r\n",
      "# pid.file: /var/run/kibana.pid\r\n",
      "\r\n",
      "# If you would like to send the log output to a file you can set the path below.\r\n",
      "# logging.dest: stdout\r\n",
      "\r\n",
      "# Set this to true to suppress all logging output.\r\n",
      "# logging.silent: false\r\n",
      "\r\n",
      "# Set this to true to suppress all logging output except for error messages.\r\n",
      "# logging.quiet: false\r\n",
      "\r\n",
      "# Set this to true to log all events, including system usage information and all requests.\r\n",
      "# logging.verbose: false\r\n"
     ]
    }
   ],
   "source": [
    "!cat /opt/kibana/config/kibana.yml"
   ]
  },
  {
   "cell_type": "markdown",
   "metadata": {},
   "source": [
    "## Start Kibana"
   ]
  },
  {
   "cell_type": "markdown",
   "metadata": {},
   "source": [
    "If nothing needs to be changed, start the Kibana instance."
   ]
  },
  {
   "cell_type": "code",
   "execution_count": null,
   "metadata": {
    "collapsed": false
   },
   "outputs": [
    {
     "name": "stdout",
     "output_type": "stream",
     "text": [
      " Adding system startup for /etc/init.d/kibana ...\r\n",
      "   /etc/rc0.d/K20kibana -> ../init.d/kibana\r\n",
      "   /etc/rc1.d/K20kibana -> ../init.d/kibana\r\n",
      "   /etc/rc6.d/K20kibana -> ../init.d/kibana\r\n",
      "   /etc/rc2.d/S20kibana -> ../init.d/kibana\r\n",
      "   /etc/rc3.d/S20kibana -> ../init.d/kibana\r\n",
      "   /etc/rc4.d/S20kibana -> ../init.d/kibana\r\n",
      "   /etc/rc5.d/S20kibana -> ../init.d/kibana\r\n"
     ]
    }
   ],
   "source": [
    "!sudo update-rc.d kibana defaults"
   ]
  },
  {
   "cell_type": "code",
   "execution_count": null,
   "metadata": {
    "collapsed": false
   },
   "outputs": [
    {
     "name": "stdout",
     "output_type": "stream",
     "text": [
      "kibana started\r\n"
     ]
    }
   ],
   "source": [
    "!sudo service kibana start"
   ]
  }
 ],
 "metadata": {
  "kernelspec": {
   "display_name": "Python 2",
   "language": "python",
   "name": "python2"
  },
  "language_info": {
   "codemirror_mode": {
    "name": "ipython",
    "version": 2
   },
   "file_extension": ".py",
   "mimetype": "text/x-python",
   "name": "python",
   "nbconvert_exporter": "python",
   "pygments_lexer": "ipython2",
   "version": "2.7.6"
  }
 },
 "nbformat": 4,
 "nbformat_minor": 0
}
