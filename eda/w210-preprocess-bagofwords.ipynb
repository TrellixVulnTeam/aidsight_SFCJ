{
 "cells": [
  {
   "cell_type": "markdown",
   "metadata": {},
   "source": [
    "# Install Packages"
   ]
  },
  {
   "cell_type": "code",
   "execution_count": null,
   "metadata": {
    "collapsed": true
   },
   "outputs": [],
   "source": [
    "%matplotlib inline"
   ]
  },
  {
   "cell_type": "code",
   "execution_count": null,
   "metadata": {
    "collapsed": true
   },
   "outputs": [],
   "source": [
    "from collections import defaultdict\n",
    "from datetime import datetime\n",
    "import os\n",
    "import sys"
   ]
  },
  {
   "cell_type": "markdown",
   "metadata": {},
   "source": [
    "# Load the Bag of Words"
   ]
  },
  {
   "cell_type": "code",
   "execution_count": null,
   "metadata": {
    "collapsed": false
   },
   "outputs": [],
   "source": [
    "if os.path.isfile('iati_text.txt'):\n",
    "    pass\n",
    "elif os.path.isfile('iati_text.txt.gz'):\n",
    "    !gunzip iati_text.txt.gz\n",
    "elif not os.path.isfile('iati_text.txt'):\n",
    "    !aws s3 cp s3://mdang.w210/iati_text.txt.gz .\n",
    "    !gunzip iati_text.txt.gz"
   ]
  },
  {
   "cell_type": "code",
   "execution_count": null,
   "metadata": {
    "collapsed": false,
    "scrolled": true
   },
   "outputs": [
    {
     "name": "stdout",
     "output_type": "stream",
     "text": [
      "2016-06-18 19:05:15.883177 Started processing\n",
      "2016-06-18 19:05:15.883874 Processed 0 of 587160\n",
      "2016-06-18 19:05:18.479800 Processed 25000 of 587160\n",
      "2016-06-18 19:05:21.191362 Processed 50000 of 587160\n",
      "2016-06-18 19:05:24.302214 Processed 75000 of 587160\n",
      "2016-06-18 19:05:27.206827 Processed 100000 of 587160\n",
      "2016-06-18 19:05:30.748140 Processed 125000 of 587160\n",
      "2016-06-18 19:05:33.574842 Processed 150000 of 587160\n",
      "2016-06-18 19:05:36.710944 Processed 175000 of 587160\n",
      "2016-06-18 19:05:39.915343 Processed 200000 of 587160\n",
      "2016-06-18 19:05:42.178723 Processed 225000 of 587160\n",
      "2016-06-18 19:05:44.742771 Processed 250000 of 587160\n",
      "2016-06-18 19:05:47.079502 Processed 275000 of 587160\n",
      "2016-06-18 19:05:49.385588 Processed 300000 of 587160\n",
      "2016-06-18 19:05:52.195159 Processed 325000 of 587160\n",
      "2016-06-18 19:05:54.926755 Processed 350000 of 587160\n",
      "2016-06-18 19:05:57.854419 Processed 375000 of 587160\n",
      "2016-06-18 19:06:00.841024 Processed 400000 of 587160\n",
      "2016-06-18 19:06:04.758747 Processed 425000 of 587160\n",
      "2016-06-18 19:06:07.798686 Processed 450000 of 587160\n",
      "2016-06-18 19:06:10.629809 Processed 475000 of 587160\n",
      "2016-06-18 19:06:13.344136 Processed 500000 of 587160\n",
      "2016-06-18 19:06:15.782053 Processed 525000 of 587160\n",
      "2016-06-18 19:06:17.768998 Processed 550000 of 587160\n",
      "2016-06-18 19:06:20.575433 Processed 575000 of 587160\n",
      "2016-06-18 19:06:21.880710 Finished processing\n"
     ]
    }
   ],
   "source": [
    "words = defaultdict(int)\n",
    "\n",
    "# Compute the word counts for all the text in the file so we\n",
    "# can decide on some potential stop words.\n",
    "\n",
    "line_count = !wc -l iati_text.txt | cut -d' ' -f 1\n",
    "line_count = int(line_count[0])\n",
    "bad_lines = []\n",
    "\n",
    "print datetime.now(), 'Started processing'\n",
    "\n",
    "with open('iati_text.txt') as f:\n",
    "    for num, line in enumerate(f):\n",
    "        if num % 25000 == 0:\n",
    "            print datetime.now(), 'Processed', num, 'of', line_count\n",
    "\n",
    "        line = line.strip()\n",
    "\n",
    "        if line.find('\\t') == -1:\n",
    "            bad_lines.append((num, line))\n",
    "            continue\n",
    "\n",
    "        key, text = line.split('\\t', 1)\n",
    "\n",
    "        for word in text.split(' '):\n",
    "            word = word.lower()\n",
    "\n",
    "            # TODO: Stemming\n",
    "\n",
    "            words[word] += 1\n",
    "\n",
    "print datetime.now(), 'Finished processing'"
   ]
  },
  {
   "cell_type": "code",
   "execution_count": null,
   "metadata": {
    "collapsed": false,
    "scrolled": true
   },
   "outputs": [
    {
     "data": {
      "text/plain": [
       "30"
      ]
     },
     "execution_count": null,
     "metadata": {},
     "output_type": "execute_result"
    }
   ],
   "source": [
    "len(bad_lines)"
   ]
  },
  {
   "cell_type": "markdown",
   "metadata": {},
   "source": [
    "Next, let's find the most frequently occurring words"
   ]
  },
  {
   "cell_type": "code",
   "execution_count": null,
   "metadata": {
    "collapsed": false
   },
   "outputs": [
    {
     "data": {
      "text/plain": [
       "['1',\n",
       " 'the',\n",
       " 'and',\n",
       " 'of',\n",
       " '2',\n",
       " 'en',\n",
       " '0',\n",
       " 'to',\n",
       " '10',\n",
       " '3',\n",
       " 'development',\n",
       " '4',\n",
       " 'for',\n",
       " 'in',\n",
       " '-',\n",
       " 'aid',\n",
       " 'usd',\n",
       " 'international']"
      ]
     },
     "execution_count": null,
     "metadata": {},
     "output_type": "execute_result"
    }
   ],
   "source": [
    "count_tuples = sorted([(value, key) for key, value in words.iteritems()], reverse = True)\n",
    "[item[1] for item in count_tuples[0:100] if item[0] > 1000000]"
   ]
  },
  {
   "cell_type": "code",
   "execution_count": null,
   "metadata": {
    "collapsed": true
   },
   "outputs": [],
   "source": []
  }
 ],
 "metadata": {
  "kernelspec": {
   "display_name": "Python [Root]",
   "language": "python",
   "name": "Python [Root]"
  },
  "language_info": {
   "codemirror_mode": {
    "name": "ipython",
    "version": 3
   },
   "file_extension": ".py",
   "mimetype": "text/x-python",
   "name": "python",
   "nbconvert_exporter": "python",
   "pygments_lexer": "ipython3",
   "version": "3.5.1"
  }
 },
 "nbformat": 4,
 "nbformat_minor": 0
}
