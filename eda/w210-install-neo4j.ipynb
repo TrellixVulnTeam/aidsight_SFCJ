{
 "cells": [
  {
   "cell_type": "markdown",
   "metadata": {},
   "source": [
    "# Neo4J"
   ]
  },
  {
   "cell_type": "markdown",
   "metadata": {},
   "source": [
    "## Install Java"
   ]
  },
  {
   "cell_type": "code",
   "execution_count": null,
   "metadata": {
    "collapsed": false
   },
   "outputs": [
    {
     "name": "stdout",
     "output_type": "stream",
     "text": [
      "gpg: keyring `/tmp/tmp8_kv930m/secring.gpg' created\n",
      "gpg: keyring `/tmp/tmp8_kv930m/pubring.gpg' created\n",
      "gpg: requesting key EEA14886 from hkp server keyserver.ubuntu.com\n",
      "gpg: /tmp/tmp8_kv930m/trustdb.gpg: trustdb created\n",
      "gpg: key EEA14886: public key \"Launchpad VLC\" imported\n",
      "gpg: no ultimately trusted keys found\n",
      "gpg: Total number processed: 1\n",
      "gpg:               imported: 1  (RSA: 1)\n",
      "OK\n",
      "Ign http://us-west-2.ec2.archive.ubuntu.com trusty InRelease\n",
      "Hit http://us-west-2.ec2.archive.ubuntu.com trusty-updates InRelease\n",
      "Hit http://us-west-2.ec2.archive.ubuntu.com trusty-backports InRelease\n",
      "Hit http://us-west-2.ec2.archive.ubuntu.com trusty Release.gpg\n",
      "Hit http://us-west-2.ec2.archive.ubuntu.com trusty Release\n",
      "Hit http://us-west-2.ec2.archive.ubuntu.com trusty-updates/main Sources\n",
      "Hit http://us-west-2.ec2.archive.ubuntu.com trusty-updates/restricted Sources\n",
      "Hit http://us-west-2.ec2.archive.ubuntu.com trusty-updates/universe Sources\n",
      "Hit http://us-west-2.ec2.archive.ubuntu.com trusty-updates/multiverse Sources\n",
      "Hit http://us-west-2.ec2.archive.ubuntu.com trusty-updates/main amd64 Packages\n",
      "Hit http://us-west-2.ec2.archive.ubuntu.com trusty-updates/restricted amd64 Packages\n",
      "Hit http://us-west-2.ec2.archive.ubuntu.com trusty-updates/universe amd64 Packages\n",
      "Hit http://us-west-2.ec2.archive.ubuntu.com trusty-updates/multiverse amd64 Packages\n",
      "Hit http://us-west-2.ec2.archive.ubuntu.com trusty-updates/main Translation-en\n",
      "Ign http://repo.mongodb.org trusty/mongodb-org/3.2 InRelease\n",
      "Hit http://us-west-2.ec2.archive.ubuntu.com trusty-updates/multiverse Translation-en\n",
      "Hit http://us-west-2.ec2.archive.ubuntu.com trusty-updates/restricted Translation-en\n",
      "Hit http://us-west-2.ec2.archive.ubuntu.com trusty-updates/universe Translation-en\n",
      "Hit http://repo.mongodb.org trusty/mongodb-org/3.2 Release.gpg\n",
      "Hit http://repo.mongodb.org trusty/mongodb-org/3.2 Release\n",
      "Hit http://us-west-2.ec2.archive.ubuntu.com trusty-backports/main Sources\n",
      "Hit http://us-west-2.ec2.archive.ubuntu.com trusty-backports/restricted Sources\n",
      "Hit http://us-west-2.ec2.archive.ubuntu.com trusty-backports/universe Sources\n",
      "Hit http://us-west-2.ec2.archive.ubuntu.com trusty-backports/multiverse Sources\n",
      "Hit http://us-west-2.ec2.archive.ubuntu.com trusty-backports/main amd64 Packages\n",
      "Hit http://us-west-2.ec2.archive.ubuntu.com trusty-backports/restricted amd64 Packages\n",
      "Hit http://us-west-2.ec2.archive.ubuntu.com trusty-backports/universe amd64 Packages\n",
      "Hit http://us-west-2.ec2.archive.ubuntu.com trusty-backports/multiverse amd64 Packages\n",
      "Hit http://repo.mongodb.org trusty/mongodb-org/3.2/multiverse amd64 Packages\n",
      "Hit http://us-west-2.ec2.archive.ubuntu.com trusty-backports/main Translation-en\n",
      "Hit http://us-west-2.ec2.archive.ubuntu.com trusty-backports/multiverse Translation-en\n",
      "Hit http://us-west-2.ec2.archive.ubuntu.com trusty-backports/restricted Translation-en\n",
      "Hit http://us-west-2.ec2.archive.ubuntu.com trusty-backports/universe Translation-en\n",
      "Hit http://us-west-2.ec2.archive.ubuntu.com trusty/main Sources\n",
      "Hit http://us-west-2.ec2.archive.ubuntu.com trusty/restricted Sources\n",
      "Hit http://us-west-2.ec2.archive.ubuntu.com trusty/universe Sources\n",
      "Hit http://us-west-2.ec2.archive.ubuntu.com trusty/multiverse Sources\n",
      "Hit http://us-west-2.ec2.archive.ubuntu.com trusty/main amd64 Packages\n",
      "Hit http://security.ubuntu.com trusty-security InRelease\n",
      "Ign http://debian.neo4j.org stable/ InRelease\n",
      "Hit http://us-west-2.ec2.archive.ubuntu.com trusty/restricted amd64 Packages\n",
      "Hit http://us-west-2.ec2.archive.ubuntu.com trusty/universe amd64 Packages\n",
      "Hit http://us-west-2.ec2.archive.ubuntu.com trusty/multiverse amd64 Packages\n",
      "Hit http://us-west-2.ec2.archive.ubuntu.com trusty/main Translation-en\n",
      "Hit http://us-west-2.ec2.archive.ubuntu.com trusty/multiverse Translation-en\n",
      "Hit http://us-west-2.ec2.archive.ubuntu.com trusty/restricted Translation-en\n",
      "Hit http://us-west-2.ec2.archive.ubuntu.com trusty/universe Translation-en\n",
      "Get:1 http://debian.neo4j.org stable/ Release.gpg [819 B]\n",
      "Hit http://security.ubuntu.com trusty-security/main Sources\n",
      "Ign http://us-west-2.ec2.archive.ubuntu.com trusty/main Translation-en_US\n",
      "Ign http://us-west-2.ec2.archive.ubuntu.com trusty/multiverse Translation-en_US\n",
      "Ign http://us-west-2.ec2.archive.ubuntu.com trusty/restricted Translation-en_US\n",
      "Get:2 http://ppa.launchpad.net trusty InRelease [15.5 kB]\n",
      "Ign http://us-west-2.ec2.archive.ubuntu.com trusty/universe Translation-en_US\n",
      "Ign http://repo.mongodb.org trusty/mongodb-org/3.2/multiverse Translation-en_US\n",
      "Ign http://repo.mongodb.org trusty/mongodb-org/3.2/multiverse Translation-en\n",
      "Hit http://debian.neo4j.org stable/ Release\n",
      "Hit http://security.ubuntu.com trusty-security/universe Sources\n",
      "Hit http://debian.neo4j.org stable/ Packages\n",
      "Hit http://security.ubuntu.com trusty-security/main amd64 Packages\n",
      "Hit http://security.ubuntu.com trusty-security/universe amd64 Packages\n",
      "Get:3 http://ppa.launchpad.net trusty/main amd64 Packages [3,388 B]\n",
      "Hit http://security.ubuntu.com trusty-security/main Translation-en\n",
      "Hit http://security.ubuntu.com trusty-security/universe Translation-en\n",
      "Get:4 http://ppa.launchpad.net trusty/main Translation-en [1,556 B]\n",
      "Ign http://debian.neo4j.org stable/ Translation-en_US\n",
      "Ign http://debian.neo4j.org stable/ Translation-en\n",
      "Fetched 21.2 kB in 2s (10.1 kB/s)\n",
      "Reading package lists... Done\n"
     ]
    }
   ],
   "source": [
    "!sudo add-apt-repository -y ppa:webupd8team/java\n",
    "!sudo apt-get update"
   ]
  },
  {
   "cell_type": "code",
   "execution_count": null,
   "metadata": {
    "collapsed": false
   },
   "outputs": [
    {
     "name": "stdout",
     "output_type": "stream",
     "text": [
      "Reading package lists... Done\n",
      "Building dependency tree\n",
      "Reading state information... Done\n",
      "The following extra packages will be installed:\n",
      "  gsfonts gsfonts-x11 xfonts-encodings xfonts-utils\n",
      "Suggested packages:\n",
      "  binfmt-support visualvm ttf-baekmuk ttf-unfonts ttf-unfonts-core\n",
      "  ttf-kochi-gothic ttf-sazanami-gothic ttf-kochi-mincho ttf-sazanami-mincho\n",
      "  ttf-arphic-uming firefox firefox-2 iceweasel mozilla-firefox iceape-browser\n",
      "  mozilla-browser epiphany-gecko epiphany-webkit epiphany-browser galeon\n",
      "  midbrowser moblin-web-browser xulrunner xulrunner-1.9 konqueror\n",
      "  chromium-browser midori google-chrome\n",
      "The following NEW packages will be installed:\n",
      "  gsfonts gsfonts-x11 xfonts-encodings xfonts-utils\n",
      "The following packages will be upgraded:\n",
      "  oracle-java8-installer\n",
      "1 upgraded, 4 newly installed, 0 to remove and 85 not upgraded.\n",
      "1 not fully installed or removed.\n",
      "Need to get 0 B/4,063 kB of archives.\n",
      "After this operation, 6,174 kB of additional disk space will be used.\n",
      "Preconfiguring packages ...\n",
      "(Reading database ... 59082 files and directories currently installed.)\n",
      "Preparing to unpack .../oracle-java8-installer_8u92+8u91arm-2~really8u91~webupd8~0_all.deb ...\n",
      "oracle-license-v1-1 license has already been accepted\n",
      "Unpacking oracle-java8-installer (8u92+8u91arm-2~really8u91~webupd8~0) over (8u92+8u91arm-2~really8u91~webupd8~0) ...\n",
      "Selecting previously unselected package gsfonts.\n",
      "Preparing to unpack .../gsfonts_1%3a8.11+urwcyr1.0.7~pre44-4.2ubuntu1_all.deb ...\n",
      "Unpacking gsfonts (1:8.11+urwcyr1.0.7~pre44-4.2ubuntu1) ...\n",
      "Selecting previously unselected package xfonts-encodings.\n",
      "Preparing to unpack .../xfonts-encodings_1%3a1.0.4-1ubuntu1_all.deb ...\n",
      "Unpacking xfonts-encodings (1:1.0.4-1ubuntu1) ...\n",
      "Selecting previously unselected package xfonts-utils.\n",
      "Preparing to unpack .../xfonts-utils_1%3a7.7+1_amd64.deb ...\n",
      "Unpacking xfonts-utils (1:7.7+1) ...\n",
      "Selecting previously unselected package gsfonts-x11.\n",
      "Preparing to unpack .../gsfonts-x11_0.22_all.deb ...\n",
      "Unpacking gsfonts-x11 (0.22) ...\n",
      "Processing triggers for mime-support (3.54ubuntu1.1) ...\n",
      "Processing triggers for shared-mime-info (1.2-0ubuntu3) ...\n",
      "Processing triggers for fontconfig (2.11.0-0ubuntu4.1) ...\n",
      "Processing triggers for man-db (2.6.7.1-1ubuntu1) ...\n",
      "Setting up oracle-java8-installer (8u92+8u91arm-2~really8u91~webupd8~0) ...\n",
      "No /var/cache/oracle-jdk8-installer/wgetrc file found.\n",
      "Creating /var/cache/oracle-jdk8-installer/wgetrc and\n",
      "using default oracle-java8-installer wgetrc settings for it.\n",
      "Downloading Oracle Java 8...\n",
      "--2016-07-09 07:37:30--  http://download.oracle.com/otn-pub/java/jdk/8u91-b14/jdk-8u91-linux-x64.tar.gz\n",
      "Resolving download.oracle.com (download.oracle.com)... 23.3.105.32, 23.3.105.11\n",
      "Connecting to download.oracle.com (download.oracle.com)|23.3.105.32|:80... connected.\n",
      "HTTP request sent, awaiting response... 302 Moved Temporarily\n",
      "Location: https://edelivery.oracle.com/otn-pub/java/jdk/8u91-b14/jdk-8u91-linux-x64.tar.gz [following]\n",
      "--2016-07-09 07:37:30--  https://edelivery.oracle.com/otn-pub/java/jdk/8u91-b14/jdk-8u91-linux-x64.tar.gz\n",
      "Resolving edelivery.oracle.com (edelivery.oracle.com)... 23.14.166.140, 2600:1409:a:19a::2d3e, 2600:1409:a:183::2d3e, ...\n",
      "Connecting to edelivery.oracle.com (edelivery.oracle.com)|23.14.166.140|:443... connected.\n",
      "HTTP request sent, awaiting response... 302 Moved Temporarily\n",
      "Location: https://edelivery.oracle.com/osdc-otn/otn-pub/java/jdk/8u91-b14/jdk-8u91-linux-x64.tar.gz [following]\n",
      "--2016-07-09 07:37:30--  https://edelivery.oracle.com/osdc-otn/otn-pub/java/jdk/8u91-b14/jdk-8u91-linux-x64.tar.gz\n",
      "Reusing existing connection to edelivery.oracle.com:443.\n",
      "HTTP request sent, awaiting response... 302 Moved Temporarily\n",
      "Location: http://download.oracle.com/otn-pub/java/jdk/8u91-b14/jdk-8u91-linux-x64.tar.gz?AuthParam=1468049982_6085bfbd97d4dbc1edfc6ada735fec93 [following]\n",
      "--2016-07-09 07:37:31--  http://download.oracle.com/otn-pub/java/jdk/8u91-b14/jdk-8u91-linux-x64.tar.gz?AuthParam=1468049982_6085bfbd97d4dbc1edfc6ada735fec93\n",
      "Connecting to download.oracle.com (download.oracle.com)|23.3.105.32|:80... connected.\n",
      "HTTP request sent, awaiting response... 200 OK\n",
      "Length: 181367942 (173M) [application/x-gzip]\n",
      "Saving to: ‘jdk-8u91-linux-x64.tar.gz’\n",
      "\n",
      "     0K ........ ........ ........ ........ ........ ........  1% 17.6M 10s\n",
      "  3072K ........ ........ ........ ........ ........ ........  3% 17.6M 9s\n",
      "  6144K ........ ........ ........ ........ ........ ........  5% 16.7M 9s\n",
      "  9216K ........ ........ ........ ........ ........ ........  6% 13.6M 10s\n",
      " 12288K ........ ........ ........ ........ ........ ........  8% 15.4M 10s\n",
      " 15360K ........ ........ ........ ........ ........ ........ 10% 16.2M 10s\n",
      " 18432K ........ ........ ........ ........ ........ ........ 12% 14.8M 10s\n",
      " 21504K ........ ........ ........ ........ ........ ........ 13% 15.9M 9s\n",
      " 24576K ........ ........ ........ ........ ........ ........ 15% 12.3M 9s\n",
      " 27648K ........ ........ ........ ........ ........ ........ 17% 15.2M 9s\n",
      " 30720K ........ ........ ........ ........ ........ ........ 19% 15.5M 9s\n",
      " 33792K ........ ........ ........ ........ ........ ........ 20% 16.4M 9s\n",
      " 36864K ........ ........ ........ ........ ........ ........ 22% 16.4M 9s\n",
      " 39936K ........ ........ ........ ........ ........ ........ 24% 16.4M 8s\n",
      " 43008K ........ ........ ........ ........ ........ ........ 26% 16.6M 8s\n",
      " 46080K ........ ........ ........ ........ ........ ........ 27% 16.3M 8s\n",
      " 49152K ........ ........ ........ ........ ........ ........ 29% 12.4M 8s\n",
      " 52224K ........ ........ ........ ........ ........ ........ 31% 16.2M 8s\n",
      " 55296K ........ ........ ........ ........ ........ ........ 32% 17.9M 7s\n",
      " 58368K ........ ........ ........ ........ ........ ........ 34% 17.5M 7s\n",
      " 61440K ........ ........ ........ ........ ........ ........ 36% 18.1M 7s\n",
      " 64512K ........ ........ ........ ........ ........ ........ 38% 11.1M 7s\n",
      " 67584K ........ ........ ........ ........ ........ ........ 39% 9.22M 7s\n",
      " 70656K ........ ........ ........ ........ ........ ........ 41% 10.1M 7s\n",
      " 73728K ........ ........ ........ ........ ........ ........ 43% 9.77M 7s\n",
      " 76800K ........ ........ ........ ........ ........ ........ 45% 10.1M 7s\n",
      " 79872K ........ ........ ........ ........ ........ ........ 46% 10.3M 7s\n",
      " 82944K ........ ........ ........ ........ ........ ........ 48% 10.4M 6s\n",
      " 86016K ........ ........ ........ ........ ........ ........ 50% 10.1M 6s\n",
      " 89088K ........ ........ ........ ........ ........ ........ 52% 11.5M 6s\n",
      " 92160K ........ ........ ........ ........ ........ ........ 53% 9.44M 6s\n",
      " 95232K ........ ........ ........ ........ ........ ........ 55% 10.8M 6s\n",
      " 98304K ........ ........ ........ ........ ........ ........ 57% 11.9M 6s\n",
      "101376K ........ ........ ........ ........ ........ ........ 58% 10.8M 5s\n",
      "104448K ........ ........ ........ ........ ........ ........ 60% 10.6M 5s\n",
      "107520K ........ ........ ........ ........ ........ ........ 62% 12.3M 5s\n",
      "110592K ........ ........ ........ ........ ........ ........ 64% 6.80M 5s\n",
      "113664K ........ ........ ........ ........ ........ ........ 65% 7.45M 5s\n",
      "116736K ........ ........ ........ ........ ........ ........ 67% 7.88M 5s\n",
      "119808K ........ ........ ........ ........ ........ ........ 69% 8.58M 4s\n",
      "122880K ........ ........ ........ ........ ........ ........ 71% 9.06M 4s\n",
      "125952K ........ ........ ........ ........ ........ ........ 72% 8.83M 4s\n",
      "129024K ........ ........ ........ ........ ........ ........ 74% 8.64M 4s\n",
      "132096K ........ ........ ........ ........ ........ ........ 76% 8.02M 3s\n",
      "135168K ........ ........ ........ ........ ........ ........ 78% 8.78M 3s\n",
      "138240K ........ ........ ........ ........ ........ ........ 79% 9.91M 3s\n",
      "141312K ........ ........ ........ ........ ........ ........ 81% 10.3M 3s\n",
      "144384K ........ ........ ........ ........ ........ ........ 83% 10.9M 3s\n",
      "147456K ........ ........ ........ ........ ........ ........ 84% 11.2M 2s\n",
      "150528K ........ ........ ........ ........ ........ ........ 86% 10.8M 2s\n",
      "153600K ........ ........ ........ ........ ........ ........ 88% 8.27M 2s\n",
      "156672K ........ ........ ........ ........ ........ ........ 90% 11.3M 1s\n",
      "159744K ........ ........ ........ ........ ........ ........ 91% 12.4M 1s\n",
      "162816K ........ ........ ........ ........ ........ ........ 93% 12.2M 1s\n",
      "165888K ........ ........ ........ ........ ........ ........ 95% 13.0M 1s\n",
      "168960K ........ ........ ........ ........ ........ ........ 97% 13.4M 0s\n",
      "172032K ........ ........ ........ ........ ........ ........ 98% 13.6M 0s\n",
      "175104K ........ ........ ........ .......                   100% 13.7M=15s\n",
      "\n",
      "2016-07-09 07:37:46 (11.6 MB/s) - ‘jdk-8u91-linux-x64.tar.gz’ saved [181367942/181367942]\n",
      "\n",
      "Download done.\n",
      "Removing outdated cached downloads...\n",
      "update-alternatives: error: no alternatives for java\n",
      "update-alternatives: using /usr/lib/jvm/java-8-oracle/jre/bin/ControlPanel to provide /usr/bin/ControlPanel (ControlPanel) in auto mode\n",
      "update-alternatives: using /usr/lib/jvm/java-8-oracle/jre/bin/java to provide /usr/bin/java (java) in auto mode\n",
      "update-alternatives: using /usr/lib/jvm/java-8-oracle/jre/bin/javaws to provide /usr/bin/javaws (javaws) in auto mode\n",
      "update-alternatives: using /usr/lib/jvm/java-8-oracle/jre/bin/jcontrol to provide /usr/bin/jcontrol (jcontrol) in auto mode\n",
      "update-alternatives: using /usr/lib/jvm/java-8-oracle/jre/bin/jjs to provide /usr/bin/jjs (jjs) in auto mode\n",
      "update-alternatives: using /usr/lib/jvm/java-8-oracle/jre/bin/keytool to provide /usr/bin/keytool (keytool) in auto mode\n",
      "update-alternatives: using /usr/lib/jvm/java-8-oracle/jre/bin/orbd to provide /usr/bin/orbd (orbd) in auto mode\n",
      "update-alternatives: using /usr/lib/jvm/java-8-oracle/jre/bin/pack200 to provide /usr/bin/pack200 (pack200) in auto mode\n",
      "update-alternatives: using /usr/lib/jvm/java-8-oracle/jre/bin/policytool to provide /usr/bin/policytool (policytool) in auto mode\n",
      "update-alternatives: using /usr/lib/jvm/java-8-oracle/jre/bin/rmid to provide /usr/bin/rmid (rmid) in auto mode\n",
      "update-alternatives: using /usr/lib/jvm/java-8-oracle/jre/bin/rmiregistry to provide /usr/bin/rmiregistry (rmiregistry) in auto mode\n",
      "update-alternatives: using /usr/lib/jvm/java-8-oracle/jre/bin/servertool to provide /usr/bin/servertool (servertool) in auto mode\n",
      "update-alternatives: using /usr/lib/jvm/java-8-oracle/jre/bin/tnameserv to provide /usr/bin/tnameserv (tnameserv) in auto mode\n",
      "update-alternatives: using /usr/lib/jvm/java-8-oracle/jre/bin/unpack200 to provide /usr/bin/unpack200 (unpack200) in auto mode\n",
      "update-alternatives: using /usr/lib/jvm/java-8-oracle/jre/lib/jexec to provide /usr/bin/jexec (jexec) in auto mode\n",
      "update-alternatives: using /usr/lib/jvm/java-8-oracle/bin/appletviewer to provide /usr/bin/appletviewer (appletviewer) in auto mode\n",
      "update-alternatives: using /usr/lib/jvm/java-8-oracle/bin/extcheck to provide /usr/bin/extcheck (extcheck) in auto mode\n",
      "update-alternatives: using /usr/lib/jvm/java-8-oracle/bin/idlj to provide /usr/bin/idlj (idlj) in auto mode\n",
      "update-alternatives: using /usr/lib/jvm/java-8-oracle/bin/jar to provide /usr/bin/jar (jar) in auto mode\n",
      "update-alternatives: using /usr/lib/jvm/java-8-oracle/bin/jarsigner to provide /usr/bin/jarsigner (jarsigner) in auto mode\n",
      "update-alternatives: using /usr/lib/jvm/java-8-oracle/bin/javac to provide /usr/bin/javac (javac) in auto mode\n",
      "update-alternatives: using /usr/lib/jvm/java-8-oracle/bin/javadoc to provide /usr/bin/javadoc (javadoc) in auto mode\n",
      "update-alternatives: using /usr/lib/jvm/java-8-oracle/bin/javafxpackager to provide /usr/bin/javafxpackager (javafxpackager) in auto mode\n",
      "update-alternatives: using /usr/lib/jvm/java-8-oracle/bin/javah to provide /usr/bin/javah (javah) in auto mode\n",
      "update-alternatives: using /usr/lib/jvm/java-8-oracle/bin/javap to provide /usr/bin/javap (javap) in auto mode\n",
      "update-alternatives: using /usr/lib/jvm/java-8-oracle/bin/javapackager to provide /usr/bin/javapackager (javapackager) in auto mode\n",
      "update-alternatives: using /usr/lib/jvm/java-8-oracle/bin/jcmd to provide /usr/bin/jcmd (jcmd) in auto mode\n",
      "update-alternatives: using /usr/lib/jvm/java-8-oracle/bin/jconsole to provide /usr/bin/jconsole (jconsole) in auto mode\n",
      "update-alternatives: using /usr/lib/jvm/java-8-oracle/bin/jdb to provide /usr/bin/jdb (jdb) in auto mode\n",
      "update-alternatives: using /usr/lib/jvm/java-8-oracle/bin/jdeps to provide /usr/bin/jdeps (jdeps) in auto mode\n",
      "update-alternatives: using /usr/lib/jvm/java-8-oracle/bin/jhat to provide /usr/bin/jhat (jhat) in auto mode\n",
      "update-alternatives: using /usr/lib/jvm/java-8-oracle/bin/jinfo to provide /usr/bin/jinfo (jinfo) in auto mode\n",
      "update-alternatives: using /usr/lib/jvm/java-8-oracle/bin/jmap to provide /usr/bin/jmap (jmap) in auto mode\n",
      "update-alternatives: using /usr/lib/jvm/java-8-oracle/bin/jmc to provide /usr/bin/jmc (jmc) in auto mode\n",
      "update-alternatives: using /usr/lib/jvm/java-8-oracle/bin/jps to provide /usr/bin/jps (jps) in auto mode\n",
      "update-alternatives: using /usr/lib/jvm/java-8-oracle/bin/jrunscript to provide /usr/bin/jrunscript (jrunscript) in auto mode\n",
      "update-alternatives: using /usr/lib/jvm/java-8-oracle/bin/jsadebugd to provide /usr/bin/jsadebugd (jsadebugd) in auto mode\n",
      "update-alternatives: using /usr/lib/jvm/java-8-oracle/bin/jstack to provide /usr/bin/jstack (jstack) in auto mode\n",
      "update-alternatives: using /usr/lib/jvm/java-8-oracle/bin/jstat to provide /usr/bin/jstat (jstat) in auto mode\n",
      "update-alternatives: using /usr/lib/jvm/java-8-oracle/bin/jstatd to provide /usr/bin/jstatd (jstatd) in auto mode\n",
      "update-alternatives: using /usr/lib/jvm/java-8-oracle/bin/jvisualvm to provide /usr/bin/jvisualvm (jvisualvm) in auto mode\n",
      "update-alternatives: using /usr/lib/jvm/java-8-oracle/bin/native2ascii to provide /usr/bin/native2ascii (native2ascii) in auto mode\n",
      "update-alternatives: using /usr/lib/jvm/java-8-oracle/bin/rmic to provide /usr/bin/rmic (rmic) in auto mode\n",
      "update-alternatives: using /usr/lib/jvm/java-8-oracle/bin/schemagen to provide /usr/bin/schemagen (schemagen) in auto mode\n",
      "update-alternatives: using /usr/lib/jvm/java-8-oracle/bin/serialver to provide /usr/bin/serialver (serialver) in auto mode\n",
      "update-alternatives: using /usr/lib/jvm/java-8-oracle/bin/wsgen to provide /usr/bin/wsgen (wsgen) in auto mode\n",
      "update-alternatives: using /usr/lib/jvm/java-8-oracle/bin/wsimport to provide /usr/bin/wsimport (wsimport) in auto mode\n",
      "update-alternatives: using /usr/lib/jvm/java-8-oracle/bin/xjc to provide /usr/bin/xjc (xjc) in auto mode\n",
      "Oracle JDK 8 installed\n",
      "update-alternatives: using /usr/lib/jvm/java-8-oracle/jre/lib/amd64/libnpjp2.so to provide /usr/lib/mozilla/plugins/libjavaplugin.so (mozilla-javaplugin.so) in auto mode\n",
      "Oracle JRE 8 browser plugin installed\n",
      "Setting up gsfonts (1:8.11+urwcyr1.0.7~pre44-4.2ubuntu1) ...\n",
      "Setting up xfonts-encodings (1:1.0.4-1ubuntu1) ...\n",
      "Setting up xfonts-utils (1:7.7+1) ...\n",
      "Setting up gsfonts-x11 (0.22) ...\n"
     ]
    }
   ],
   "source": [
    "!echo debconf shared/accepted-oracle-license-v1-1 select true | \\\n",
    "    sudo debconf-set-selections\n",
    "!echo debconf shared/accepted-oracle-license-v1-1 seen true | \\\n",
    "    sudo debconf-set-selections\n",
    "\n",
    "!sudo apt-get -y install oracle-java8-installer"
   ]
  },
  {
   "cell_type": "markdown",
   "metadata": {},
   "source": [
    "## Install Neo4J"
   ]
  },
  {
   "cell_type": "markdown",
   "metadata": {},
   "source": [
    "Neo4J version can be found on their website:\n",
    "\n",
    "* https://neo4j.com/download/other-releases/"
   ]
  },
  {
   "cell_type": "markdown",
   "metadata": {},
   "source": [
    "We'll be using `apt` to install it using the instructions on a mirror website:\n",
    "\n",
    "* http://debian.neo4j.org/"
   ]
  },
  {
   "cell_type": "code",
   "execution_count": null,
   "metadata": {
    "collapsed": false
   },
   "outputs": [
    {
     "name": "stdout",
     "output_type": "stream",
     "text": [
      "--2016-07-09 07:32:47--  https://debian.neo4j.org/neotechnology.gpg.key\n",
      "Resolving debian.neo4j.org (debian.neo4j.org)... 52.0.233.188\n",
      "Connecting to debian.neo4j.org (debian.neo4j.org)|52.0.233.188|:443... connected.\n",
      "HTTP request sent, awaiting response... 200 OK\n",
      "Length: 1679 (1.6K) [application/octet-stream]\n",
      "Saving to: ‘STDOUT’\n",
      "\n",
      "100%[======================================>] 1,679       --.-K/s   in 0s\n",
      "\n",
      "2016-07-09 07:32:48 (378 MB/s) - written to stdout [1679/1679]\n",
      "\n",
      "OK\n",
      "Ign http://us-west-2.ec2.archive.ubuntu.com trusty InRelease\n",
      "Hit http://us-west-2.ec2.archive.ubuntu.com trusty-updates InRelease\n",
      "Hit http://us-west-2.ec2.archive.ubuntu.com trusty-backports InRelease\n",
      "Hit http://us-west-2.ec2.archive.ubuntu.com trusty Release.gpg\n",
      "Hit http://us-west-2.ec2.archive.ubuntu.com trusty Release\n",
      "Hit http://us-west-2.ec2.archive.ubuntu.com trusty-updates/main Sources\n",
      "Hit http://us-west-2.ec2.archive.ubuntu.com trusty-updates/restricted Sources\n",
      "Hit http://us-west-2.ec2.archive.ubuntu.com trusty-updates/universe Sources\n",
      "Hit http://us-west-2.ec2.archive.ubuntu.com trusty-updates/multiverse Sources\n",
      "Hit http://us-west-2.ec2.archive.ubuntu.com trusty-updates/main amd64 Packages\n",
      "Hit http://us-west-2.ec2.archive.ubuntu.com trusty-updates/restricted amd64 Packages\n",
      "Hit http://us-west-2.ec2.archive.ubuntu.com trusty-updates/universe amd64 Packages\n",
      "Hit http://us-west-2.ec2.archive.ubuntu.com trusty-updates/multiverse amd64 Packages\n",
      "Hit http://us-west-2.ec2.archive.ubuntu.com trusty-updates/main Translation-en\n",
      "Hit http://us-west-2.ec2.archive.ubuntu.com trusty-updates/multiverse Translation-en\n",
      "Hit http://us-west-2.ec2.archive.ubuntu.com trusty-updates/restricted Translation-en\n",
      "Hit http://us-west-2.ec2.archive.ubuntu.com trusty-updates/universe Translation-en\n",
      "Hit http://us-west-2.ec2.archive.ubuntu.com trusty-backports/main Sources\n",
      "Hit http://us-west-2.ec2.archive.ubuntu.com trusty-backports/restricted Sources\n",
      "Hit http://us-west-2.ec2.archive.ubuntu.com trusty-backports/universe Sources\n",
      "Hit http://us-west-2.ec2.archive.ubuntu.com trusty-backports/multiverse Sources\n",
      "Hit http://us-west-2.ec2.archive.ubuntu.com trusty-backports/main amd64 Packages\n",
      "Hit http://us-west-2.ec2.archive.ubuntu.com trusty-backports/restricted amd64 Packages\n",
      "Hit http://us-west-2.ec2.archive.ubuntu.com trusty-backports/universe amd64 Packages\n",
      "Hit http://us-west-2.ec2.archive.ubuntu.com trusty-backports/multiverse amd64 Packages\n",
      "Hit http://us-west-2.ec2.archive.ubuntu.com trusty-backports/main Translation-en\n",
      "Hit http://us-west-2.ec2.archive.ubuntu.com trusty-backports/multiverse Translation-en\n",
      "Hit http://us-west-2.ec2.archive.ubuntu.com trusty-backports/restricted Translation-en\n",
      "Hit http://us-west-2.ec2.archive.ubuntu.com trusty-backports/universe Translation-en\n",
      "Hit http://us-west-2.ec2.archive.ubuntu.com trusty/main Sources\n",
      "Hit http://us-west-2.ec2.archive.ubuntu.com trusty/restricted Sources\n",
      "Hit http://us-west-2.ec2.archive.ubuntu.com trusty/universe Sources\n",
      "Hit http://us-west-2.ec2.archive.ubuntu.com trusty/multiverse Sources\n",
      "Hit http://us-west-2.ec2.archive.ubuntu.com trusty/main amd64 Packages\n",
      "Ign http://debian.neo4j.org stable/ InRelease\n",
      "Ign http://repo.mongodb.org trusty/mongodb-org/3.2 InRelease\n",
      "Hit http://us-west-2.ec2.archive.ubuntu.com trusty/restricted amd64 Packages\n",
      "Hit http://us-west-2.ec2.archive.ubuntu.com trusty/universe amd64 Packages\n",
      "Hit http://us-west-2.ec2.archive.ubuntu.com trusty/multiverse amd64 Packages\n",
      "Hit http://us-west-2.ec2.archive.ubuntu.com trusty/main Translation-en\n",
      "Hit http://us-west-2.ec2.archive.ubuntu.com trusty/multiverse Translation-en\n",
      "Hit http://repo.mongodb.org trusty/mongodb-org/3.2 Release.gpg\n",
      "Hit http://us-west-2.ec2.archive.ubuntu.com trusty/restricted Translation-en\n",
      "Hit http://us-west-2.ec2.archive.ubuntu.com trusty/universe Translation-en\n",
      "Hit http://repo.mongodb.org trusty/mongodb-org/3.2 Release\n",
      "Get:1 http://debian.neo4j.org stable/ Release.gpg [819 B]\n",
      "Hit http://repo.mongodb.org trusty/mongodb-org/3.2/multiverse amd64 Packages\n",
      "Ign http://us-west-2.ec2.archive.ubuntu.com trusty/main Translation-en_US\n",
      "Ign http://us-west-2.ec2.archive.ubuntu.com trusty/multiverse Translation-en_US\n",
      "Ign http://us-west-2.ec2.archive.ubuntu.com trusty/restricted Translation-en_US\n",
      "Ign http://us-west-2.ec2.archive.ubuntu.com trusty/universe Translation-en_US\n",
      "Get:2 http://debian.neo4j.org stable/ Release [1,479 B]\n",
      "Hit http://security.ubuntu.com trusty-security InRelease\n",
      "Get:3 http://debian.neo4j.org stable/ Packages [25.0 kB]\n",
      "Hit http://security.ubuntu.com trusty-security/main Sources\n",
      "Hit http://security.ubuntu.com trusty-security/universe Sources\n",
      "Hit http://security.ubuntu.com trusty-security/main amd64 Packages\n",
      "Hit http://security.ubuntu.com trusty-security/universe amd64 Packages\n",
      "Hit http://security.ubuntu.com trusty-security/main Translation-en\n",
      "Ign http://debian.neo4j.org stable/ Translation-en_US\n",
      "Ign http://debian.neo4j.org stable/ Translation-en\n",
      "Hit http://security.ubuntu.com trusty-security/universe Translation-en\n",
      "Ign http://repo.mongodb.org trusty/mongodb-org/3.2/multiverse Translation-en_US\n",
      "Ign http://repo.mongodb.org trusty/mongodb-org/3.2/multiverse Translation-en\n",
      "Fetched 27.3 kB in 2s (13.1 kB/s)\n",
      "Reading package lists... Done\n"
     ]
    }
   ],
   "source": [
    "!wget -O - https://debian.neo4j.org/neotechnology.gpg.key | sudo apt-key add -\n",
    "!echo 'deb http://debian.neo4j.org/repo stable/' >/tmp/neo4j.list\n",
    "!sudo mv /tmp/neo4j.list /etc/apt/sources.list.d\n",
    "!sudo apt-get update"
   ]
  },
  {
   "cell_type": "markdown",
   "metadata": {},
   "source": [
    "Now perform the installation."
   ]
  },
  {
   "cell_type": "code",
   "execution_count": null,
   "metadata": {
    "collapsed": false
   },
   "outputs": [
    {
     "name": "stdout",
     "output_type": "stream",
     "text": [
      "Reading package lists... Done\n",
      "Building dependency tree\n",
      "Reading state information... Done\n",
      "The following extra packages will be installed:\n",
      "  daemon\n",
      "The following NEW packages will be installed:\n",
      "  daemon neo4j\n",
      "0 upgraded, 2 newly installed, 0 to remove and 85 not upgraded.\n",
      "Need to get 60.1 MB of archives.\n",
      "After this operation, 68.6 MB of additional disk space will be used.\n",
      "Get:1 http://us-west-2.ec2.archive.ubuntu.com/ubuntu/ trusty/universe daemon amd64 0.6.4-1 [98.2 kB]\n",
      "Get:2 http://debian.neo4j.org/repo/ stable/ neo4j 3.0.3 [60.0 MB]\n",
      "Fetched 60.1 MB in 14s (4,017 kB/s)\n",
      "Selecting previously unselected package daemon.\n",
      "(Reading database ... 59368 files and directories currently installed.)\n",
      "Preparing to unpack .../daemon_0.6.4-1_amd64.deb ...\n",
      "Unpacking daemon (0.6.4-1) ...\n",
      "Selecting previously unselected package neo4j.\n",
      "Preparing to unpack .../archives/neo4j_3.0.3_all.deb ...\n",
      "Unpacking neo4j (3.0.3) ...\n",
      "Processing triggers for man-db (2.6.7.1-1ubuntu1) ...\n",
      "Processing triggers for ureadahead (0.100.0-16) ...\n",
      "Setting up daemon (0.6.4-1) ...\n",
      "Setting up neo4j (3.0.3) ...\n",
      "Adding system user `neo4j' (UID 107) ...\n",
      "Adding new user `neo4j' (UID 107) with group `nogroup' ...\n",
      "Not creating home directory `/var/lib/neo4j'.\n",
      " Adding system startup for /etc/init.d/neo4j ...\n",
      "   /etc/rc0.d/K20neo4j -> ../init.d/neo4j\n",
      "   /etc/rc1.d/K20neo4j -> ../init.d/neo4j\n",
      "   /etc/rc6.d/K20neo4j -> ../init.d/neo4j\n",
      "   /etc/rc2.d/S20neo4j -> ../init.d/neo4j\n",
      "   /etc/rc3.d/S20neo4j -> ../init.d/neo4j\n",
      "   /etc/rc4.d/S20neo4j -> ../init.d/neo4j\n",
      "   /etc/rc5.d/S20neo4j -> ../init.d/neo4j\n",
      "Starting Neo4j.\n",
      "WARNING: Max 1024 open files allowed, minimum of 40000 recommended. See the Neo4j manual.\n",
      "Started neo4j (pid 7997). By default, it is available at http://localhost:7474/\n",
      "There may be a short delay until the server is ready.\n",
      "See /var/log/neo4j/neo4j.log for current status.\n",
      "Processing triggers for ureadahead (0.100.0-16) ...\n"
     ]
    }
   ],
   "source": [
    "!sudo apt-get -y install neo4j"
   ]
  },
  {
   "cell_type": "markdown",
   "metadata": {},
   "source": [
    "## Enable Remote Connections"
   ]
  },
  {
   "cell_type": "markdown",
   "metadata": {},
   "source": [
    "Here, we enable remote connections and also disable the security on the REST layer. This shouldn't be done on a real production server unless you block access to the port (which you can do trivially using security groups).\n",
    "\n",
    "* https://neo4j.com/docs/operations-manual/current/#security"
   ]
  },
  {
   "cell_type": "code",
   "execution_count": null,
   "metadata": {
    "collapsed": false
   },
   "outputs": [
    {
     "name": "stdout",
     "output_type": "stream",
     "text": [
      "#*****************************************************************\r\n",
      "# Neo4j configuration\r\n",
      "#*****************************************************************\r\n",
      "\r\n",
      "# The name of the database to mount\r\n",
      "#dbms.active_database=graph.db\r\n",
      "\r\n",
      "# Paths of directories in the installation.\r\n",
      "dbms.directories.data=/var/lib/neo4j/data\r\n",
      "dbms.directories.plugins=/var/lib/neo4j/plugins\r\n",
      "#dbms.directories.certificates=certificates\r\n",
      "\r\n",
      "# This setting constrains all `LOAD CSV` import files to be under the `import` directory. Remove or uncomment it to\r\n",
      "# allow files to be loaded from anywhere in filesystem; this introduces possible security problems. See the `LOAD CSV`\r\n",
      "# section of the manual for details.\r\n",
      "dbms.directories.import=import\r\n",
      "\r\n",
      "# Whether requests to Neo4j are authenticated.\r\n",
      "# To disable authentication, uncomment this line\r\n",
      "#dbms.security.auth_enabled=false\r\n",
      "\r\n",
      "# Enable this to be able to upgrade a store from an older version.\r\n",
      "#dbms.allow_format_migration=true\r\n",
      "\r\n",
      "# The amount of memory to use for mapping the store files, in bytes (or\r\n",
      "# kilobytes with the 'k' suffix, megabytes with 'm' and gigabytes with 'g').\r\n",
      "# If Neo4j is running on a dedicated server, then it is generally recommended\r\n",
      "# to leave about 2-4 gigabytes for the operating system, give the JVM enough\r\n",
      "# heap to hold all your transaction state and query context, and then leave the\r\n",
      "# rest for the page cache.\r\n",
      "# The default page cache memory assumes the machine is dedicated to running\r\n",
      "# Neo4j, and is heuristically set to 50% of RAM minus the max Java heap size.\r\n",
      "#dbms.memory.pagecache.size=10g\r\n",
      "\r\n",
      "#*****************************************************************\r\n",
      "# Network connector configuration\r\n",
      "#*****************************************************************\r\n",
      "\r\n",
      "# Bolt connector\r\n",
      "dbms.connector.bolt.type=BOLT\r\n",
      "dbms.connector.bolt.enabled=true\r\n",
      "dbms.connector.bolt.tls_level=OPTIONAL\r\n",
      "# To have Bolt accept non-local connections, uncomment this line\r\n",
      "# dbms.connector.bolt.address=0.0.0.0:7687\r\n",
      "\r\n",
      "# HTTP Connector\r\n",
      "dbms.connector.http.type=HTTP\r\n",
      "dbms.connector.http.enabled=true\r\n",
      "#dbms.connector.http.encryption=NONE\r\n",
      "# To have HTTP accept non-local connections, uncomment this line\r\n",
      "#dbms.connector.http.address=0.0.0.0:7474\r\n",
      "\r\n",
      "# HTTPS Connector\r\n",
      "dbms.connector.https.type=HTTP\r\n",
      "dbms.connector.https.enabled=true\r\n",
      "dbms.connector.https.encryption=TLS\r\n",
      "dbms.connector.https.address=localhost:7473\r\n",
      "\r\n",
      "# Number of Neo4j worker threads.\r\n",
      "#dbms.threads.worker_count=\r\n",
      "\r\n",
      "#*****************************************************************\r\n",
      "# Logging configuration\r\n",
      "#*****************************************************************\r\n",
      "\r\n",
      "# To enable HTTP logging, uncomment this line\r\n",
      "#dbms.logs.http.enabled=true\r\n",
      "\r\n",
      "# To enable GC Logging, uncomment this line\r\n",
      "#dbms.logs.gc.enabled=true\r\n",
      "\r\n",
      "# GC Logging Options\r\n",
      "# see http://docs.oracle.com/cd/E19957-01/819-0084-10/pt_tuningjava.html#wp57013 for more information.\r\n",
      "#dbms.logs.gc.options=-XX:+PrintGCDetails -XX:+PrintGCDateStamps -XX:+PrintGCApplicationStoppedTime -XX:+PrintPromotionFailure -XX:+PrintTenuringDistribution\r\n",
      "\r\n",
      "# Number of GC logs to keep.\r\n",
      "#dbms.logs.gc.rotation.keep_number=5\r\n",
      "\r\n",
      "# Size of each GC log that is kept.\r\n",
      "#dbms.logs.gc.rotation.size=20m\r\n",
      "\r\n",
      "# Size threshold for rotation of the debug log. If set to zero then no rotation will occur. Accepts a binary suffix \"k\",\r\n",
      "# \"m\" or \"g\".\r\n",
      "#dbms.logs.debug.rotation.size=20m\r\n",
      "\r\n",
      "# Maximum number of history files for the internal log.\r\n",
      "#dbms.logs.debug.rotation.keep_number=7\r\n",
      "\r\n",
      "#*****************************************************************\r\n",
      "# Miscellaneous configuration\r\n",
      "#*****************************************************************\r\n",
      "\r\n",
      "# Enable this to specify a parser other than the default one.\r\n",
      "#cypher.default_language_version=3.0\r\n",
      "\r\n",
      "# Determines if Cypher will allow using file URLs when loading data using\r\n",
      "# `LOAD CSV`. Setting this value to `false` will cause Neo4j to fail `LOAD CSV`\r\n",
      "# clauses that load data from the file system.\r\n",
      "#dbms.security.allow_csv_import_from_file_urls=true\r\n",
      "\r\n",
      "# Retention policy for transaction logs needed to perform recovery and backups.\r\n",
      "#dbms.tx_log.rotation.retention_policy=7 days\r\n",
      "\r\n",
      "# Enable a remote shell server which Neo4j Shell clients can log in to.\r\n",
      "#dbms.shell.enabled=true\r\n",
      "# The network interface IP the shell will listen on (use 0.0.0.0 for all interfaces).\r\n",
      "#dbms.shell.host=127.0.0.1\r\n",
      "# The port the shell will listen on, default is 1337.\r\n",
      "#dbms.shell.port=1337\r\n",
      "\r\n",
      "# Only allow read operations from this Neo4j instance. This mode still requires\r\n",
      "# write access to the directory for lock purposes.\r\n",
      "#dbms.read_only=false\r\n",
      "\r\n",
      "# Comma separated list of JAX-RS packages containing JAX-RS resources, one\r\n",
      "# package name for each mountpoint. The listed package names will be loaded\r\n",
      "# under the mountpoints specified. Uncomment this line to mount the\r\n",
      "# org.neo4j.examples.server.unmanaged.HelloWorldResource.java from\r\n",
      "# neo4j-server-examples under /examples/unmanaged, resulting in a final URL of\r\n",
      "# http://localhost:7474/examples/unmanaged/helloworld/{nodeId}\r\n",
      "#dbms.unmanaged_extension_classes=org.neo4j.examples.server.unmanaged=/examples/unmanaged\r\n",
      "\r\n",
      "\r\n",
      "# Directory settings.\r\n",
      "dbms.directories.logs=/var/log/neo4j\r\n",
      "dbms.directories.run=/var/run/neo4j\r\n",
      "dbms.directories.lib=/usr/share/neo4j/lib\r\n",
      "dbms.directories.certificates=/var/lib/neo4j/certificates\r\n",
      "            "
     ]
    }
   ],
   "source": [
    "!cat /etc/neo4j/neo4j.conf"
   ]
  },
  {
   "cell_type": "code",
   "execution_count": null,
   "metadata": {
    "collapsed": false
   },
   "outputs": [],
   "source": [
    "!sudo sed -i 's/#dbms.connector.http.address=/dbms.connector.http.address=/g' /etc/neo4j/neo4j.conf"
   ]
  },
  {
   "cell_type": "code",
   "execution_count": null,
   "metadata": {
    "collapsed": true
   },
   "outputs": [],
   "source": [
    "!sudo sed -i 's/localhost:/0.0.0.0:/g' /etc/neo4j/neo4j.conf"
   ]
  },
  {
   "cell_type": "code",
   "execution_count": null,
   "metadata": {
    "collapsed": true
   },
   "outputs": [],
   "source": [
    "!sudo sed -i 's/#dbms.security.auth_enabled=/dbms.security.auth_enabled=/g' /etc/neo4j/neo4j.conf"
   ]
  },
  {
   "cell_type": "code",
   "execution_count": null,
   "metadata": {
    "collapsed": false
   },
   "outputs": [
    {
     "name": "stdout",
     "output_type": "stream",
     "text": [
      "Stopping Neo4j.. stopped\n",
      "Starting Neo4j.\n",
      "Started neo4j (pid 21399). By default, it is available at http://localhost:7474/\n",
      "There may be a short delay until the server is ready.\n",
      "See /var/log/neo4j/neo4j.log for current status.\n"
     ]
    }
   ],
   "source": [
    "!sudo service neo4j restart"
   ]
  },
  {
   "cell_type": "markdown",
   "metadata": {},
   "source": [
    "## Move to SSD"
   ]
  },
  {
   "cell_type": "markdown",
   "metadata": {},
   "source": [
    "Neo4j will complain about file limits if you haven't setup your file handle limits, so if that's the case, run the following commands in order to increase the limits to avoid warnings."
   ]
  },
  {
   "cell_type": "code",
   "execution_count": null,
   "metadata": {
    "collapsed": false
   },
   "outputs": [
    {
     "name": "stdout",
     "output_type": "stream",
     "text": [
      "root soft nofile 100000\n",
      "root hard nofile 100000\n"
     ]
    }
   ],
   "source": [
    "!echo 'root soft nofile 100000' | sudo tee -a /etc/security/limits.conf\n",
    "!echo 'root hard nofile 100000' | sudo tee -a /etc/security/limits.conf"
   ]
  },
  {
   "cell_type": "markdown",
   "metadata": {},
   "source": [
    "In addition to that, you might be running Neo4j on an EC2 instance that happens to have an extra SSD storage. To improve performance, the section below will move the neo4j data folder and restart the neo4j service after moving the data folder to this SSD storage."
   ]
  },
  {
   "cell_type": "code",
   "execution_count": null,
   "metadata": {
    "collapsed": true
   },
   "outputs": [],
   "source": [
    "import os\n",
    "\n",
    "if os.path.isdir('/xvdb'):\n",
    "    !sudo service neo4j stop\n",
    "\n",
    "    !sudo mkdir /xvdb/neo4j\n",
    "    !sudo mv /var/lib/neo4j/data /xvdb/neo4j\n",
    "    !sudo -u neo4j ln -s /xvdb/neo4j/data /var/lib/neo4j/data\n",
    "    !sudo chown neo4j:adm /var/lib/neo4j/data\n",
    "\n",
    "    !sudo service neo4j start"
   ]
  },
  {
   "cell_type": "markdown",
   "metadata": {},
   "source": [
    "## Confirm Changes"
   ]
  },
  {
   "cell_type": "code",
   "execution_count": null,
   "metadata": {
    "collapsed": false
   },
   "outputs": [
    {
     "name": "stdout",
     "output_type": "stream",
     "text": [
      "http://ec2-54-213-2-79.us-west-2.compute.amazonaws.com:7474/\r\n"
     ]
    }
   ],
   "source": [
    "!echo http://$(curl -s http://169.254.169.254/latest/meta-data/public-hostname):7474/"
   ]
  }
 ],
 "metadata": {
  "kernelspec": {
   "display_name": "Python 2",
   "language": "python",
   "name": "python2"
  },
  "language_info": {
   "codemirror_mode": {
    "name": "ipython",
    "version": 2
   },
   "file_extension": ".py",
   "mimetype": "text/x-python",
   "name": "python",
   "nbconvert_exporter": "python",
   "pygments_lexer": "ipython2",
   "version": "2.7.6"
  }
 },
 "nbformat": 4,
 "nbformat_minor": 0
}
