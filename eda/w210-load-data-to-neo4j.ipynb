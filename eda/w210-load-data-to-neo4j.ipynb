{
 "cells": [
  {
   "cell_type": "markdown",
   "metadata": {},
   "source": [
    "# Install Packages"
   ]
  },
  {
   "cell_type": "code",
   "execution_count": null,
   "metadata": {
    "collapsed": false
   },
   "outputs": [],
   "source": [
    "%matplotlib inline"
   ]
  },
  {
   "cell_type": "code",
   "execution_count": null,
   "metadata": {
    "collapsed": false
   },
   "outputs": [
    {
     "name": "stdout",
     "output_type": "stream",
     "text": [
      "Requirement already satisfied (use --upgrade to upgrade): pymongo in /usr/local/lib/python2.7/dist-packages\r\n",
      "Requirement already satisfied (use --upgrade to upgrade): neo4jrestclient in /usr/local/lib/python2.7/dist-packages\r\n",
      "Requirement already satisfied (use --upgrade to upgrade): requests>=2.1.0 in /usr/lib/python2.7/dist-packages (from neo4jrestclient)\r\n"
     ]
    }
   ],
   "source": [
    "!sudo -H pip install pymongo neo4jrestclient"
   ]
  },
  {
   "cell_type": "code",
   "execution_count": null,
   "metadata": {
    "collapsed": false
   },
   "outputs": [],
   "source": [
    "from collections import defaultdict\n",
    "from datetime import datetime\n",
    "import functools\n",
    "import io\n",
    "import itertools\n",
    "import json\n",
    "from neo4jrestclient.client import GraphDatabase, Node, Path\n",
    "import os\n",
    "import pandas\n",
    "import pickle\n",
    "import pymongo\n",
    "import re"
   ]
  },
  {
   "cell_type": "markdown",
   "metadata": {},
   "source": [
    "# Data Check"
   ]
  },
  {
   "cell_type": "code",
   "execution_count": null,
   "metadata": {
    "collapsed": true
   },
   "outputs": [],
   "source": [
    "mongodb_host = 'ec2-54-213-2-79.us-west-2.compute.amazonaws.com'\n",
    "mongodb_port = '27017'"
   ]
  },
  {
   "cell_type": "code",
   "execution_count": null,
   "metadata": {
    "collapsed": false
   },
   "outputs": [
    {
     "data": {
      "text/plain": [
       "[u'iati', u'local']"
      ]
     },
     "execution_count": null,
     "metadata": {},
     "output_type": "execute_result"
    }
   ],
   "source": [
    "conn=pymongo.MongoClient('mongodb://%s:%s' % (mongodb_host, mongodb_port))\n",
    "\n",
    "# Check database names to test connection and see what's here\n",
    "conn.database_names()"
   ]
  },
  {
   "cell_type": "code",
   "execution_count": null,
   "metadata": {
    "collapsed": false
   },
   "outputs": [
    {
     "data": {
      "text/plain": [
       "[u'organizations',\n",
       " u'activities',\n",
       " u'activities_metadata',\n",
       " u'transactions',\n",
       " u'organizations_metadata']"
      ]
     },
     "execution_count": null,
     "metadata": {},
     "output_type": "execute_result"
    }
   ],
   "source": [
    "# Make iati database\n",
    "db = conn.iati\n",
    "\n",
    "# Create new activities collection and check that manual renaming worked\n",
    "\n",
    "activities=db.activities\n",
    "activities_metadata=db.activities_metadata\n",
    "transactions=db.transactions\n",
    "organizations=db.organizations\n",
    "organizations_metadata=db.organizations_metadata\n",
    "\n",
    "db.collection_names()"
   ]
  },
  {
   "cell_type": "code",
   "execution_count": null,
   "metadata": {
    "collapsed": false
   },
   "outputs": [
    {
     "name": "stdout",
     "output_type": "stream",
     "text": [
      "3562 579320\n"
     ]
    }
   ],
   "source": [
    "print activities_metadata.count(), activities.count()"
   ]
  },
  {
   "cell_type": "code",
   "execution_count": null,
   "metadata": {
    "collapsed": false
   },
   "outputs": [
    {
     "name": "stdout",
     "output_type": "stream",
     "text": [
      "1775777\n"
     ]
    }
   ],
   "source": [
    "print transactions.count()"
   ]
  },
  {
   "cell_type": "code",
   "execution_count": null,
   "metadata": {
    "collapsed": false
   },
   "outputs": [
    {
     "name": "stdout",
     "output_type": "stream",
     "text": [
      "203 7131\n"
     ]
    }
   ],
   "source": [
    "print organizations_metadata.count(), organizations.count()"
   ]
  },
  {
   "cell_type": "markdown",
   "metadata": {},
   "source": [
    "# Insert Into Neo4J"
   ]
  },
  {
   "cell_type": "markdown",
   "metadata": {},
   "source": [
    "We'll now access the graph database via the REST API.\n",
    "\n",
    "* http://neo4j-rest-client.readthedocs.io/en/latest/"
   ]
  },
  {
   "cell_type": "code",
   "execution_count": null,
   "metadata": {
    "collapsed": true
   },
   "outputs": [],
   "source": [
    "neo4j_host = 'ec2-54-213-2-79.us-west-2.compute.amazonaws.com'\n",
    "neo4j_port = '7474'"
   ]
  },
  {
   "cell_type": "code",
   "execution_count": null,
   "metadata": {
    "collapsed": false
   },
   "outputs": [],
   "source": [
    "gdb = GraphDatabase('http://%s:%s/db/data/' % (neo4j_host, neo4j_port))"
   ]
  },
  {
   "cell_type": "markdown",
   "metadata": {},
   "source": [
    "## Add Organizations"
   ]
  },
  {
   "cell_type": "code",
   "execution_count": null,
   "metadata": {
    "collapsed": false
   },
   "outputs": [
    {
     "data": {
      "text/plain": [
       "{u'@default-currency': u'USD',\n",
       " u'@generated-datetime': u'2016-07-06T01:02:22.395',\n",
       " u'@last-updated-datetime': u'2013-11-09T13:02:41.000',\n",
       " u'@version': u'1.03',\n",
       " u'@w210-key': u'globalgiving-org',\n",
       " u'@xml:lang': u'en',\n",
       " u'_id': ObjectId('5785d992ea05914e24d33b29'),\n",
       " u'document-link': [{u'@format': u'text/html',\n",
       "   u'@url': u'https://www.globalgiving.org/donate/1284/little-friends-for-peace-inc/',\n",
       "   u'title': u\"Organisation's GlobalGiving Page\"},\n",
       "  {u'@format': u'text/html',\n",
       "   u'@url': u'http://www.lffp.org',\n",
       "   u'title': u'Organisation Website'}],\n",
       " u'iati-identifier': u'US-GG-1284',\n",
       " u'name': u'Little Friends for Peace Inc',\n",
       " u'reporting-org': {u'#text': u'GlobalGiving',\n",
       "  u'@ref': u'US-EIN-300108263',\n",
       "  u'@type': u'21'}}"
      ]
     },
     "execution_count": null,
     "metadata": {},
     "output_type": "execute_result"
    }
   ],
   "source": [
    "organizations.find_one()"
   ]
  },
  {
   "cell_type": "markdown",
   "metadata": {},
   "source": [
    "## Add Activities"
   ]
  },
  {
   "cell_type": "code",
   "execution_count": null,
   "metadata": {
    "collapsed": true
   },
   "outputs": [],
   "source": [
    "label_organizations = gdb.labels.create('Organization')\n",
    "label_activities = gdb.labels.create('Activity')"
   ]
  },
  {
   "cell_type": "code",
   "execution_count": null,
   "metadata": {
    "collapsed": true
   },
   "outputs": [],
   "source": [
    "def remove_list(activity, attribute):\n",
    "    if attribute not in activity:\n",
    "        return []\n",
    "\n",
    "    value = activity[attribute]\n",
    "    del activity[attribute]\n",
    "\n",
    "    if type(value) != list:\n",
    "        value = [value]\n",
    "\n",
    "    return value"
   ]
  },
  {
   "cell_type": "code",
   "execution_count": null,
   "metadata": {
    "collapsed": true
   },
   "outputs": [],
   "source": [
    "activity_nodes = {}\n",
    "organization_nodes = {}"
   ]
  },
  {
   "cell_type": "code",
   "execution_count": null,
   "metadata": {
    "collapsed": true
   },
   "outputs": [],
   "source": [
    "def add_organization(organization):\n",
    "    global organization_nodes\n",
    "\n",
    "    if '@ref' not in organization:\n",
    "        return None\n",
    "\n",
    "    organization_ref = organization['@ref']\n",
    "\n",
    "    if organization_ref not in organization_nodes:\n",
    "        organization_node = label_organizations.create(\n",
    "            name = organization_ref)\n",
    "\n",
    "        organization_nodes[organization_ref] = organization_node\n",
    "    else:\n",
    "        organization_node = organization_nodes[organization_ref]\n",
    "\n",
    "    return organization_node"
   ]
  },
  {
   "cell_type": "code",
   "execution_count": null,
   "metadata": {
    "collapsed": true
   },
   "outputs": [],
   "source": [
    "def add_activity_relationship(activity_node, relationships, reporter, participant):\n",
    "    reporter_node = add_organization(reporter)\n",
    "    participant_node = add_organization(participant)\n",
    "\n",
    "    if reporter_node is None or participant_node is None:\n",
    "        return\n",
    "\n",
    "    if 'Publisher' not in reporter_node.labels:\n",
    "        reporter_node.labels.add('Publisher')\n",
    "\n",
    "    has_relationship = False\n",
    "\n",
    "    for relationship in relationships:\n",
    "        if relationship.start == reporter_node and relationship.end == participant_node:\n",
    "            has_relationship = True\n",
    "            break\n",
    "\n",
    "    if not has_relationship:\n",
    "        if reporter_node != participant_node:\n",
    "            reporter_node.relationships.create('Reported', activity_node)\n",
    "\n",
    "        relationship = activity_node.relationships.create('Has_Participant', participant_node)\n",
    "        relationships.append(relationship)"
   ]
  },
  {
   "cell_type": "code",
   "execution_count": null,
   "metadata": {
    "collapsed": true
   },
   "outputs": [],
   "source": [
    "def get_text(item):\n",
    "    if type(item) == dict:\n",
    "        if '#text' in item:\n",
    "            return get_text(item['#text'])\n",
    "        else:\n",
    "            return ''\n",
    "\n",
    "    return item"
   ]
  },
  {
   "cell_type": "code",
   "execution_count": null,
   "metadata": {
    "collapsed": true
   },
   "outputs": [],
   "source": [
    "# Based off of the following StackOverflow post for flattening dictionaries\n",
    "# http://stackoverflow.com/questions/6027558/flatten-nested-python-dictionaries-compressing-keys\n",
    "\n",
    "def flatten(d, parent_key=None):\n",
    "    items = []\n",
    "\n",
    "    for k, v in d.items():\n",
    "        new_key = parent_key + '_' + k if parent_key is not None else k\n",
    "\n",
    "        new_key = new_key.replace('@', '')\n",
    "        new_key = new_key.replace('#', '')\n",
    "        new_key = new_key.replace(':', '')\n",
    "        new_key = new_key.replace('-', '_')\n",
    "\n",
    "        if type(v) == dict:\n",
    "            items.extend(flatten(v, new_key))\n",
    "        elif type(v) == list:\n",
    "            sub_items = [get_text(item) for item in v]\n",
    "            items.append((new_key, sub_items))\n",
    "        else:\n",
    "            items.append((new_key, v))\n",
    "\n",
    "    return items"
   ]
  },
  {
   "cell_type": "code",
   "execution_count": null,
   "metadata": {
    "collapsed": true
   },
   "outputs": [],
   "source": [
    "activity_fields = set([\n",
    "    'iati-identifier',\n",
    "    'reporting-org',\n",
    "    'participating-org',\n",
    "    'recipient-country',\n",
    "    'recipient-region',\n",
    "    'location',\n",
    "    'policy-marker',\n",
    "    'sector'\n",
    "])"
   ]
  },
  {
   "cell_type": "code",
   "execution_count": null,
   "metadata": {
    "collapsed": true
   },
   "outputs": [],
   "source": [
    "def replace_list(activity, key, attribute):\n",
    "    item_list = remove_list(activity, key)\n",
    "\n",
    "    if item_list is None or len(item_list) == 0:\n",
    "        return\n",
    "\n",
    "    value = [\n",
    "        item[attribute]\n",
    "            for item in item_list\n",
    "                if item is not None and attribute in item and item[attribute] != ''\n",
    "    ]\n",
    "\n",
    "    if len(value) > 0:\n",
    "        activity[key] = value"
   ]
  },
  {
   "cell_type": "code",
   "execution_count": null,
   "metadata": {
    "collapsed": true
   },
   "outputs": [],
   "source": [
    "def get_sectors(activity):\n",
    "    if 'sector' not in activity:\n",
    "        return []\n",
    "\n",
    "    sectors = activity['sector']\n",
    "\n",
    "    if type(sectors) == dict:\n",
    "        sectors = [sectors]\n",
    "\n",
    "    return [sector['@code'] for sector in sectors if '@code' in sector]"
   ]
  },
  {
   "cell_type": "code",
   "execution_count": null,
   "metadata": {
    "collapsed": false
   },
   "outputs": [],
   "source": [
    "def add_activity_node(activity):\n",
    "    global activity_nodes\n",
    "\n",
    "    if 'iati-identifier' not in activity:\n",
    "        return\n",
    "\n",
    "    activity = {\n",
    "        key : value for key, value in activity.iteritems()\n",
    "            if key in activity_fields\n",
    "    }\n",
    "\n",
    "    activity_key = activity['iati-identifier']\n",
    "\n",
    "    if activity_key in activity_nodes:\n",
    "        return\n",
    "\n",
    "    del activity['iati-identifier']\n",
    "\n",
    "    reporters = remove_list(activity, 'reporting-org')\n",
    "    participants = remove_list(activity, 'participating-org')\n",
    "\n",
    "    replace_list(activity, 'activity-date', '@iso-date')\n",
    "    replace_list(activity, 'sector', '@code')\n",
    "    replace_list(activity, 'policy-marker', '@code')\n",
    "\n",
    "    activity = dict(flatten(activity))\n",
    "\n",
    "    try:\n",
    "        relationships = []\n",
    "\n",
    "        activity_node = label_activities.create(name = activity_key, **activity)\n",
    "        activity_nodes[activity_key] = activity_node\n",
    "\n",
    "        for reporter, participant in itertools.product(reporters, participants):\n",
    "            add_activity_relationship(activity_node, relationships, reporter, reporter)\n",
    "            add_activity_relationship(activity_node, relationships, reporter, participant)\n",
    "    except Exception as e:\n",
    "        print json.dumps(activity, indent=2)\n",
    "        raise e"
   ]
  },
  {
   "cell_type": "code",
   "execution_count": null,
   "metadata": {
    "collapsed": false,
    "scrolled": true
   },
   "outputs": [
    {
     "name": "stdout",
     "output_type": "stream",
     "text": [
      "2016-08-01 05:18:50.477990 Clearing existing graph\n",
      "2016-08-01 05:19:01.746346 Started processing\n",
      "2016-08-01 05:19:01.754366 Processed 0 of 579320\n",
      "2016-08-01 05:29:10.136493 Processed 10000 of 579320\n",
      "2016-08-01 05:38:19.753823 Processed 20000 of 579320\n",
      "2016-08-01 05:45:16.521487 Processed 30000 of 579320\n",
      "2016-08-01 05:52:45.864003 Processed 40000 of 579320\n",
      "2016-08-01 06:00:17.804106 Processed 50000 of 579320\n",
      "2016-08-01 06:09:16.443076 Processed 60000 of 579320\n",
      "2016-08-01 06:17:40.131950 Processed 70000 of 579320\n"
     ]
    }
   ],
   "source": [
    "activity_nodes = {}\n",
    "organization_nodes = {}\n",
    "\n",
    "activities_count = activities.count()\n",
    "\n",
    "print datetime.now(), 'Clearing existing graph'\n",
    "\n",
    "query = \"MATCH (n) OPTIONAL MATCH (n)-[r]-() DELETE n,r\"\n",
    "result = gdb.query(q=query)\n",
    "\n",
    "print datetime.now(), 'Started processing'\n",
    "\n",
    "with open('graph_fill.txt', 'w', 0) as debug_file:\n",
    "    for num, activity in enumerate(activities.find()):\n",
    "        if num % 10000 == 0:\n",
    "            print datetime.now(), 'Processed', num, 'of', activities_count\n",
    "            print >> debug_file, datetime.now(), 'Processed', num, 'of', activities_count\n",
    "\n",
    "        add_activity_node(activity)\n",
    "\n",
    "    print datetime.now(), 'Finished processing'\n",
    "    print >> debug_file, datetime.now(), 'Finished processing'"
   ]
  },
  {
   "cell_type": "markdown",
   "metadata": {},
   "source": [
    "## Add Indexes"
   ]
  },
  {
   "cell_type": "code",
   "execution_count": null,
   "metadata": {
    "collapsed": true
   },
   "outputs": [],
   "source": [
    "result = gdb.query('CREATE INDEX ON :Organization(name)')\n",
    "result = gdb.query('CREATE INDEX ON :Activity(sector)')\n",
    "result = gdb.query('CREATE INDEX ON :Activity(policy_marker)')\n",
    "result = gdb.query('CREATE INDEX ON :Activity(location_description)')"
   ]
  },
  {
   "cell_type": "markdown",
   "metadata": {},
   "source": [
    "## Run Queries"
   ]
  },
  {
   "cell_type": "code",
   "execution_count": null,
   "metadata": {
    "collapsed": true
   },
   "outputs": [],
   "source": [
    "query = '''\n",
    "MATCH (n1)-[r1:Reported]-(a)-[r2:Has_Participant]-(n2)\n",
    "WHERE a.location_description STARTS WITH 'Ghana' AND\n",
    "(\n",
    "    EXISTS(a.policy_marker) AND\n",
    "    ANY(m in a.policy_marker WHERE m IN ['02','05','06','07','08'])\n",
    ")\n",
    "AND\n",
    "(\n",
    "    EXISTS(a.sector) AND\n",
    "    a.sector IN ['14010','14015','14020','14021','14022','14030','14031','14032','14040','14081']\n",
    ")\n",
    "RETURN n1,n2\n",
    "'''"
   ]
  },
  {
   "cell_type": "code",
   "execution_count": null,
   "metadata": {
    "collapsed": false
   },
   "outputs": [],
   "source": [
    "results = gdb.query(query, returns=[Node,Node])"
   ]
  },
  {
   "cell_type": "code",
   "execution_count": null,
   "metadata": {
    "collapsed": false
   },
   "outputs": [],
   "source": [
    "results.rows"
   ]
  },
  {
   "cell_type": "code",
   "execution_count": null,
   "metadata": {
    "collapsed": false
   },
   "outputs": [],
   "source": [
    "for result in results:\n",
    "    print result"
   ]
  },
  {
   "cell_type": "markdown",
   "metadata": {
    "collapsed": true
   },
   "source": [
    "This is the example query used in the slides:\n",
    "\n",
    "    MATCH p=()-[r:Reported]->()\n",
    "    WHERE r.location_description STARTS WITH 'Ghana' AND\n",
    "    (\n",
    "        EXISTS(r.policy_marker) AND\n",
    "        ANY(m in r.policy_marker WHERE m IN ['02','05','06','07','08'])\n",
    "    )\n",
    "    AND\n",
    "    (\n",
    "        r.sector_code IN ['14010','14015','14020','14021','14022','14030','14031','14032','14040','14081']\n",
    "    )\n",
    "    RETURN p"
   ]
  },
  {
   "cell_type": "code",
   "execution_count": null,
   "metadata": {
    "collapsed": true
   },
   "outputs": [],
   "source": []
  }
 ],
 "metadata": {
  "kernelspec": {
   "display_name": "Python 2",
   "language": "python",
   "name": "python2"
  },
  "language_info": {
   "codemirror_mode": {
    "name": "ipython",
    "version": 2
   },
   "file_extension": ".py",
   "mimetype": "text/x-python",
   "name": "python",
   "nbconvert_exporter": "python",
   "pygments_lexer": "ipython2",
   "version": "2.7.6"
  }
 },
 "nbformat": 4,
 "nbformat_minor": 0
}
