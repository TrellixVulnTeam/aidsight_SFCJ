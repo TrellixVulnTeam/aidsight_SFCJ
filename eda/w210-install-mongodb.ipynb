{
 "cells": [
  {
   "cell_type": "markdown",
   "metadata": {},
   "source": [
    "## Install MongoDB"
   ]
  },
  {
   "cell_type": "markdown",
   "metadata": {},
   "source": [
    "MongoDB version can be found on their website.\n",
    "\n",
    "* https://www.mongodb.com/download-center#community"
   ]
  },
  {
   "cell_type": "code",
   "execution_count": null,
   "metadata": {
    "collapsed": true
   },
   "outputs": [],
   "source": [
    "mongodb_version = '3.2.7'"
   ]
  },
  {
   "cell_type": "markdown",
   "metadata": {},
   "source": [
    "We'll now use this to add the correct `apt` repository."
   ]
  },
  {
   "cell_type": "code",
   "execution_count": null,
   "metadata": {
    "collapsed": false
   },
   "outputs": [
    {
     "name": "stdout",
     "output_type": "stream",
     "text": [
      "deb http://repo.mongodb.org/apt/ubuntu trusty/mongodb-org/3.2 multiverse\n",
      "Executing: gpg --ignore-time-conflict --no-options --no-default-keyring --homedir /tmp/tmp.Iv6WI3Rqqr --no-auto-check-trustdb --trust-model always --keyring /etc/apt/trusted.gpg --primary-keyring /etc/apt/trusted.gpg --keyserver keyserver.ubuntu.com --recv-keys\n",
      "Ign http://us-west-2.ec2.archive.ubuntu.com trusty InRelease\n",
      "Hit http://us-west-2.ec2.archive.ubuntu.com trusty-updates InRelease\n",
      "Hit http://us-west-2.ec2.archive.ubuntu.com trusty-backports InRelease\n",
      "Hit http://us-west-2.ec2.archive.ubuntu.com trusty Release.gpg\n",
      "Hit http://us-west-2.ec2.archive.ubuntu.com trusty Release\n",
      "Ign http://repo.mongodb.org trusty/mongodb-org/3.2 InRelease\n",
      "Hit http://us-west-2.ec2.archive.ubuntu.com trusty-updates/main Sources\n",
      "Hit http://us-west-2.ec2.archive.ubuntu.com trusty-updates/restricted Sources\n",
      "Hit http://us-west-2.ec2.archive.ubuntu.com trusty-updates/universe Sources\n",
      "Hit http://us-west-2.ec2.archive.ubuntu.com trusty-updates/multiverse Sources\n",
      "Hit http://us-west-2.ec2.archive.ubuntu.com trusty-updates/main amd64 Packages\n",
      "Hit http://repo.mongodb.org trusty/mongodb-org/3.2 Release.gpg\n",
      "Hit http://us-west-2.ec2.archive.ubuntu.com trusty-updates/restricted amd64 Packages\n",
      "Hit http://us-west-2.ec2.archive.ubuntu.com trusty-updates/universe amd64 Packages\n",
      "Hit http://us-west-2.ec2.archive.ubuntu.com trusty-updates/multiverse amd64 Packages\n",
      "Hit http://us-west-2.ec2.archive.ubuntu.com trusty-updates/main Translation-en\n",
      "Hit http://us-west-2.ec2.archive.ubuntu.com trusty-updates/multiverse Translation-en\n",
      "Hit http://us-west-2.ec2.archive.ubuntu.com trusty-updates/restricted Translation-en\n",
      "Hit http://us-west-2.ec2.archive.ubuntu.com trusty-updates/universe Translation-en\n",
      "Hit http://repo.mongodb.org trusty/mongodb-org/3.2 Release\n",
      "Hit http://repo.mongodb.org trusty/mongodb-org/3.2/multiverse amd64 Packages\n",
      "Hit http://us-west-2.ec2.archive.ubuntu.com trusty-backports/main Sources\n",
      "Hit http://us-west-2.ec2.archive.ubuntu.com trusty-backports/restricted Sources\n",
      "Hit http://us-west-2.ec2.archive.ubuntu.com trusty-backports/universe Sources\n",
      "Hit http://us-west-2.ec2.archive.ubuntu.com trusty-backports/multiverse Sources\n",
      "Hit http://us-west-2.ec2.archive.ubuntu.com trusty-backports/main amd64 Packages\n",
      "Hit http://us-west-2.ec2.archive.ubuntu.com trusty-backports/restricted amd64 Packages\n",
      "Hit http://us-west-2.ec2.archive.ubuntu.com trusty-backports/universe amd64 Packages\n",
      "Hit http://us-west-2.ec2.archive.ubuntu.com trusty-backports/multiverse amd64 Packages\n",
      "Hit http://us-west-2.ec2.archive.ubuntu.com trusty-backports/main Translation-en\n",
      "Hit http://us-west-2.ec2.archive.ubuntu.com trusty-backports/multiverse Translation-en\n",
      "Hit http://us-west-2.ec2.archive.ubuntu.com trusty-backports/restricted Translation-en\n",
      "Hit http://us-west-2.ec2.archive.ubuntu.com trusty-backports/universe Translation-en\n",
      "Hit http://us-west-2.ec2.archive.ubuntu.com trusty/main Sources\n",
      "Hit http://us-west-2.ec2.archive.ubuntu.com trusty/restricted Sources\n",
      "Hit http://us-west-2.ec2.archive.ubuntu.com trusty/universe Sources\n",
      "Hit http://us-west-2.ec2.archive.ubuntu.com trusty/multiverse Sources\n",
      "Hit http://us-west-2.ec2.archive.ubuntu.com trusty/main amd64 Packages\n",
      "Hit http://us-west-2.ec2.archive.ubuntu.com trusty/restricted amd64 Packages\n",
      "Hit http://us-west-2.ec2.archive.ubuntu.com trusty/universe amd64 Packages\n",
      "Hit http://us-west-2.ec2.archive.ubuntu.com trusty/multiverse amd64 Packages\n",
      "Ign http://repo.mongodb.org trusty/mongodb-org/3.2/multiverse Translation-en_US\n",
      "Hit http://us-west-2.ec2.archive.ubuntu.com trusty/main Translation-en\n",
      "Hit http://us-west-2.ec2.archive.ubuntu.com trusty/multiverse Translation-en\n",
      "Hit http://us-west-2.ec2.archive.ubuntu.com trusty/restricted Translation-en\n",
      "Hit http://us-west-2.ec2.archive.ubuntu.com trusty/universe Translation-en\n",
      "Ign http://repo.mongodb.org trusty/mongodb-org/3.2/multiverse Translation-en\n",
      "Ign http://us-west-2.ec2.archive.ubuntu.com trusty/main Translation-en_US\n",
      "Ign http://us-west-2.ec2.archive.ubuntu.com trusty/multiverse Translation-en_US\n",
      "Ign http://us-west-2.ec2.archive.ubuntu.com trusty/restricted Translation-en_US\n",
      "Ign http://us-west-2.ec2.archive.ubuntu.com trusty/universe Translation-en_US\n",
      "Hit http://security.ubuntu.com trusty-security InRelease\n",
      "Hit http://security.ubuntu.com trusty-security/main Sources\n",
      "Hit http://security.ubuntu.com trusty-security/universe Sources\n",
      "Hit http://security.ubuntu.com trusty-security/main amd64 Packages\n",
      "Hit http://security.ubuntu.com trusty-security/universe amd64 Packages\n",
      "Hit http://security.ubuntu.com trusty-security/main Translation-en\n",
      "Hit http://security.ubuntu.com trusty-security/universe Translation-en\n",
      "Reading package lists... Done\n"
     ]
    }
   ],
   "source": [
    "mongodb_major_version = mongodb_version[:mongodb_version.rfind('.')]\n",
    "\n",
    "!echo \"deb http://repo.mongodb.org/apt/ubuntu $(lsb_release -sc)/mongodb-org/{mongodb_major_version} multiverse\" | \\\n",
    "    sudo tee /etc/apt/sources.list.d/mongodb-org-{mongodb_major_version}.list\n",
    "\n",
    "!sudo apt-get update 2>&1 | grep -o \"NO_PUBKEY [0-9A-F]*\" | cut -d' ' -f 2 | \\\n",
    "    xargs sudo apt-key adv --keyserver keyserver.ubuntu.com --recv-keys\n",
    "\n",
    "!sudo apt-get update"
   ]
  },
  {
   "cell_type": "markdown",
   "metadata": {},
   "source": [
    "With the correct `apt` repository, we can now install MongoDB."
   ]
  },
  {
   "cell_type": "code",
   "execution_count": null,
   "metadata": {
    "collapsed": false
   },
   "outputs": [
    {
     "name": "stdout",
     "output_type": "stream",
     "text": [
      "Reading package lists... Done\n",
      "Building dependency tree\n",
      "Reading state information... Done\n",
      "mongodb-org is already the newest version.\n",
      "0 upgraded, 0 newly installed, 0 to remove and 87 not upgraded.\n"
     ]
    }
   ],
   "source": [
    "!sudo apt-get install -y mongodb-org"
   ]
  },
  {
   "cell_type": "markdown",
   "metadata": {},
   "source": [
    "## Configure MongoDB"
   ]
  },
  {
   "cell_type": "code",
   "execution_count": null,
   "metadata": {
    "collapsed": false
   },
   "outputs": [
    {
     "name": "stdout",
     "output_type": "stream",
     "text": [
      "# mongod.conf\r\n",
      "\r\n",
      "# for documentation of all options, see:\r\n",
      "#   http://docs.mongodb.org/manual/reference/configuration-options/\r\n",
      "\r\n",
      "# Where and how to store data.\r\n",
      "storage:\r\n",
      "  dbPath: /var/lib/mongodb\r\n",
      "  journal:\r\n",
      "    enabled: true\r\n",
      "#  engine:\r\n",
      "#  mmapv1:\r\n",
      "#  wiredTiger:\r\n",
      "\r\n",
      "# where to write logging data.\r\n",
      "systemLog:\r\n",
      "  destination: file\r\n",
      "  logAppend: true\r\n",
      "  path: /var/log/mongodb/mongod.log\r\n",
      "\r\n",
      "# network interfaces\r\n",
      "net:\r\n",
      "  port: 27017\r\n",
      "  bindIp: 0.0.0.0\r\n",
      "\r\n",
      "\r\n",
      "#processManagement:\r\n",
      "\r\n",
      "#security:\r\n",
      "\r\n",
      "#operationProfiling:\r\n",
      "\r\n",
      "#replication:\r\n",
      "\r\n",
      "#sharding:\r\n",
      "\r\n",
      "## Enterprise-Only Options:\r\n",
      "\r\n",
      "#auditLog:\r\n",
      "\r\n",
      "#snmp:\r\n"
     ]
    }
   ],
   "source": [
    "!cat /etc/mongod.conf"
   ]
  },
  {
   "cell_type": "markdown",
   "metadata": {},
   "source": [
    "## Enable Remote Access"
   ]
  },
  {
   "cell_type": "code",
   "execution_count": null,
   "metadata": {
    "collapsed": true
   },
   "outputs": [],
   "source": [
    "!sudo sed -i 's/127.0.0.1/0.0.0.0/g' /etc/mongod.conf"
   ]
  },
  {
   "cell_type": "markdown",
   "metadata": {},
   "source": [
    "## Move to SSD"
   ]
  },
  {
   "cell_type": "markdown",
   "metadata": {},
   "source": [
    "You might be running MongoDB on an EC2 instance that happens to have an extra SSD storage. To improve performance, the section below will move the neo4j data folder and restart the mongodb service after moving the data folder to this SSD storage."
   ]
  },
  {
   "cell_type": "code",
   "execution_count": null,
   "metadata": {
    "collapsed": false
   },
   "outputs": [],
   "source": [
    "import os\n",
    "\n",
    "if os.path.isdir('/xvdb') and not os.path.isdir('/xvdb/mongodb'):\n",
    "    !sudo service mongod stop\n",
    "\n",
    "    !sudo rm -rf /var/lib/mongodb\n",
    "    !sudo mkdir /xvdb/mongodb\n",
    "    !sudo chown mongodb:mongodb /xvdb/mongodb\n",
    "    !sudo ln -s /xvdb/mongodb /var/lib/mongodb\n",
    "\n",
    "    !sudo service mongod start"
   ]
  },
  {
   "cell_type": "markdown",
   "metadata": {},
   "source": [
    "## Start MongoDB"
   ]
  },
  {
   "cell_type": "markdown",
   "metadata": {},
   "source": [
    "If nothing needs to be changed, restart the MongoDB instance."
   ]
  },
  {
   "cell_type": "code",
   "execution_count": null,
   "metadata": {
    "collapsed": false
   },
   "outputs": [
    {
     "name": "stdout",
     "output_type": "stream",
     "text": [
      "mongod stop/waiting\r\n",
      "mongod start/running, process 19120\r\n"
     ]
    }
   ],
   "source": [
    "!sudo service mongod restart"
   ]
  }
 ],
 "metadata": {
  "kernelspec": {
   "display_name": "Python 2",
   "language": "python",
   "name": "python2"
  },
  "language_info": {
   "codemirror_mode": {
    "name": "ipython",
    "version": 2
   },
   "file_extension": ".py",
   "mimetype": "text/x-python",
   "name": "python",
   "nbconvert_exporter": "python",
   "pygments_lexer": "ipython2",
   "version": "2.7.6"
  }
 },
 "nbformat": 4,
 "nbformat_minor": 0
}
