{
 "cells": [
  {
   "cell_type": "markdown",
   "metadata": {},
   "source": [
    "# Install Packages"
   ]
  },
  {
   "cell_type": "code",
   "execution_count": null,
   "metadata": {
    "collapsed": false
   },
   "outputs": [],
   "source": [
    "%matplotlib inline"
   ]
  },
  {
   "cell_type": "code",
   "execution_count": null,
   "metadata": {
    "collapsed": false
   },
   "outputs": [
    {
     "name": "stdout",
     "output_type": "stream",
     "text": [
      "Requirement already satisfied (use --upgrade to upgrade): chardet in /usr/lib/python2.7/dist-packages\r\n",
      "Requirement already satisfied (use --upgrade to upgrade): pymongo in /usr/local/lib/python2.7/dist-packages\r\n",
      "Requirement already satisfied (use --upgrade to upgrade): sklearn in /usr/local/lib/python2.7/dist-packages\r\n",
      "Requirement already satisfied (use --upgrade to upgrade): scikit-learn in /usr/local/lib/python2.7/dist-packages (from sklearn)\r\n"
     ]
    }
   ],
   "source": [
    "!sudo -H pip install chardet pymongo sklearn"
   ]
  },
  {
   "cell_type": "code",
   "execution_count": null,
   "metadata": {
    "collapsed": false
   },
   "outputs": [],
   "source": [
    "from __future__ import print_function\n",
    "import bson\n",
    "import chardet\n",
    "from datetime import datetime\n",
    "import io\n",
    "import os\n",
    "from pprint import pprint\n",
    "import pymongo\n",
    "import re\n",
    "from six import string_types"
   ]
  },
  {
   "cell_type": "markdown",
   "metadata": {},
   "source": [
    "# Text Extraction"
   ]
  },
  {
   "cell_type": "markdown",
   "metadata": {},
   "source": [
    "## Confirm Import"
   ]
  },
  {
   "cell_type": "code",
   "execution_count": null,
   "metadata": {
    "collapsed": false
   },
   "outputs": [
    {
     "data": {
      "text/plain": [
       "[u'iati', u'local']"
      ]
     },
     "execution_count": null,
     "metadata": {},
     "output_type": "execute_result"
    }
   ],
   "source": [
    "conn=pymongo.MongoClient()\n",
    "\n",
    "# Check database names to test connection and see what's here\n",
    "conn.database_names()"
   ]
  },
  {
   "cell_type": "code",
   "execution_count": null,
   "metadata": {
    "collapsed": false
   },
   "outputs": [
    {
     "data": {
      "text/plain": [
       "[u'organizations',\n",
       " u'activities',\n",
       " u'cleaned_orgs_full',\n",
       " u'scores',\n",
       " u'activities_metadata',\n",
       " u'transactions']"
      ]
     },
     "execution_count": null,
     "metadata": {},
     "output_type": "execute_result"
    }
   ],
   "source": [
    "# Make iati database\n",
    "db = conn.iati\n",
    "\n",
    "# Create new activities collection and check that manual renaming worked\n",
    "\n",
    "activities=db.activities\n",
    "metadata=db.metadata\n",
    "\n",
    "db.collection_names()"
   ]
  },
  {
   "cell_type": "code",
   "execution_count": null,
   "metadata": {
    "collapsed": false
   },
   "outputs": [
    {
     "data": {
      "text/plain": [
       "[(u'US-EIN-300108263', u'PhotoVoice'),\n",
       " (u'US-EIN-300108263', u'Hope for Youth - Uganda'),\n",
       " (u'US-EIN-300108263', u'Surmang Foundation'),\n",
       " (u'US-EIN-300108263', u'MIREST Nepal'),\n",
       " (u'US-EIN-300108263', u'Melanesia Education Development Foundation Inc'),\n",
       " (u'US-EIN-300108263', u'Water Missions International'),\n",
       " (u'US-EIN-300108263', u'United Through Sport SA'),\n",
       " (u'US-EIN-300108263', u'Nivasa Foundation'),\n",
       " (u'US-EIN-300108263', u'Literacy India'),\n",
       " (u'US-EIN-300108263', u'Fondation Artisans de la Paix Developement au Rwan')]"
      ]
     },
     "execution_count": null,
     "metadata": {},
     "output_type": "execute_result"
    }
   ],
   "source": [
    "def get_en(x):\n",
    "    if type(x) is list:\n",
    "        for y in x:\n",
    "            if isinstance(y,string_types):\n",
    "                return y\n",
    "            if y.get('@xml:lang'=='en'):\n",
    "                return y\n",
    "        return x[0]\n",
    "    return x\n",
    "def get_text(x):\n",
    "    x=get_en(x)\n",
    "    if x is not None:\n",
    "        if isinstance(x, string_types):\n",
    "            return x\n",
    "        txt=x.get('#text')\n",
    "        if isinstance(txt, string_types):\n",
    "            return txt\n",
    "        n=get_en(x.get('narrative'))\n",
    "        if n is not None:\n",
    "            if isinstance(n, string_types):\n",
    "                return n\n",
    "            return n.get('#text')\n",
    "orgs=[]\n",
    "for x in db.organizations.find(projection={'name': True, 'reporting-org': True,  '_id': False}):\n",
    "    if 'reporting-org' in x:\n",
    "        name=get_text(x.get('name'))\n",
    "        org=get_en(x['reporting-org'])\n",
    "        if name is None:\n",
    "            name=get_text(org)\n",
    "        if name is None:\n",
    "            name=\"[unknown]\"\n",
    "        orgs.append((org['@ref'], name))\n",
    "orgs[:10]"
   ]
  },
  {
   "cell_type": "code",
   "execution_count": null,
   "metadata": {
    "collapsed": false
   },
   "outputs": [],
   "source": [
    "id2org=dict(orgs)\n",
    "org2id={y:x for x,y in orgs}"
   ]
  },
  {
   "cell_type": "code",
   "execution_count": null,
   "metadata": {
    "collapsed": false
   },
   "outputs": [],
   "source": [
    "from collections import Counter, defaultdict\n",
    "collabs=defaultdict(Counter)\n",
    "for x in db.activities.find(projection={'name': True,\n",
    "                                          'reporting-org': True,\n",
    "                                          'participating-org': True,\n",
    "                                          '_id': False}):\n",
    "    repOrg=get_en(x['reporting-org'])\n",
    "    repId=None\n",
    "    if not isinstance(repOrg, string_types):\n",
    "        repId=repOrg.get('@ref')\n",
    "    if not repId:\n",
    "        name=get_text(repOrg)\n",
    "        repId=org2id.get(name)\n",
    "        if not repId:\n",
    "            #print(\"Reporting org not found: \", name)\n",
    "            continue\n",
    "\n",
    "    collabIds=[]\n",
    "    partOrgs=x.get('participating-org',[])\n",
    "    if isinstance(partOrgs, string_types):\n",
    "        partOrgs={'@ref': partOrgs}\n",
    "    if not isinstance(partOrgs, list):\n",
    "        partOrgs=[partOrgs]\n",
    "    for y in partOrgs:\n",
    "        ref=None\n",
    "        if not isinstance(y, string_types):\n",
    "            ref=y.get('@ref')\n",
    "        if not ref:\n",
    "            name=get_text(y)\n",
    "            ref=org2id.get(name)\n",
    "            if not ref:\n",
    "                #print(\"Participating org not found: \", name)\n",
    "                continue\n",
    "        if ref!=repId:\n",
    "            collabIds.append(ref)\n",
    "    if collabIds:\n",
    "        collabs[repId].update(collabIds)\n"
   ]
  },
  {
   "cell_type": "code",
   "execution_count": null,
   "metadata": {
    "collapsed": true
   },
   "outputs": [],
   "source": [
    "import pandas as pd\n",
    "import numpy as np\n",
    "df=pd.DataFrame(collabs, columns=id2org.keys(), dtype=float)"
   ]
  },
  {
   "cell_type": "code",
   "execution_count": null,
   "metadata": {
    "collapsed": false
   },
   "outputs": [],
   "source": [
    "# missing is 0, not NA\n",
    "df[df.applymap(np.isnan)]=0"
   ]
  },
  {
   "cell_type": "code",
   "execution_count": null,
   "metadata": {
    "collapsed": false
   },
   "outputs": [],
   "source": [
    "# normalize\n",
    "zdf=df.as_matrix()"
   ]
  },
  {
   "cell_type": "code",
   "execution_count": null,
   "metadata": {
    "collapsed": false
   },
   "outputs": [],
   "source": [
    "sim=zdf.T.dot(zdf)"
   ]
  },
  {
   "cell_type": "code",
   "execution_count": null,
   "metadata": {
    "collapsed": false,
    "scrolled": false
   },
   "outputs": [
    {
     "data": {
      "text/html": [
       "<div>\n",
       "<table border=\"1\" class=\"dataframe\">\n",
       "  <thead>\n",
       "    <tr style=\"text-align: right;\">\n",
       "      <th></th>\n",
       "      <th>0</th>\n",
       "      <th>1</th>\n",
       "      <th>2</th>\n",
       "      <th>3</th>\n",
       "      <th>4</th>\n",
       "      <th>5</th>\n",
       "      <th>6</th>\n",
       "      <th>7</th>\n",
       "      <th>8</th>\n",
       "      <th>9</th>\n",
       "      <th>...</th>\n",
       "      <th>190</th>\n",
       "      <th>191</th>\n",
       "      <th>192</th>\n",
       "      <th>193</th>\n",
       "      <th>194</th>\n",
       "      <th>195</th>\n",
       "      <th>196</th>\n",
       "      <th>197</th>\n",
       "      <th>198</th>\n",
       "      <th>199</th>\n",
       "    </tr>\n",
       "  </thead>\n",
       "  <tbody>\n",
       "    <tr>\n",
       "      <th>count</th>\n",
       "      <td>200.0</td>\n",
       "      <td>2.000000e+02</td>\n",
       "      <td>200.0</td>\n",
       "      <td>2.000000e+02</td>\n",
       "      <td>200.000000</td>\n",
       "      <td>200.0000</td>\n",
       "      <td>2.000000e+02</td>\n",
       "      <td>200.000000</td>\n",
       "      <td>200.0</td>\n",
       "      <td>200.0</td>\n",
       "      <td>...</td>\n",
       "      <td>200.0</td>\n",
       "      <td>200.000000</td>\n",
       "      <td>200.0</td>\n",
       "      <td>200.000000</td>\n",
       "      <td>200.000000</td>\n",
       "      <td>200.000000</td>\n",
       "      <td>200.0</td>\n",
       "      <td>200.000000</td>\n",
       "      <td>200.000000</td>\n",
       "      <td>200.000000</td>\n",
       "    </tr>\n",
       "    <tr>\n",
       "      <th>mean</th>\n",
       "      <td>0.0</td>\n",
       "      <td>5.449285e+03</td>\n",
       "      <td>0.0</td>\n",
       "      <td>3.883613e+05</td>\n",
       "      <td>12.780000</td>\n",
       "      <td>1.2250</td>\n",
       "      <td>1.186897e+05</td>\n",
       "      <td>9.690000</td>\n",
       "      <td>0.0</td>\n",
       "      <td>0.0</td>\n",
       "      <td>...</td>\n",
       "      <td>0.0</td>\n",
       "      <td>8.950000</td>\n",
       "      <td>0.0</td>\n",
       "      <td>0.020000</td>\n",
       "      <td>0.010000</td>\n",
       "      <td>0.955000</td>\n",
       "      <td>0.0</td>\n",
       "      <td>2.245000</td>\n",
       "      <td>2.470000</td>\n",
       "      <td>0.020000</td>\n",
       "    </tr>\n",
       "    <tr>\n",
       "      <th>std</th>\n",
       "      <td>0.0</td>\n",
       "      <td>7.706453e+04</td>\n",
       "      <td>0.0</td>\n",
       "      <td>5.492036e+06</td>\n",
       "      <td>120.944988</td>\n",
       "      <td>5.4996</td>\n",
       "      <td>1.534880e+06</td>\n",
       "      <td>85.489333</td>\n",
       "      <td>0.0</td>\n",
       "      <td>0.0</td>\n",
       "      <td>...</td>\n",
       "      <td>0.0</td>\n",
       "      <td>112.156018</td>\n",
       "      <td>0.0</td>\n",
       "      <td>0.282843</td>\n",
       "      <td>0.141421</td>\n",
       "      <td>6.806218</td>\n",
       "      <td>0.0</td>\n",
       "      <td>14.764652</td>\n",
       "      <td>11.005668</td>\n",
       "      <td>0.282843</td>\n",
       "    </tr>\n",
       "    <tr>\n",
       "      <th>min</th>\n",
       "      <td>0.0</td>\n",
       "      <td>0.000000e+00</td>\n",
       "      <td>0.0</td>\n",
       "      <td>0.000000e+00</td>\n",
       "      <td>0.000000</td>\n",
       "      <td>0.0000</td>\n",
       "      <td>0.000000e+00</td>\n",
       "      <td>0.000000</td>\n",
       "      <td>0.0</td>\n",
       "      <td>0.0</td>\n",
       "      <td>...</td>\n",
       "      <td>0.0</td>\n",
       "      <td>0.000000</td>\n",
       "      <td>0.0</td>\n",
       "      <td>0.000000</td>\n",
       "      <td>0.000000</td>\n",
       "      <td>0.000000</td>\n",
       "      <td>0.0</td>\n",
       "      <td>0.000000</td>\n",
       "      <td>0.000000</td>\n",
       "      <td>0.000000</td>\n",
       "    </tr>\n",
       "    <tr>\n",
       "      <th>25%</th>\n",
       "      <td>0.0</td>\n",
       "      <td>0.000000e+00</td>\n",
       "      <td>0.0</td>\n",
       "      <td>0.000000e+00</td>\n",
       "      <td>0.000000</td>\n",
       "      <td>0.0000</td>\n",
       "      <td>0.000000e+00</td>\n",
       "      <td>0.000000</td>\n",
       "      <td>0.0</td>\n",
       "      <td>0.0</td>\n",
       "      <td>...</td>\n",
       "      <td>0.0</td>\n",
       "      <td>0.000000</td>\n",
       "      <td>0.0</td>\n",
       "      <td>0.000000</td>\n",
       "      <td>0.000000</td>\n",
       "      <td>0.000000</td>\n",
       "      <td>0.0</td>\n",
       "      <td>0.000000</td>\n",
       "      <td>0.000000</td>\n",
       "      <td>0.000000</td>\n",
       "    </tr>\n",
       "    <tr>\n",
       "      <th>50%</th>\n",
       "      <td>0.0</td>\n",
       "      <td>0.000000e+00</td>\n",
       "      <td>0.0</td>\n",
       "      <td>0.000000e+00</td>\n",
       "      <td>0.000000</td>\n",
       "      <td>0.0000</td>\n",
       "      <td>0.000000e+00</td>\n",
       "      <td>0.000000</td>\n",
       "      <td>0.0</td>\n",
       "      <td>0.0</td>\n",
       "      <td>...</td>\n",
       "      <td>0.0</td>\n",
       "      <td>0.000000</td>\n",
       "      <td>0.0</td>\n",
       "      <td>0.000000</td>\n",
       "      <td>0.000000</td>\n",
       "      <td>0.000000</td>\n",
       "      <td>0.0</td>\n",
       "      <td>0.000000</td>\n",
       "      <td>0.000000</td>\n",
       "      <td>0.000000</td>\n",
       "    </tr>\n",
       "    <tr>\n",
       "      <th>75%</th>\n",
       "      <td>0.0</td>\n",
       "      <td>0.000000e+00</td>\n",
       "      <td>0.0</td>\n",
       "      <td>0.000000e+00</td>\n",
       "      <td>0.000000</td>\n",
       "      <td>1.0000</td>\n",
       "      <td>0.000000e+00</td>\n",
       "      <td>0.000000</td>\n",
       "      <td>0.0</td>\n",
       "      <td>0.0</td>\n",
       "      <td>...</td>\n",
       "      <td>0.0</td>\n",
       "      <td>0.000000</td>\n",
       "      <td>0.0</td>\n",
       "      <td>0.000000</td>\n",
       "      <td>0.000000</td>\n",
       "      <td>0.000000</td>\n",
       "      <td>0.0</td>\n",
       "      <td>1.000000</td>\n",
       "      <td>2.000000</td>\n",
       "      <td>0.000000</td>\n",
       "    </tr>\n",
       "    <tr>\n",
       "      <th>max</th>\n",
       "      <td>0.0</td>\n",
       "      <td>1.089857e+06</td>\n",
       "      <td>0.0</td>\n",
       "      <td>7.766913e+07</td>\n",
       "      <td>1440.000000</td>\n",
       "      <td>71.0000</td>\n",
       "      <td>2.169291e+07</td>\n",
       "      <td>1052.000000</td>\n",
       "      <td>0.0</td>\n",
       "      <td>0.0</td>\n",
       "      <td>...</td>\n",
       "      <td>0.0</td>\n",
       "      <td>1574.000000</td>\n",
       "      <td>0.0</td>\n",
       "      <td>4.000000</td>\n",
       "      <td>2.000000</td>\n",
       "      <td>82.000000</td>\n",
       "      <td>0.0</td>\n",
       "      <td>195.000000</td>\n",
       "      <td>142.000000</td>\n",
       "      <td>4.000000</td>\n",
       "    </tr>\n",
       "  </tbody>\n",
       "</table>\n",
       "<p>8 rows × 200 columns</p>\n",
       "</div>"
      ],
      "text/plain": [
       "         0             1      2             3            4         5    \\\n",
       "count  200.0  2.000000e+02  200.0  2.000000e+02   200.000000  200.0000\n",
       "mean     0.0  5.449285e+03    0.0  3.883613e+05    12.780000    1.2250\n",
       "std      0.0  7.706453e+04    0.0  5.492036e+06   120.944988    5.4996\n",
       "min      0.0  0.000000e+00    0.0  0.000000e+00     0.000000    0.0000\n",
       "25%      0.0  0.000000e+00    0.0  0.000000e+00     0.000000    0.0000\n",
       "50%      0.0  0.000000e+00    0.0  0.000000e+00     0.000000    0.0000\n",
       "75%      0.0  0.000000e+00    0.0  0.000000e+00     0.000000    1.0000\n",
       "max      0.0  1.089857e+06    0.0  7.766913e+07  1440.000000   71.0000\n",
       "\n",
       "                6            7      8      9       ...        190  \\\n",
       "count  2.000000e+02   200.000000  200.0  200.0     ...      200.0\n",
       "mean   1.186897e+05     9.690000    0.0    0.0     ...        0.0\n",
       "std    1.534880e+06    85.489333    0.0    0.0     ...        0.0\n",
       "min    0.000000e+00     0.000000    0.0    0.0     ...        0.0\n",
       "25%    0.000000e+00     0.000000    0.0    0.0     ...        0.0\n",
       "50%    0.000000e+00     0.000000    0.0    0.0     ...        0.0\n",
       "75%    0.000000e+00     0.000000    0.0    0.0     ...        0.0\n",
       "max    2.169291e+07  1052.000000    0.0    0.0     ...        0.0\n",
       "\n",
       "               191    192         193         194         195    196  \\\n",
       "count   200.000000  200.0  200.000000  200.000000  200.000000  200.0\n",
       "mean      8.950000    0.0    0.020000    0.010000    0.955000    0.0\n",
       "std     112.156018    0.0    0.282843    0.141421    6.806218    0.0\n",
       "min       0.000000    0.0    0.000000    0.000000    0.000000    0.0\n",
       "25%       0.000000    0.0    0.000000    0.000000    0.000000    0.0\n",
       "50%       0.000000    0.0    0.000000    0.000000    0.000000    0.0\n",
       "75%       0.000000    0.0    0.000000    0.000000    0.000000    0.0\n",
       "max    1574.000000    0.0    4.000000    2.000000   82.000000    0.0\n",
       "\n",
       "              197         198         199\n",
       "count  200.000000  200.000000  200.000000\n",
       "mean     2.245000    2.470000    0.020000\n",
       "std     14.764652   11.005668    0.282843\n",
       "min      0.000000    0.000000    0.000000\n",
       "25%      0.000000    0.000000    0.000000\n",
       "50%      0.000000    0.000000    0.000000\n",
       "75%      1.000000    2.000000    0.000000\n",
       "max    195.000000  142.000000    4.000000\n",
       "\n",
       "[8 rows x 200 columns]"
      ]
     },
     "execution_count": null,
     "metadata": {},
     "output_type": "execute_result"
    }
   ],
   "source": [
    "pd.DataFrame(sim).describe()"
   ]
  },
  {
   "cell_type": "code",
   "execution_count": null,
   "metadata": {
    "collapsed": false
   },
   "outputs": [],
   "source": [
    "import matplotlib.pyplot as plt"
   ]
  },
  {
   "cell_type": "code",
   "execution_count": null,
   "metadata": {
    "collapsed": false
   },
   "outputs": [
    {
     "data": {
      "text/plain": [
       "(array([  3.99960000e+04,   2.00000000e+00,   1.00000000e+00,\n",
       "          0.00000000e+00,   0.00000000e+00,   0.00000000e+00,\n",
       "          0.00000000e+00,   0.00000000e+00,   0.00000000e+00,\n",
       "          1.00000000e+00]),\n",
       " array([  0.00000000e+00,   5.13118020e+08,   1.02623604e+09,\n",
       "          1.53935406e+09,   2.05247208e+09,   2.56559010e+09,\n",
       "          3.07870812e+09,   3.59182614e+09,   4.10494416e+09,\n",
       "          4.61806218e+09,   5.13118020e+09]),\n",
       " <a list of 10 Patch objects>)"
      ]
     },
     "execution_count": null,
     "metadata": {},
     "output_type": "execute_result"
    },
    {
     "data": {
      "image/png": "[encoded data removed]",
      "text/plain": [
      ]
     },
     "metadata": {},
     "output_type": "display_data"
    }
   ],
   "source": [
    "plt.hist(sim.flatten())\n"
   ]
  },
  {
   "cell_type": "code",
   "execution_count": null,
   "metadata": {
    "collapsed": false
   },
   "outputs": [
    {
     "data": {
      "text/plain": [
       "2.9671613001081676e+19"
      ]
     },
     "execution_count": null,
     "metadata": {},
     "output_type": "execute_result"
    }
   ],
   "source": [
    "from sklearn.decomposition import PCA\n",
    "fact=PCA(n_components=.999999999)\n",
    "sim_txf=fact.fit_transform(sim)\n",
    "((sim-fact.components_[sim_txf.argmax(axis=1)])**2).sum()"
   ]
  },
  {
   "cell_type": "markdown",
   "metadata": {
    "collapsed": false
   },
   "source": [
    "### len(orgs), len(set(x[0] for x in orgs)),len(set(x[1] for x in orgs))"
   ]
  },
  {
   "cell_type": "code",
   "execution_count": null,
   "metadata": {
    "collapsed": false
   },
   "outputs": [
    {
     "name": "stdout",
     "output_type": "stream",
     "text": [
      "{u'@default-currency': u'USD',\n",
      " u'@generated-datetime': u'2016-06-25T22:49:09',\n",
      " u'@hierarchy': u'1',\n",
      " u'@last-updated-datetime': u'2016-04-29T10:55:00',\n",
      " u'@w210-key': u'ocha_fts-central_african_republic_2015',\n",
      " u'@xml:lang': u'en',\n",
      " u'_id': ObjectId('5785cc43ea05914e24a7f915'),\n",
      " u'activity-date': [{u'@iso-date': u'2015-01-01', u'@type': u'1'},\n",
      "                    {u'@iso-date': u'2015-12-31', u'@type': u'3'}],\n",
      " u'activity-status': {u'@code': u'2'},\n",
      " u'budget': [{u'@type': u'1',\n",
      "              u'period-end': {u'@iso-date': u'2015-12-31'},\n",
      "              u'period-start': {u'@iso-date': u'2015-01-01'},\n",
      "              u'value': {u'#text': u'0', u'@value-date': u'2015-01-01'}},\n",
      "             {u'@type': u'2',\n",
      "              u'period-end': {u'@iso-date': u'2015-12-31'},\n",
      "              u'period-start': {u'@iso-date': u'2015-01-01'},\n",
      "              u'value': {u'#text': u'0', u'@value-date': u'2015-01-01'}}],\n",
      " u'description': {u'@type': u'2', u'narrative': u'n/a'},\n",
      " u'fts:appeal-title': {u'#text': u'Central African Republic 2015',\n",
      "                       u'@xmlns:fts': u'nothing'},\n",
      " u'fts:appeal-type': {u'#text': u'HRP',\n",
      "                      u'@code': u'50',\n",
      "                      u'@xmlns:fts': u'nothing'},\n",
      " u'fts:cluster': {u'#text': u'PROTECTION', u'@xmlns:fts': u'nothing'},\n",
      " u'fts:emergency-title': {u'#text': u'Central African Republic 2015',\n",
      "                          u'@xmlns:fts': u'nothing'},\n",
      " u'fts:gender-marker': {u'#text': u'0', u'@xmlns:fts': u'nothing'},\n",
      " u'fts:priority': {u'#text': u'D. NOT SPECIFIED', u'@xmlns:fts': u'nothing'},\n",
      " u'iati-identifier': u'XM-OCHA-FTS-CAR-15/P-HR-RL/94360/R/13864',\n",
      " u'other-identifier': {u'@ref': u'CAR-15/P-HR-RL/94360/R/13864',\n",
      "                       u'@type': u'A1',\n",
      "                       u'owner-org': {u'@ref': u'XM-OCHA-FTS',\n",
      "                                      u'narrative': u'UN OCHA Financial Tracking Service'}},\n",
      " u'participating-org': [{u'@ref': u'XM-OCHA-FTS13864',\n",
      "                         u'@role': u'4',\n",
      "                         u'narrative': u'Vitalit\\xe9 Plus'},\n",
      "                        {u'@ref': u'XM-OCHA-FTS7622',\n",
      "                         u'@role': u'1',\n",
      "                         u'@type': u'40',\n",
      "                         u'narrative': u'Common Humanitarian Fund'}],\n",
      " u'recipient-country': {u'@code': u'CF'},\n",
      " u'reporting-org': {u'@ref': u'XM-OCHA-FTS',\n",
      "                    u'@secondary-reporter': u'1',\n",
      "                    u'@type': u'40',\n",
      "                    u'narrative': u'UNOCHA-FTS'},\n",
      " u'sector': [{u'@code': u'72050',\n",
      "              u'@vocabulary': u'1',\n",
      "              u'narrative': u'Relief coordination; protection and support services'},\n",
      "             {u'@code': u'7',\n",
      "              u'@vocabulary': u'99',\n",
      "              u'narrative': u'Protection/Human rights/Rule of law'}],\n",
      " u'title': {u'narrative': u'Protection'},\n",
      " u'transaction': {u'@generated-datetime': u'2016-06-25T22:49:09',\n",
      "                  u'@ref': u'248592',\n",
      "                  u'@w210-activity': u'XM-OCHA-FTS-CAR-15/P-HR-RL/94360/R/13864',\n",
      "                  u'@w210-key': u'ocha_fts-central_african_republic_2015',\n",
      "                  u'finance-type': {u'@code': u'110'},\n",
      "                  u'fts:contribution-category': {u'#text': u'Allocation',\n",
      "                                                 u'@code': u'1',\n",
      "                                                 u'@xmlns:fts': u'nothing'},\n",
      "                  u'provider-org': {u'@ref': u'XM-OCHA-FTS7622',\n",
      "                                    u'narrative': u'Common Humanitarian Fund'},\n",
      "                  u'receiver-org': {u'@ref': u'XM-OCHA-FTS13864',\n",
      "                                    u'narrative': u'Vitalit\\xe9 Plus'},\n",
      "                  u'transaction-date': {u'@iso-date': u'2015-08-28'},\n",
      "                  u'transaction-type': {u'@code': u'3'},\n",
      "                  u'value': {u'#text': u'231332',\n",
      "                             u'@value-date': u'2015-08-28'}}}\n"
     ]
    }
   ],
   "source": [
    "pprint(activities.find_one())"
   ]
  },
  {
   "cell_type": "markdown",
   "metadata": {},
   "source": [
    "## Perform Join"
   ]
  },
  {
   "cell_type": "code",
   "execution_count": null,
   "metadata": {
    "collapsed": false
   },
   "outputs": [],
   "source": [
    "joined_activities = activities.aggregate([{\n",
    "    '$lookup': {\n",
    "        'from': 'metadata',\n",
    "        'localField': '@w210-filename',\n",
    "        'foreignField': '@w210-filename',\n",
    "        'as': 'metadata'\n",
    "    }\n",
    "}])"
   ]
  },
  {
   "cell_type": "code",
   "execution_count": null,
   "metadata": {
    "collapsed": false
   },
   "outputs": [
    {
     "data": {
      "text/plain": [
       "{u'@default-currency': u'USD',\n",
       " u'@generated-datetime': u'2016-06-25T22:49:09',\n",
       " u'@hierarchy': u'1',\n",
       " u'@last-updated-datetime': u'2016-04-29T10:55:00',\n",
       " u'@w210-key': u'ocha_fts-central_african_republic_2015',\n",
       " u'@xml:lang': u'en',\n",
       " u'_id': ObjectId('5785cc43ea05914e24a7f915'),\n",
       " u'activity-date': [{u'@iso-date': u'2015-01-01', u'@type': u'1'},\n",
       "  {u'@iso-date': u'2015-12-31', u'@type': u'3'}],\n",
       " u'activity-status': {u'@code': u'2'},\n",
       " u'budget': [{u'@type': u'1',\n",
       "   u'period-end': {u'@iso-date': u'2015-12-31'},\n",
       "   u'period-start': {u'@iso-date': u'2015-01-01'},\n",
       "   u'value': {u'#text': u'0', u'@value-date': u'2015-01-01'}},\n",
       "  {u'@type': u'2',\n",
       "   u'period-end': {u'@iso-date': u'2015-12-31'},\n",
       "   u'period-start': {u'@iso-date': u'2015-01-01'},\n",
       "   u'value': {u'#text': u'0', u'@value-date': u'2015-01-01'}}],\n",
       " u'description': {u'@type': u'2', u'narrative': u'n/a'},\n",
       " u'fts:appeal-title': {u'#text': u'Central African Republic 2015',\n",
       "  u'@xmlns:fts': u'nothing'},\n",
       " u'fts:appeal-type': {u'#text': u'HRP',\n",
       "  u'@code': u'50',\n",
       "  u'@xmlns:fts': u'nothing'},\n",
       " u'fts:cluster': {u'#text': u'PROTECTION', u'@xmlns:fts': u'nothing'},\n",
       " u'fts:emergency-title': {u'#text': u'Central African Republic 2015',\n",
       "  u'@xmlns:fts': u'nothing'},\n",
       " u'fts:gender-marker': {u'#text': u'0', u'@xmlns:fts': u'nothing'},\n",
       " u'fts:priority': {u'#text': u'D. NOT SPECIFIED', u'@xmlns:fts': u'nothing'},\n",
       " u'iati-identifier': u'XM-OCHA-FTS-CAR-15/P-HR-RL/94360/R/13864',\n",
       " u'metadata': [],\n",
       " u'other-identifier': {u'@ref': u'CAR-15/P-HR-RL/94360/R/13864',\n",
       "  u'@type': u'A1',\n",
       "  u'owner-org': {u'@ref': u'XM-OCHA-FTS',\n",
       "   u'narrative': u'UN OCHA Financial Tracking Service'}},\n",
       " u'participating-org': [{u'@ref': u'XM-OCHA-FTS13864',\n",
       "   u'@role': u'4',\n",
       "   u'narrative': u'Vitalit\\xe9 Plus'},\n",
       "  {u'@ref': u'XM-OCHA-FTS7622',\n",
       "   u'@role': u'1',\n",
       "   u'@type': u'40',\n",
       "   u'narrative': u'Common Humanitarian Fund'}],\n",
       " u'recipient-country': {u'@code': u'CF'},\n",
       " u'reporting-org': {u'@ref': u'XM-OCHA-FTS',\n",
       "  u'@secondary-reporter': u'1',\n",
       "  u'@type': u'40',\n",
       "  u'narrative': u'UNOCHA-FTS'},\n",
       " u'sector': [{u'@code': u'72050',\n",
       "   u'@vocabulary': u'1',\n",
       "   u'narrative': u'Relief coordination; protection and support services'},\n",
       "  {u'@code': u'7',\n",
       "   u'@vocabulary': u'99',\n",
       "   u'narrative': u'Protection/Human rights/Rule of law'}],\n",
       " u'title': {u'narrative': u'Protection'},\n",
       " u'transaction': {u'@generated-datetime': u'2016-06-25T22:49:09',\n",
       "  u'@ref': u'248592',\n",
       "  u'@w210-activity': u'XM-OCHA-FTS-CAR-15/P-HR-RL/94360/R/13864',\n",
       "  u'@w210-key': u'ocha_fts-central_african_republic_2015',\n",
       "  u'finance-type': {u'@code': u'110'},\n",
       "  u'fts:contribution-category': {u'#text': u'Allocation',\n",
       "   u'@code': u'1',\n",
       "   u'@xmlns:fts': u'nothing'},\n",
       "  u'provider-org': {u'@ref': u'XM-OCHA-FTS7622',\n",
       "   u'narrative': u'Common Humanitarian Fund'},\n",
       "  u'receiver-org': {u'@ref': u'XM-OCHA-FTS13864',\n",
       "   u'narrative': u'Vitalit\\xe9 Plus'},\n",
       "  u'transaction-date': {u'@iso-date': u'2015-08-28'},\n",
       "  u'transaction-type': {u'@code': u'3'},\n",
       "  u'value': {u'#text': u'231332', u'@value-date': u'2015-08-28'}}}"
      ]
     },
     "execution_count": null,
     "metadata": {},
     "output_type": "execute_result"
    }
   ],
   "source": [
    "next(joined_activities)"
   ]
  },
  {
   "cell_type": "markdown",
   "metadata": {},
   "source": [
    "## Extract Text"
   ]
  },
  {
   "cell_type": "markdown",
   "metadata": {},
   "source": [
    "Text will be extracted as all fields on the `iati-activity` element as will as all fields on the parent `iati-activities` element."
   ]
  },
  {
   "cell_type": "code",
   "execution_count": null,
   "metadata": {
    "collapsed": false
   },
   "outputs": [],
   "source": [
    "def extract_text(json_object):\n",
    "    if json_object is None:\n",
    "        return ''\n",
    "\n",
    "    text = []\n",
    "\n",
    "    object_type = type(json_object)\n",
    "\n",
    "    # Recursively extract the text based on the data structure until we are at\n",
    "    # the \"no data structure here\" text leaf node.\n",
    "\n",
    "    if object_type is dict:\n",
    "        text = [extract_text(value) for value in json_object.itervalues()]\n",
    "    elif object_type is list:\n",
    "        text = [extract_text(value) for value in json_object]\n",
    "    elif object_type is str or object_type is unicode:\n",
    "        text = [re.sub(r'\\s+', ' ', unicode(json_object)).strip()]\n",
    "    elif object_type is bson.objectid.ObjectId:\n",
    "        text = []\n",
    "    else:\n",
    "        print(object_type)\n",
    "\n",
    "    return ' '.join([item for item in text if len(item) > 0])"
   ]
  },
  {
   "cell_type": "code",
   "execution_count": null,
   "metadata": {
    "collapsed": true
   },
   "outputs": [],
   "source": [
    "def is_valid_ref_format(ref):\n",
    "    if ref.find('-') == -1:\n",
    "        return False\n",
    "\n",
    "    if ref.find(' ') != -1:\n",
    "        return False\n",
    "\n",
    "    return True"
   ]
  },
  {
   "cell_type": "code",
   "execution_count": null,
   "metadata": {
    "collapsed": false
   },
   "outputs": [
    {
     "name": "stdout",
     "output_type": "stream",
     "text": [
      "2016-08-09 20:02:48.949379 Started processing\n",
      "2016-08-09 20:02:48.949794 Processed 0 of 579320\n",
      "2016-08-09 20:03:14.037412 Processed 25000 of 579320\n",
      "2016-08-09 20:03:36.605837 Processed 50000 of 579320\n",
      "2016-08-09 20:03:56.505320 Processed 75000 of 579320\n",
      "2016-08-09 20:04:20.176770 Processed 100000 of 579320\n",
      "2016-08-09 20:04:46.212902 Processed 125000 of 579320\n",
      "2016-08-09 20:05:10.313154 Processed 150000 of 579320\n",
      "2016-08-09 20:05:32.623133 Processed 175000 of 579320\n",
      "2016-08-09 20:05:54.823963 Processed 200000 of 579320\n",
      "2016-08-09 20:06:13.951098 Processed 225000 of 579320\n",
      "2016-08-09 20:06:36.129481 Processed 250000 of 579320\n",
      "2016-08-09 20:06:58.823961 Processed 275000 of 579320\n",
      "2016-08-09 20:07:15.913969 Processed 300000 of 579320\n",
      "2016-08-09 20:07:41.354056 Processed 325000 of 579320\n",
      "2016-08-09 20:08:01.713421 Processed 350000 of 579320\n",
      "2016-08-09 20:08:25.723077 Processed 375000 of 579320\n",
      "2016-08-09 20:08:47.002416 Processed 400000 of 579320\n",
      "2016-08-09 20:09:07.004695 Processed 425000 of 579320\n",
      "2016-08-09 20:09:26.164120 Processed 450000 of 579320\n",
      "2016-08-09 20:09:52.949401 Processed 475000 of 579320\n",
      "2016-08-09 20:10:18.053828 Processed 500000 of 579320\n",
      "2016-08-09 20:10:38.576909 Processed 525000 of 579320\n",
      "2016-08-09 20:10:53.999383 Processed 550000 of 579320\n",
      "2016-08-09 20:11:15.750394 Processed 575000 of 579320\n",
      "2016-08-09 20:11:20.145884 Finished processing\n",
      "CPU times: user 7min 40s, sys: 4.4 s, total: 7min 44s\n",
      "Wall time: 8min 31s\n"
     ]
    }
   ],
   "source": [
    "%%time\n",
    "parse_failures = []\n",
    "activities_count = activities.count()\n",
    "\n",
    "print(datetime.now(), 'Started processing')\n",
    "\n",
    "with io.open('iati_text.txt', 'w', encoding='utf-8') as f:\n",
    "    for num, activity in enumerate(joined_activities):\n",
    "        if num % 25000 == 0:\n",
    "            print(datetime.now(), 'Processed', num, 'of', activities_count)\n",
    "\n",
    "        try:\n",
    "            row_id = activity['reporting-org']['@ref']\n",
    "\n",
    "            if is_valid_ref_format(row_id):\n",
    "                f.write(row_id + '\\t' + extract_text(activity) + '\\n')\n",
    "        except Exception as e:\n",
    "            parse_failures.append((activity, e))\n",
    "\n",
    "print(datetime.now(), 'Finished processing')"
   ]
  },
  {
   "cell_type": "markdown",
   "metadata": {},
   "source": [
    "Also want to check for failures."
   ]
  },
  {
   "cell_type": "code",
   "execution_count": null,
   "metadata": {
    "collapsed": false
   },
   "outputs": [
    {
     "data": {
      "text/plain": [
       "543"
      ]
     },
     "execution_count": null,
     "metadata": {},
     "output_type": "execute_result"
    }
   ],
   "source": [
    "len(parse_failures)"
   ]
  },
  {
   "cell_type": "markdown",
   "metadata": {
    "collapsed": true
   },
   "source": [
    "# Upload to S3"
   ]
  },
  {
   "cell_type": "code",
   "execution_count": null,
   "metadata": {
    "collapsed": false
   },
   "outputs": [
    {
     "name": "stdout",
     "output_type": "stream",
     "text": [
      "upload: ./iati_text.txt.gz to s3://mdang.w210/iati_text.txt.gz\n"
     ]
    }
   ],
   "source": [
    "if os.path.isfile('iati_text.txt'):\n",
    "    !rm -f iati_text.txt.gz\n",
    "    !gzip iati_text.txt\n",
    "\n",
    "!aws s3 cp iati_text.txt.gz s3://mdang.w210/ --acl public-read"
   ]
  }
 ],
 "metadata": {
  "kernelspec": {
   "display_name": "Python 2",
   "language": "python",
   "name": "python2"
  },
  "language_info": {
   "codemirror_mode": {
    "name": "ipython",
    "version": 2
   },
   "file_extension": ".py",
   "mimetype": "text/x-python",
   "name": "python",
   "nbconvert_exporter": "python",
   "pygments_lexer": "ipython2",
   "version": "2.7.6"
  }
 },
 "nbformat": 4,
 "nbformat_minor": 0
}
