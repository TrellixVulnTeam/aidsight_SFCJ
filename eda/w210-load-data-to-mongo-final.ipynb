{
 "cells": [
  {
   "cell_type": "markdown",
   "metadata": {},
   "source": [
    "# Install Packages"
   ]
  },
  {
   "cell_type": "code",
   "execution_count": null,
   "metadata": {
    "collapsed": false
   },
   "outputs": [],
   "source": [
    "%matplotlib inline"
   ]
  },
  {
   "cell_type": "code",
   "execution_count": null,
   "metadata": {
    "collapsed": false
   },
   "outputs": [
    {
     "name": "stdout",
     "output_type": "stream",
     "text": [
      "Requirement already satisfied (use --upgrade to upgrade): chardet in /usr/lib/python2.7/dist-packages\r\n",
      "Requirement already satisfied (use --upgrade to upgrade): pandas in /usr/local/lib/python2.7/dist-packages\r\n",
      "Requirement already satisfied (use --upgrade to upgrade): pymongo in /usr/local/lib/python2.7/dist-packages\r\n",
      "Requirement already satisfied (use --upgrade to upgrade): xmltodict in /usr/local/lib/python2.7/dist-packages\r\n",
      "Requirement already satisfied (use --upgrade to upgrade): pytz>=2011k in /usr/local/lib/python2.7/dist-packages (from pandas)\r\n",
      "Requirement already satisfied (use --upgrade to upgrade): python-dateutil in /usr/local/lib/python2.7/dist-packages (from pandas)\r\n",
      "Requirement already satisfied (use --upgrade to upgrade): numpy>=1.7.0 in /usr/local/lib/python2.7/dist-packages (from pandas)\r\n",
      "Requirement already satisfied (use --upgrade to upgrade): six>=1.5 in /usr/local/lib/python2.7/dist-packages (from python-dateutil->pandas)\r\n"
     ]
    }
   ],
   "source": [
    "!sudo -H pip install chardet pandas pymongo xmltodict"
   ]
  },
  {
   "cell_type": "code",
   "execution_count": null,
   "metadata": {
    "collapsed": false
   },
   "outputs": [],
   "source": [
    "import chardet\n",
    "from datetime import datetime\n",
    "import functools\n",
    "import io\n",
    "import json\n",
    "import os\n",
    "import pandas\n",
    "import pickle\n",
    "import pprint\n",
    "import pymongo\n",
    "import xmltodict"
   ]
  },
  {
   "cell_type": "markdown",
   "metadata": {},
   "source": [
    "# Reload the Metadata"
   ]
  },
  {
   "cell_type": "code",
   "execution_count": null,
   "metadata": {
    "collapsed": false
   },
   "outputs": [],
   "source": [
    "# If we don't have any of the cached data files, download them from S3\n",
    "\n",
    "if not os.path.isdir('iati'):\n",
    "    !aws s3 --region us-west-2 cp s3://mdang.w210/iati.tar.gz .\n",
    "    !tar -zxf iati.tar.gz\n",
    "\n",
    "if not os.path.isfile('activities_metadata.json'):\n",
    "    !aws s3 cp s3://mdang.w210/activities_metadata.json.gz .\n",
    "    !gunzip activities_metadata.json.gz\n",
    "\n",
    "if not os.path.isdir('iati-orgs'):\n",
    "    !aws s3 --region us-west-2 cp s3://mdang.w210/iati-orgs.tar.gz\n",
    "    !tar -zxf iati-orgs.tar.gz\n",
    "\n",
    "if not os.path.isfile('organization_metadata.json'):\n",
    "    !aws s3 cp s3://mdang.w210/organization_metadata.json.gz ."
   ]
  },
  {
   "cell_type": "code",
   "execution_count": null,
   "metadata": {
    "collapsed": false
   },
   "outputs": [],
   "source": [
    "with io.open('activities_metadata.json', 'r', encoding = 'utf8') as f:\n",
    "    activity_metadata_json = json.load(f)\n",
    "    activity_metadata_dict = { item['name']: item for item in activity_metadata_json }\n",
    "\n",
    "with io.open('organization_metadata.json', 'r', encoding = 'utf8') as f:\n",
    "    organization_metadata_json = json.load(f)\n",
    "    organization_metadata_dict = { item['name']: item for item in organization_metadata_json }"
   ]
  },
  {
   "cell_type": "markdown",
   "metadata": {},
   "source": [
    "# Putting it all together\n",
    "\n",
    "Recycling content from earlier to import everything directly to activity level in one go.  This should help deal with the size issue we encountered earlier.\n",
    "\n",
    "First, I'll manually rename the existing collections to make it easier to keep track of things.  \"activities\" is now \"xml_docs\" and \"simple_activities\" is now \"first_pass_activities\".  I'll probably drop these both once I've got the real \"activities\" collection made (which happens below)"
   ]
  },
  {
   "cell_type": "code",
   "execution_count": null,
   "metadata": {
    "collapsed": false
   },
   "outputs": [],
   "source": [
    "conn=pymongo.MongoClient()\n",
    "\n",
    "# Check database names to test connection and see what's here\n",
    "conn.database_names()\n",
    "\n",
    "# Make iati database\n",
    "db = conn.iati"
   ]
  },
  {
   "cell_type": "code",
   "execution_count": null,
   "metadata": {
    "collapsed": false
   },
   "outputs": [],
   "source": [
    "db.drop_collection('activities')\n",
    "db.drop_collection('activities_metadata')\n",
    "db.drop_collection('organizations')\n",
    "db.drop_collection('organizations_metadata')\n",
    "db.drop_collection('transactions')"
   ]
  },
  {
   "cell_type": "code",
   "execution_count": null,
   "metadata": {
    "collapsed": false
   },
   "outputs": [
    {
     "data": {
      "text/plain": [
       "[]"
      ]
     },
     "execution_count": null,
     "metadata": {},
     "output_type": "execute_result"
    }
   ],
   "source": [
    "# Create new activities collection and check that manual renaming worked\n",
    "\n",
    "activities=db.activities\n",
    "activities_metadata=db.activities_metadata\n",
    "\n",
    "organizations=db.organizations\n",
    "organizations_metadata=db.organizations_metadata\n",
    "\n",
    "transactions=db.transactions\n",
    "\n",
    "db.collection_names()"
   ]
  },
  {
   "cell_type": "markdown",
   "metadata": {},
   "source": [
    "## Activities"
   ]
  },
  {
   "cell_type": "code",
   "execution_count": null,
   "metadata": {
    "collapsed": true
   },
   "outputs": [],
   "source": [
    "def insert_activity(entries, f, metadata_key, generated_datetime):\n",
    "    if type(entries) != list:\n",
    "        entries = [entries]\n",
    "\n",
    "    activity_transactions = []\n",
    "\n",
    "    for entry in entries:\n",
    "        if 'transaction' in entry:\n",
    "            entry_transactions = entry['transaction']\n",
    "\n",
    "            if type(entry_transactions) != list:\n",
    "                entry_transactions = [entry_transactions]\n",
    "\n",
    "            for transaction in entry_transactions:\n",
    "                if 'iati-identifier' in entry:\n",
    "                    transaction['@w210-activity'] = entry['iati-identifier']\n",
    "\n",
    "                transaction[u'@w210-key'] = metadata_key\n",
    "                transaction[u'@generated-datetime'] = generated_datetime\n",
    "\n",
    "            activity_transactions += entry_transactions\n",
    "\n",
    "        entry[u'@w210-key'] = metadata_key\n",
    "        entry[u'@generated-datetime'] = generated_datetime\n",
    "\n",
    "    if len(entries) > 0:\n",
    "        activities.insert_many(entries)\n",
    "\n",
    "    if len(activity_transactions) > 0:\n",
    "        transactions.insert_many(activity_transactions)"
   ]
  },
  {
   "cell_type": "code",
   "execution_count": null,
   "metadata": {
    "collapsed": true
   },
   "outputs": [],
   "source": [
    "def insert_activities(f, i):\n",
    "    # Extract the activities, but store the remainder as metadata we\n",
    "    # can join with for other purposes.\n",
    "\n",
    "    if 'iati-activity' not in i['iati-activities']:\n",
    "        return\n",
    "\n",
    "    entries = i['iati-activities']['iati-activity']\n",
    "    del i['iati-activities']['iati-activity']\n",
    "\n",
    "    metadata_key = f.name[5:-4]\n",
    "\n",
    "    if metadata_key in activity_metadata_dict:\n",
    "        i.update(activity_metadata_dict[metadata_key])\n",
    "\n",
    "    # Save this alongside each entry\n",
    "\n",
    "    i['@w210-key'] = metadata_key\n",
    "\n",
    "    activities_metadata.insert_one(i)\n",
    "\n",
    "    generated_datetime = None\n",
    "\n",
    "    if '@generated-datetime' in i['iati-activities']:\n",
    "        generated_datetime = i['iati-activities']['@generated-datetime']\n",
    "\n",
    "    insert_activity(entries, f, metadata_key, generated_datetime)"
   ]
  },
  {
   "cell_type": "code",
   "execution_count": null,
   "metadata": {
    "collapsed": false
   },
   "outputs": [],
   "source": [
    "def import_activity_xml(f, xml):\n",
    "    i = xmltodict.parse(xml)\n",
    "\n",
    "    # Check for errors in activity structure\n",
    "\n",
    "    try:\n",
    "        insert_activities(f, i)\n",
    "    except Exception as e:\n",
    "        activity_failures[f.name] = e"
   ]
  },
  {
   "cell_type": "code",
   "execution_count": null,
   "metadata": {
    "collapsed": true
   },
   "outputs": [],
   "source": [
    "def import_activity_document(f):\n",
    "    global activity_failures, activity_xml_failures\n",
    "\n",
    "    # The XML file may be encoded as UTF-16 or really any other encoding.\n",
    "    # If it doesn't contain the \"<iati-activities\" tag, then it may be\n",
    "    # due to an encoding problem.\n",
    "\n",
    "    xml=f.read()\n",
    "\n",
    "    if xml.find('iati-activities') == -1:\n",
    "        charset = chardet.detect(xml)['encoding']\n",
    "        xml = xml.decode(charset)\n",
    "\n",
    "        # If after decoding the file, we still don't have the tag we were\n",
    "        # looking for, we probably wound up with an HTML file.\n",
    "\n",
    "        if xml.find('iati-activities') == -1:\n",
    "            activity_xml_failures[f.name] = 'html'\n",
    "            return\n",
    "\n",
    "    try:\n",
    "        import_activity_xml(f, xml)\n",
    "        return\n",
    "    except Exception as e:\n",
    "        pass\n",
    "\n",
    "    try:\n",
    "        charset = chardet.detect(xml)['encoding']\n",
    "        xml = xml.decode(charset)\n",
    "\n",
    "        import_activity_xml(f, xml)\n",
    "    except Exception as e:\n",
    "        activity_xml_failures[f.name] = e"
   ]
  },
  {
   "cell_type": "code",
   "execution_count": null,
   "metadata": {
    "collapsed": false
   },
   "outputs": [
    {
     "name": "stdout",
     "output_type": "stream",
     "text": [
      "2016-07-10 15:59:34.503979 Started processing\n",
      "2016-07-10 15:59:34.505726 Processed 0 of 3591\n",
      "2016-07-10 16:01:18.711691 Processed 100 of 3591\n",
      "2016-07-10 16:02:22.121229 Processed 200 of 3591\n",
      "2016-07-10 16:03:23.672192 Processed 300 of 3591\n",
      "2016-07-10 16:04:03.608214 Processed 400 of 3591\n",
      "2016-07-10 16:05:10.387374 Processed 500 of 3591\n",
      "2016-07-10 16:06:46.726610 Processed 600 of 3591\n",
      "2016-07-10 16:08:21.990811 Processed 700 of 3591\n",
      "2016-07-10 16:09:32.672804 Processed 800 of 3591\n",
      "2016-07-10 16:10:55.906091 Processed 900 of 3591\n",
      "2016-07-10 16:12:07.690869 Processed 1000 of 3591\n",
      "2016-07-10 16:13:17.715977 Processed 1100 of 3591\n",
      "2016-07-10 16:14:08.524673 Processed 1200 of 3591\n",
      "2016-07-10 16:15:00.285376 Processed 1300 of 3591\n",
      "2016-07-10 16:15:52.603794 Processed 1400 of 3591\n",
      "2016-07-10 16:16:34.878111 Processed 1500 of 3591\n",
      "2016-07-10 16:17:24.813415 Processed 1600 of 3591\n",
      "2016-07-10 16:18:31.411999 Processed 1700 of 3591\n",
      "2016-07-10 16:19:43.130588 Processed 1800 of 3591\n",
      "2016-07-10 16:20:26.259623 Processed 1900 of 3591\n",
      "2016-07-10 16:21:39.098244 Processed 2000 of 3591\n",
      "2016-07-10 16:22:27.696152 Processed 2100 of 3591\n",
      "2016-07-10 16:23:57.414140 Processed 2200 of 3591\n",
      "2016-07-10 16:24:57.189132 Processed 2300 of 3591\n",
      "2016-07-10 16:26:47.211350 Processed 2400 of 3591\n",
      "2016-07-10 16:27:38.702992 Processed 2500 of 3591\n",
      "2016-07-10 16:29:26.521240 Processed 2600 of 3591\n",
      "2016-07-10 16:30:10.008095 Processed 2700 of 3591\n",
      "2016-07-10 16:31:12.415154 Processed 2800 of 3591\n",
      "2016-07-10 16:32:40.772572 Processed 2900 of 3591\n",
      "2016-07-10 16:33:30.498378 Processed 3000 of 3591\n",
      "2016-07-10 16:34:52.897880 Processed 3100 of 3591\n",
      "2016-07-10 16:35:48.785576 Processed 3200 of 3591\n",
      "2016-07-10 16:36:57.967756 Processed 3300 of 3591\n",
      "2016-07-10 16:38:02.166994 Processed 3400 of 3591\n",
      "2016-07-10 16:39:15.193548 Processed 3500 of 3591\n",
      "2016-07-10 16:39:53.454195 Finished processing\n"
     ]
    }
   ],
   "source": [
    "activity_failures={}\n",
    "activity_xml_failures={}\n",
    "\n",
    "path_to_data = 'iati'\n",
    "\n",
    "files = os.listdir(path_to_data)\n",
    "\n",
    "print datetime.now(), 'Started processing'\n",
    "\n",
    "for num, i in enumerate(os.listdir(path_to_data)):\n",
    "    if num % 100 == 0:\n",
    "        print datetime.now(), 'Processed', num, 'of', len(files)\n",
    "\n",
    "    if not i.endswith(\".xml\"):\n",
    "        continue\n",
    "\n",
    "    with open(path_to_data+'/'+i) as f:\n",
    "        import_activity_document(f)\n",
    "\n",
    "print datetime.now(), 'Finished processing'"
   ]
  },
  {
   "cell_type": "code",
   "execution_count": null,
   "metadata": {
    "collapsed": false
   },
   "outputs": [
    {
     "name": "stdout",
     "output_type": "stream",
     "text": [
      "579320 2251178\n",
      "17\n",
      "0\n"
     ]
    }
   ],
   "source": [
    "print activities.count(), transactions.count()\n",
    "print len(activity_xml_failures)\n",
    "print len(activity_failures)"
   ]
  },
  {
   "cell_type": "code",
   "execution_count": null,
   "metadata": {
    "collapsed": false
   },
   "outputs": [
    {
     "data": {
      "text/plain": [
       "{u'@default-currency': u'USD',\n",
       " u'@generated-datetime': u'2016-06-25T22:49:09',\n",
       " u'@hierarchy': u'1',\n",
       " u'@last-updated-datetime': u'2016-04-29T10:55:00',\n",
       " u'@w210-key': u'ocha_fts-central_african_republic_2015',\n",
       " u'@xml:lang': u'en',\n",
       " u'_id': ObjectId('578270e7b6b1a62fd0a941d4'),\n",
       " u'activity-date': [{u'@iso-date': u'2015-01-01', u'@type': u'1'},\n",
       "  {u'@iso-date': u'2015-12-31', u'@type': u'3'}],\n",
       " u'activity-status': {u'@code': u'2'},\n",
       " u'budget': [{u'@type': u'1',\n",
       "   u'period-end': {u'@iso-date': u'2015-12-31'},\n",
       "   u'period-start': {u'@iso-date': u'2015-01-01'},\n",
       "   u'value': {u'#text': u'0', u'@value-date': u'2015-01-01'}},\n",
       "  {u'@type': u'2',\n",
       "   u'period-end': {u'@iso-date': u'2015-12-31'},\n",
       "   u'period-start': {u'@iso-date': u'2015-01-01'},\n",
       "   u'value': {u'#text': u'0', u'@value-date': u'2015-01-01'}}],\n",
       " u'description': {u'@type': u'2', u'narrative': u'n/a'},\n",
       " u'fts:appeal-title': {u'#text': u'Central African Republic 2015',\n",
       "  u'@xmlns:fts': u'nothing'},\n",
       " u'fts:appeal-type': {u'#text': u'HRP',\n",
       "  u'@code': u'50',\n",
       "  u'@xmlns:fts': u'nothing'},\n",
       " u'fts:cluster': {u'#text': u'PROTECTION', u'@xmlns:fts': u'nothing'},\n",
       " u'fts:emergency-title': {u'#text': u'Central African Republic 2015',\n",
       "  u'@xmlns:fts': u'nothing'},\n",
       " u'fts:gender-marker': {u'#text': u'0', u'@xmlns:fts': u'nothing'},\n",
       " u'fts:priority': {u'#text': u'D. NOT SPECIFIED', u'@xmlns:fts': u'nothing'},\n",
       " u'iati-identifier': u'XM-OCHA-FTS-CAR-15/P-HR-RL/94360/R/13864',\n",
       " u'other-identifier': {u'@ref': u'CAR-15/P-HR-RL/94360/R/13864',\n",
       "  u'@type': u'A1',\n",
       "  u'owner-org': {u'@ref': u'XM-OCHA-FTS',\n",
       "   u'narrative': u'UN OCHA Financial Tracking Service'}},\n",
       " u'participating-org': [{u'@ref': u'XM-OCHA-FTS13864',\n",
       "   u'@role': u'4',\n",
       "   u'narrative': u'Vitalit\\xe9 Plus'},\n",
       "  {u'@ref': u'XM-OCHA-FTS7622',\n",
       "   u'@role': u'1',\n",
       "   u'@type': u'40',\n",
       "   u'narrative': u'Common Humanitarian Fund'}],\n",
       " u'recipient-country': {u'@code': u'CF'},\n",
       " u'reporting-org': {u'@ref': u'XM-OCHA-FTS',\n",
       "  u'@secondary-reporter': u'1',\n",
       "  u'@type': u'40',\n",
       "  u'narrative': u'UNOCHA-FTS'},\n",
       " u'sector': [{u'@code': u'72050',\n",
       "   u'@vocabulary': u'1',\n",
       "   u'narrative': u'Relief coordination; protection and support services'},\n",
       "  {u'@code': u'7',\n",
       "   u'@vocabulary': u'99',\n",
       "   u'narrative': u'Protection/Human rights/Rule of law'}],\n",
       " u'title': {u'narrative': u'Protection'}}"
      ]
     },
     "execution_count": null,
     "metadata": {},
     "output_type": "execute_result"
    }
   ],
   "source": [
    "activities.find_one()"
   ]
  },
  {
   "cell_type": "code",
   "execution_count": null,
   "metadata": {
    "collapsed": false
   },
   "outputs": [
    {
     "data": {
      "text/plain": [
       "{u'@w210-key': u'ocha_fts-central_african_republic_2015',\n",
       " u'_id': ObjectId('578270e7b6b1a62fd0a941d3'),\n",
       " u'author': None,\n",
       " u'author_email': u'fts@un.org',\n",
       " u'extras': [{u'id': u'e906c5e5-a071-40a8-94fd-d931c9ac5cc4',\n",
       "   u'key': u'activity_count',\n",
       "   u'package_id': u'20503922-5f25-4f12-aa7a-d5fbe75f4f31',\n",
       "   u'revision_id': u'c6b7a1f2-6b54-46d1-802f-32ba375ca175',\n",
       "   u'revision_timestamp': u'2016-05-25T01:10:16.712910',\n",
       "   u'state': u'active',\n",
       "   u'value': u'424'},\n",
       "  {u'id': u'fa8fc149-01d4-4eb9-aef9-df4e0bad332b',\n",
       "   u'key': u'country',\n",
       "   u'package_id': u'20503922-5f25-4f12-aa7a-d5fbe75f4f31',\n",
       "   u'revision_id': u'3bcc55c8-f438-4061-90cf-7899561b3402',\n",
       "   u'revision_timestamp': u'2015-02-04T15:21:17.601387',\n",
       "   u'state': u'active',\n",
       "   u'value': u'CF'},\n",
       "  {u'id': u'58c0efed-304c-4e90-9333-120f9b02a314',\n",
       "   u'key': u'data_updated',\n",
       "   u'package_id': u'20503922-5f25-4f12-aa7a-d5fbe75f4f31',\n",
       "   u'revision_id': u'446a1905-0baa-4d22-a160-01cfd0235f0f',\n",
       "   u'revision_timestamp': u'2016-06-03T01:18:08.773785',\n",
       "   u'state': u'active',\n",
       "   u'value': u'2016-06-02 15:03'},\n",
       "  {u'id': u'890e130c-5240-47e9-aae0-99e9fe51e0da',\n",
       "   u'key': u'filetype',\n",
       "   u'package_id': u'20503922-5f25-4f12-aa7a-d5fbe75f4f31',\n",
       "   u'revision_id': u'3bcc55c8-f438-4061-90cf-7899561b3402',\n",
       "   u'revision_timestamp': u'2015-02-04T15:21:17.601387',\n",
       "   u'state': u'active',\n",
       "   u'value': u'activity'},\n",
       "  {u'id': u'b008af06-69a6-4d15-b2e1-2a92aacf99f2',\n",
       "   u'key': u'iati_version',\n",
       "   u'package_id': u'20503922-5f25-4f12-aa7a-d5fbe75f4f31',\n",
       "   u'revision_id': u'4a86a264-4d73-490a-80b3-aa02b59580d7',\n",
       "   u'revision_timestamp': u'2015-06-06T01:13:06.418185',\n",
       "   u'state': u'active',\n",
       "   u'value': u'2.01'},\n",
       "  {u'id': u'dcccc00f-d0f8-4961-9434-5402cf08bfdc',\n",
       "   u'key': u'language',\n",
       "   u'package_id': u'20503922-5f25-4f12-aa7a-d5fbe75f4f31',\n",
       "   u'revision_id': u'3bcc55c8-f438-4061-90cf-7899561b3402',\n",
       "   u'revision_timestamp': u'2015-02-04T15:21:17.601387',\n",
       "   u'state': u'active',\n",
       "   u'value': u'english'},\n",
       "  {u'id': u'2f7ab62d-20f2-4ecb-8f83-dd7a177c631b',\n",
       "   u'key': u'secondary_publisher',\n",
       "   u'package_id': u'20503922-5f25-4f12-aa7a-d5fbe75f4f31',\n",
       "   u'revision_id': u'3bcc55c8-f438-4061-90cf-7899561b3402',\n",
       "   u'revision_timestamp': u'2015-02-04T15:21:17.601387',\n",
       "   u'state': u'active',\n",
       "   u'value': u'yes'},\n",
       "  {u'id': u'63439945-258d-4029-bd4e-8b1c4a8753b6',\n",
       "   u'key': u'verified',\n",
       "   u'package_id': u'20503922-5f25-4f12-aa7a-d5fbe75f4f31',\n",
       "   u'revision_id': u'3bcc55c8-f438-4061-90cf-7899561b3402',\n",
       "   u'revision_timestamp': u'2015-02-04T15:21:17.601387',\n",
       "   u'state': u'active',\n",
       "   u'value': u'yes'},\n",
       "  {u'key': u'publisher_source_type', u'value': u'secondary_source'},\n",
       "  {u'key': u'publisher_organization_type', u'value': u'40'},\n",
       "  {u'key': u'publisher_country', u'value': u'998'},\n",
       "  {u'key': u'publisher_iati_id', u'value': u'XM-OCHA-FTS'}],\n",
       " u'groups': [],\n",
       " u'iati-activities': {u'@generated-datetime': u'2016-06-25T22:49:09',\n",
       "  u'@version': u'2.01',\n",
       "  u'@xmlns:fts': u'http://fts.unocha.org'},\n",
       " u'id': u'20503922-5f25-4f12-aa7a-d5fbe75f4f31',\n",
       " u'isopen': True,\n",
       " u'license_id': u'odc-odbl',\n",
       " u'license_title': u'Open Data Commons Open Database License (ODbL)',\n",
       " u'license_url': u'http://www.opendefinition.org/licenses/odc-odbl',\n",
       " u'maintainer': None,\n",
       " u'maintainer_email': None,\n",
       " u'metadata_created': u'2015-02-04T15:21:17.601387',\n",
       " u'metadata_modified': u'2016-06-07T01:13:11.098128',\n",
       " u'name': u'ocha_fts-central_african_republic_2015',\n",
       " u'notes': u'',\n",
       " u'num_resources': 1,\n",
       " u'num_tags': 0,\n",
       " u'organization': {u'approval_status': u'approved',\n",
       "  u'created': u'2013-02-25T05:04:07.075333',\n",
       "  u'description': u'',\n",
       "  u'id': u'18ebafff-9867-4a03-aa8f-d2e2a3fa1938',\n",
       "  u'image_url': u'',\n",
       "  u'is_organization': True,\n",
       "  u'name': u'ocha_fts',\n",
       "  u'revision_id': u'c87b01cb-57eb-4c50-a20b-dc4df7552bef',\n",
       "  u'revision_timestamp': u'2014-07-30T11:13:52.510876',\n",
       "  u'state': u'active',\n",
       "  u'title': u'OCHA Financial Tracking Service',\n",
       "  u'type': u'organization'},\n",
       " u'owner_org': u'18ebafff-9867-4a03-aa8f-d2e2a3fa1938',\n",
       " u'private': False,\n",
       " u'relationships_as_object': [],\n",
       " u'relationships_as_subject': [],\n",
       " u'resources': [{u'cache_last_updated': None,\n",
       "   u'cache_url': None,\n",
       "   u'created': u'2015-02-18T14:41:25.518270',\n",
       "   u'description': u'',\n",
       "   u'format': u'iati-xml',\n",
       "   u'hash': u'00239013823f20a060abdbde3008ebf9aa37003f',\n",
       "   u'id': u'6b7b95b7-b485-4adb-80db-d6d83ee67d0f',\n",
       "   u'last_modified': None,\n",
       "   u'mimetype': u'text/xml',\n",
       "   u'mimetype_inner': None,\n",
       "   u'name': None,\n",
       "   u'position': 0,\n",
       "   u'resource_group_id': u'9ffa98e2-1f7a-4dcd-bd75-266491f96f18',\n",
       "   u'resource_type': None,\n",
       "   u'revision_id': u'791ce9f9-6b3e-42a0-8e70-a1e812c9e49f',\n",
       "   u'revision_timestamp': u'2016-06-07T01:13:11.098128',\n",
       "   u'size': u'1395607',\n",
       "   u'state': u'active',\n",
       "   u'tracking_summary': {u'recent': 0, u'total': 0},\n",
       "   u'url': u'http://fts.unocha.org/api/v2/iati/emergency/id/16526.xml',\n",
       "   u'webstore_last_updated': None,\n",
       "   u'webstore_url': None}],\n",
       " u'revision_id': u'78b5fcbf-d5b0-4dbe-ad60-b671f0b81bcd',\n",
       " u'revision_timestamp': u'2015-02-05T00:59:48.114584',\n",
       " u'state': u'active',\n",
       " u'tags': [],\n",
       " u'title': u'Central African Republic 2015',\n",
       " u'tracking_summary': {u'recent': 0, u'total': 0},\n",
       " u'type': u'dataset',\n",
       " u'url': None,\n",
       " u'version': None}"
      ]
     },
     "execution_count": null,
     "metadata": {},
     "output_type": "execute_result"
    }
   ],
   "source": [
    "activities_metadata.find_one()"
   ]
  },
  {
   "cell_type": "code",
   "execution_count": null,
   "metadata": {
    "collapsed": false
   },
   "outputs": [
    {
     "data": {
      "text/plain": [
       "{u'@generated-datetime': u'2016-06-25T22:49:09',\n",
       " u'@ref': u'248592',\n",
       " u'@w210-activity': u'XM-OCHA-FTS-CAR-15/P-HR-RL/94360/R/13864',\n",
       " u'@w210-key': u'ocha_fts-central_african_republic_2015',\n",
       " u'_id': ObjectId('578270e7b6b1a62fd0a94380'),\n",
       " u'finance-type': {u'@code': u'110'},\n",
       " u'fts:contribution-category': {u'#text': u'Allocation',\n",
       "  u'@code': u'1',\n",
       "  u'@xmlns:fts': u'nothing'},\n",
       " u'provider-org': {u'@ref': u'XM-OCHA-FTS7622',\n",
       "  u'narrative': u'Common Humanitarian Fund'},\n",
       " u'receiver-org': {u'@ref': u'XM-OCHA-FTS13864',\n",
       "  u'narrative': u'Vitalit\\xe9 Plus'},\n",
       " u'transaction-date': {u'@iso-date': u'2015-08-28'},\n",
       " u'transaction-type': {u'@code': u'3'},\n",
       " u'value': {u'#text': u'231332', u'@value-date': u'2015-08-28'}}"
      ]
     },
     "execution_count": null,
     "metadata": {},
     "output_type": "execute_result"
    }
   ],
   "source": [
    "transactions.find_one()"
   ]
  },
  {
   "cell_type": "markdown",
   "metadata": {},
   "source": [
    "## Organizations"
   ]
  },
  {
   "cell_type": "code",
   "execution_count": null,
   "metadata": {
    "collapsed": true
   },
   "outputs": [],
   "source": [
    "organization_failures={}\n",
    "organization_xml_failures={}"
   ]
  },
  {
   "cell_type": "code",
   "execution_count": null,
   "metadata": {
    "collapsed": true
   },
   "outputs": [],
   "source": [
    "def import_organization_xml(f, xml):\n",
    "    i = xmltodict.parse(xml)\n",
    "\n",
    "    # Extract the organizations, but store the remainder as metadata we\n",
    "    # can join with for other purposes.\n",
    "\n",
    "    entries = i['iati-organisations']['iati-organisation']\n",
    "    del i['iati-organisations']['iati-organisation']\n",
    "\n",
    "    metadata_key = f.name[10:-4]\n",
    "\n",
    "    if metadata_key in organization_metadata_dict:\n",
    "        i.update(organization_metadata_dict[metadata_key])\n",
    "\n",
    "    # Save this alongside each entry\n",
    "\n",
    "    i['@w210-key'] = metadata_key\n",
    "\n",
    "    organizations_metadata.insert_one(i)\n",
    "\n",
    "    generated_datetime = None\n",
    "\n",
    "    if '@generated-datetime' in i['iati-organisations']:\n",
    "        generated_datetime = i['iati-organisations']['@generated-datetime']\n",
    "\n",
    "    if type(entries) != list:\n",
    "        entries = [entries]\n",
    "\n",
    "    for entry in entries:\n",
    "        entry['@w210-key'] = metadata_key\n",
    "        entry['@generated-datetime'] = generated_datetime\n",
    "\n",
    "    organizations.insert_many(entries)"
   ]
  },
  {
   "cell_type": "code",
   "execution_count": null,
   "metadata": {
    "collapsed": true
   },
   "outputs": [],
   "source": [
    "def import_organization_document(f):\n",
    "    global organization_failures, organization_xml_failures\n",
    "\n",
    "    # The XML file may be encoded as UTF-16 or really any other encoding.\n",
    "    # If it doesn't contain the \"<iati-activities\" tag, then it may be\n",
    "    # due to an encoding problem.\n",
    "\n",
    "    xml=f.read()\n",
    "\n",
    "    if xml.find('iati-organisations') == -1:\n",
    "        if xml.find('iati-activities') != -1:\n",
    "            organization_xml_failures[f.name] = 'activities'\n",
    "            return\n",
    "\n",
    "        charset = chardet.detect(xml)['encoding']\n",
    "        xml = xml.decode(charset)\n",
    "\n",
    "        # If after decoding the file, we still don't have the tag we were\n",
    "        # looking for, we probably wound up with an HTML file.\n",
    "\n",
    "        if xml.find('iati-organisations') == -1:\n",
    "            organization_xml_failures[f.name] = 'html'\n",
    "            return\n",
    "\n",
    "    try:\n",
    "        import_organization_xml(f, xml)\n",
    "        return\n",
    "    except Exception as e:\n",
    "        pass\n",
    "\n",
    "    try:\n",
    "        charset = chardet.detect(xml)['encoding']\n",
    "        xml = xml.decode(charset)\n",
    "\n",
    "        import_organization_xml(f, xml)\n",
    "    except Exception as e:\n",
    "        organization_xml_failures[f.name] = e"
   ]
  },
  {
   "cell_type": "code",
   "execution_count": null,
   "metadata": {
    "collapsed": false
   },
   "outputs": [
    {
     "name": "stdout",
     "output_type": "stream",
     "text": [
      "2016-07-10 16:39:53.533116 Started processing\n",
      "2016-07-10 16:39:53.533762 Processed 0 of 209\n",
      "2016-07-10 16:39:54.442811 Processed 100 of 209\n",
      "2016-07-10 16:40:00.209636 Processed 200 of 209\n",
      "2016-07-10 16:40:00.316879 Finished processing\n"
     ]
    }
   ],
   "source": [
    "organization_failures={}\n",
    "organization_xml_failures={}\n",
    "\n",
    "path_to_data = 'iati-orgs'\n",
    "\n",
    "files = os.listdir(path_to_data)\n",
    "\n",
    "print datetime.now(), 'Started processing'\n",
    "\n",
    "for num, i in enumerate(os.listdir(path_to_data)):\n",
    "    if num % 100 == 0:\n",
    "        print datetime.now(), 'Processed', num, 'of', len(files)\n",
    "\n",
    "    if not i.endswith(\".xml\"):\n",
    "        continue\n",
    "\n",
    "    with open(path_to_data+'/'+i) as f:\n",
    "        try:\n",
    "            import_organization_document(f)\n",
    "        except:\n",
    "            print f.name\n",
    "\n",
    "print datetime.now(), 'Finished processing'"
   ]
  },
  {
   "cell_type": "code",
   "execution_count": null,
   "metadata": {
    "collapsed": false
   },
   "outputs": [
    {
     "name": "stdout",
     "output_type": "stream",
     "text": [
      "7131\n",
      "6\n"
     ]
    }
   ],
   "source": [
    "print organizations.count()\n",
    "print len(organization_xml_failures)"
   ]
  },
  {
   "cell_type": "code",
   "execution_count": null,
   "metadata": {
    "collapsed": false
   },
   "outputs": [
    {
     "name": "stdout",
     "output_type": "stream",
     "text": [
      "203\n"
     ]
    }
   ],
   "source": [
    "print organizations_metadata.count()"
   ]
  },
  {
   "cell_type": "code",
   "execution_count": null,
   "metadata": {
    "collapsed": false
   },
   "outputs": [
    {
     "data": {
      "text/plain": [
       "{u'@w210-key': u'womankindworld-org',\n",
       " u'_id': ObjectId('57827a59b6b1a62fd0d4805f'),\n",
       " u'author': None,\n",
       " u'author_email': u'sarahj@womankind.org.uk',\n",
       " u'extras': [{u'id': u'712042d0-c6f4-4f5c-b9f6-7455a6e969e2',\n",
       "   u'key': u'activity_count',\n",
       "   u'package_id': u'8e839de8-764d-43ca-b34d-32d6e2a28fe4',\n",
       "   u'revision_id': u'8dc8fab3-0cfb-46f7-b498-42ab1c57b157',\n",
       "   u'revision_timestamp': u'2015-01-16T14:16:04.818974',\n",
       "   u'state': u'active',\n",
       "   u'value': u''},\n",
       "  {u'id': u'cf6065e0-611f-431c-8d45-87891065a09a',\n",
       "   u'key': u'activity_period-from',\n",
       "   u'package_id': u'8e839de8-764d-43ca-b34d-32d6e2a28fe4',\n",
       "   u'revision_id': u'8dc8fab3-0cfb-46f7-b498-42ab1c57b157',\n",
       "   u'revision_timestamp': u'2015-01-16T14:16:04.818974',\n",
       "   u'state': u'active',\n",
       "   u'value': u''},\n",
       "  {u'id': u'985e16e9-04ae-4fa8-8114-8fb18ccbf430',\n",
       "   u'key': u'activity_period-to',\n",
       "   u'package_id': u'8e839de8-764d-43ca-b34d-32d6e2a28fe4',\n",
       "   u'revision_id': u'8dc8fab3-0cfb-46f7-b498-42ab1c57b157',\n",
       "   u'revision_timestamp': u'2015-01-16T14:16:04.818974',\n",
       "   u'state': u'active',\n",
       "   u'value': u''},\n",
       "  {u'id': u'ee8ab857-66c0-4258-93fc-0292f039f672',\n",
       "   u'key': u'country',\n",
       "   u'package_id': u'8e839de8-764d-43ca-b34d-32d6e2a28fe4',\n",
       "   u'revision_id': u'8dc8fab3-0cfb-46f7-b498-42ab1c57b157',\n",
       "   u'revision_timestamp': u'2015-01-16T14:16:04.818974',\n",
       "   u'state': u'active',\n",
       "   u'value': u''},\n",
       "  {u'id': u'37bd16e4-3c8b-4bf8-8fcc-05dacc098b75',\n",
       "   u'key': u'data_updated',\n",
       "   u'package_id': u'8e839de8-764d-43ca-b34d-32d6e2a28fe4',\n",
       "   u'revision_id': u'8171ca32-6aaa-4c56-8da5-9dc54d752cfa',\n",
       "   u'revision_timestamp': u'2016-02-16T04:13:13.021179',\n",
       "   u'state': u'active',\n",
       "   u'value': u'2016-02-15 03:34'},\n",
       "  {u'id': u'514ad67f-99b2-4eee-a7e9-cab18cc017b2',\n",
       "   u'key': u'filetype',\n",
       "   u'package_id': u'8e839de8-764d-43ca-b34d-32d6e2a28fe4',\n",
       "   u'revision_id': u'8dc8fab3-0cfb-46f7-b498-42ab1c57b157',\n",
       "   u'revision_timestamp': u'2015-01-16T14:16:04.818974',\n",
       "   u'state': u'active',\n",
       "   u'value': u'organisation'},\n",
       "  {u'id': u'96a96a70-5efd-4287-a0fc-f61d25de77ec',\n",
       "   u'key': u'iati_version',\n",
       "   u'package_id': u'8e839de8-764d-43ca-b34d-32d6e2a28fe4',\n",
       "   u'revision_id': u'8171ca32-6aaa-4c56-8da5-9dc54d752cfa',\n",
       "   u'revision_timestamp': u'2016-02-16T04:13:13.021179',\n",
       "   u'state': u'active',\n",
       "   u'value': u'2.01'},\n",
       "  {u'id': u'123d4f4c-8997-4ef4-b153-53d4908be081',\n",
       "   u'key': u'language',\n",
       "   u'package_id': u'8e839de8-764d-43ca-b34d-32d6e2a28fe4',\n",
       "   u'revision_id': u'8dc8fab3-0cfb-46f7-b498-42ab1c57b157',\n",
       "   u'revision_timestamp': u'2015-01-16T14:16:04.818974',\n",
       "   u'state': u'active',\n",
       "   u'value': u'en'},\n",
       "  {u'id': u'aa1746ad-1be1-451a-8001-7cc29e7b7bed',\n",
       "   u'key': u'record_updated',\n",
       "   u'package_id': u'8e839de8-764d-43ca-b34d-32d6e2a28fe4',\n",
       "   u'revision_id': u'd473a61a-d3d6-4af9-9d7a-d7db6020ff61',\n",
       "   u'revision_timestamp': u'2016-02-15T15:35:13.645583',\n",
       "   u'state': u'active',\n",
       "   u'value': u'2016-02-15'},\n",
       "  {u'id': u'715248d9-cb0b-4680-b49d-019b5f2c9046',\n",
       "   u'key': u'verified',\n",
       "   u'package_id': u'8e839de8-764d-43ca-b34d-32d6e2a28fe4',\n",
       "   u'revision_id': u'8dc8fab3-0cfb-46f7-b498-42ab1c57b157',\n",
       "   u'revision_timestamp': u'2015-01-16T14:16:04.818974',\n",
       "   u'state': u'active',\n",
       "   u'value': u'no'},\n",
       "  {u'key': u'publisher_source_type', u'value': u'primary_source'},\n",
       "  {u'key': u'publisher_organization_type', u'value': u'21'},\n",
       "  {u'key': u'publisher_country', u'value': u'GB'},\n",
       "  {u'key': u'publisher_iati_id', u'value': u'GB-CHC-328206'}],\n",
       " u'groups': [],\n",
       " u'iati-organisations': {u'@generated-datetime': u'2016-02-15T15:35:12+00:00',\n",
       "  u'@version': u'2.01'},\n",
       " u'id': u'8e839de8-764d-43ca-b34d-32d6e2a28fe4',\n",
       " u'isopen': True,\n",
       " u'license_id': u'odc-pddl',\n",
       " u'license_title': u'Open Data Commons Public Domain Dedication and License (PDDL)',\n",
       " u'license_url': u'http://www.opendefinition.org/licenses/odc-pddl',\n",
       " u'maintainer': None,\n",
       " u'maintainer_email': None,\n",
       " u'metadata_created': u'2015-01-16T14:16:04.818974',\n",
       " u'metadata_modified': u'2016-04-02T02:43:29.425353',\n",
       " u'name': u'womankindworld-org',\n",
       " u'notes': None,\n",
       " u'num_resources': 1,\n",
       " u'num_tags': 0,\n",
       " u'organization': {u'approval_status': u'approved',\n",
       "  u'created': u'2012-08-01T14:00:27.943274',\n",
       "  u'description': u'',\n",
       "  u'id': u'd49f897e-0c94-4eed-a2c4-af0af145bad5',\n",
       "  u'image_url': u'',\n",
       "  u'is_organization': True,\n",
       "  u'name': u'womankindworld',\n",
       "  u'revision_id': u'5e3aaf8d-3ca0-4273-97b9-62719345d519',\n",
       "  u'revision_timestamp': u'2014-12-02T08:51:35.445769',\n",
       "  u'state': u'active',\n",
       "  u'title': u'Womankind Worldwide',\n",
       "  u'type': u'organization'},\n",
       " u'owner_org': u'd49f897e-0c94-4eed-a2c4-af0af145bad5',\n",
       " u'private': False,\n",
       " u'relationships_as_object': [],\n",
       " u'relationships_as_subject': [],\n",
       " u'resources': [{u'cache_last_updated': None,\n",
       "   u'cache_url': None,\n",
       "   u'created': u'2016-02-15T15:35:13.751430',\n",
       "   u'description': u'',\n",
       "   u'format': u'iati-xml',\n",
       "   u'hash': u'f0f0b29fa87d6a4b12b2f23cc07441903da98866',\n",
       "   u'id': u'cbfef8ba-acf7-4034-b931-03c6001c83e0',\n",
       "   u'last_modified': None,\n",
       "   u'mimetype': u'text/xml',\n",
       "   u'mimetype_inner': None,\n",
       "   u'name': None,\n",
       "   u'position': 0,\n",
       "   u'resource_group_id': u'b7248969-a4b9-41b9-9b05-5582bcfb50f2',\n",
       "   u'resource_type': None,\n",
       "   u'revision_id': u'2dba18d3-a883-4636-9cc8-0ae4a6bf36a5',\n",
       "   u'revision_timestamp': u'2016-04-02T02:43:29.425353',\n",
       "   u'size': u'3093',\n",
       "   u'state': u'active',\n",
       "   u'tracking_summary': {u'recent': 0, u'total': 0},\n",
       "   u'url': u'http://aidstream.org/files/xml/womankindworld-org.xml',\n",
       "   u'webstore_last_updated': None,\n",
       "   u'webstore_url': None}],\n",
       " u'revision_id': u'8171ca32-6aaa-4c56-8da5-9dc54d752cfa',\n",
       " u'revision_timestamp': u'2016-02-16T04:13:13.021179',\n",
       " u'state': u'active',\n",
       " u'tags': [],\n",
       " u'title': u'Womankind Worldwide Organisation File',\n",
       " u'tracking_summary': {u'recent': 0, u'total': 0},\n",
       " u'type': u'dataset',\n",
       " u'url': None,\n",
       " u'version': None}"
      ]
     },
     "execution_count": null,
     "metadata": {},
     "output_type": "execute_result"
    }
   ],
   "source": [
    "organizations_metadata.find_one()"
   ]
  },
  {
   "cell_type": "markdown",
   "metadata": {},
   "source": [
    "## Backups"
   ]
  },
  {
   "cell_type": "code",
   "execution_count": null,
   "metadata": {
    "collapsed": true
   },
   "outputs": [],
   "source": [
    "def create_backup(collection):\n",
    "    print 'Removing previous backup...'\n",
    "    !rm dump.{collection}.tar.gz\n",
    "    !rm dump/iati/{collection}.bson\n",
    "    !rm dump/iati/{collection}.metadata.json\n",
    "\n",
    "    print 'Starting mongodump...'\n",
    "    !mongodump --db iati --collection {collection}\n",
    "\n",
    "    print 'Creating archive...'\n",
    "    !tar -cf dump.{collection}.tar dump/iati/{collection}.bson dump/iati/{collection}.metadata.json\n",
    "    !gzip dump.{collection}.tar\n",
    "\n",
    "    print 'Uploading to S3...'\n",
    "    !aws s3 cp dump.{collection}.tar.gz s3://mdang.w210/"
   ]
  },
  {
   "cell_type": "code",
   "execution_count": null,
   "metadata": {
    "collapsed": false
   },
   "outputs": [
    {
     "name": "stdout",
     "output_type": "stream",
     "text": [
      "Removing previous backup...\n",
      "Starting mongodump...\n",
      "2016-07-10T16:40:01.081+0000\twriting iati.activities to\n",
      "2016-07-10T16:40:04.082+0000\t[#############...........]  iati.activities  322410/579320  (55.7%)\n",
      "2016-07-10T16:40:06.343+0000\t[########################]  iati.activities  579320/579320  (100.0%)\n",
      "2016-07-10T16:40:06.343+0000\tdone dumping iati.activities (579320 documents)\n",
      "Creating archive...\n",
      "Uploading to S3...\n",
      "upload: ./dump.activities.tar.gz to s3://mdang.w210/dump.activities.tar.gz\n",
      "Removing previous backup...\n",
      "Starting mongodump...\n",
      "2016-07-10T16:40:50.441+0000\twriting iati.activities_metadata to\n",
      "2016-07-10T16:40:50.488+0000\tdone dumping iati.activities_metadata (3562 documents)\n",
      "Creating archive...\n",
      "Uploading to S3...\n",
      "upload: ./dump.activities_metadata.tar.gz to s3://mdang.w210/dump.activities_metadata.tar.gz\n"
     ]
    }
   ],
   "source": [
    "create_backup('activities')\n",
    "create_backup('activities_metadata')"
   ]
  },
  {
   "cell_type": "code",
   "execution_count": null,
   "metadata": {
    "collapsed": false
   },
   "outputs": [
    {
     "name": "stdout",
     "output_type": "stream",
     "text": [
      "Removing previous backup...\n",
      "Starting mongodump...\n",
      "2016-07-10T16:40:52.493+0000\twriting iati.transactions to\n",
      "2016-07-10T16:40:55.493+0000\t[#########...............]  iati.transactions  934310/2251178  (41.5%)\n",
      "2016-07-10T16:40:58.493+0000\t[###################.....]  iati.transactions  1873682/2251178  (83.2%)\n",
      "2016-07-10T16:40:59.703+0000\t[########################]  iati.transactions  2251178/2251178  (100.0%)\n",
      "2016-07-10T16:40:59.703+0000\tdone dumping iati.transactions (2251178 documents)\n",
      "Creating archive...\n",
      "Uploading to S3...\n",
      "upload: ./dump.transactions.tar.gz to s3://mdang.w210/dump.transactions.tar.gz\n"
     ]
    }
   ],
   "source": [
    "create_backup('transactions')"
   ]
  },
  {
   "cell_type": "code",
   "execution_count": null,
   "metadata": {
    "collapsed": false
   },
   "outputs": [
    {
     "name": "stdout",
     "output_type": "stream",
     "text": [
      "Removing previous backup...\n",
      "Starting mongodump...\n",
      "2016-07-10T16:41:17.548+0000\twriting iati.organizations to\n",
      "2016-07-10T16:41:17.590+0000\tdone dumping iati.organizations (7131 documents)\n",
      "Creating archive...\n",
      "Uploading to S3...\n",
      "upload: ./dump.organizations.tar.gz to s3://mdang.w210/dump.organizations.tar.gz\n",
      "Removing previous backup...\n",
      "Starting mongodump...\n",
      "2016-07-10T16:41:18.986+0000\twriting iati.organizations_metadata to\n",
      "2016-07-10T16:41:18.989+0000\tdone dumping iati.organizations_metadata (203 documents)\n",
      "Creating archive...\n",
      "Uploading to S3...\n",
      "upload: ./dump.organizations_metadata.tar.gz to s3://mdang.w210/dump.organizations_metadata.tar.gz\n"
     ]
    }
   ],
   "source": [
    "create_backup('organizations')\n",
    "create_backup('organizations_metadata')"
   ]
  },
  {
   "cell_type": "code",
   "execution_count": null,
   "metadata": {
    "collapsed": false
   },
   "outputs": [],
   "source": [
    "with open(\"activity_xml_failures\",'w') as f:\n",
    "    pickle.dump(activity_xml_failures,f)"
   ]
  },
  {
   "cell_type": "code",
   "execution_count": null,
   "metadata": {
    "collapsed": true
   },
   "outputs": [],
   "source": [
    "with open(\"activity_failures\",'w') as f:\n",
    "    pickle.dump(activity_failures,f)"
   ]
  },
  {
   "cell_type": "code",
   "execution_count": null,
   "metadata": {
    "collapsed": true
   },
   "outputs": [],
   "source": [
    "with open(\"organization_xml_failures\",'w') as f:\n",
    "    pickle.dump(organization_xml_failures,f)"
   ]
  },
  {
   "cell_type": "markdown",
   "metadata": {},
   "source": [
    "# Investigating/Fixing Errors"
   ]
  },
  {
   "cell_type": "markdown",
   "metadata": {},
   "source": [
    "## Activities"
   ]
  },
  {
   "cell_type": "code",
   "execution_count": null,
   "metadata": {
    "collapsed": false
   },
   "outputs": [
    {
     "name": "stdout",
     "output_type": "stream",
     "text": [
      "{'iati/ausgov-889.xml': 'html',\n",
      " 'iati/ausgov-998.xml': 'html',\n",
      " 'iati/cafod-multiple.xml': 'html',\n",
      " 'iati/cafod-nepal.xml': 'html',\n",
      " 'iati/ciuk-0001.xml': 'html',\n",
      " 'iati/cordaid-activities.xml': ExpatError('unclosed token: line 2402, column 44',),\n",
      " 'iati/ec-devco-998.xml': ExpatError('unclosed token: line 1, column 9999982',),\n",
      " 'iati/gl-3.xml': 'html',\n",
      " 'iati/plannlno-89.xml': 'html',\n",
      " 'iati/plannlno-bd.xml': 'html',\n",
      " 'iati/plannlno-br.xml': 'html',\n",
      " 'iati/plannlno-ke.xml': 'html',\n",
      " 'iati/sida-agreements.xml': 'html',\n",
      " 'iati/sida-ck.xml': 'html',\n",
      " 'iati/sida-org.xml': 'html',\n",
      " 'iati/sossaheluk-activities.xml': 'html',\n",
      " 'iati/utz-org.xml': 'html'}\n"
     ]
    }
   ],
   "source": [
    "p = pprint.PrettyPrinter()\n",
    "p.pprint(activity_xml_failures)"
   ]
  },
  {
   "cell_type": "markdown",
   "metadata": {},
   "source": [
    "**Website?**\n",
    "\n",
    "* ausgov-889.xml\n",
    "* ausgov-998.xml\n",
    "* gl-3.xml\n",
    "* sossaheluk-activities.xml\n",
    "\n",
    "**Missing (403 Error)**\n",
    "\n",
    "* cafod-multiple.xml\n",
    "* cafod-nepal.xml\n",
    "* plannlno-89.xml\n",
    "* plannlno-bd.xml\n",
    "* plannlno-br.xml\n",
    "* plannlno-ke.xml\n",
    "* utz-org.xml\n",
    "\n",
    "**Missing (404 Error)**\n",
    "\n",
    "* sida-agreements.xml\n",
    "* sida-ck.xml\n",
    "* cida-org.xml\n",
    "\n",
    "**Truncated XML (incomplete file)**\n",
    "\n",
    "* cordaid-activities.xml (truncated)\n",
    "* ec-devco-998.xml (truncated)"
   ]
  },
  {
   "cell_type": "code",
   "execution_count": null,
   "metadata": {
    "collapsed": false
   },
   "outputs": [
    {
     "name": "stdout",
     "output_type": "stream",
     "text": [
      "{}\n"
     ]
    }
   ],
   "source": [
    "p.pprint(activity_failures)"
   ]
  },
  {
   "cell_type": "markdown",
   "metadata": {},
   "source": [
    "Of the 11 activity failures, all are empty."
   ]
  },
  {
   "cell_type": "markdown",
   "metadata": {},
   "source": [
    "## Organizations"
   ]
  },
  {
   "cell_type": "code",
   "execution_count": null,
   "metadata": {
    "collapsed": false
   },
   "outputs": [
    {
     "name": "stdout",
     "output_type": "stream",
     "text": [
      "{'iati-orgs/af-14.xml': 'activities',\n",
      " 'iati-orgs/dorcas-org.xml': 'html',\n",
      " 'iati-orgs/ifad-org.xml': 'activities',\n",
      " 'iati-orgs/kpmgea-org.xml': 'activities',\n",
      " 'iati-orgs/somo-org.xml': 'html',\n",
      " 'iati-orgs/unitedstates-org_peacecorps.xml': 'html'}\n"
     ]
    }
   ],
   "source": [
    "p.pprint(organization_xml_failures)"
   ]
  },
  {
   "cell_type": "code",
   "execution_count": null,
   "metadata": {
    "collapsed": false
   },
   "outputs": [
    {
     "name": "stdout",
     "output_type": "stream",
     "text": [
      "{}\n"
     ]
    }
   ],
   "source": [
    "p.pprint(organization_failures)"
   ]
  }
 ],
 "metadata": {
  "kernelspec": {
   "display_name": "Python 2",
   "language": "python",
   "name": "python2"
  },
  "language_info": {
   "codemirror_mode": {
    "name": "ipython",
    "version": 2
   },
   "file_extension": ".py",
   "mimetype": "text/x-python",
   "name": "python",
   "nbconvert_exporter": "python",
   "pygments_lexer": "ipython2",
   "version": "2.7.6"
  }
 },
 "nbformat": 4,
 "nbformat_minor": 0
}
